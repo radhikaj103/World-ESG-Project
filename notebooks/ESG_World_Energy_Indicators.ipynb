{
 "cells": [
  {
   "cell_type": "code",
   "execution_count": 114,
   "id": "97daedd7",
   "metadata": {},
   "outputs": [
    {
     "data": {
      "text/plain": [
       "'5.3.1'"
      ]
     },
     "execution_count": 114,
     "metadata": {},
     "output_type": "execute_result"
    }
   ],
   "source": [
    "import pandas as pd\n",
    "import numpy as np\n",
    "import datetime as dt\n",
    "import plotly.express as px\n",
    "import plotly\n",
    "from plotly.subplots import make_subplots\n",
    "import plotly.graph_objs as go\n",
    "import pycountry\n",
    "import kaleido\n",
    "plotly.__version__"
   ]
  },
  {
   "cell_type": "markdown",
   "id": "ce344790",
   "metadata": {},
   "source": [
    "### Objective: To explore the energy data and related energy ESG indicators for countries to assess their progress towards clean energy and distribution to meet the energy requirements. "
   ]
  },
  {
   "cell_type": "markdown",
   "id": "ba6a57d8",
   "metadata": {},
   "source": [
    "#### Dataset Description: Energy Indicators \n",
    "(Source: https://datacatalog.worldbank.org/search/dataset/0037651/Environment--Social-and-Governance-Data)\n",
    "\n",
    "The dataset is filtered from the bulk ESG data with the following columns.\n",
    "\n",
    "- **NY.ADJ.DRES.GN.ZS\tAdjusted savings: natural resources depletion (% of GNI)**\n",
    "\n",
    "Natural resource depletion is the sum of net forest depletion, energy depletion, and mineral depletion. Net forest depletion is unit resource rents times the excess of roundwood harvest over natural growth. Energy depletion is the ratio of the value of the stock of energy resources to the remaining reserve lifetime. It covers coal, crude oil, and natural gas. Mineral depletion is the ratio of the value of the stock of mineral resources to the remaining reserve lifetime. It covers tin, gold, lead, zinc, iron, copper, nickel, silver, bauxite, and phosphate.\n",
    "\n",
    "- **EN.CLC.CDDY.XD\tCooling Degree Days (projected change in number of degree Celsius)**\n",
    "\n",
    "A cooling degree day (CDD) is a measurement designed to quantify the demand for energy needed to cool buildings. It is the number of degrees that a day's average temperature is above 18°C.\n",
    "\n",
    "- **EG.IMP.CONS.ZS\tEnergy imports, net (% of energy use)**\n",
    "\n",
    "Net energy imports are estimated as energy use less production, both measured in oil equivalents. A negative value indicates that the country is a net exporter. Energy use refers to use of primary energy before transformation to other end-use fuels, which is equal to indigenous production plus imports and stock changes, minus exports and fuels supplied to ships and aircraft engaged in international transport.\n",
    "\n",
    "- **EG.EGY.PRIM.PP.KD\tEnergy intensity level of primary energy (MJ/2011 PPP GDP)**\n",
    "\n",
    "Energy intensity level of primary energy is the ratio between energy supply and gross domestic product measured at purchasing power parity. Energy intensity is an indication of how much energy is used to produce one unit of economic output. Lower ratio indicates that less energy is used to produce one unit of output.\n",
    "\n",
    "- **EG.USE.PCAP.KG.OE\tEnergy use (kg of oil equivalent per capita)**\n",
    "\n",
    "Energy use refers to use of primary energy before transformation to other end-use fuels, which is equal to indigenous production plus imports and stock changes, minus exports and fuels supplied to ships and aircraft engaged in international transport.\n",
    "\n",
    "- **EG.USE.COMM.FO.ZS\tFossil fuel energy consumption (% of total)**\n",
    "\n",
    "Fossil fuel comprises coal, oil, petroleum, and natural gas products.\n",
    "\n",
    "- **EG.FEC.RNEW.ZS\tRenewable energy consumption (% of total final energy consumption)**\n",
    "\n",
    "Renewable energy consumption is the share of renewables energy in total final energy consumption.\n",
    "\n"
   ]
  },
  {
   "cell_type": "code",
   "execution_count": 2,
   "id": "9636bad5",
   "metadata": {
    "scrolled": true
   },
   "outputs": [
    {
     "name": "stdout",
     "output_type": "stream",
     "text": [
      "<class 'pandas.core.frame.DataFrame'>\n",
      "RangeIndex: 14818 entries, 0 to 14817\n",
      "Data columns (total 10 columns):\n",
      " #   Column             Non-Null Count  Dtype  \n",
      "---  ------             --------------  -----  \n",
      " 0   Country_Name       14818 non-null  object \n",
      " 1   Country_Code       14818 non-null  object \n",
      " 2   Year               14818 non-null  int64  \n",
      " 3   EG.EGY.PRIM.PP.KD  4826 non-null   float64\n",
      " 4   EG.IMP.CONS.ZS     8015 non-null   float64\n",
      " 5   EG.USE.PCAP.KG.OE  7743 non-null   float64\n",
      " 6   EG.USE.COMM.FO.ZS  8000 non-null   float64\n",
      " 7   EG.FEC.RNEW.ZS     6661 non-null   float64\n",
      " 8   NY.ADJ.DRES.GN.ZS  9153 non-null   float64\n",
      " 9   EN.CLC.CDDY.XD     193 non-null    float64\n",
      "dtypes: float64(7), int64(1), object(2)\n",
      "memory usage: 1.1+ MB\n"
     ]
    },
    {
     "data": {
      "text/plain": [
       "None"
      ]
     },
     "metadata": {},
     "output_type": "display_data"
    },
    {
     "name": "stdout",
     "output_type": "stream",
     "text": [
      "<class 'pandas.core.frame.DataFrame'>\n",
      "RangeIndex: 14818 entries, 0 to 14817\n",
      "Data columns (total 10 columns):\n",
      " #   Column             Non-Null Count  Dtype  \n",
      "---  ------             --------------  -----  \n",
      " 0   Country_Name       14818 non-null  object \n",
      " 1   Country_Code       14818 non-null  object \n",
      " 2   Year               14818 non-null  object \n",
      " 3   EG.EGY.PRIM.PP.KD  4826 non-null   float64\n",
      " 4   EG.IMP.CONS.ZS     8015 non-null   float64\n",
      " 5   EG.USE.PCAP.KG.OE  7743 non-null   float64\n",
      " 6   EG.USE.COMM.FO.ZS  8000 non-null   float64\n",
      " 7   EG.FEC.RNEW.ZS     6661 non-null   float64\n",
      " 8   NY.ADJ.DRES.GN.ZS  9153 non-null   float64\n",
      " 9   EN.CLC.CDDY.XD     193 non-null    float64\n",
      "dtypes: float64(7), object(3)\n",
      "memory usage: 1.1+ MB\n"
     ]
    },
    {
     "data": {
      "text/plain": [
       "None"
      ]
     },
     "metadata": {},
     "output_type": "display_data"
    },
    {
     "data": {
      "text/html": [
       "<div>\n",
       "<style scoped>\n",
       "    .dataframe tbody tr th:only-of-type {\n",
       "        vertical-align: middle;\n",
       "    }\n",
       "\n",
       "    .dataframe tbody tr th {\n",
       "        vertical-align: top;\n",
       "    }\n",
       "\n",
       "    .dataframe thead th {\n",
       "        text-align: right;\n",
       "    }\n",
       "</style>\n",
       "<table border=\"1\" class=\"dataframe\">\n",
       "  <thead>\n",
       "    <tr style=\"text-align: right;\">\n",
       "      <th></th>\n",
       "      <th>value</th>\n",
       "    </tr>\n",
       "  </thead>\n",
       "  <tbody>\n",
       "    <tr>\n",
       "      <th>EN.CLC.CDDY.XD</th>\n",
       "      <td>98.697530</td>\n",
       "    </tr>\n",
       "    <tr>\n",
       "      <th>EG.EGY.PRIM.PP.KD</th>\n",
       "      <td>67.431502</td>\n",
       "    </tr>\n",
       "    <tr>\n",
       "      <th>EG.FEC.RNEW.ZS</th>\n",
       "      <td>55.047915</td>\n",
       "    </tr>\n",
       "    <tr>\n",
       "      <th>EG.USE.PCAP.KG.OE</th>\n",
       "      <td>47.745985</td>\n",
       "    </tr>\n",
       "    <tr>\n",
       "      <th>EG.USE.COMM.FO.ZS</th>\n",
       "      <td>46.011608</td>\n",
       "    </tr>\n",
       "    <tr>\n",
       "      <th>EG.IMP.CONS.ZS</th>\n",
       "      <td>45.910379</td>\n",
       "    </tr>\n",
       "    <tr>\n",
       "      <th>NY.ADJ.DRES.GN.ZS</th>\n",
       "      <td>38.230530</td>\n",
       "    </tr>\n",
       "    <tr>\n",
       "      <th>Country_Name</th>\n",
       "      <td>0.000000</td>\n",
       "    </tr>\n",
       "    <tr>\n",
       "      <th>Country_Code</th>\n",
       "      <td>0.000000</td>\n",
       "    </tr>\n",
       "    <tr>\n",
       "      <th>Year</th>\n",
       "      <td>0.000000</td>\n",
       "    </tr>\n",
       "  </tbody>\n",
       "</table>\n",
       "</div>"
      ],
      "text/plain": [
       "                       value\n",
       "EN.CLC.CDDY.XD     98.697530\n",
       "EG.EGY.PRIM.PP.KD  67.431502\n",
       "EG.FEC.RNEW.ZS     55.047915\n",
       "EG.USE.PCAP.KG.OE  47.745985\n",
       "EG.USE.COMM.FO.ZS  46.011608\n",
       "EG.IMP.CONS.ZS     45.910379\n",
       "NY.ADJ.DRES.GN.ZS  38.230530\n",
       "Country_Name        0.000000\n",
       "Country_Code        0.000000\n",
       "Year                0.000000"
      ]
     },
     "metadata": {},
     "output_type": "display_data"
    }
   ],
   "source": [
    "# Read the dataset\n",
    "energyDF = pd.read_csv('energyIndicators.csv')\n",
    "display(energyDF.info())\n",
    "\n",
    "# Change Year dtype to string\n",
    "energyDF['Year'] = energyDF['Year'].astype('str')\n",
    "display(energyDF.info())\n",
    "        \n",
    "# Relative percentage of missing data\n",
    "missingFreq = energyDF.isna().sum()/(len(energyDF))*100\n",
    "missingFreq.sort_values(ascending=False, inplace=True)\n",
    "missing = missingFreq.to_frame(name='value')\n",
    "display(missing)"
   ]
  },
  {
   "cell_type": "code",
   "execution_count": 3,
   "id": "2e966078",
   "metadata": {
    "scrolled": true
   },
   "outputs": [
    {
     "data": {
      "text/plain": [
       "239"
      ]
     },
     "execution_count": 3,
     "metadata": {},
     "output_type": "execute_result"
    }
   ],
   "source": [
    "energyDF['Country_Name'].nunique()"
   ]
  },
  {
   "cell_type": "code",
   "execution_count": 4,
   "id": "f7400482",
   "metadata": {},
   "outputs": [
    {
     "data": {
      "text/plain": [
       "['ABW',\n",
       " 'AFG',\n",
       " 'AGO',\n",
       " 'AIA',\n",
       " 'ALA',\n",
       " 'ALB',\n",
       " 'AND',\n",
       " 'ARE',\n",
       " 'ARG',\n",
       " 'ARM',\n",
       " 'ASM',\n",
       " 'ATA',\n",
       " 'ATF',\n",
       " 'ATG',\n",
       " 'AUS',\n",
       " 'AUT',\n",
       " 'AZE',\n",
       " 'BDI',\n",
       " 'BEL',\n",
       " 'BEN',\n",
       " 'BES',\n",
       " 'BFA',\n",
       " 'BGD',\n",
       " 'BGR',\n",
       " 'BHR',\n",
       " 'BHS',\n",
       " 'BIH',\n",
       " 'BLM',\n",
       " 'BLR',\n",
       " 'BLZ',\n",
       " 'BMU',\n",
       " 'BOL',\n",
       " 'BRA',\n",
       " 'BRB',\n",
       " 'BRN',\n",
       " 'BTN',\n",
       " 'BVT',\n",
       " 'BWA',\n",
       " 'CAF',\n",
       " 'CAN',\n",
       " 'CCK',\n",
       " 'CHE',\n",
       " 'CHL',\n",
       " 'CHN',\n",
       " 'CIV',\n",
       " 'CMR',\n",
       " 'COD',\n",
       " 'COG',\n",
       " 'COK',\n",
       " 'COL',\n",
       " 'COM',\n",
       " 'CPV',\n",
       " 'CRI',\n",
       " 'CUB',\n",
       " 'CUW',\n",
       " 'CXR',\n",
       " 'CYM',\n",
       " 'CYP',\n",
       " 'CZE',\n",
       " 'DEU',\n",
       " 'DJI',\n",
       " 'DMA',\n",
       " 'DNK',\n",
       " 'DOM',\n",
       " 'DZA',\n",
       " 'ECU',\n",
       " 'EGY',\n",
       " 'ERI',\n",
       " 'ESH',\n",
       " 'ESP',\n",
       " 'EST',\n",
       " 'ETH',\n",
       " 'FIN',\n",
       " 'FJI',\n",
       " 'FLK',\n",
       " 'FRA',\n",
       " 'FRO',\n",
       " 'FSM',\n",
       " 'GAB',\n",
       " 'GBR',\n",
       " 'GEO',\n",
       " 'GGY',\n",
       " 'GHA',\n",
       " 'GIB',\n",
       " 'GIN',\n",
       " 'GLP',\n",
       " 'GMB',\n",
       " 'GNB',\n",
       " 'GNQ',\n",
       " 'GRC',\n",
       " 'GRD',\n",
       " 'GRL',\n",
       " 'GTM',\n",
       " 'GUF',\n",
       " 'GUM',\n",
       " 'GUY',\n",
       " 'HKG',\n",
       " 'HMD',\n",
       " 'HND',\n",
       " 'HRV',\n",
       " 'HTI',\n",
       " 'HUN',\n",
       " 'IDN',\n",
       " 'IMN',\n",
       " 'IND',\n",
       " 'IOT',\n",
       " 'IRL',\n",
       " 'IRN',\n",
       " 'IRQ',\n",
       " 'ISL',\n",
       " 'ISR',\n",
       " 'ITA',\n",
       " 'JAM',\n",
       " 'JEY',\n",
       " 'JOR',\n",
       " 'JPN',\n",
       " 'KAZ',\n",
       " 'KEN',\n",
       " 'KGZ',\n",
       " 'KHM',\n",
       " 'KIR',\n",
       " 'KNA',\n",
       " 'KOR',\n",
       " 'KWT',\n",
       " 'LAO',\n",
       " 'LBN',\n",
       " 'LBR',\n",
       " 'LBY',\n",
       " 'LCA',\n",
       " 'LIE',\n",
       " 'LKA',\n",
       " 'LSO',\n",
       " 'LTU',\n",
       " 'LUX',\n",
       " 'LVA',\n",
       " 'MAC',\n",
       " 'MAF',\n",
       " 'MAR',\n",
       " 'MCO',\n",
       " 'MDA',\n",
       " 'MDG',\n",
       " 'MDV',\n",
       " 'MEX',\n",
       " 'MHL',\n",
       " 'MKD',\n",
       " 'MLI',\n",
       " 'MLT',\n",
       " 'MMR',\n",
       " 'MNE',\n",
       " 'MNG',\n",
       " 'MNP',\n",
       " 'MOZ',\n",
       " 'MRT',\n",
       " 'MSR',\n",
       " 'MTQ',\n",
       " 'MUS',\n",
       " 'MWI',\n",
       " 'MYS',\n",
       " 'MYT',\n",
       " 'NAM',\n",
       " 'NCL',\n",
       " 'NER',\n",
       " 'NFK',\n",
       " 'NGA',\n",
       " 'NIC',\n",
       " 'NIU',\n",
       " 'NLD',\n",
       " 'NOR',\n",
       " 'NPL',\n",
       " 'NRU',\n",
       " 'NZL',\n",
       " 'OMN',\n",
       " 'PAK',\n",
       " 'PAN',\n",
       " 'PCN',\n",
       " 'PER',\n",
       " 'PHL',\n",
       " 'PLW',\n",
       " 'PNG',\n",
       " 'POL',\n",
       " 'PRI',\n",
       " 'PRK',\n",
       " 'PRT',\n",
       " 'PRY',\n",
       " 'PSE',\n",
       " 'PYF',\n",
       " 'QAT',\n",
       " 'REU',\n",
       " 'ROU',\n",
       " 'RUS',\n",
       " 'RWA',\n",
       " 'SAU',\n",
       " 'SDN',\n",
       " 'SEN',\n",
       " 'SGP',\n",
       " 'SGS',\n",
       " 'SHN',\n",
       " 'SJM',\n",
       " 'SLB',\n",
       " 'SLE',\n",
       " 'SLV',\n",
       " 'SMR',\n",
       " 'SOM',\n",
       " 'SPM',\n",
       " 'SRB',\n",
       " 'SSD',\n",
       " 'STP',\n",
       " 'SUR',\n",
       " 'SVK',\n",
       " 'SVN',\n",
       " 'SWE',\n",
       " 'SWZ',\n",
       " 'SXM',\n",
       " 'SYC',\n",
       " 'SYR',\n",
       " 'TCA',\n",
       " 'TCD',\n",
       " 'TGO',\n",
       " 'THA',\n",
       " 'TJK',\n",
       " 'TKL',\n",
       " 'TKM',\n",
       " 'TLS',\n",
       " 'TON',\n",
       " 'TTO',\n",
       " 'TUN',\n",
       " 'TUR',\n",
       " 'TUV',\n",
       " 'TWN',\n",
       " 'TZA',\n",
       " 'UGA',\n",
       " 'UKR',\n",
       " 'UMI',\n",
       " 'URY',\n",
       " 'USA',\n",
       " 'UZB',\n",
       " 'VAT',\n",
       " 'VCT',\n",
       " 'VEN',\n",
       " 'VGB',\n",
       " 'VIR',\n",
       " 'VNM',\n",
       " 'VUT',\n",
       " 'WLF',\n",
       " 'WSM',\n",
       " 'YEM',\n",
       " 'ZAF',\n",
       " 'ZMB',\n",
       " 'ZWE']"
      ]
     },
     "metadata": {},
     "output_type": "display_data"
    }
   ],
   "source": [
    "# List of countries from pycountry\n",
    "countryLst = list(pycountry.countries)\n",
    "result = map(lambda x: x.alpha_3, countryLst)\n",
    "country_codes = (list(result))\n",
    "display(country_codes)"
   ]
  },
  {
   "cell_type": "code",
   "execution_count": 5,
   "id": "ef50dc4e",
   "metadata": {
    "scrolled": true
   },
   "outputs": [
    {
     "data": {
      "text/plain": [
       "193"
      ]
     },
     "metadata": {},
     "output_type": "display_data"
    },
    {
     "data": {
      "text/plain": [
       "array(['Arab World', 'Caribbean small states',\n",
       "       'Central Europe and the Baltics', 'Early-demographic dividend',\n",
       "       'East Asia & Pacific', 'East Asia & Pacific (IDA & IBRD)',\n",
       "       'East Asia & Pacific (excluding high income)', 'Euro area',\n",
       "       'Europe & Central Asia', 'Europe & Central Asia (IDA & IBRD)',\n",
       "       'Europe & Central Asia (excluding high income)', 'European Union',\n",
       "       'Fragile and conflict affected situations',\n",
       "       'Heavily indebted poor countries (HIPC)', 'High income',\n",
       "       'IBRD only', 'IDA & IBRD total', 'IDA blend', 'IDA only',\n",
       "       'IDA total', 'Late-demographic dividend',\n",
       "       'Latin America & Caribbean',\n",
       "       'Latin America & Caribbean (IDA & IBRD)',\n",
       "       'Latin America & Caribbean (excluding high income)',\n",
       "       'Least developed countries: UN classification',\n",
       "       'Low & middle income', 'Low income', 'Lower middle income',\n",
       "       'Middle East & North Africa',\n",
       "       'Middle East & North Africa (IDA & IBRD)',\n",
       "       'Middle East & North Africa (excluding high income)',\n",
       "       'Middle income', 'North America', 'OECD members',\n",
       "       'Other small states', 'Pacific island small states',\n",
       "       'Post-demographic dividend', 'Pre-demographic dividend',\n",
       "       'Small states', 'South Asia', 'South Asia (IDA & IBRD)',\n",
       "       'Sub-Saharan Africa', 'Sub-Saharan Africa (IDA & IBRD)',\n",
       "       'Sub-Saharan Africa (excluding high income)',\n",
       "       'Upper middle income', 'World'], dtype=object)"
      ]
     },
     "metadata": {},
     "output_type": "display_data"
    }
   ],
   "source": [
    "# Keep data for countries listed in the country_codes list\n",
    "energyDF2 = energyDF[energyDF['Country_Code'].isin(country_codes)]\n",
    "display(energyDF2['Country_Name'].nunique())\n",
    "\n",
    "removed = energyDF[~energyDF['Country_Code'].isin(country_codes)]\n",
    "display(removed['Country_Name'].unique())"
   ]
  },
  {
   "cell_type": "code",
   "execution_count": 6,
   "id": "27ef5502",
   "metadata": {},
   "outputs": [
    {
     "data": {
      "text/plain": [
       "Index(['Country_Name', 'Country_Code', 'Year', 'EG.EGY.PRIM.PP.KD',\n",
       "       'EG.IMP.CONS.ZS', 'EG.USE.PCAP.KG.OE', 'EG.USE.COMM.FO.ZS',\n",
       "       'EG.FEC.RNEW.ZS', 'NY.ADJ.DRES.GN.ZS', 'EN.CLC.CDDY.XD'],\n",
       "      dtype='object')"
      ]
     },
     "execution_count": 6,
     "metadata": {},
     "output_type": "execute_result"
    }
   ],
   "source": [
    "energyDF2.columns"
   ]
  },
  {
   "cell_type": "markdown",
   "id": "c9ce836e",
   "metadata": {},
   "source": [
    "We remove data for the years before 1971 and after 2014 because many countries have not reported data for those years"
   ]
  },
  {
   "cell_type": "code",
   "execution_count": 85,
   "id": "d10b2ad0",
   "metadata": {
    "scrolled": true
   },
   "outputs": [
    {
     "data": {
      "text/plain": [
       "44"
      ]
     },
     "metadata": {},
     "output_type": "display_data"
    }
   ],
   "source": [
    "EG_USE_IMP = energyDF2[['Country_Name', 'Country_Code', 'Year', 'EG.USE.PCAP.KG.OE', 'EG.IMP.CONS.ZS']]\n",
    "\n",
    "# Remove Years where no data is available for any country\n",
    "years_to_remove = ['1960', '1961', '1962', '1963', '1964', '1965', '1966', '1967',\n",
    "       '1968', '1969', '1970', '2015', '2016', '2017', '2018', '2019', '2020', '2050']\n",
    "\n",
    "EG_USE_IMP = EG_USE_IMP[~EG_USE_IMP['Year'].isin(years_to_remove)]\n",
    "display(EG_USE_IMP['Year'].nunique())\n",
    "\n"
   ]
  },
  {
   "cell_type": "code",
   "execution_count": 9,
   "id": "591119f8",
   "metadata": {},
   "outputs": [
    {
     "data": {
      "text/html": [
       "<div>\n",
       "<style scoped>\n",
       "    .dataframe tbody tr th:only-of-type {\n",
       "        vertical-align: middle;\n",
       "    }\n",
       "\n",
       "    .dataframe tbody tr th {\n",
       "        vertical-align: top;\n",
       "    }\n",
       "\n",
       "    .dataframe thead th {\n",
       "        text-align: right;\n",
       "    }\n",
       "</style>\n",
       "<table border=\"1\" class=\"dataframe\">\n",
       "  <thead>\n",
       "    <tr style=\"text-align: right;\">\n",
       "      <th></th>\n",
       "      <th>Country_Code</th>\n",
       "      <th>Country_Name</th>\n",
       "      <th>Year</th>\n",
       "      <th>EG.USE.PCAP.KG.OE</th>\n",
       "      <th>EG.IMP.CONS.ZS</th>\n",
       "    </tr>\n",
       "  </thead>\n",
       "  <tbody>\n",
       "    <tr>\n",
       "      <th>0</th>\n",
       "      <td>AGO</td>\n",
       "      <td>44</td>\n",
       "      <td>44</td>\n",
       "      <td>44</td>\n",
       "      <td>44</td>\n",
       "    </tr>\n",
       "    <tr>\n",
       "      <th>1</th>\n",
       "      <td>ALB</td>\n",
       "      <td>44</td>\n",
       "      <td>44</td>\n",
       "      <td>44</td>\n",
       "      <td>44</td>\n",
       "    </tr>\n",
       "    <tr>\n",
       "      <th>2</th>\n",
       "      <td>ARE</td>\n",
       "      <td>44</td>\n",
       "      <td>44</td>\n",
       "      <td>44</td>\n",
       "      <td>44</td>\n",
       "    </tr>\n",
       "    <tr>\n",
       "      <th>3</th>\n",
       "      <td>ARG</td>\n",
       "      <td>44</td>\n",
       "      <td>44</td>\n",
       "      <td>44</td>\n",
       "      <td>44</td>\n",
       "    </tr>\n",
       "    <tr>\n",
       "      <th>4</th>\n",
       "      <td>AUS</td>\n",
       "      <td>44</td>\n",
       "      <td>44</td>\n",
       "      <td>44</td>\n",
       "      <td>44</td>\n",
       "    </tr>\n",
       "    <tr>\n",
       "      <th>...</th>\n",
       "      <td>...</td>\n",
       "      <td>...</td>\n",
       "      <td>...</td>\n",
       "      <td>...</td>\n",
       "      <td>...</td>\n",
       "    </tr>\n",
       "    <tr>\n",
       "      <th>98</th>\n",
       "      <td>TUR</td>\n",
       "      <td>44</td>\n",
       "      <td>44</td>\n",
       "      <td>44</td>\n",
       "      <td>44</td>\n",
       "    </tr>\n",
       "    <tr>\n",
       "      <th>99</th>\n",
       "      <td>TZA</td>\n",
       "      <td>44</td>\n",
       "      <td>44</td>\n",
       "      <td>44</td>\n",
       "      <td>44</td>\n",
       "    </tr>\n",
       "    <tr>\n",
       "      <th>100</th>\n",
       "      <td>URY</td>\n",
       "      <td>44</td>\n",
       "      <td>44</td>\n",
       "      <td>44</td>\n",
       "      <td>44</td>\n",
       "    </tr>\n",
       "    <tr>\n",
       "      <th>101</th>\n",
       "      <td>USA</td>\n",
       "      <td>44</td>\n",
       "      <td>44</td>\n",
       "      <td>44</td>\n",
       "      <td>44</td>\n",
       "    </tr>\n",
       "    <tr>\n",
       "      <th>102</th>\n",
       "      <td>ZAF</td>\n",
       "      <td>44</td>\n",
       "      <td>44</td>\n",
       "      <td>44</td>\n",
       "      <td>44</td>\n",
       "    </tr>\n",
       "  </tbody>\n",
       "</table>\n",
       "<p>103 rows × 5 columns</p>\n",
       "</div>"
      ],
      "text/plain": [
       "    Country_Code  Country_Name  Year  EG.USE.PCAP.KG.OE  EG.IMP.CONS.ZS\n",
       "0            AGO            44    44                 44              44\n",
       "1            ALB            44    44                 44              44\n",
       "2            ARE            44    44                 44              44\n",
       "3            ARG            44    44                 44              44\n",
       "4            AUS            44    44                 44              44\n",
       "..           ...           ...   ...                ...             ...\n",
       "98           TUR            44    44                 44              44\n",
       "99           TZA            44    44                 44              44\n",
       "100          URY            44    44                 44              44\n",
       "101          USA            44    44                 44              44\n",
       "102          ZAF            44    44                 44              44\n",
       "\n",
       "[103 rows x 5 columns]"
      ]
     },
     "metadata": {},
     "output_type": "display_data"
    },
    {
     "data": {
      "text/plain": [
       "103"
      ]
     },
     "metadata": {},
     "output_type": "display_data"
    }
   ],
   "source": [
    "# Find countries with no missing data (all 44 years of data available)\n",
    "grouped = EG_USE_IMP.groupby('Country_Code').count()\n",
    "to_keep = grouped[grouped['EG.USE.PCAP.KG.OE'] == 44].reset_index()\n",
    "display(to_keep)\n",
    "\n",
    "EG_USE_IMP_lst1 = EG_USE_IMP[EG_USE_IMP['Country_Code'].isin(to_keep['Country_Code'])]\n",
    "display(EG_USE_IMP_lst1['Country_Code'].nunique())"
   ]
  },
  {
   "cell_type": "markdown",
   "id": "1f95dba7",
   "metadata": {},
   "source": [
    "#### Top 15 Countries with highest average energy usage per capita"
   ]
  },
  {
   "cell_type": "code",
   "execution_count": 16,
   "id": "18d3bae0",
   "metadata": {},
   "outputs": [
    {
     "data": {
      "text/html": [
       "<div>\n",
       "<style scoped>\n",
       "    .dataframe tbody tr th:only-of-type {\n",
       "        vertical-align: middle;\n",
       "    }\n",
       "\n",
       "    .dataframe tbody tr th {\n",
       "        vertical-align: top;\n",
       "    }\n",
       "\n",
       "    .dataframe thead th {\n",
       "        text-align: right;\n",
       "    }\n",
       "</style>\n",
       "<table border=\"1\" class=\"dataframe\">\n",
       "  <thead>\n",
       "    <tr style=\"text-align: right;\">\n",
       "      <th></th>\n",
       "      <th>Country_Name</th>\n",
       "      <th>Country_Code</th>\n",
       "      <th>EG.USE.PCAP.KG.OE</th>\n",
       "    </tr>\n",
       "  </thead>\n",
       "  <tbody>\n",
       "    <tr>\n",
       "      <th>140</th>\n",
       "      <td>Qatar</td>\n",
       "      <td>QAT</td>\n",
       "      <td>15441.892937</td>\n",
       "    </tr>\n",
       "    <tr>\n",
       "      <th>12</th>\n",
       "      <td>Bahrain</td>\n",
       "      <td>BHR</td>\n",
       "      <td>10070.710597</td>\n",
       "    </tr>\n",
       "    <tr>\n",
       "      <th>75</th>\n",
       "      <td>Iceland</td>\n",
       "      <td>ISL</td>\n",
       "      <td>9576.673511</td>\n",
       "    </tr>\n",
       "    <tr>\n",
       "      <th>101</th>\n",
       "      <td>Luxembourg</td>\n",
       "      <td>LUX</td>\n",
       "      <td>8924.329306</td>\n",
       "    </tr>\n",
       "    <tr>\n",
       "      <th>91</th>\n",
       "      <td>Kuwait</td>\n",
       "      <td>KWT</td>\n",
       "      <td>8643.283955</td>\n",
       "    </tr>\n",
       "    <tr>\n",
       "      <th>182</th>\n",
       "      <td>United Arab Emirates</td>\n",
       "      <td>ARE</td>\n",
       "      <td>8638.522628</td>\n",
       "    </tr>\n",
       "    <tr>\n",
       "      <th>31</th>\n",
       "      <td>Canada</td>\n",
       "      <td>CAN</td>\n",
       "      <td>7726.898005</td>\n",
       "    </tr>\n",
       "    <tr>\n",
       "      <th>184</th>\n",
       "      <td>United States</td>\n",
       "      <td>USA</td>\n",
       "      <td>7680.566271</td>\n",
       "    </tr>\n",
       "    <tr>\n",
       "      <th>175</th>\n",
       "      <td>Trinidad and Tobago</td>\n",
       "      <td>TTO</td>\n",
       "      <td>7049.564023</td>\n",
       "    </tr>\n",
       "    <tr>\n",
       "      <th>24</th>\n",
       "      <td>Brunei Darussalam</td>\n",
       "      <td>BRN</td>\n",
       "      <td>6687.948033</td>\n",
       "    </tr>\n",
       "    <tr>\n",
       "      <th>59</th>\n",
       "      <td>Finland</td>\n",
       "      <td>FIN</td>\n",
       "      <td>5697.088106</td>\n",
       "    </tr>\n",
       "    <tr>\n",
       "      <th>166</th>\n",
       "      <td>Sweden</td>\n",
       "      <td>SWE</td>\n",
       "      <td>5336.139330</td>\n",
       "    </tr>\n",
       "    <tr>\n",
       "      <th>129</th>\n",
       "      <td>Norway</td>\n",
       "      <td>NOR</td>\n",
       "      <td>5124.118566</td>\n",
       "    </tr>\n",
       "    <tr>\n",
       "      <th>8</th>\n",
       "      <td>Australia</td>\n",
       "      <td>AUS</td>\n",
       "      <td>5080.329509</td>\n",
       "    </tr>\n",
       "  </tbody>\n",
       "</table>\n",
       "</div>"
      ],
      "text/plain": [
       "             Country_Name Country_Code  EG.USE.PCAP.KG.OE\n",
       "140                 Qatar          QAT       15441.892937\n",
       "12                Bahrain          BHR       10070.710597\n",
       "75                Iceland          ISL        9576.673511\n",
       "101            Luxembourg          LUX        8924.329306\n",
       "91                 Kuwait          KWT        8643.283955\n",
       "182  United Arab Emirates          ARE        8638.522628\n",
       "31                 Canada          CAN        7726.898005\n",
       "184         United States          USA        7680.566271\n",
       "175   Trinidad and Tobago          TTO        7049.564023\n",
       "24      Brunei Darussalam          BRN        6687.948033\n",
       "59                Finland          FIN        5697.088106\n",
       "166                Sweden          SWE        5336.139330\n",
       "129                Norway          NOR        5124.118566\n",
       "8               Australia          AUS        5080.329509"
      ]
     },
     "metadata": {},
     "output_type": "display_data"
    }
   ],
   "source": [
    "AvgEGUsage = EG_USE_IMP.drop(columns = ['EG.IMP.CONS.ZS']).groupby(['Country_Name', 'Country_Code']).mean()\n",
    "AvgEGUsageTop15 = AvgEGUsage.reset_index().sort_values(by='EG.USE.PCAP.KG.OE', ascending=False)[0:14]\n",
    "display(AvgEGUsageTop15)\n",
    "\n"
   ]
  },
  {
   "cell_type": "code",
   "execution_count": 153,
   "id": "08ece391",
   "metadata": {},
   "outputs": [
    {
     "data": {
      "text/html": [
       "<div>\n",
       "<style scoped>\n",
       "    .dataframe tbody tr th:only-of-type {\n",
       "        vertical-align: middle;\n",
       "    }\n",
       "\n",
       "    .dataframe tbody tr th {\n",
       "        vertical-align: top;\n",
       "    }\n",
       "\n",
       "    .dataframe thead th {\n",
       "        text-align: right;\n",
       "    }\n",
       "</style>\n",
       "<table border=\"1\" class=\"dataframe\">\n",
       "  <thead>\n",
       "    <tr style=\"text-align: right;\">\n",
       "      <th></th>\n",
       "      <th></th>\n",
       "      <th>EG.USE.PCAP.KG.OE</th>\n",
       "      <th>EG.IMP.CONS.ZS</th>\n",
       "    </tr>\n",
       "    <tr>\n",
       "      <th>Country_Name</th>\n",
       "      <th>Country_Code</th>\n",
       "      <th></th>\n",
       "      <th></th>\n",
       "    </tr>\n",
       "  </thead>\n",
       "  <tbody>\n",
       "    <tr>\n",
       "      <th>Afghanistan</th>\n",
       "      <th>AFG</th>\n",
       "      <td>NaN</td>\n",
       "      <td>NaN</td>\n",
       "    </tr>\n",
       "    <tr>\n",
       "      <th>Albania</th>\n",
       "      <th>ALB</th>\n",
       "      <td>194.325494</td>\n",
       "      <td>33.185240</td>\n",
       "    </tr>\n",
       "    <tr>\n",
       "      <th>Algeria</th>\n",
       "      <th>DZA</th>\n",
       "      <td>273.781052</td>\n",
       "      <td>251.325179</td>\n",
       "    </tr>\n",
       "    <tr>\n",
       "      <th>Andorra</th>\n",
       "      <th>AND</th>\n",
       "      <td>NaN</td>\n",
       "      <td>NaN</td>\n",
       "    </tr>\n",
       "    <tr>\n",
       "      <th>Angola</th>\n",
       "      <th>AGO</th>\n",
       "      <td>57.699718</td>\n",
       "      <td>219.130609</td>\n",
       "    </tr>\n",
       "    <tr>\n",
       "      <th>...</th>\n",
       "      <th>...</th>\n",
       "      <td>...</td>\n",
       "      <td>...</td>\n",
       "    </tr>\n",
       "    <tr>\n",
       "      <th>Venezuela, RB</th>\n",
       "      <th>VEN</th>\n",
       "      <td>243.712287</td>\n",
       "      <td>210.364927</td>\n",
       "    </tr>\n",
       "    <tr>\n",
       "      <th>Vietnam</th>\n",
       "      <th>VNM</th>\n",
       "      <td>135.153564</td>\n",
       "      <td>21.342408</td>\n",
       "    </tr>\n",
       "    <tr>\n",
       "      <th>Yemen, Rep.</th>\n",
       "      <th>YEM</th>\n",
       "      <td>75.290318</td>\n",
       "      <td>190.685740</td>\n",
       "    </tr>\n",
       "    <tr>\n",
       "      <th>Zambia</th>\n",
       "      <th>ZMB</th>\n",
       "      <td>92.585850</td>\n",
       "      <td>5.092674</td>\n",
       "    </tr>\n",
       "    <tr>\n",
       "      <th>Zimbabwe</th>\n",
       "      <th>ZWE</th>\n",
       "      <td>66.749616</td>\n",
       "      <td>3.399036</td>\n",
       "    </tr>\n",
       "  </tbody>\n",
       "</table>\n",
       "<p>193 rows × 2 columns</p>\n",
       "</div>"
      ],
      "text/plain": [
       "                            EG.USE.PCAP.KG.OE  EG.IMP.CONS.ZS\n",
       "Country_Name  Country_Code                                   \n",
       "Afghanistan   AFG                         NaN             NaN\n",
       "Albania       ALB                  194.325494       33.185240\n",
       "Algeria       DZA                  273.781052      251.325179\n",
       "Andorra       AND                         NaN             NaN\n",
       "Angola        AGO                   57.699718      219.130609\n",
       "...                                       ...             ...\n",
       "Venezuela, RB VEN                  243.712287      210.364927\n",
       "Vietnam       VNM                  135.153564       21.342408\n",
       "Yemen, Rep.   YEM                   75.290318      190.685740\n",
       "Zambia        ZMB                   92.585850        5.092674\n",
       "Zimbabwe      ZWE                   66.749616        3.399036\n",
       "\n",
       "[193 rows x 2 columns]"
      ]
     },
     "metadata": {},
     "output_type": "display_data"
    },
    {
     "data": {
      "text/html": [
       "<div>\n",
       "<style scoped>\n",
       "    .dataframe tbody tr th:only-of-type {\n",
       "        vertical-align: middle;\n",
       "    }\n",
       "\n",
       "    .dataframe tbody tr th {\n",
       "        vertical-align: top;\n",
       "    }\n",
       "\n",
       "    .dataframe thead th {\n",
       "        text-align: right;\n",
       "    }\n",
       "</style>\n",
       "<table border=\"1\" class=\"dataframe\">\n",
       "  <thead>\n",
       "    <tr style=\"text-align: right;\">\n",
       "      <th></th>\n",
       "      <th>Country_Name</th>\n",
       "      <th>Country_Code</th>\n",
       "      <th>EG.USE.PCAP.KG.OE</th>\n",
       "      <th>EG.IMP.CONS.ZS</th>\n",
       "      <th>EG.USE.PCAP.KG.OE_sd</th>\n",
       "      <th>EG.IMP.CONS.ZS_sd</th>\n",
       "    </tr>\n",
       "  </thead>\n",
       "  <tbody>\n",
       "    <tr>\n",
       "      <th>0</th>\n",
       "      <td>Qatar</td>\n",
       "      <td>QAT</td>\n",
       "      <td>15441.892937</td>\n",
       "      <td>-637.076391</td>\n",
       "      <td>3694.539700</td>\n",
       "      <td>578.653639</td>\n",
       "    </tr>\n",
       "    <tr>\n",
       "      <th>1</th>\n",
       "      <td>Bahrain</td>\n",
       "      <td>BHR</td>\n",
       "      <td>10070.710597</td>\n",
       "      <td>-195.343218</td>\n",
       "      <td>1544.866472</td>\n",
       "      <td>145.147861</td>\n",
       "    </tr>\n",
       "    <tr>\n",
       "      <th>2</th>\n",
       "      <td>Iceland</td>\n",
       "      <td>ISL</td>\n",
       "      <td>9576.673511</td>\n",
       "      <td>29.308820</td>\n",
       "      <td>4079.772225</td>\n",
       "      <td>12.022071</td>\n",
       "    </tr>\n",
       "    <tr>\n",
       "      <th>3</th>\n",
       "      <td>Luxembourg</td>\n",
       "      <td>LUX</td>\n",
       "      <td>8924.329306</td>\n",
       "      <td>98.521952</td>\n",
       "      <td>1493.216692</td>\n",
       "      <td>0.978580</td>\n",
       "    </tr>\n",
       "    <tr>\n",
       "      <th>4</th>\n",
       "      <td>Kuwait</td>\n",
       "      <td>KWT</td>\n",
       "      <td>8643.283955</td>\n",
       "      <td>-732.912486</td>\n",
       "      <td>2007.377500</td>\n",
       "      <td>593.310837</td>\n",
       "    </tr>\n",
       "    <tr>\n",
       "      <th>5</th>\n",
       "      <td>United Arab Emirates</td>\n",
       "      <td>ARE</td>\n",
       "      <td>8638.522628</td>\n",
       "      <td>-1133.901731</td>\n",
       "      <td>2791.653089</td>\n",
       "      <td>1684.622846</td>\n",
       "    </tr>\n",
       "    <tr>\n",
       "      <th>6</th>\n",
       "      <td>Canada</td>\n",
       "      <td>CAN</td>\n",
       "      <td>7726.898005</td>\n",
       "      <td>-35.375237</td>\n",
       "      <td>436.677357</td>\n",
       "      <td>18.778105</td>\n",
       "    </tr>\n",
       "    <tr>\n",
       "      <th>7</th>\n",
       "      <td>United States</td>\n",
       "      <td>USA</td>\n",
       "      <td>7680.566271</td>\n",
       "      <td>18.527360</td>\n",
       "      <td>372.046761</td>\n",
       "      <td>5.947926</td>\n",
       "    </tr>\n",
       "    <tr>\n",
       "      <th>8</th>\n",
       "      <td>Trinidad and Tobago</td>\n",
       "      <td>TTO</td>\n",
       "      <td>7049.564023</td>\n",
       "      <td>-157.489819</td>\n",
       "      <td>4411.539154</td>\n",
       "      <td>87.302655</td>\n",
       "    </tr>\n",
       "    <tr>\n",
       "      <th>9</th>\n",
       "      <td>Brunei Darussalam</td>\n",
       "      <td>BRN</td>\n",
       "      <td>6687.948033</td>\n",
       "      <td>-1138.925291</td>\n",
       "      <td>1843.387940</td>\n",
       "      <td>964.682399</td>\n",
       "    </tr>\n",
       "    <tr>\n",
       "      <th>10</th>\n",
       "      <td>Finland</td>\n",
       "      <td>FIN</td>\n",
       "      <td>5697.088106</td>\n",
       "      <td>59.852516</td>\n",
       "      <td>894.162952</td>\n",
       "      <td>9.411938</td>\n",
       "    </tr>\n",
       "    <tr>\n",
       "      <th>11</th>\n",
       "      <td>Sweden</td>\n",
       "      <td>SWE</td>\n",
       "      <td>5336.139330</td>\n",
       "      <td>44.847658</td>\n",
       "      <td>399.530272</td>\n",
       "      <td>15.540251</td>\n",
       "    </tr>\n",
       "    <tr>\n",
       "      <th>12</th>\n",
       "      <td>Norway</td>\n",
       "      <td>NOR</td>\n",
       "      <td>5124.118566</td>\n",
       "      <td>-439.698482</td>\n",
       "      <td>892.221388</td>\n",
       "      <td>281.487970</td>\n",
       "    </tr>\n",
       "    <tr>\n",
       "      <th>13</th>\n",
       "      <td>Australia</td>\n",
       "      <td>AUS</td>\n",
       "      <td>5080.329509</td>\n",
       "      <td>-87.684782</td>\n",
       "      <td>541.665264</td>\n",
       "      <td>48.818547</td>\n",
       "    </tr>\n",
       "  </tbody>\n",
       "</table>\n",
       "</div>"
      ],
      "text/plain": [
       "            Country_Name Country_Code  EG.USE.PCAP.KG.OE  EG.IMP.CONS.ZS  \\\n",
       "0                  Qatar          QAT       15441.892937     -637.076391   \n",
       "1                Bahrain          BHR       10070.710597     -195.343218   \n",
       "2                Iceland          ISL        9576.673511       29.308820   \n",
       "3             Luxembourg          LUX        8924.329306       98.521952   \n",
       "4                 Kuwait          KWT        8643.283955     -732.912486   \n",
       "5   United Arab Emirates          ARE        8638.522628    -1133.901731   \n",
       "6                 Canada          CAN        7726.898005      -35.375237   \n",
       "7          United States          USA        7680.566271       18.527360   \n",
       "8    Trinidad and Tobago          TTO        7049.564023     -157.489819   \n",
       "9      Brunei Darussalam          BRN        6687.948033    -1138.925291   \n",
       "10               Finland          FIN        5697.088106       59.852516   \n",
       "11                Sweden          SWE        5336.139330       44.847658   \n",
       "12                Norway          NOR        5124.118566     -439.698482   \n",
       "13             Australia          AUS        5080.329509      -87.684782   \n",
       "\n",
       "    EG.USE.PCAP.KG.OE_sd  EG.IMP.CONS.ZS_sd  \n",
       "0            3694.539700         578.653639  \n",
       "1            1544.866472         145.147861  \n",
       "2            4079.772225          12.022071  \n",
       "3            1493.216692           0.978580  \n",
       "4            2007.377500         593.310837  \n",
       "5            2791.653089        1684.622846  \n",
       "6             436.677357          18.778105  \n",
       "7             372.046761           5.947926  \n",
       "8            4411.539154          87.302655  \n",
       "9            1843.387940         964.682399  \n",
       "10            894.162952           9.411938  \n",
       "11            399.530272          15.540251  \n",
       "12            892.221388         281.487970  \n",
       "13            541.665264          48.818547  "
      ]
     },
     "metadata": {},
     "output_type": "display_data"
    },
    {
     "data": {
      "application/vnd.plotly.v1+json": {
       "config": {
        "plotlyServerURL": "https://plot.ly"
       },
       "data": [
        {
         "legendgroup": "EG.USE.PCAP.KG.OE",
         "marker": {
          "color": "#636EFA"
         },
         "name": "Average Energy Use (kg of oil equivalent per capita)",
         "type": "bar",
         "x": [
          "Qatar",
          "Bahrain",
          "Iceland",
          "Luxembourg",
          "Kuwait",
          "United Arab Emirates",
          "Canada",
          "United States",
          "Trinidad and Tobago",
          "Brunei Darussalam",
          "Finland",
          "Sweden",
          "Norway",
          "Australia"
         ],
         "xaxis": "x3",
         "y": [
          15441.89293727674,
          10070.710597386458,
          9576.673510881157,
          8924.329305976862,
          8643.283954777195,
          8638.522627859145,
          7726.898005460598,
          7680.566271239265,
          7049.564023400937,
          6687.948032926622,
          5697.088105741966,
          5336.13933025628,
          5124.118565773161,
          5080.329509445203
         ],
         "yaxis": "y3"
        },
        {
         "legendgroup": "EG.IMP.CONS.ZS",
         "marker": {
          "color": "#EF553B"
         },
         "name": "Average Energy Imports, net (% of Energy Use)",
         "type": "bar",
         "x": [
          "Qatar",
          "Bahrain",
          "Iceland",
          "Luxembourg",
          "Kuwait",
          "United Arab Emirates",
          "Canada",
          "United States",
          "Trinidad and Tobago",
          "Brunei Darussalam",
          "Finland",
          "Sweden",
          "Norway",
          "Australia"
         ],
         "xaxis": "x3",
         "y": [
          -637.0763905090669,
          -195.34321751723112,
          29.308820159716735,
          98.52195153684865,
          -732.9124862348327,
          -1133.9017306834414,
          -35.37523651234406,
          18.52736035573416,
          -157.4898190534497,
          -1138.9252907240939,
          59.852516219444624,
          44.84765788229942,
          -439.6984821848789,
          -87.68478154241251
         ],
         "yaxis": "y3"
        },
        {
         "legendgroup": "EG.USE.PCAP.KG.OE",
         "marker": {
          "color": "#636EFA"
         },
         "name": "EG.USE.PCAP.KG.OE",
         "showlegend": false,
         "type": "bar",
         "x": [
          "Qatar",
          "Bahrain",
          "Iceland",
          "Luxembourg",
          "Kuwait",
          "United Arab Emirates",
          "Canada",
          "United States",
          "Trinidad and Tobago",
          "Brunei Darussalam",
          "Finland",
          "Sweden",
          "Norway",
          "Australia"
         ],
         "xaxis": "x2",
         "y": [
          15441.89293727674,
          10070.710597386458,
          9576.673510881157,
          8924.329305976862,
          8643.283954777195,
          8638.522627859145,
          7726.898005460598,
          7680.566271239265,
          7049.564023400937,
          6687.948032926622,
          5697.088105741966,
          5336.13933025628,
          5124.118565773161,
          5080.329509445203
         ],
         "yaxis": "y2"
        },
        {
         "legendgroup": "EG.IMP.CONS.ZS",
         "marker": {
          "color": "#EF553B"
         },
         "name": "EG.IMP.CONS.ZS",
         "showlegend": false,
         "type": "bar",
         "x": [
          "Qatar",
          "Bahrain",
          "Iceland",
          "Luxembourg",
          "Kuwait",
          "United Arab Emirates",
          "Canada",
          "United States",
          "Trinidad and Tobago",
          "Brunei Darussalam",
          "Finland",
          "Sweden",
          "Norway",
          "Australia"
         ],
         "xaxis": "x2",
         "y": [
          -637.0763905090669,
          -195.34321751723112,
          29.308820159716735,
          98.52195153684865,
          -732.9124862348327,
          -1133.9017306834414,
          -35.37523651234406,
          18.52736035573416,
          -157.4898190534497,
          -1138.9252907240939,
          59.852516219444624,
          44.84765788229942,
          -439.6984821848789,
          -87.68478154241251
         ],
         "yaxis": "y2"
        },
        {
         "legendgroup": "EG.USE.PCAP.KG.OE",
         "marker": {
          "color": "#636EFA"
         },
         "name": "EG.USE.PCAP.KG.OE",
         "showlegend": false,
         "type": "bar",
         "x": [
          "Qatar",
          "Bahrain",
          "Iceland",
          "Luxembourg",
          "Kuwait",
          "United Arab Emirates",
          "Canada",
          "United States",
          "Trinidad and Tobago",
          "Brunei Darussalam",
          "Finland",
          "Sweden",
          "Norway",
          "Australia"
         ],
         "xaxis": "x",
         "y": [
          15441.89293727674,
          10070.710597386458,
          9576.673510881157,
          8924.329305976862,
          8643.283954777195,
          8638.522627859145,
          7726.898005460598,
          7680.566271239265,
          7049.564023400937,
          6687.948032926622,
          5697.088105741966,
          5336.13933025628,
          5124.118565773161,
          5080.329509445203
         ],
         "yaxis": "y"
        },
        {
         "legendgroup": "EG.IMP.CONS.ZS",
         "marker": {
          "color": "#EF553B"
         },
         "name": "EG.IMP.CONS.ZS",
         "showlegend": false,
         "type": "bar",
         "x": [
          "Qatar",
          "Bahrain",
          "Iceland",
          "Luxembourg",
          "Kuwait",
          "United Arab Emirates",
          "Canada",
          "United States",
          "Trinidad and Tobago",
          "Brunei Darussalam",
          "Finland",
          "Sweden",
          "Norway",
          "Australia"
         ],
         "xaxis": "x",
         "y": [
          -637.0763905090669,
          -195.34321751723112,
          29.308820159716735,
          98.52195153684865,
          -732.9124862348327,
          -1133.9017306834414,
          -35.37523651234406,
          18.52736035573416,
          -157.4898190534497,
          -1138.9252907240939,
          59.852516219444624,
          44.84765788229942,
          -439.6984821848789,
          -87.68478154241251
         ],
         "yaxis": "y"
        }
       ],
       "layout": {
        "legend": {
         "x": 0.4,
         "xanchor": "left",
         "y": 0.99,
         "yanchor": "top"
        },
        "template": {
         "data": {
          "bar": [
           {
            "error_x": {
             "color": "#2a3f5f"
            },
            "error_y": {
             "color": "#2a3f5f"
            },
            "marker": {
             "line": {
              "color": "#E5ECF6",
              "width": 0.5
             },
             "pattern": {
              "fillmode": "overlay",
              "size": 10,
              "solidity": 0.2
             }
            },
            "type": "bar"
           }
          ],
          "barpolar": [
           {
            "marker": {
             "line": {
              "color": "#E5ECF6",
              "width": 0.5
             },
             "pattern": {
              "fillmode": "overlay",
              "size": 10,
              "solidity": 0.2
             }
            },
            "type": "barpolar"
           }
          ],
          "carpet": [
           {
            "aaxis": {
             "endlinecolor": "#2a3f5f",
             "gridcolor": "white",
             "linecolor": "white",
             "minorgridcolor": "white",
             "startlinecolor": "#2a3f5f"
            },
            "baxis": {
             "endlinecolor": "#2a3f5f",
             "gridcolor": "white",
             "linecolor": "white",
             "minorgridcolor": "white",
             "startlinecolor": "#2a3f5f"
            },
            "type": "carpet"
           }
          ],
          "choropleth": [
           {
            "colorbar": {
             "outlinewidth": 0,
             "ticks": ""
            },
            "type": "choropleth"
           }
          ],
          "contour": [
           {
            "colorbar": {
             "outlinewidth": 0,
             "ticks": ""
            },
            "colorscale": [
             [
              0,
              "#0d0887"
             ],
             [
              0.1111111111111111,
              "#46039f"
             ],
             [
              0.2222222222222222,
              "#7201a8"
             ],
             [
              0.3333333333333333,
              "#9c179e"
             ],
             [
              0.4444444444444444,
              "#bd3786"
             ],
             [
              0.5555555555555556,
              "#d8576b"
             ],
             [
              0.6666666666666666,
              "#ed7953"
             ],
             [
              0.7777777777777778,
              "#fb9f3a"
             ],
             [
              0.8888888888888888,
              "#fdca26"
             ],
             [
              1,
              "#f0f921"
             ]
            ],
            "type": "contour"
           }
          ],
          "contourcarpet": [
           {
            "colorbar": {
             "outlinewidth": 0,
             "ticks": ""
            },
            "type": "contourcarpet"
           }
          ],
          "heatmap": [
           {
            "colorbar": {
             "outlinewidth": 0,
             "ticks": ""
            },
            "colorscale": [
             [
              0,
              "#0d0887"
             ],
             [
              0.1111111111111111,
              "#46039f"
             ],
             [
              0.2222222222222222,
              "#7201a8"
             ],
             [
              0.3333333333333333,
              "#9c179e"
             ],
             [
              0.4444444444444444,
              "#bd3786"
             ],
             [
              0.5555555555555556,
              "#d8576b"
             ],
             [
              0.6666666666666666,
              "#ed7953"
             ],
             [
              0.7777777777777778,
              "#fb9f3a"
             ],
             [
              0.8888888888888888,
              "#fdca26"
             ],
             [
              1,
              "#f0f921"
             ]
            ],
            "type": "heatmap"
           }
          ],
          "heatmapgl": [
           {
            "colorbar": {
             "outlinewidth": 0,
             "ticks": ""
            },
            "colorscale": [
             [
              0,
              "#0d0887"
             ],
             [
              0.1111111111111111,
              "#46039f"
             ],
             [
              0.2222222222222222,
              "#7201a8"
             ],
             [
              0.3333333333333333,
              "#9c179e"
             ],
             [
              0.4444444444444444,
              "#bd3786"
             ],
             [
              0.5555555555555556,
              "#d8576b"
             ],
             [
              0.6666666666666666,
              "#ed7953"
             ],
             [
              0.7777777777777778,
              "#fb9f3a"
             ],
             [
              0.8888888888888888,
              "#fdca26"
             ],
             [
              1,
              "#f0f921"
             ]
            ],
            "type": "heatmapgl"
           }
          ],
          "histogram": [
           {
            "marker": {
             "pattern": {
              "fillmode": "overlay",
              "size": 10,
              "solidity": 0.2
             }
            },
            "type": "histogram"
           }
          ],
          "histogram2d": [
           {
            "colorbar": {
             "outlinewidth": 0,
             "ticks": ""
            },
            "colorscale": [
             [
              0,
              "#0d0887"
             ],
             [
              0.1111111111111111,
              "#46039f"
             ],
             [
              0.2222222222222222,
              "#7201a8"
             ],
             [
              0.3333333333333333,
              "#9c179e"
             ],
             [
              0.4444444444444444,
              "#bd3786"
             ],
             [
              0.5555555555555556,
              "#d8576b"
             ],
             [
              0.6666666666666666,
              "#ed7953"
             ],
             [
              0.7777777777777778,
              "#fb9f3a"
             ],
             [
              0.8888888888888888,
              "#fdca26"
             ],
             [
              1,
              "#f0f921"
             ]
            ],
            "type": "histogram2d"
           }
          ],
          "histogram2dcontour": [
           {
            "colorbar": {
             "outlinewidth": 0,
             "ticks": ""
            },
            "colorscale": [
             [
              0,
              "#0d0887"
             ],
             [
              0.1111111111111111,
              "#46039f"
             ],
             [
              0.2222222222222222,
              "#7201a8"
             ],
             [
              0.3333333333333333,
              "#9c179e"
             ],
             [
              0.4444444444444444,
              "#bd3786"
             ],
             [
              0.5555555555555556,
              "#d8576b"
             ],
             [
              0.6666666666666666,
              "#ed7953"
             ],
             [
              0.7777777777777778,
              "#fb9f3a"
             ],
             [
              0.8888888888888888,
              "#fdca26"
             ],
             [
              1,
              "#f0f921"
             ]
            ],
            "type": "histogram2dcontour"
           }
          ],
          "mesh3d": [
           {
            "colorbar": {
             "outlinewidth": 0,
             "ticks": ""
            },
            "type": "mesh3d"
           }
          ],
          "parcoords": [
           {
            "line": {
             "colorbar": {
              "outlinewidth": 0,
              "ticks": ""
             }
            },
            "type": "parcoords"
           }
          ],
          "pie": [
           {
            "automargin": true,
            "type": "pie"
           }
          ],
          "scatter": [
           {
            "marker": {
             "colorbar": {
              "outlinewidth": 0,
              "ticks": ""
             }
            },
            "type": "scatter"
           }
          ],
          "scatter3d": [
           {
            "line": {
             "colorbar": {
              "outlinewidth": 0,
              "ticks": ""
             }
            },
            "marker": {
             "colorbar": {
              "outlinewidth": 0,
              "ticks": ""
             }
            },
            "type": "scatter3d"
           }
          ],
          "scattercarpet": [
           {
            "marker": {
             "colorbar": {
              "outlinewidth": 0,
              "ticks": ""
             }
            },
            "type": "scattercarpet"
           }
          ],
          "scattergeo": [
           {
            "marker": {
             "colorbar": {
              "outlinewidth": 0,
              "ticks": ""
             }
            },
            "type": "scattergeo"
           }
          ],
          "scattergl": [
           {
            "marker": {
             "colorbar": {
              "outlinewidth": 0,
              "ticks": ""
             }
            },
            "type": "scattergl"
           }
          ],
          "scattermapbox": [
           {
            "marker": {
             "colorbar": {
              "outlinewidth": 0,
              "ticks": ""
             }
            },
            "type": "scattermapbox"
           }
          ],
          "scatterpolar": [
           {
            "marker": {
             "colorbar": {
              "outlinewidth": 0,
              "ticks": ""
             }
            },
            "type": "scatterpolar"
           }
          ],
          "scatterpolargl": [
           {
            "marker": {
             "colorbar": {
              "outlinewidth": 0,
              "ticks": ""
             }
            },
            "type": "scatterpolargl"
           }
          ],
          "scatterternary": [
           {
            "marker": {
             "colorbar": {
              "outlinewidth": 0,
              "ticks": ""
             }
            },
            "type": "scatterternary"
           }
          ],
          "surface": [
           {
            "colorbar": {
             "outlinewidth": 0,
             "ticks": ""
            },
            "colorscale": [
             [
              0,
              "#0d0887"
             ],
             [
              0.1111111111111111,
              "#46039f"
             ],
             [
              0.2222222222222222,
              "#7201a8"
             ],
             [
              0.3333333333333333,
              "#9c179e"
             ],
             [
              0.4444444444444444,
              "#bd3786"
             ],
             [
              0.5555555555555556,
              "#d8576b"
             ],
             [
              0.6666666666666666,
              "#ed7953"
             ],
             [
              0.7777777777777778,
              "#fb9f3a"
             ],
             [
              0.8888888888888888,
              "#fdca26"
             ],
             [
              1,
              "#f0f921"
             ]
            ],
            "type": "surface"
           }
          ],
          "table": [
           {
            "cells": {
             "fill": {
              "color": "#EBF0F8"
             },
             "line": {
              "color": "white"
             }
            },
            "header": {
             "fill": {
              "color": "#C8D4E3"
             },
             "line": {
              "color": "white"
             }
            },
            "type": "table"
           }
          ]
         },
         "layout": {
          "annotationdefaults": {
           "arrowcolor": "#2a3f5f",
           "arrowhead": 0,
           "arrowwidth": 1
          },
          "autotypenumbers": "strict",
          "coloraxis": {
           "colorbar": {
            "outlinewidth": 0,
            "ticks": ""
           }
          },
          "colorscale": {
           "diverging": [
            [
             0,
             "#8e0152"
            ],
            [
             0.1,
             "#c51b7d"
            ],
            [
             0.2,
             "#de77ae"
            ],
            [
             0.3,
             "#f1b6da"
            ],
            [
             0.4,
             "#fde0ef"
            ],
            [
             0.5,
             "#f7f7f7"
            ],
            [
             0.6,
             "#e6f5d0"
            ],
            [
             0.7,
             "#b8e186"
            ],
            [
             0.8,
             "#7fbc41"
            ],
            [
             0.9,
             "#4d9221"
            ],
            [
             1,
             "#276419"
            ]
           ],
           "sequential": [
            [
             0,
             "#0d0887"
            ],
            [
             0.1111111111111111,
             "#46039f"
            ],
            [
             0.2222222222222222,
             "#7201a8"
            ],
            [
             0.3333333333333333,
             "#9c179e"
            ],
            [
             0.4444444444444444,
             "#bd3786"
            ],
            [
             0.5555555555555556,
             "#d8576b"
            ],
            [
             0.6666666666666666,
             "#ed7953"
            ],
            [
             0.7777777777777778,
             "#fb9f3a"
            ],
            [
             0.8888888888888888,
             "#fdca26"
            ],
            [
             1,
             "#f0f921"
            ]
           ],
           "sequentialminus": [
            [
             0,
             "#0d0887"
            ],
            [
             0.1111111111111111,
             "#46039f"
            ],
            [
             0.2222222222222222,
             "#7201a8"
            ],
            [
             0.3333333333333333,
             "#9c179e"
            ],
            [
             0.4444444444444444,
             "#bd3786"
            ],
            [
             0.5555555555555556,
             "#d8576b"
            ],
            [
             0.6666666666666666,
             "#ed7953"
            ],
            [
             0.7777777777777778,
             "#fb9f3a"
            ],
            [
             0.8888888888888888,
             "#fdca26"
            ],
            [
             1,
             "#f0f921"
            ]
           ]
          },
          "colorway": [
           "#636efa",
           "#EF553B",
           "#00cc96",
           "#ab63fa",
           "#FFA15A",
           "#19d3f3",
           "#FF6692",
           "#B6E880",
           "#FF97FF",
           "#FECB52"
          ],
          "font": {
           "color": "#2a3f5f"
          },
          "geo": {
           "bgcolor": "white",
           "lakecolor": "white",
           "landcolor": "#E5ECF6",
           "showlakes": true,
           "showland": true,
           "subunitcolor": "white"
          },
          "hoverlabel": {
           "align": "left"
          },
          "hovermode": "closest",
          "mapbox": {
           "style": "light"
          },
          "paper_bgcolor": "white",
          "plot_bgcolor": "#E5ECF6",
          "polar": {
           "angularaxis": {
            "gridcolor": "white",
            "linecolor": "white",
            "ticks": ""
           },
           "bgcolor": "#E5ECF6",
           "radialaxis": {
            "gridcolor": "white",
            "linecolor": "white",
            "ticks": ""
           }
          },
          "scene": {
           "xaxis": {
            "backgroundcolor": "#E5ECF6",
            "gridcolor": "white",
            "gridwidth": 2,
            "linecolor": "white",
            "showbackground": true,
            "ticks": "",
            "zerolinecolor": "white"
           },
           "yaxis": {
            "backgroundcolor": "#E5ECF6",
            "gridcolor": "white",
            "gridwidth": 2,
            "linecolor": "white",
            "showbackground": true,
            "ticks": "",
            "zerolinecolor": "white"
           },
           "zaxis": {
            "backgroundcolor": "#E5ECF6",
            "gridcolor": "white",
            "gridwidth": 2,
            "linecolor": "white",
            "showbackground": true,
            "ticks": "",
            "zerolinecolor": "white"
           }
          },
          "shapedefaults": {
           "line": {
            "color": "#2a3f5f"
           }
          },
          "ternary": {
           "aaxis": {
            "gridcolor": "white",
            "linecolor": "white",
            "ticks": ""
           },
           "baxis": {
            "gridcolor": "white",
            "linecolor": "white",
            "ticks": ""
           },
           "bgcolor": "#E5ECF6",
           "caxis": {
            "gridcolor": "white",
            "linecolor": "white",
            "ticks": ""
           }
          },
          "title": {
           "x": 0.05
          },
          "xaxis": {
           "automargin": true,
           "gridcolor": "white",
           "linecolor": "white",
           "ticks": "",
           "title": {
            "standoff": 15
           },
           "zerolinecolor": "white",
           "zerolinewidth": 2
          },
          "yaxis": {
           "automargin": true,
           "gridcolor": "white",
           "linecolor": "white",
           "ticks": "",
           "title": {
            "standoff": 15
           },
           "zerolinecolor": "white",
           "zerolinewidth": 2
          }
         }
        },
        "title": {
         "text": "Top 15 Countries with the Highest Average Energy Use Per Capita <br><sup>Data Aggregated Over the Years 1971-2014 </sup>"
        },
        "xaxis": {
         "anchor": "y",
         "domain": [
          0,
          1
         ],
         "visible": false
        },
        "xaxis2": {
         "anchor": "y2",
         "domain": [
          0,
          1
         ],
         "visible": false
        },
        "xaxis3": {
         "anchor": "y3",
         "domain": [
          0,
          1
         ],
         "tickangle": -45
        },
        "yaxis": {
         "anchor": "x",
         "domain": [
          0.68,
          1
         ],
         "range": [
          3000,
          16986.082231004417
         ]
        },
        "yaxis2": {
         "anchor": "x2",
         "domain": [
          0.34,
          0.66
         ],
         "range": [
          -75,
          150
         ]
        },
        "yaxis3": {
         "anchor": "x3",
         "domain": [
          0,
          0.32
         ],
         "range": [
          -1252.8178197965033,
          -82.5
         ]
        }
       }
      },
      "text/html": [
       "<div>                            <div id=\"ab1b0463-398a-4d88-99f1-96a91f5d43ce\" class=\"plotly-graph-div\" style=\"height:525px; width:100%;\"></div>            <script type=\"text/javascript\">                require([\"plotly\"], function(Plotly) {                    window.PLOTLYENV=window.PLOTLYENV || {};                                    if (document.getElementById(\"ab1b0463-398a-4d88-99f1-96a91f5d43ce\")) {                    Plotly.newPlot(                        \"ab1b0463-398a-4d88-99f1-96a91f5d43ce\",                        [{\"legendgroup\":\"EG.USE.PCAP.KG.OE\",\"marker\":{\"color\":\"#636EFA\"},\"name\":\"Average Energy Use (kg of oil equivalent per capita)\",\"type\":\"bar\",\"x\":[\"Qatar\",\"Bahrain\",\"Iceland\",\"Luxembourg\",\"Kuwait\",\"United Arab Emirates\",\"Canada\",\"United States\",\"Trinidad and Tobago\",\"Brunei Darussalam\",\"Finland\",\"Sweden\",\"Norway\",\"Australia\"],\"xaxis\":\"x3\",\"y\":[15441.89293727674,10070.710597386458,9576.673510881157,8924.329305976862,8643.283954777195,8638.522627859145,7726.898005460598,7680.566271239265,7049.564023400937,6687.948032926622,5697.088105741966,5336.13933025628,5124.118565773161,5080.329509445203],\"yaxis\":\"y3\"},{\"legendgroup\":\"EG.IMP.CONS.ZS\",\"marker\":{\"color\":\"#EF553B\"},\"name\":\"Average Energy Imports, net (% of Energy Use)\",\"type\":\"bar\",\"x\":[\"Qatar\",\"Bahrain\",\"Iceland\",\"Luxembourg\",\"Kuwait\",\"United Arab Emirates\",\"Canada\",\"United States\",\"Trinidad and Tobago\",\"Brunei Darussalam\",\"Finland\",\"Sweden\",\"Norway\",\"Australia\"],\"xaxis\":\"x3\",\"y\":[-637.0763905090669,-195.34321751723112,29.308820159716735,98.52195153684865,-732.9124862348327,-1133.9017306834414,-35.37523651234406,18.52736035573416,-157.4898190534497,-1138.9252907240939,59.852516219444624,44.84765788229942,-439.6984821848789,-87.68478154241251],\"yaxis\":\"y3\"},{\"legendgroup\":\"EG.USE.PCAP.KG.OE\",\"marker\":{\"color\":\"#636EFA\"},\"name\":\"EG.USE.PCAP.KG.OE\",\"showlegend\":false,\"type\":\"bar\",\"x\":[\"Qatar\",\"Bahrain\",\"Iceland\",\"Luxembourg\",\"Kuwait\",\"United Arab Emirates\",\"Canada\",\"United States\",\"Trinidad and Tobago\",\"Brunei Darussalam\",\"Finland\",\"Sweden\",\"Norway\",\"Australia\"],\"xaxis\":\"x2\",\"y\":[15441.89293727674,10070.710597386458,9576.673510881157,8924.329305976862,8643.283954777195,8638.522627859145,7726.898005460598,7680.566271239265,7049.564023400937,6687.948032926622,5697.088105741966,5336.13933025628,5124.118565773161,5080.329509445203],\"yaxis\":\"y2\"},{\"legendgroup\":\"EG.IMP.CONS.ZS\",\"marker\":{\"color\":\"#EF553B\"},\"name\":\"EG.IMP.CONS.ZS\",\"showlegend\":false,\"type\":\"bar\",\"x\":[\"Qatar\",\"Bahrain\",\"Iceland\",\"Luxembourg\",\"Kuwait\",\"United Arab Emirates\",\"Canada\",\"United States\",\"Trinidad and Tobago\",\"Brunei Darussalam\",\"Finland\",\"Sweden\",\"Norway\",\"Australia\"],\"xaxis\":\"x2\",\"y\":[-637.0763905090669,-195.34321751723112,29.308820159716735,98.52195153684865,-732.9124862348327,-1133.9017306834414,-35.37523651234406,18.52736035573416,-157.4898190534497,-1138.9252907240939,59.852516219444624,44.84765788229942,-439.6984821848789,-87.68478154241251],\"yaxis\":\"y2\"},{\"legendgroup\":\"EG.USE.PCAP.KG.OE\",\"marker\":{\"color\":\"#636EFA\"},\"name\":\"EG.USE.PCAP.KG.OE\",\"showlegend\":false,\"type\":\"bar\",\"x\":[\"Qatar\",\"Bahrain\",\"Iceland\",\"Luxembourg\",\"Kuwait\",\"United Arab Emirates\",\"Canada\",\"United States\",\"Trinidad and Tobago\",\"Brunei Darussalam\",\"Finland\",\"Sweden\",\"Norway\",\"Australia\"],\"xaxis\":\"x\",\"y\":[15441.89293727674,10070.710597386458,9576.673510881157,8924.329305976862,8643.283954777195,8638.522627859145,7726.898005460598,7680.566271239265,7049.564023400937,6687.948032926622,5697.088105741966,5336.13933025628,5124.118565773161,5080.329509445203],\"yaxis\":\"y\"},{\"legendgroup\":\"EG.IMP.CONS.ZS\",\"marker\":{\"color\":\"#EF553B\"},\"name\":\"EG.IMP.CONS.ZS\",\"showlegend\":false,\"type\":\"bar\",\"x\":[\"Qatar\",\"Bahrain\",\"Iceland\",\"Luxembourg\",\"Kuwait\",\"United Arab Emirates\",\"Canada\",\"United States\",\"Trinidad and Tobago\",\"Brunei Darussalam\",\"Finland\",\"Sweden\",\"Norway\",\"Australia\"],\"xaxis\":\"x\",\"y\":[-637.0763905090669,-195.34321751723112,29.308820159716735,98.52195153684865,-732.9124862348327,-1133.9017306834414,-35.37523651234406,18.52736035573416,-157.4898190534497,-1138.9252907240939,59.852516219444624,44.84765788229942,-439.6984821848789,-87.68478154241251],\"yaxis\":\"y\"}],                        {\"legend\":{\"x\":0.4,\"xanchor\":\"left\",\"y\":0.99,\"yanchor\":\"top\"},\"template\":{\"data\":{\"bar\":[{\"error_x\":{\"color\":\"#2a3f5f\"},\"error_y\":{\"color\":\"#2a3f5f\"},\"marker\":{\"line\":{\"color\":\"#E5ECF6\",\"width\":0.5},\"pattern\":{\"fillmode\":\"overlay\",\"size\":10,\"solidity\":0.2}},\"type\":\"bar\"}],\"barpolar\":[{\"marker\":{\"line\":{\"color\":\"#E5ECF6\",\"width\":0.5},\"pattern\":{\"fillmode\":\"overlay\",\"size\":10,\"solidity\":0.2}},\"type\":\"barpolar\"}],\"carpet\":[{\"aaxis\":{\"endlinecolor\":\"#2a3f5f\",\"gridcolor\":\"white\",\"linecolor\":\"white\",\"minorgridcolor\":\"white\",\"startlinecolor\":\"#2a3f5f\"},\"baxis\":{\"endlinecolor\":\"#2a3f5f\",\"gridcolor\":\"white\",\"linecolor\":\"white\",\"minorgridcolor\":\"white\",\"startlinecolor\":\"#2a3f5f\"},\"type\":\"carpet\"}],\"choropleth\":[{\"colorbar\":{\"outlinewidth\":0,\"ticks\":\"\"},\"type\":\"choropleth\"}],\"contour\":[{\"colorbar\":{\"outlinewidth\":0,\"ticks\":\"\"},\"colorscale\":[[0.0,\"#0d0887\"],[0.1111111111111111,\"#46039f\"],[0.2222222222222222,\"#7201a8\"],[0.3333333333333333,\"#9c179e\"],[0.4444444444444444,\"#bd3786\"],[0.5555555555555556,\"#d8576b\"],[0.6666666666666666,\"#ed7953\"],[0.7777777777777778,\"#fb9f3a\"],[0.8888888888888888,\"#fdca26\"],[1.0,\"#f0f921\"]],\"type\":\"contour\"}],\"contourcarpet\":[{\"colorbar\":{\"outlinewidth\":0,\"ticks\":\"\"},\"type\":\"contourcarpet\"}],\"heatmap\":[{\"colorbar\":{\"outlinewidth\":0,\"ticks\":\"\"},\"colorscale\":[[0.0,\"#0d0887\"],[0.1111111111111111,\"#46039f\"],[0.2222222222222222,\"#7201a8\"],[0.3333333333333333,\"#9c179e\"],[0.4444444444444444,\"#bd3786\"],[0.5555555555555556,\"#d8576b\"],[0.6666666666666666,\"#ed7953\"],[0.7777777777777778,\"#fb9f3a\"],[0.8888888888888888,\"#fdca26\"],[1.0,\"#f0f921\"]],\"type\":\"heatmap\"}],\"heatmapgl\":[{\"colorbar\":{\"outlinewidth\":0,\"ticks\":\"\"},\"colorscale\":[[0.0,\"#0d0887\"],[0.1111111111111111,\"#46039f\"],[0.2222222222222222,\"#7201a8\"],[0.3333333333333333,\"#9c179e\"],[0.4444444444444444,\"#bd3786\"],[0.5555555555555556,\"#d8576b\"],[0.6666666666666666,\"#ed7953\"],[0.7777777777777778,\"#fb9f3a\"],[0.8888888888888888,\"#fdca26\"],[1.0,\"#f0f921\"]],\"type\":\"heatmapgl\"}],\"histogram\":[{\"marker\":{\"pattern\":{\"fillmode\":\"overlay\",\"size\":10,\"solidity\":0.2}},\"type\":\"histogram\"}],\"histogram2d\":[{\"colorbar\":{\"outlinewidth\":0,\"ticks\":\"\"},\"colorscale\":[[0.0,\"#0d0887\"],[0.1111111111111111,\"#46039f\"],[0.2222222222222222,\"#7201a8\"],[0.3333333333333333,\"#9c179e\"],[0.4444444444444444,\"#bd3786\"],[0.5555555555555556,\"#d8576b\"],[0.6666666666666666,\"#ed7953\"],[0.7777777777777778,\"#fb9f3a\"],[0.8888888888888888,\"#fdca26\"],[1.0,\"#f0f921\"]],\"type\":\"histogram2d\"}],\"histogram2dcontour\":[{\"colorbar\":{\"outlinewidth\":0,\"ticks\":\"\"},\"colorscale\":[[0.0,\"#0d0887\"],[0.1111111111111111,\"#46039f\"],[0.2222222222222222,\"#7201a8\"],[0.3333333333333333,\"#9c179e\"],[0.4444444444444444,\"#bd3786\"],[0.5555555555555556,\"#d8576b\"],[0.6666666666666666,\"#ed7953\"],[0.7777777777777778,\"#fb9f3a\"],[0.8888888888888888,\"#fdca26\"],[1.0,\"#f0f921\"]],\"type\":\"histogram2dcontour\"}],\"mesh3d\":[{\"colorbar\":{\"outlinewidth\":0,\"ticks\":\"\"},\"type\":\"mesh3d\"}],\"parcoords\":[{\"line\":{\"colorbar\":{\"outlinewidth\":0,\"ticks\":\"\"}},\"type\":\"parcoords\"}],\"pie\":[{\"automargin\":true,\"type\":\"pie\"}],\"scatter\":[{\"marker\":{\"colorbar\":{\"outlinewidth\":0,\"ticks\":\"\"}},\"type\":\"scatter\"}],\"scatter3d\":[{\"line\":{\"colorbar\":{\"outlinewidth\":0,\"ticks\":\"\"}},\"marker\":{\"colorbar\":{\"outlinewidth\":0,\"ticks\":\"\"}},\"type\":\"scatter3d\"}],\"scattercarpet\":[{\"marker\":{\"colorbar\":{\"outlinewidth\":0,\"ticks\":\"\"}},\"type\":\"scattercarpet\"}],\"scattergeo\":[{\"marker\":{\"colorbar\":{\"outlinewidth\":0,\"ticks\":\"\"}},\"type\":\"scattergeo\"}],\"scattergl\":[{\"marker\":{\"colorbar\":{\"outlinewidth\":0,\"ticks\":\"\"}},\"type\":\"scattergl\"}],\"scattermapbox\":[{\"marker\":{\"colorbar\":{\"outlinewidth\":0,\"ticks\":\"\"}},\"type\":\"scattermapbox\"}],\"scatterpolar\":[{\"marker\":{\"colorbar\":{\"outlinewidth\":0,\"ticks\":\"\"}},\"type\":\"scatterpolar\"}],\"scatterpolargl\":[{\"marker\":{\"colorbar\":{\"outlinewidth\":0,\"ticks\":\"\"}},\"type\":\"scatterpolargl\"}],\"scatterternary\":[{\"marker\":{\"colorbar\":{\"outlinewidth\":0,\"ticks\":\"\"}},\"type\":\"scatterternary\"}],\"surface\":[{\"colorbar\":{\"outlinewidth\":0,\"ticks\":\"\"},\"colorscale\":[[0.0,\"#0d0887\"],[0.1111111111111111,\"#46039f\"],[0.2222222222222222,\"#7201a8\"],[0.3333333333333333,\"#9c179e\"],[0.4444444444444444,\"#bd3786\"],[0.5555555555555556,\"#d8576b\"],[0.6666666666666666,\"#ed7953\"],[0.7777777777777778,\"#fb9f3a\"],[0.8888888888888888,\"#fdca26\"],[1.0,\"#f0f921\"]],\"type\":\"surface\"}],\"table\":[{\"cells\":{\"fill\":{\"color\":\"#EBF0F8\"},\"line\":{\"color\":\"white\"}},\"header\":{\"fill\":{\"color\":\"#C8D4E3\"},\"line\":{\"color\":\"white\"}},\"type\":\"table\"}]},\"layout\":{\"annotationdefaults\":{\"arrowcolor\":\"#2a3f5f\",\"arrowhead\":0,\"arrowwidth\":1},\"autotypenumbers\":\"strict\",\"coloraxis\":{\"colorbar\":{\"outlinewidth\":0,\"ticks\":\"\"}},\"colorscale\":{\"diverging\":[[0,\"#8e0152\"],[0.1,\"#c51b7d\"],[0.2,\"#de77ae\"],[0.3,\"#f1b6da\"],[0.4,\"#fde0ef\"],[0.5,\"#f7f7f7\"],[0.6,\"#e6f5d0\"],[0.7,\"#b8e186\"],[0.8,\"#7fbc41\"],[0.9,\"#4d9221\"],[1,\"#276419\"]],\"sequential\":[[0.0,\"#0d0887\"],[0.1111111111111111,\"#46039f\"],[0.2222222222222222,\"#7201a8\"],[0.3333333333333333,\"#9c179e\"],[0.4444444444444444,\"#bd3786\"],[0.5555555555555556,\"#d8576b\"],[0.6666666666666666,\"#ed7953\"],[0.7777777777777778,\"#fb9f3a\"],[0.8888888888888888,\"#fdca26\"],[1.0,\"#f0f921\"]],\"sequentialminus\":[[0.0,\"#0d0887\"],[0.1111111111111111,\"#46039f\"],[0.2222222222222222,\"#7201a8\"],[0.3333333333333333,\"#9c179e\"],[0.4444444444444444,\"#bd3786\"],[0.5555555555555556,\"#d8576b\"],[0.6666666666666666,\"#ed7953\"],[0.7777777777777778,\"#fb9f3a\"],[0.8888888888888888,\"#fdca26\"],[1.0,\"#f0f921\"]]},\"colorway\":[\"#636efa\",\"#EF553B\",\"#00cc96\",\"#ab63fa\",\"#FFA15A\",\"#19d3f3\",\"#FF6692\",\"#B6E880\",\"#FF97FF\",\"#FECB52\"],\"font\":{\"color\":\"#2a3f5f\"},\"geo\":{\"bgcolor\":\"white\",\"lakecolor\":\"white\",\"landcolor\":\"#E5ECF6\",\"showlakes\":true,\"showland\":true,\"subunitcolor\":\"white\"},\"hoverlabel\":{\"align\":\"left\"},\"hovermode\":\"closest\",\"mapbox\":{\"style\":\"light\"},\"paper_bgcolor\":\"white\",\"plot_bgcolor\":\"#E5ECF6\",\"polar\":{\"angularaxis\":{\"gridcolor\":\"white\",\"linecolor\":\"white\",\"ticks\":\"\"},\"bgcolor\":\"#E5ECF6\",\"radialaxis\":{\"gridcolor\":\"white\",\"linecolor\":\"white\",\"ticks\":\"\"}},\"scene\":{\"xaxis\":{\"backgroundcolor\":\"#E5ECF6\",\"gridcolor\":\"white\",\"gridwidth\":2,\"linecolor\":\"white\",\"showbackground\":true,\"ticks\":\"\",\"zerolinecolor\":\"white\"},\"yaxis\":{\"backgroundcolor\":\"#E5ECF6\",\"gridcolor\":\"white\",\"gridwidth\":2,\"linecolor\":\"white\",\"showbackground\":true,\"ticks\":\"\",\"zerolinecolor\":\"white\"},\"zaxis\":{\"backgroundcolor\":\"#E5ECF6\",\"gridcolor\":\"white\",\"gridwidth\":2,\"linecolor\":\"white\",\"showbackground\":true,\"ticks\":\"\",\"zerolinecolor\":\"white\"}},\"shapedefaults\":{\"line\":{\"color\":\"#2a3f5f\"}},\"ternary\":{\"aaxis\":{\"gridcolor\":\"white\",\"linecolor\":\"white\",\"ticks\":\"\"},\"baxis\":{\"gridcolor\":\"white\",\"linecolor\":\"white\",\"ticks\":\"\"},\"bgcolor\":\"#E5ECF6\",\"caxis\":{\"gridcolor\":\"white\",\"linecolor\":\"white\",\"ticks\":\"\"}},\"title\":{\"x\":0.05},\"xaxis\":{\"automargin\":true,\"gridcolor\":\"white\",\"linecolor\":\"white\",\"ticks\":\"\",\"title\":{\"standoff\":15},\"zerolinecolor\":\"white\",\"zerolinewidth\":2},\"yaxis\":{\"automargin\":true,\"gridcolor\":\"white\",\"linecolor\":\"white\",\"ticks\":\"\",\"title\":{\"standoff\":15},\"zerolinecolor\":\"white\",\"zerolinewidth\":2}}},\"title\":{\"text\":\"Top 15 Countries with the Highest Average Energy Use Per Capita <br><sup>Data Aggregated Over the Years 1971-2014 </sup>\"},\"xaxis\":{\"anchor\":\"y\",\"domain\":[0.0,1.0],\"visible\":false},\"xaxis2\":{\"anchor\":\"y2\",\"domain\":[0.0,1.0],\"visible\":false},\"xaxis3\":{\"anchor\":\"y3\",\"domain\":[0.0,1.0],\"tickangle\":-45},\"yaxis\":{\"anchor\":\"x\",\"domain\":[0.68,1.0],\"range\":[3000,16986.082231004417]},\"yaxis2\":{\"anchor\":\"x2\",\"domain\":[0.34,0.66],\"range\":[-75,150]},\"yaxis3\":{\"anchor\":\"x3\",\"domain\":[0.0,0.32],\"range\":[-1252.8178197965033,-82.5]}},                        {\"responsive\": true}                    ).then(function(){\n",
       "                            \n",
       "var gd = document.getElementById('ab1b0463-398a-4d88-99f1-96a91f5d43ce');\n",
       "var x = new MutationObserver(function (mutations, observer) {{\n",
       "        var display = window.getComputedStyle(gd).display;\n",
       "        if (!display || display === 'none') {{\n",
       "            console.log([gd, 'removed!']);\n",
       "            Plotly.purge(gd);\n",
       "            observer.disconnect();\n",
       "        }}\n",
       "}});\n",
       "\n",
       "// Listen for the removal of the full notebook cells\n",
       "var notebookContainer = gd.closest('#notebook-container');\n",
       "if (notebookContainer) {{\n",
       "    x.observe(notebookContainer, {childList: true});\n",
       "}}\n",
       "\n",
       "// Listen for the clearing of the current output cell\n",
       "var outputEl = gd.closest('.output');\n",
       "if (outputEl) {{\n",
       "    x.observe(outputEl, {childList: true});\n",
       "}}\n",
       "\n",
       "                        })                };                });            </script>        </div>"
      ]
     },
     "metadata": {},
     "output_type": "display_data"
    }
   ],
   "source": [
    "AvgEGUsageImp = EG_USE_IMP.groupby(['Country_Name', 'Country_Code']).mean()\n",
    "sd = EG_USE_IMP.groupby(['Country_Name', 'Country_Code']).std()\n",
    "display(sd)\n",
    "AvgEGUsageImpTop15 = AvgEGUsageImp.reset_index().sort_values(by='EG.USE.PCAP.KG.OE', ascending=False)[0:14]\n",
    "AvgEGUsageImpTop15 = AvgEGUsageImpTop15.merge(sd, how='left', on = 'Country_Name', suffixes=[None, '_sd'])\n",
    "display(AvgEGUsageImpTop15)\n",
    "\n",
    "# Barplots (Code modified from https://stackoverflow.com/questions/65766960/plotly-python-how-to-make-a-gapped-y-axis)\n",
    "df= AvgEGUsageImpTop15.drop(columns = ['Country_Code'])\n",
    "df.set_index('Country_Name', inplace=True)\n",
    "\n",
    "# colors and cut-offs\n",
    "colors = px.colors.qualitative.Plotly\n",
    "cut_interval = [-75, 150, 3000]\n",
    "\n",
    "# subplot setup\n",
    "fig = make_subplots(rows=3, cols=1, vertical_spacing = 0.02)\n",
    "fig.update_layout(title = \"Top 15 Countries with the Highest Average Energy Use Per Capita <br><sup>Data Aggregated Over the Years 1971-2014 </sup>\",\n",
    "                )\n",
    "legendNames = ['Average Energy Use (kg of oil equivalent per capita)', 'Average Energy Imports, net (% of Energy Use)']\n",
    "# Traces for [3, 1]\n",
    "# marker_color=colors[i] ensures that categories follow the same color cycle\n",
    "for i, col in enumerate(df[['EG.USE.PCAP.KG.OE', 'EG.IMP.CONS.ZS']].columns):\n",
    "    fig.add_trace(go.Bar(x=df.index,\n",
    "                    y=df[col],\n",
    "                    name=legendNames[i],\n",
    "                    marker_color=colors[i],\n",
    "                    legendgroup = col\n",
    "                    ), row=3, col=1)\n",
    "fig.update_layout(legend=dict(\n",
    "    yanchor=\"top\",\n",
    "    y=0.99,\n",
    "    xanchor=\"left\",\n",
    "    x=0.4\n",
    "    ))\n",
    "\n",
    "# Traces for [2, 1]\n",
    "# Notice that showlegend = False.\n",
    "# Since legendgroup = col the interactivity is\n",
    "# taken care of in the previous for-loop.\n",
    "for i, col in enumerate(df[['EG.USE.PCAP.KG.OE', 'EG.IMP.CONS.ZS']].columns):\n",
    "    fig.add_trace(go.Bar(x=df.index,\n",
    "                    y=df[col],\n",
    "                    name=col,\n",
    "                    marker_color=colors[i],\n",
    "                    legendgroup = col,\n",
    "                    showlegend = False,\n",
    "                    ), row=2, col=1)\n",
    "\n",
    "# Traces for [1, 1]\n",
    "# Notice that showlegend = False.\n",
    "# Since legendgroup = col the interactivity is\n",
    "# taken care of in the previous for-loop.\n",
    "for i, col in enumerate(df[['EG.USE.PCAP.KG.OE', 'EG.IMP.CONS.ZS']].columns):\n",
    "    fig.add_trace(go.Bar(x=df.index,\n",
    "                    y=df[col],\n",
    "                    name=col,\n",
    "                    marker_color=colors[i],\n",
    "                    legendgroup = col,\n",
    "                    showlegend = False,\n",
    "                    ), row=1, col=1)\n",
    "    \n",
    "# Some aesthetical adjustments to layout\n",
    "fig.update_yaxes(range=[cut_interval[2], max(df.max()*1.1)], row=1, col=1)\n",
    "fig.update_xaxes(visible=False, row=1, col=1)\n",
    "fig.update_yaxes(range=[ cut_interval[0], cut_interval[1]], row=2, col=1)\n",
    "fig.update_xaxes(visible=False, row=2, col=1)\n",
    "fig.update_yaxes(range=[min(df.min()*1.1), cut_interval[0]*1.1], row=3, col=1)\n",
    "fig.update_xaxes(tickangle = -45, row=3, col=1)\n",
    "fig.show()\n",
    "\n",
    "# Save image\n",
    "fig.write_image(\"energyUsePerCapita_Top15_Barplot.png\", engine='kaleido', scale=1, width=800, height=600) "
   ]
  },
  {
   "cell_type": "markdown",
   "id": "a95b0879",
   "metadata": {},
   "source": [
    "#### Top 15 Countries with highest average energy imports per capita"
   ]
  },
  {
   "cell_type": "code",
   "execution_count": 11,
   "id": "63aecf71",
   "metadata": {},
   "outputs": [
    {
     "data": {
      "text/html": [
       "<div>\n",
       "<style scoped>\n",
       "    .dataframe tbody tr th:only-of-type {\n",
       "        vertical-align: middle;\n",
       "    }\n",
       "\n",
       "    .dataframe tbody tr th {\n",
       "        vertical-align: top;\n",
       "    }\n",
       "\n",
       "    .dataframe thead th {\n",
       "        text-align: right;\n",
       "    }\n",
       "</style>\n",
       "<table border=\"1\" class=\"dataframe\">\n",
       "  <thead>\n",
       "    <tr style=\"text-align: right;\">\n",
       "      <th></th>\n",
       "      <th>Country_Name</th>\n",
       "      <th>Country_Code</th>\n",
       "      <th>EG.IMP.CONS.ZS</th>\n",
       "    </tr>\n",
       "  </thead>\n",
       "  <tbody>\n",
       "    <tr>\n",
       "      <th>107</th>\n",
       "      <td>Malta</td>\n",
       "      <td>MLT</td>\n",
       "      <td>99.870138</td>\n",
       "    </tr>\n",
       "    <tr>\n",
       "      <th>152</th>\n",
       "      <td>Singapore</td>\n",
       "      <td>SGP</td>\n",
       "      <td>99.026234</td>\n",
       "    </tr>\n",
       "    <tr>\n",
       "      <th>101</th>\n",
       "      <td>Luxembourg</td>\n",
       "      <td>LUX</td>\n",
       "      <td>98.521952</td>\n",
       "    </tr>\n",
       "    <tr>\n",
       "      <th>44</th>\n",
       "      <td>Cyprus</td>\n",
       "      <td>CYP</td>\n",
       "      <td>98.208932</td>\n",
       "    </tr>\n",
       "    <tr>\n",
       "      <th>85</th>\n",
       "      <td>Jordan</td>\n",
       "      <td>JOR</td>\n",
       "      <td>97.102782</td>\n",
       "    </tr>\n",
       "    <tr>\n",
       "      <th>113</th>\n",
       "      <td>Moldova</td>\n",
       "      <td>MDA</td>\n",
       "      <td>96.247951</td>\n",
       "    </tr>\n",
       "    <tr>\n",
       "      <th>95</th>\n",
       "      <td>Lebanon</td>\n",
       "      <td>LBN</td>\n",
       "      <td>94.263078</td>\n",
       "    </tr>\n",
       "    <tr>\n",
       "      <th>15</th>\n",
       "      <td>Belarus</td>\n",
       "      <td>BLR</td>\n",
       "      <td>87.112083</td>\n",
       "    </tr>\n",
       "    <tr>\n",
       "      <th>83</th>\n",
       "      <td>Jamaica</td>\n",
       "      <td>JAM</td>\n",
       "      <td>86.697627</td>\n",
       "    </tr>\n",
       "    <tr>\n",
       "      <th>84</th>\n",
       "      <td>Japan</td>\n",
       "      <td>JPN</td>\n",
       "      <td>84.355189</td>\n",
       "    </tr>\n",
       "    <tr>\n",
       "      <th>81</th>\n",
       "      <td>Israel</td>\n",
       "      <td>ISR</td>\n",
       "      <td>83.332465</td>\n",
       "    </tr>\n",
       "    <tr>\n",
       "      <th>82</th>\n",
       "      <td>Italy</td>\n",
       "      <td>ITA</td>\n",
       "      <td>82.062473</td>\n",
       "    </tr>\n",
       "    <tr>\n",
       "      <th>139</th>\n",
       "      <td>Portugal</td>\n",
       "      <td>PRT</td>\n",
       "      <td>81.900245</td>\n",
       "    </tr>\n",
       "    <tr>\n",
       "      <th>117</th>\n",
       "      <td>Morocco</td>\n",
       "      <td>MAR</td>\n",
       "      <td>80.109635</td>\n",
       "    </tr>\n",
       "  </tbody>\n",
       "</table>\n",
       "</div>"
      ],
      "text/plain": [
       "    Country_Name Country_Code  EG.IMP.CONS.ZS\n",
       "107        Malta          MLT       99.870138\n",
       "152    Singapore          SGP       99.026234\n",
       "101   Luxembourg          LUX       98.521952\n",
       "44        Cyprus          CYP       98.208932\n",
       "85        Jordan          JOR       97.102782\n",
       "113      Moldova          MDA       96.247951\n",
       "95       Lebanon          LBN       94.263078\n",
       "15       Belarus          BLR       87.112083\n",
       "83       Jamaica          JAM       86.697627\n",
       "84         Japan          JPN       84.355189\n",
       "81        Israel          ISR       83.332465\n",
       "82         Italy          ITA       82.062473\n",
       "139     Portugal          PRT       81.900245\n",
       "117      Morocco          MAR       80.109635"
      ]
     },
     "metadata": {},
     "output_type": "display_data"
    }
   ],
   "source": [
    "AvgEGImport = EG_USE_IMP.drop(columns = ['EG.USE.PCAP.KG.OE']).groupby(['Country_Name', 'Country_Code']).mean()\n",
    "AvgEGImportTop15 = AvgEGImport.reset_index().sort_values(by='EG.IMP.CONS.ZS', ascending=False)[0:14]\n",
    "display(AvgEGImportTop15)"
   ]
  },
  {
   "cell_type": "markdown",
   "id": "be9f84bc",
   "metadata": {},
   "source": [
    "### Visualizations"
   ]
  },
  {
   "cell_type": "markdown",
   "id": "2a5fde96",
   "metadata": {},
   "source": [
    "#### Visualization for the yearly variation in Energy Usage Per Capita data for the top 10  countries with the highest average energy usage per capita"
   ]
  },
  {
   "cell_type": "code",
   "execution_count": 191,
   "id": "80229488",
   "metadata": {
    "scrolled": false
   },
   "outputs": [
    {
     "data": {
      "text/plain": [
       "Country_Name         0\n",
       "Country_Code         0\n",
       "Year                 0\n",
       "EG.USE.PCAP.KG.OE    3\n",
       "dtype: int64"
      ]
     },
     "metadata": {},
     "output_type": "display_data"
    },
    {
     "data": {
      "text/plain": [
       "Country_Name         0\n",
       "Country_Code         0\n",
       "Year                 0\n",
       "EG.USE.PCAP.KG.OE    0\n",
       "dtype: int64"
      ]
     },
     "metadata": {},
     "output_type": "display_data"
    },
    {
     "data": {
      "application/vnd.plotly.v1+json": {
       "config": {
        "plotlyServerURL": "https://plot.ly"
       },
       "data": [
        {
         "hovertemplate": "Country_Name=Australia<br>Year=%{x}<br>Energy Use (kg of oil equivalent per capita)=%{y}<extra></extra>",
         "legendgroup": "Australia",
         "line": {
          "color": "#2E91E5",
          "dash": "solid"
         },
         "marker": {
          "symbol": "circle"
         },
         "mode": "lines",
         "name": "Australia",
         "orientation": "v",
         "showlegend": true,
         "type": "scatter",
         "x": [
          "1971",
          "1972",
          "1973",
          "1974",
          "1975",
          "1976",
          "1977",
          "1978",
          "1979",
          "1980",
          "1981",
          "1982",
          "1983",
          "1984",
          "1985",
          "1986",
          "1987",
          "1988",
          "1989",
          "1990",
          "1991",
          "1992",
          "1993",
          "1994",
          "1995",
          "1996",
          "1997",
          "1998",
          "1999",
          "2000",
          "2001",
          "2002",
          "2003",
          "2004",
          "2005",
          "2006",
          "2007",
          "2008",
          "2009",
          "2010",
          "2011",
          "2012",
          "2013",
          "2014"
         ],
         "xaxis": "x",
         "y": [
          3989.6297441447,
          4035.20634438795,
          4264.27122571001,
          4294.16162646652,
          4345.87144605197,
          4405.70298581914,
          4671.19567361894,
          4629.61847053907,
          4683.85317624363,
          4737.4820310373,
          4694.67642526964,
          4817.4895243115,
          4555.14620339645,
          4651.71242923314,
          4602.9565300165,
          4623.73907506368,
          4772.3704646487,
          4702.84160607784,
          5001.10310210296,
          5061.5084587843,
          4927.78158990974,
          4959.21491854816,
          5147.53665025188,
          5089.788966676,
          5129.22366091191,
          5393.58063459123,
          5469.59998919911,
          5553.65346587569,
          5610.34471097961,
          5644.06495066047,
          5446.97321382579,
          5569.64099249926,
          5568.76494063954,
          5598.0881783042,
          5564.08716927844,
          5709.34466781654,
          5868.34709712113,
          5964.66577565273,
          5862.55194383105,
          5793.11602573559,
          5745.23218954465,
          5575.28709327857,
          5468.39136879598,
          5334.68167873774
         ],
         "yaxis": "y"
        },
        {
         "hovertemplate": "Country_Name=Bahrain<br>Year=%{x}<br>Energy Use (kg of oil equivalent per capita)=%{y}<extra></extra>",
         "legendgroup": "Bahrain",
         "line": {
          "color": "#E15F99",
          "dash": "solid"
         },
         "marker": {
          "symbol": "circle"
         },
         "mode": "lines",
         "name": "Bahrain",
         "orientation": "v",
         "showlegend": true,
         "type": "scatter",
         "x": [
          "1971",
          "1972",
          "1973",
          "1974",
          "1975",
          "1976",
          "1977",
          "1978",
          "1979",
          "1980",
          "1981",
          "1982",
          "1983",
          "1984",
          "1985",
          "1986",
          "1987",
          "1988",
          "1989",
          "1990",
          "1991",
          "1992",
          "1993",
          "1994",
          "1995",
          "1996",
          "1997",
          "1998",
          "1999",
          "2000",
          "2001",
          "2002",
          "2003",
          "2004",
          "2005",
          "2006",
          "2007",
          "2008",
          "2009",
          "2010",
          "2011",
          "2012",
          "2013",
          "2014"
         ],
         "xaxis": "x",
         "y": [
          6394.75105646109,
          5971.5776933114,
          8495.33455518585,
          9009.17001444972,
          8000.73534929091,
          9584.52630169236,
          8188.92432933446,
          7844.44210864753,
          8813.9519958927,
          7794.59956598693,
          8295.06308136427,
          9070.95423536026,
          8502.95244557335,
          8832.99241466188,
          9921.70050640396,
          10261.5357642141,
          9523.73931190852,
          10493.5876766452,
          10248.5652104323,
          10555.3559294009,
          10108.4133379891,
          10837.8303975285,
          11142.3821175207,
          11555.4940955985,
          11408.539679048,
          11109.805222747,
          12181.2827456142,
          12406.8115047002,
          11851.6196939705,
          11988.7934277245,
          11738.129166368,
          11548.6750822972,
          11566.5448409417,
          10894.9889497569,
          11675.5511118959,
          11604.1403430427,
          11233.8636811195,
          11318.2170107972,
          10339.1996287155,
          10207.835024628,
          9912.69589790894,
          9659.61173652363,
          10419.815836761,
          10596.5662055891
         ],
         "yaxis": "y"
        },
        {
         "hovertemplate": "Country_Name=Brunei Darussalam<br>Year=%{x}<br>Energy Use (kg of oil equivalent per capita)=%{y}<extra></extra>",
         "legendgroup": "Brunei Darussalam",
         "line": {
          "color": "#1CA71C",
          "dash": "solid"
         },
         "marker": {
          "symbol": "circle"
         },
         "mode": "lines",
         "name": "Brunei Darussalam",
         "orientation": "v",
         "showlegend": true,
         "type": "scatter",
         "x": [
          "1971",
          "1972",
          "1973",
          "1974",
          "1975",
          "1976",
          "1977",
          "1978",
          "1979",
          "1980",
          "1981",
          "1982",
          "1983",
          "1984",
          "1985",
          "1986",
          "1987",
          "1988",
          "1989",
          "1990",
          "1991",
          "1992",
          "1993",
          "1994",
          "1995",
          "1996",
          "1997",
          "1998",
          "1999",
          "2000",
          "2001",
          "2002",
          "2003",
          "2004",
          "2005",
          "2006",
          "2007",
          "2008",
          "2009",
          "2010",
          "2011",
          "2012",
          "2013",
          "2014"
         ],
         "xaxis": "x",
         "y": [
          1306.52603337461,
          1235.43991831849,
          2319.27199762988,
          3829.49525695013,
          4580.44977882266,
          5804.67138006695,
          6040.52267380965,
          5443.59026716188,
          5469.99402972345,
          6961.45038167939,
          6496.74793902823,
          6780.06832828636,
          6958.29737873279,
          7793.55199471986,
          7940.83496702905,
          6778.39656673177,
          6759.56896007409,
          5461.87680284773,
          6164.26333036396,
          6674.89196564546,
          7335.32050126217,
          7666.16281107606,
          7175.54067678675,
          6479.12952752097,
          7562.82142760979,
          7425.4612303854,
          7488.42487226008,
          7289.24123020038,
          7270.94483989038,
          7157.11086965657,
          6492.66697447631,
          6221.24881407936,
          7090.20789991367,
          6389.79617954896,
          6074.60176603344,
          8511.59719333877,
          8606.72005803177,
          9337.11632025892,
          7925.99673875104,
          8337.7522296042,
          9837.47240828374,
          9599.18495627787,
          7522.38547626937,
          8672.89849625895
         ],
         "yaxis": "y"
        },
        {
         "hovertemplate": "Country_Name=Canada<br>Year=%{x}<br>Energy Use (kg of oil equivalent per capita)=%{y}<extra></extra>",
         "legendgroup": "Canada",
         "line": {
          "color": "#FB0D0D",
          "dash": "solid"
         },
         "marker": {
          "symbol": "circle"
         },
         "mode": "lines",
         "name": "Canada",
         "orientation": "v",
         "showlegend": true,
         "type": "scatter",
         "x": [
          "1971",
          "1972",
          "1973",
          "1974",
          "1975",
          "1976",
          "1977",
          "1978",
          "1979",
          "1980",
          "1981",
          "1982",
          "1983",
          "1984",
          "1985",
          "1986",
          "1987",
          "1988",
          "1989",
          "1990",
          "1991",
          "1992",
          "1993",
          "1994",
          "1995",
          "1996",
          "1997",
          "1998",
          "1999",
          "2000",
          "2001",
          "2002",
          "2003",
          "2004",
          "2005",
          "2006",
          "2007",
          "2008",
          "2009",
          "2010",
          "2011",
          "2012",
          "2013",
          "2014"
         ],
         "xaxis": "x",
         "y": [
          6436.22625629541,
          6863.44433456086,
          7084.62368269079,
          7089.99999079269,
          7170.4125280454,
          7293.69860938733,
          7431.43988603482,
          7561.74493868787,
          7862.20639476556,
          7828.83798348216,
          7555.2449313384,
          7173.55516447822,
          7076.52331814175,
          7368.74044037789,
          7468.09634319419,
          7521.88689331202,
          7671.1995995251,
          7885.24440007589,
          7963.29790527702,
          7630.09230606557,
          7517.33030357287,
          7601.68517694524,
          7770.54644758451,
          7957.24563262571,
          7979.89844555264,
          8053.45485804934,
          8056.24362752186,
          7948.39727830446,
          8107.51515577335,
          8265.07992477285,
          8056.3494253004,
          7993.87938404109,
          8341.34314379952,
          8455.5470136727,
          8422.03430847519,
          8239.94637098436,
          8213.38954256017,
          8194.88077131979,
          7797.12113645126,
          7788.56078606815,
          7911.55458837168,
          7733.41165473909,
          7743.72574213676,
          7897.85561511436
         ],
         "yaxis": "y"
        },
        {
         "hovertemplate": "Country_Name=Finland<br>Year=%{x}<br>Energy Use (kg of oil equivalent per capita)=%{y}<extra></extra>",
         "legendgroup": "Finland",
         "line": {
          "color": "#DA16FF",
          "dash": "solid"
         },
         "marker": {
          "symbol": "circle"
         },
         "mode": "lines",
         "name": "Finland",
         "orientation": "v",
         "showlegend": true,
         "type": "scatter",
         "x": [
          "1971",
          "1972",
          "1973",
          "1974",
          "1975",
          "1976",
          "1977",
          "1978",
          "1979",
          "1980",
          "1981",
          "1982",
          "1983",
          "1984",
          "1985",
          "1986",
          "1987",
          "1988",
          "1989",
          "1990",
          "1991",
          "1992",
          "1993",
          "1994",
          "1995",
          "1996",
          "1997",
          "1998",
          "1999",
          "2000",
          "2001",
          "2002",
          "2003",
          "2004",
          "2005",
          "2006",
          "2007",
          "2008",
          "2009",
          "2010",
          "2011",
          "2012",
          "2013",
          "2014"
         ],
         "xaxis": "x",
         "y": [
          3939.2110879933,
          4188.16067653277,
          4507.55698411579,
          4383.8481175225,
          4181.81065661454,
          4459.85960914699,
          4516.24806759034,
          4664.52317587608,
          4963.53550808132,
          5146.64229888472,
          4934.58846774684,
          4805.4938819329,
          4823.85883071065,
          4910.52301782763,
          5269.89237090404,
          5482.57842271714,
          5960.6925861338,
          5590.43651436243,
          5753.63928280139,
          5691.57118588425,
          5742.78422893888,
          5380.99306781923,
          5617.21537795619,
          5972.55427268616,
          5661.9038762361,
          6070.21209376859,
          6276.95169202902,
          6319.32660107756,
          6283.95825823535,
          6262.19207918382,
          6410.62523419393,
          6728.58140544607,
          7077.0266490748,
          7134.85420908111,
          6562.02231144836,
          7111.856821567,
          6974.89676140919,
          6669.1733483595,
          6268.30054519017,
          6828.78375314542,
          6537.63729819133,
          6275.77096367897,
          6116.22729442255,
          6213.35776612777
         ],
         "yaxis": "y"
        },
        {
         "hovertemplate": "Country_Name=Iceland<br>Year=%{x}<br>Energy Use (kg of oil equivalent per capita)=%{y}<extra></extra>",
         "legendgroup": "Iceland",
         "line": {
          "color": "#222A2A",
          "dash": "solid"
         },
         "marker": {
          "symbol": "circle"
         },
         "mode": "lines",
         "name": "Iceland",
         "orientation": "v",
         "showlegend": true,
         "type": "scatter",
         "x": [
          "1971",
          "1972",
          "1973",
          "1974",
          "1975",
          "1976",
          "1977",
          "1978",
          "1979",
          "1980",
          "1981",
          "1982",
          "1983",
          "1984",
          "1985",
          "1986",
          "1987",
          "1988",
          "1989",
          "1990",
          "1991",
          "1992",
          "1993",
          "1994",
          "1995",
          "1996",
          "1997",
          "1998",
          "1999",
          "2000",
          "2001",
          "2002",
          "2003",
          "2004",
          "2005",
          "2006",
          "2007",
          "2008",
          "2009",
          "2010",
          "2011",
          "2012",
          "2013",
          "2014"
         ],
         "xaxis": "x",
         "y": [
          4378.31031839222,
          4403.96964669093,
          5268.96574461772,
          5132.19707354246,
          5071.63534101909,
          5085.58100238924,
          5602.87016623159,
          5710.71008378926,
          6515.05969388885,
          6560.99816777565,
          7178.86936361076,
          7076.20798768494,
          7254.2862809471,
          7531.26996254869,
          7334.90192829477,
          7605.56377991611,
          7857.45488267666,
          7882.47377272363,
          7983.03750810751,
          8907.79198354956,
          8054.3567225375,
          7755.39441577893,
          8249.53644895251,
          8293.41292604719,
          8255.76891441219,
          8847.78518198992,
          8584.10049865746,
          9036.65429652578,
          10038.3119247533,
          11091.5488700414,
          10589.466185677,
          10804.6417156193,
          10731.3286428273,
          10524.2507035888,
          10524.8774997135,
          12734.0066231706,
          14746.0313384644,
          16353.8312739829,
          16911.07978361,
          17023.1668244031,
          18157.598099143,
          17630.0714650968,
          18178.139014838,
          17916.1204205433
         ],
         "yaxis": "y"
        },
        {
         "hovertemplate": "Country_Name=Kuwait<br>Year=%{x}<br>Energy Use (kg of oil equivalent per capita)=%{y}<extra></extra>",
         "legendgroup": "Kuwait",
         "line": {
          "color": "#B68100",
          "dash": "solid"
         },
         "marker": {
          "symbol": "circle"
         },
         "mode": "lines",
         "name": "Kuwait",
         "orientation": "v",
         "showlegend": true,
         "type": "scatter",
         "x": [
          "1971",
          "1972",
          "1973",
          "1974",
          "1975",
          "1976",
          "1977",
          "1978",
          "1979",
          "1980",
          "1981",
          "1982",
          "1983",
          "1984",
          "1985",
          "1986",
          "1987",
          "1988",
          "1989",
          "1990",
          "1991",
          "1992",
          "1993",
          "1994",
          "1995",
          "1996",
          "1997",
          "1998",
          "1999",
          "2000",
          "2001",
          "2002",
          "2003",
          "2004",
          "2005",
          "2006",
          "2007",
          "2008",
          "2009",
          "2010",
          "2011",
          "2012",
          "2013",
          "2014"
         ],
         "xaxis": "x",
         "y": [
          7665.83525222284,
          7938.5856385239,
          7871.59673998138,
          7082.79812388162,
          6343.79505248477,
          6475.62498503499,
          6582.53617239655,
          6763.30303260535,
          8046.17086793454,
          7637.81745915773,
          7154.79311959559,
          7604.29838502132,
          7722.31519206075,
          7626.5690161305,
          8083.57681017105,
          8288.6723913416,
          8523.40328307157,
          9914.44578224439,
          11260.0968278649,
          4347.33958527215,
          1325.06570924882,
          8643.283954777195,
          8643.283954777195,
          8643.283954777195,
          9210.97921610654,
          8941.8929003023,
          8592.11042550915,
          9168.63385871278,
          9232.40122932382,
          9151.98058992051,
          9497.47417477427,
          9612.8570499361,
          10131.4468830408,
          10619.6333738999,
          11576.8374184432,
          10811.6276924127,
          10489.0104974948,
          10810.8064352167,
          11134.2582401319,
          10721.4851912708,
          10221.1957245678,
          11105.9810944168,
          9906.50020332454,
          9178.89052081327
         ],
         "yaxis": "y"
        },
        {
         "hovertemplate": "Country_Name=Luxembourg<br>Year=%{x}<br>Energy Use (kg of oil equivalent per capita)=%{y}<extra></extra>",
         "legendgroup": "Luxembourg",
         "line": {
          "color": "#750D86",
          "dash": "solid"
         },
         "marker": {
          "symbol": "circle"
         },
         "mode": "lines",
         "name": "Luxembourg",
         "orientation": "v",
         "showlegend": true,
         "type": "scatter",
         "x": [
          "1971",
          "1972",
          "1973",
          "1974",
          "1975",
          "1976",
          "1977",
          "1978",
          "1979",
          "1980",
          "1981",
          "1982",
          "1983",
          "1984",
          "1985",
          "1986",
          "1987",
          "1988",
          "1989",
          "1990",
          "1991",
          "1992",
          "1993",
          "1994",
          "1995",
          "1996",
          "1997",
          "1998",
          "1999",
          "2000",
          "2001",
          "2002",
          "2003",
          "2004",
          "2005",
          "2006",
          "2007",
          "2008",
          "2009",
          "2010",
          "2011",
          "2012",
          "2013",
          "2014"
         ],
         "xaxis": "x",
         "y": [
          11863.0895885474,
          12009.5701096365,
          12648.5604223142,
          13023.8895930151,
          10504.9811951525,
          10668.5674366772,
          10278.5575523442,
          11096.0036684373,
          10458.112860198,
          9774.65055608952,
          8526.03737422137,
          8057.80999931605,
          7576.20712101569,
          8112.67547910098,
          8346.92642062033,
          8163.54875052599,
          7942.94807821982,
          8158.43352523765,
          8699.93635640414,
          8874.10501505827,
          9353.42118863049,
          9262.08197870848,
          9266.94257500472,
          8823.25246633989,
          7705.40715815234,
          7711.17870722433,
          7409.85099535105,
          7066.88485990111,
          7266.97253034439,
          7676.83703873481,
          7982.8503482249,
          8204.72684484788,
          8549.50291167549,
          9387.43710365754,
          9428.81128562768,
          9170.532565161,
          8773.89670266025,
          8612.2337051059,
          7951.72394396755,
          8329.47827510637,
          8056.404300594,
          7722.19020390021,
          7312.15400471142,
          6861.10666721791
         ],
         "yaxis": "y"
        },
        {
         "hovertemplate": "Country_Name=Norway<br>Year=%{x}<br>Energy Use (kg of oil equivalent per capita)=%{y}<extra></extra>",
         "legendgroup": "Norway",
         "line": {
          "color": "#EB663B",
          "dash": "solid"
         },
         "marker": {
          "symbol": "circle"
         },
         "mode": "lines",
         "name": "Norway",
         "orientation": "v",
         "showlegend": true,
         "type": "scatter",
         "x": [
          "1971",
          "1972",
          "1973",
          "1974",
          "1975",
          "1976",
          "1977",
          "1978",
          "1979",
          "1980",
          "1981",
          "1982",
          "1983",
          "1984",
          "1985",
          "1986",
          "1987",
          "1988",
          "1989",
          "1990",
          "1991",
          "1992",
          "1993",
          "1994",
          "1995",
          "1996",
          "1997",
          "1998",
          "1999",
          "2000",
          "2001",
          "2002",
          "2003",
          "2004",
          "2005",
          "2006",
          "2007",
          "2008",
          "2009",
          "2010",
          "2011",
          "2012",
          "2013",
          "2014"
         ],
         "xaxis": "x",
         "y": [
          3414.31663890625,
          3503.42994820244,
          3608.10122274032,
          3580.5995496402,
          3651.6808145508,
          3962.23292116145,
          4060.10627707475,
          4360.47070580493,
          4467.1936298854,
          4491.90698107019,
          4414.96406324167,
          4262.39171067664,
          4427.79292477144,
          4672.13755033394,
          4815.31389644254,
          5024.07618839196,
          5048.49930915557,
          4817.15567308898,
          4984.19811583001,
          4966.8935768305,
          5105.10820483315,
          5159.64861896962,
          5459.62340830489,
          5315.24486967133,
          5391.41408116749,
          5202.04727507774,
          5475.18873901657,
          5684.78859356637,
          5913.30220916454,
          5826.07776899719,
          5954.04177146679,
          5501.11774400148,
          5933.21584146703,
          5769.32670718721,
          5802.71629019242,
          5833.77393455929,
          5862.21726072608,
          6752.7089818993,
          6484.11858531629,
          6934.5901990734,
          5649.69772392495,
          5906.14104846139,
          6415.99071427151,
          5595.65462490306
         ],
         "yaxis": "y"
        },
        {
         "hovertemplate": "Country_Name=Qatar<br>Year=%{x}<br>Energy Use (kg of oil equivalent per capita)=%{y}<extra></extra>",
         "legendgroup": "Qatar",
         "line": {
          "color": "#511CFB",
          "dash": "solid"
         },
         "marker": {
          "symbol": "circle"
         },
         "mode": "lines",
         "name": "Qatar",
         "orientation": "v",
         "showlegend": true,
         "type": "scatter",
         "x": [
          "1971",
          "1972",
          "1973",
          "1974",
          "1975",
          "1976",
          "1977",
          "1978",
          "1979",
          "1980",
          "1981",
          "1982",
          "1983",
          "1984",
          "1985",
          "1986",
          "1987",
          "1988",
          "1989",
          "1990",
          "1991",
          "1992",
          "1993",
          "1994",
          "1995",
          "1996",
          "1997",
          "1998",
          "1999",
          "2000",
          "2001",
          "2002",
          "2003",
          "2004",
          "2005",
          "2006",
          "2007",
          "2008",
          "2009",
          "2010",
          "2011",
          "2012",
          "2013",
          "2014"
         ],
         "xaxis": "x",
         "y": [
          7754.03850502039,
          7802.72786483276,
          10075.692251426,
          8013.00578034682,
          12421.2057402291,
          8796.95595109259,
          9520.368145942,
          8448.73845384403,
          13727.1655001657,
          14809.7324950139,
          16720.312600813,
          17349.1409628863,
          16057.1938480241,
          16483.6816381068,
          15225.3387833458,
          15080.9299565796,
          14654.0859496771,
          14582.1045916355,
          14355.969832441,
          13703.1756863157,
          14818.4563992498,
          15242.9537164692,
          15624.7081134006,
          15511.060184126,
          15871.0869865828,
          16547.8794559557,
          19006.441007248,
          19348.547589953,
          19839.0109485597,
          18431.9261663519,
          19621.8405139404,
          21300.0739617271,
          20727.8667509545,
          22120.4303016465,
          19256.5154088813,
          19155.8525242886,
          18167.4919015365,
          15832.0338003856,
          14643.2833981089,
          14890.4256734663,
          15370.6935931807,
          17344.3475140683,
          17266.0950047056,
          17922.7037876514
         ],
         "yaxis": "y"
        },
        {
         "hovertemplate": "Country_Name=Sweden<br>Year=%{x}<br>Energy Use (kg of oil equivalent per capita)=%{y}<extra></extra>",
         "legendgroup": "Sweden",
         "line": {
          "color": "#00A08B",
          "dash": "solid"
         },
         "marker": {
          "symbol": "circle"
         },
         "mode": "lines",
         "name": "Sweden",
         "orientation": "v",
         "showlegend": true,
         "type": "scatter",
         "x": [
          "1971",
          "1972",
          "1973",
          "1974",
          "1975",
          "1976",
          "1977",
          "1978",
          "1979",
          "1980",
          "1981",
          "1982",
          "1983",
          "1984",
          "1985",
          "1986",
          "1987",
          "1988",
          "1989",
          "1990",
          "1991",
          "1992",
          "1993",
          "1994",
          "1995",
          "1996",
          "1997",
          "1998",
          "1999",
          "2000",
          "2001",
          "2002",
          "2003",
          "2004",
          "2005",
          "2006",
          "2007",
          "2008",
          "2009",
          "2010",
          "2011",
          "2012",
          "2013",
          "2014"
         ],
         "xaxis": "x",
         "y": [
          4450.3825107732,
          4527.21372025165,
          4773.81140251259,
          4510.44301102151,
          4764.49901293107,
          5151.25136732047,
          5054.83376436399,
          5016.74041963609,
          5229.61827068762,
          4871.53323897113,
          5097.15446289726,
          4877.7998965318,
          4941.26701142858,
          5216.25781718097,
          5656.19289934621,
          5878.80146655326,
          5763.07044079619,
          5854.49966212248,
          5594.55297349665,
          5514.55753031809,
          5650.54137715952,
          5369.37035673582,
          5334.16649834761,
          5660.27142343844,
          5702.16504271753,
          5825.09791315415,
          5672.00817719794,
          5769.69506406865,
          5661.49145946307,
          5360.14514699943,
          5680.28048687269,
          5802.110105168,
          5650.43804975291,
          5847.3441632658,
          5711.12728266633,
          5529.07795326361,
          5472.13539172977,
          5379.9591025113,
          4883.20048954053,
          5427.92504600599,
          5274.6436131771,
          5269.48599771372,
          5146.53358997598,
          4966.43592120964
         ],
         "yaxis": "y"
        },
        {
         "hovertemplate": "Country_Name=Trinidad and Tobago<br>Year=%{x}<br>Energy Use (kg of oil equivalent per capita)=%{y}<extra></extra>",
         "legendgroup": "Trinidad and Tobago",
         "line": {
          "color": "#FB00D1",
          "dash": "solid"
         },
         "marker": {
          "symbol": "circle"
         },
         "mode": "lines",
         "name": "Trinidad and Tobago",
         "orientation": "v",
         "showlegend": true,
         "type": "scatter",
         "x": [
          "1971",
          "1972",
          "1973",
          "1974",
          "1975",
          "1976",
          "1977",
          "1978",
          "1979",
          "1980",
          "1981",
          "1982",
          "1983",
          "1984",
          "1985",
          "1986",
          "1987",
          "1988",
          "1989",
          "1990",
          "1991",
          "1992",
          "1993",
          "1994",
          "1995",
          "1996",
          "1997",
          "1998",
          "1999",
          "2000",
          "2001",
          "2002",
          "2003",
          "2004",
          "2005",
          "2006",
          "2007",
          "2008",
          "2009",
          "2010",
          "2011",
          "2012",
          "2013",
          "2014"
         ],
         "xaxis": "x",
         "y": [
          2759.59165181799,
          2774.61844203707,
          2687.12309293426,
          2684.06559495985,
          2296.2596964787,
          2514.56632692878,
          2809.99509242598,
          3329.94513838794,
          3400.4925868671,
          3528.88103449388,
          3688.20299405708,
          3650.11218559685,
          3723.280884936,
          4144.63376224912,
          4350.03793911968,
          4496.48465161714,
          4191.13845422308,
          4561.28970643192,
          4397.12728118213,
          4903.13244960983,
          4841.41670219379,
          5289.71079943559,
          5034.23997169519,
          5039.53576033171,
          4903.03380641046,
          5783.01725502108,
          5441.53454650519,
          6308.99445905878,
          7353.47531938158,
          7764.80536380991,
          8640.87660925727,
          9361.39632480172,
          10417.6519441181,
          10880.1781236556,
          12430.5763916153,
          13805.1087403804,
          14617.0530016432,
          14127.1019263585,
          14210.6469652614,
          15108.6870098423,
          14775.9545869568,
          14312.4246178282,
          14478.8492052939,
          14363.5686324309
         ],
         "yaxis": "y"
        },
        {
         "hovertemplate": "Country_Name=United Arab Emirates<br>Year=%{x}<br>Energy Use (kg of oil equivalent per capita)=%{y}<extra></extra>",
         "legendgroup": "United Arab Emirates",
         "line": {
          "color": "#FC0080",
          "dash": "solid"
         },
         "marker": {
          "symbol": "circle"
         },
         "mode": "lines",
         "name": "United Arab Emirates",
         "orientation": "v",
         "showlegend": true,
         "type": "scatter",
         "x": [
          "1971",
          "1972",
          "1973",
          "1974",
          "1975",
          "1976",
          "1977",
          "1978",
          "1979",
          "1980",
          "1981",
          "1982",
          "1983",
          "1984",
          "1985",
          "1986",
          "1987",
          "1988",
          "1989",
          "1990",
          "1991",
          "1992",
          "1993",
          "1994",
          "1995",
          "1996",
          "1997",
          "1998",
          "1999",
          "2000",
          "2001",
          "2002",
          "2003",
          "2004",
          "2005",
          "2006",
          "2007",
          "2008",
          "2009",
          "2010",
          "2011",
          "2012",
          "2013",
          "2014"
         ],
         "xaxis": "x",
         "y": [
          3647.18899456865,
          3175.85990186362,
          3306.76971808679,
          2869.13662647046,
          3533.48288786146,
          3857.59006530538,
          5585.61604249422,
          5709.53012454847,
          5977.18598940491,
          7093.70509471735,
          8089.56120816851,
          8299.03864644716,
          7582.08712230058,
          9333.64529316754,
          10040.8076623248,
          10774.6224037014,
          11281.1846685351,
          10905.9670523912,
          11871.7546051518,
          11170.2328272727,
          12124.9117909268,
          10890.4623331378,
          10820.1137987286,
          11355.4642502082,
          11463.1826687022,
          11511.8050695497,
          11558.5557324525,
          11223.9598551692,
          10870.4655281523,
          10057.9189915212,
          12172.4129369653,
          11462.5021092231,
          10568.8303473313,
          10286.8029780437,
          9698.29424121152,
          8716.29298068063,
          8127.93446294493,
          8367.15271036574,
          7572.35826350373,
          7215.21045969835,
          7190.96953115412,
          7481.19223794352,
          7604.84134000905,
          7648.39407339686
         ],
         "yaxis": "y"
        },
        {
         "hovertemplate": "Country_Name=United States<br>Year=%{x}<br>Energy Use (kg of oil equivalent per capita)=%{y}<extra></extra>",
         "legendgroup": "United States",
         "line": {
          "color": "#B2828D",
          "dash": "solid"
         },
         "marker": {
          "symbol": "circle"
         },
         "mode": "lines",
         "name": "United States",
         "orientation": "v",
         "showlegend": true,
         "type": "scatter",
         "x": [
          "1971",
          "1972",
          "1973",
          "1974",
          "1975",
          "1976",
          "1977",
          "1978",
          "1979",
          "1980",
          "1981",
          "1982",
          "1983",
          "1984",
          "1985",
          "1986",
          "1987",
          "1988",
          "1989",
          "1990",
          "1991",
          "1992",
          "1993",
          "1994",
          "1995",
          "1996",
          "1997",
          "1998",
          "1999",
          "2000",
          "2001",
          "2002",
          "2003",
          "2004",
          "2005",
          "2006",
          "2007",
          "2008",
          "2009",
          "2010",
          "2011",
          "2012",
          "2013",
          "2014"
         ],
         "xaxis": "x",
         "y": [
          7644.52480244244,
          7940.99783225979,
          8163.60379219382,
          7909.58647956082,
          7656.2635792437,
          8100.56222166166,
          8285.57089797901,
          8438.40307747602,
          8327.04170536091,
          7942.25301793377,
          7647.53805356785,
          7259.07889874991,
          7199.11853271284,
          7443.32001696173,
          7456.26290328004,
          7376.09623833459,
          7622.17301652159,
          7849.75397036389,
          7890.28720236287,
          7671.7730657832,
          7631.46780588265,
          7677.40140109312,
          7709.49658932206,
          7757.83082249569,
          7763.75510556636,
          7844.46826581141,
          7828.58109639584,
          7803.69760452993,
          7923.22389263188,
          8056.86384994775,
          7827.88632537183,
          7843.34484914192,
          7794.23553026383,
          7881.57864206405,
          7846.49968849973,
          7697.65253500041,
          7758.16598577052,
          7488.08192070473,
          7056.78365282718,
          7161.42655156518,
          7029.95460147645,
          6872.02728367462,
          6905.59863316056,
          6960.68399657951
         ],
         "yaxis": "y"
        }
       ],
       "layout": {
        "legend": {
         "title": {
          "text": "Country_Name"
         },
         "tracegroupgap": 0
        },
        "template": {
         "data": {
          "bar": [
           {
            "error_x": {
             "color": "#2a3f5f"
            },
            "error_y": {
             "color": "#2a3f5f"
            },
            "marker": {
             "line": {
              "color": "#E5ECF6",
              "width": 0.5
             },
             "pattern": {
              "fillmode": "overlay",
              "size": 10,
              "solidity": 0.2
             }
            },
            "type": "bar"
           }
          ],
          "barpolar": [
           {
            "marker": {
             "line": {
              "color": "#E5ECF6",
              "width": 0.5
             },
             "pattern": {
              "fillmode": "overlay",
              "size": 10,
              "solidity": 0.2
             }
            },
            "type": "barpolar"
           }
          ],
          "carpet": [
           {
            "aaxis": {
             "endlinecolor": "#2a3f5f",
             "gridcolor": "white",
             "linecolor": "white",
             "minorgridcolor": "white",
             "startlinecolor": "#2a3f5f"
            },
            "baxis": {
             "endlinecolor": "#2a3f5f",
             "gridcolor": "white",
             "linecolor": "white",
             "minorgridcolor": "white",
             "startlinecolor": "#2a3f5f"
            },
            "type": "carpet"
           }
          ],
          "choropleth": [
           {
            "colorbar": {
             "outlinewidth": 0,
             "ticks": ""
            },
            "type": "choropleth"
           }
          ],
          "contour": [
           {
            "colorbar": {
             "outlinewidth": 0,
             "ticks": ""
            },
            "colorscale": [
             [
              0,
              "#0d0887"
             ],
             [
              0.1111111111111111,
              "#46039f"
             ],
             [
              0.2222222222222222,
              "#7201a8"
             ],
             [
              0.3333333333333333,
              "#9c179e"
             ],
             [
              0.4444444444444444,
              "#bd3786"
             ],
             [
              0.5555555555555556,
              "#d8576b"
             ],
             [
              0.6666666666666666,
              "#ed7953"
             ],
             [
              0.7777777777777778,
              "#fb9f3a"
             ],
             [
              0.8888888888888888,
              "#fdca26"
             ],
             [
              1,
              "#f0f921"
             ]
            ],
            "type": "contour"
           }
          ],
          "contourcarpet": [
           {
            "colorbar": {
             "outlinewidth": 0,
             "ticks": ""
            },
            "type": "contourcarpet"
           }
          ],
          "heatmap": [
           {
            "colorbar": {
             "outlinewidth": 0,
             "ticks": ""
            },
            "colorscale": [
             [
              0,
              "#0d0887"
             ],
             [
              0.1111111111111111,
              "#46039f"
             ],
             [
              0.2222222222222222,
              "#7201a8"
             ],
             [
              0.3333333333333333,
              "#9c179e"
             ],
             [
              0.4444444444444444,
              "#bd3786"
             ],
             [
              0.5555555555555556,
              "#d8576b"
             ],
             [
              0.6666666666666666,
              "#ed7953"
             ],
             [
              0.7777777777777778,
              "#fb9f3a"
             ],
             [
              0.8888888888888888,
              "#fdca26"
             ],
             [
              1,
              "#f0f921"
             ]
            ],
            "type": "heatmap"
           }
          ],
          "heatmapgl": [
           {
            "colorbar": {
             "outlinewidth": 0,
             "ticks": ""
            },
            "colorscale": [
             [
              0,
              "#0d0887"
             ],
             [
              0.1111111111111111,
              "#46039f"
             ],
             [
              0.2222222222222222,
              "#7201a8"
             ],
             [
              0.3333333333333333,
              "#9c179e"
             ],
             [
              0.4444444444444444,
              "#bd3786"
             ],
             [
              0.5555555555555556,
              "#d8576b"
             ],
             [
              0.6666666666666666,
              "#ed7953"
             ],
             [
              0.7777777777777778,
              "#fb9f3a"
             ],
             [
              0.8888888888888888,
              "#fdca26"
             ],
             [
              1,
              "#f0f921"
             ]
            ],
            "type": "heatmapgl"
           }
          ],
          "histogram": [
           {
            "marker": {
             "pattern": {
              "fillmode": "overlay",
              "size": 10,
              "solidity": 0.2
             }
            },
            "type": "histogram"
           }
          ],
          "histogram2d": [
           {
            "colorbar": {
             "outlinewidth": 0,
             "ticks": ""
            },
            "colorscale": [
             [
              0,
              "#0d0887"
             ],
             [
              0.1111111111111111,
              "#46039f"
             ],
             [
              0.2222222222222222,
              "#7201a8"
             ],
             [
              0.3333333333333333,
              "#9c179e"
             ],
             [
              0.4444444444444444,
              "#bd3786"
             ],
             [
              0.5555555555555556,
              "#d8576b"
             ],
             [
              0.6666666666666666,
              "#ed7953"
             ],
             [
              0.7777777777777778,
              "#fb9f3a"
             ],
             [
              0.8888888888888888,
              "#fdca26"
             ],
             [
              1,
              "#f0f921"
             ]
            ],
            "type": "histogram2d"
           }
          ],
          "histogram2dcontour": [
           {
            "colorbar": {
             "outlinewidth": 0,
             "ticks": ""
            },
            "colorscale": [
             [
              0,
              "#0d0887"
             ],
             [
              0.1111111111111111,
              "#46039f"
             ],
             [
              0.2222222222222222,
              "#7201a8"
             ],
             [
              0.3333333333333333,
              "#9c179e"
             ],
             [
              0.4444444444444444,
              "#bd3786"
             ],
             [
              0.5555555555555556,
              "#d8576b"
             ],
             [
              0.6666666666666666,
              "#ed7953"
             ],
             [
              0.7777777777777778,
              "#fb9f3a"
             ],
             [
              0.8888888888888888,
              "#fdca26"
             ],
             [
              1,
              "#f0f921"
             ]
            ],
            "type": "histogram2dcontour"
           }
          ],
          "mesh3d": [
           {
            "colorbar": {
             "outlinewidth": 0,
             "ticks": ""
            },
            "type": "mesh3d"
           }
          ],
          "parcoords": [
           {
            "line": {
             "colorbar": {
              "outlinewidth": 0,
              "ticks": ""
             }
            },
            "type": "parcoords"
           }
          ],
          "pie": [
           {
            "automargin": true,
            "type": "pie"
           }
          ],
          "scatter": [
           {
            "marker": {
             "colorbar": {
              "outlinewidth": 0,
              "ticks": ""
             }
            },
            "type": "scatter"
           }
          ],
          "scatter3d": [
           {
            "line": {
             "colorbar": {
              "outlinewidth": 0,
              "ticks": ""
             }
            },
            "marker": {
             "colorbar": {
              "outlinewidth": 0,
              "ticks": ""
             }
            },
            "type": "scatter3d"
           }
          ],
          "scattercarpet": [
           {
            "marker": {
             "colorbar": {
              "outlinewidth": 0,
              "ticks": ""
             }
            },
            "type": "scattercarpet"
           }
          ],
          "scattergeo": [
           {
            "marker": {
             "colorbar": {
              "outlinewidth": 0,
              "ticks": ""
             }
            },
            "type": "scattergeo"
           }
          ],
          "scattergl": [
           {
            "marker": {
             "colorbar": {
              "outlinewidth": 0,
              "ticks": ""
             }
            },
            "type": "scattergl"
           }
          ],
          "scattermapbox": [
           {
            "marker": {
             "colorbar": {
              "outlinewidth": 0,
              "ticks": ""
             }
            },
            "type": "scattermapbox"
           }
          ],
          "scatterpolar": [
           {
            "marker": {
             "colorbar": {
              "outlinewidth": 0,
              "ticks": ""
             }
            },
            "type": "scatterpolar"
           }
          ],
          "scatterpolargl": [
           {
            "marker": {
             "colorbar": {
              "outlinewidth": 0,
              "ticks": ""
             }
            },
            "type": "scatterpolargl"
           }
          ],
          "scatterternary": [
           {
            "marker": {
             "colorbar": {
              "outlinewidth": 0,
              "ticks": ""
             }
            },
            "type": "scatterternary"
           }
          ],
          "surface": [
           {
            "colorbar": {
             "outlinewidth": 0,
             "ticks": ""
            },
            "colorscale": [
             [
              0,
              "#0d0887"
             ],
             [
              0.1111111111111111,
              "#46039f"
             ],
             [
              0.2222222222222222,
              "#7201a8"
             ],
             [
              0.3333333333333333,
              "#9c179e"
             ],
             [
              0.4444444444444444,
              "#bd3786"
             ],
             [
              0.5555555555555556,
              "#d8576b"
             ],
             [
              0.6666666666666666,
              "#ed7953"
             ],
             [
              0.7777777777777778,
              "#fb9f3a"
             ],
             [
              0.8888888888888888,
              "#fdca26"
             ],
             [
              1,
              "#f0f921"
             ]
            ],
            "type": "surface"
           }
          ],
          "table": [
           {
            "cells": {
             "fill": {
              "color": "#EBF0F8"
             },
             "line": {
              "color": "white"
             }
            },
            "header": {
             "fill": {
              "color": "#C8D4E3"
             },
             "line": {
              "color": "white"
             }
            },
            "type": "table"
           }
          ]
         },
         "layout": {
          "annotationdefaults": {
           "arrowcolor": "#2a3f5f",
           "arrowhead": 0,
           "arrowwidth": 1
          },
          "autotypenumbers": "strict",
          "coloraxis": {
           "colorbar": {
            "outlinewidth": 0,
            "ticks": ""
           }
          },
          "colorscale": {
           "diverging": [
            [
             0,
             "#8e0152"
            ],
            [
             0.1,
             "#c51b7d"
            ],
            [
             0.2,
             "#de77ae"
            ],
            [
             0.3,
             "#f1b6da"
            ],
            [
             0.4,
             "#fde0ef"
            ],
            [
             0.5,
             "#f7f7f7"
            ],
            [
             0.6,
             "#e6f5d0"
            ],
            [
             0.7,
             "#b8e186"
            ],
            [
             0.8,
             "#7fbc41"
            ],
            [
             0.9,
             "#4d9221"
            ],
            [
             1,
             "#276419"
            ]
           ],
           "sequential": [
            [
             0,
             "#0d0887"
            ],
            [
             0.1111111111111111,
             "#46039f"
            ],
            [
             0.2222222222222222,
             "#7201a8"
            ],
            [
             0.3333333333333333,
             "#9c179e"
            ],
            [
             0.4444444444444444,
             "#bd3786"
            ],
            [
             0.5555555555555556,
             "#d8576b"
            ],
            [
             0.6666666666666666,
             "#ed7953"
            ],
            [
             0.7777777777777778,
             "#fb9f3a"
            ],
            [
             0.8888888888888888,
             "#fdca26"
            ],
            [
             1,
             "#f0f921"
            ]
           ],
           "sequentialminus": [
            [
             0,
             "#0d0887"
            ],
            [
             0.1111111111111111,
             "#46039f"
            ],
            [
             0.2222222222222222,
             "#7201a8"
            ],
            [
             0.3333333333333333,
             "#9c179e"
            ],
            [
             0.4444444444444444,
             "#bd3786"
            ],
            [
             0.5555555555555556,
             "#d8576b"
            ],
            [
             0.6666666666666666,
             "#ed7953"
            ],
            [
             0.7777777777777778,
             "#fb9f3a"
            ],
            [
             0.8888888888888888,
             "#fdca26"
            ],
            [
             1,
             "#f0f921"
            ]
           ]
          },
          "colorway": [
           "#636efa",
           "#EF553B",
           "#00cc96",
           "#ab63fa",
           "#FFA15A",
           "#19d3f3",
           "#FF6692",
           "#B6E880",
           "#FF97FF",
           "#FECB52"
          ],
          "font": {
           "color": "#2a3f5f"
          },
          "geo": {
           "bgcolor": "white",
           "lakecolor": "white",
           "landcolor": "#E5ECF6",
           "showlakes": true,
           "showland": true,
           "subunitcolor": "white"
          },
          "hoverlabel": {
           "align": "left"
          },
          "hovermode": "closest",
          "mapbox": {
           "style": "light"
          },
          "paper_bgcolor": "white",
          "plot_bgcolor": "#E5ECF6",
          "polar": {
           "angularaxis": {
            "gridcolor": "white",
            "linecolor": "white",
            "ticks": ""
           },
           "bgcolor": "#E5ECF6",
           "radialaxis": {
            "gridcolor": "white",
            "linecolor": "white",
            "ticks": ""
           }
          },
          "scene": {
           "xaxis": {
            "backgroundcolor": "#E5ECF6",
            "gridcolor": "white",
            "gridwidth": 2,
            "linecolor": "white",
            "showbackground": true,
            "ticks": "",
            "zerolinecolor": "white"
           },
           "yaxis": {
            "backgroundcolor": "#E5ECF6",
            "gridcolor": "white",
            "gridwidth": 2,
            "linecolor": "white",
            "showbackground": true,
            "ticks": "",
            "zerolinecolor": "white"
           },
           "zaxis": {
            "backgroundcolor": "#E5ECF6",
            "gridcolor": "white",
            "gridwidth": 2,
            "linecolor": "white",
            "showbackground": true,
            "ticks": "",
            "zerolinecolor": "white"
           }
          },
          "shapedefaults": {
           "line": {
            "color": "#2a3f5f"
           }
          },
          "ternary": {
           "aaxis": {
            "gridcolor": "white",
            "linecolor": "white",
            "ticks": ""
           },
           "baxis": {
            "gridcolor": "white",
            "linecolor": "white",
            "ticks": ""
           },
           "bgcolor": "#E5ECF6",
           "caxis": {
            "gridcolor": "white",
            "linecolor": "white",
            "ticks": ""
           }
          },
          "title": {
           "x": 0.05
          },
          "xaxis": {
           "automargin": true,
           "gridcolor": "white",
           "linecolor": "white",
           "ticks": "",
           "title": {
            "standoff": 15
           },
           "zerolinecolor": "white",
           "zerolinewidth": 2
          },
          "yaxis": {
           "automargin": true,
           "gridcolor": "white",
           "linecolor": "white",
           "ticks": "",
           "title": {
            "standoff": 15
           },
           "zerolinecolor": "white",
           "zerolinewidth": 2
          }
         }
        },
        "title": {
         "text": "Top 15 Countries with the Highest Average Energy Use Per Capita"
        },
        "xaxis": {
         "anchor": "y",
         "domain": [
          0,
          1
         ],
         "title": {
          "text": "Year"
         }
        },
        "yaxis": {
         "anchor": "x",
         "domain": [
          0,
          1
         ],
         "title": {
          "text": "Energy Use (kg of oil equivalent per capita)"
         }
        }
       }
      },
      "text/html": [
       "<div>                            <div id=\"34ffb401-3128-423e-9ee0-10389065fdb7\" class=\"plotly-graph-div\" style=\"height:525px; width:100%;\"></div>            <script type=\"text/javascript\">                require([\"plotly\"], function(Plotly) {                    window.PLOTLYENV=window.PLOTLYENV || {};                                    if (document.getElementById(\"34ffb401-3128-423e-9ee0-10389065fdb7\")) {                    Plotly.newPlot(                        \"34ffb401-3128-423e-9ee0-10389065fdb7\",                        [{\"hovertemplate\":\"Country_Name=Australia<br>Year=%{x}<br>Energy Use (kg of oil equivalent per capita)=%{y}<extra></extra>\",\"legendgroup\":\"Australia\",\"line\":{\"color\":\"#2E91E5\",\"dash\":\"solid\"},\"marker\":{\"symbol\":\"circle\"},\"mode\":\"lines\",\"name\":\"Australia\",\"orientation\":\"v\",\"showlegend\":true,\"type\":\"scatter\",\"x\":[\"1971\",\"1972\",\"1973\",\"1974\",\"1975\",\"1976\",\"1977\",\"1978\",\"1979\",\"1980\",\"1981\",\"1982\",\"1983\",\"1984\",\"1985\",\"1986\",\"1987\",\"1988\",\"1989\",\"1990\",\"1991\",\"1992\",\"1993\",\"1994\",\"1995\",\"1996\",\"1997\",\"1998\",\"1999\",\"2000\",\"2001\",\"2002\",\"2003\",\"2004\",\"2005\",\"2006\",\"2007\",\"2008\",\"2009\",\"2010\",\"2011\",\"2012\",\"2013\",\"2014\"],\"xaxis\":\"x\",\"y\":[3989.6297441447,4035.20634438795,4264.27122571001,4294.16162646652,4345.87144605197,4405.70298581914,4671.19567361894,4629.61847053907,4683.85317624363,4737.4820310373,4694.67642526964,4817.4895243115,4555.14620339645,4651.71242923314,4602.9565300165,4623.73907506368,4772.3704646487,4702.84160607784,5001.10310210296,5061.5084587843,4927.78158990974,4959.21491854816,5147.53665025188,5089.788966676,5129.22366091191,5393.58063459123,5469.59998919911,5553.65346587569,5610.34471097961,5644.06495066047,5446.97321382579,5569.64099249926,5568.76494063954,5598.0881783042,5564.08716927844,5709.34466781654,5868.34709712113,5964.66577565273,5862.55194383105,5793.11602573559,5745.23218954465,5575.28709327857,5468.39136879598,5334.68167873774],\"yaxis\":\"y\"},{\"hovertemplate\":\"Country_Name=Bahrain<br>Year=%{x}<br>Energy Use (kg of oil equivalent per capita)=%{y}<extra></extra>\",\"legendgroup\":\"Bahrain\",\"line\":{\"color\":\"#E15F99\",\"dash\":\"solid\"},\"marker\":{\"symbol\":\"circle\"},\"mode\":\"lines\",\"name\":\"Bahrain\",\"orientation\":\"v\",\"showlegend\":true,\"type\":\"scatter\",\"x\":[\"1971\",\"1972\",\"1973\",\"1974\",\"1975\",\"1976\",\"1977\",\"1978\",\"1979\",\"1980\",\"1981\",\"1982\",\"1983\",\"1984\",\"1985\",\"1986\",\"1987\",\"1988\",\"1989\",\"1990\",\"1991\",\"1992\",\"1993\",\"1994\",\"1995\",\"1996\",\"1997\",\"1998\",\"1999\",\"2000\",\"2001\",\"2002\",\"2003\",\"2004\",\"2005\",\"2006\",\"2007\",\"2008\",\"2009\",\"2010\",\"2011\",\"2012\",\"2013\",\"2014\"],\"xaxis\":\"x\",\"y\":[6394.75105646109,5971.5776933114,8495.33455518585,9009.17001444972,8000.73534929091,9584.52630169236,8188.92432933446,7844.44210864753,8813.9519958927,7794.59956598693,8295.06308136427,9070.95423536026,8502.95244557335,8832.99241466188,9921.70050640396,10261.5357642141,9523.73931190852,10493.5876766452,10248.5652104323,10555.3559294009,10108.4133379891,10837.8303975285,11142.3821175207,11555.4940955985,11408.539679048,11109.805222747,12181.2827456142,12406.8115047002,11851.6196939705,11988.7934277245,11738.129166368,11548.6750822972,11566.5448409417,10894.9889497569,11675.5511118959,11604.1403430427,11233.8636811195,11318.2170107972,10339.1996287155,10207.835024628,9912.69589790894,9659.61173652363,10419.815836761,10596.5662055891],\"yaxis\":\"y\"},{\"hovertemplate\":\"Country_Name=Brunei Darussalam<br>Year=%{x}<br>Energy Use (kg of oil equivalent per capita)=%{y}<extra></extra>\",\"legendgroup\":\"Brunei Darussalam\",\"line\":{\"color\":\"#1CA71C\",\"dash\":\"solid\"},\"marker\":{\"symbol\":\"circle\"},\"mode\":\"lines\",\"name\":\"Brunei Darussalam\",\"orientation\":\"v\",\"showlegend\":true,\"type\":\"scatter\",\"x\":[\"1971\",\"1972\",\"1973\",\"1974\",\"1975\",\"1976\",\"1977\",\"1978\",\"1979\",\"1980\",\"1981\",\"1982\",\"1983\",\"1984\",\"1985\",\"1986\",\"1987\",\"1988\",\"1989\",\"1990\",\"1991\",\"1992\",\"1993\",\"1994\",\"1995\",\"1996\",\"1997\",\"1998\",\"1999\",\"2000\",\"2001\",\"2002\",\"2003\",\"2004\",\"2005\",\"2006\",\"2007\",\"2008\",\"2009\",\"2010\",\"2011\",\"2012\",\"2013\",\"2014\"],\"xaxis\":\"x\",\"y\":[1306.52603337461,1235.43991831849,2319.27199762988,3829.49525695013,4580.44977882266,5804.67138006695,6040.52267380965,5443.59026716188,5469.99402972345,6961.45038167939,6496.74793902823,6780.06832828636,6958.29737873279,7793.55199471986,7940.83496702905,6778.39656673177,6759.56896007409,5461.87680284773,6164.26333036396,6674.89196564546,7335.32050126217,7666.16281107606,7175.54067678675,6479.12952752097,7562.82142760979,7425.4612303854,7488.42487226008,7289.24123020038,7270.94483989038,7157.11086965657,6492.66697447631,6221.24881407936,7090.20789991367,6389.79617954896,6074.60176603344,8511.59719333877,8606.72005803177,9337.11632025892,7925.99673875104,8337.7522296042,9837.47240828374,9599.18495627787,7522.38547626937,8672.89849625895],\"yaxis\":\"y\"},{\"hovertemplate\":\"Country_Name=Canada<br>Year=%{x}<br>Energy Use (kg of oil equivalent per capita)=%{y}<extra></extra>\",\"legendgroup\":\"Canada\",\"line\":{\"color\":\"#FB0D0D\",\"dash\":\"solid\"},\"marker\":{\"symbol\":\"circle\"},\"mode\":\"lines\",\"name\":\"Canada\",\"orientation\":\"v\",\"showlegend\":true,\"type\":\"scatter\",\"x\":[\"1971\",\"1972\",\"1973\",\"1974\",\"1975\",\"1976\",\"1977\",\"1978\",\"1979\",\"1980\",\"1981\",\"1982\",\"1983\",\"1984\",\"1985\",\"1986\",\"1987\",\"1988\",\"1989\",\"1990\",\"1991\",\"1992\",\"1993\",\"1994\",\"1995\",\"1996\",\"1997\",\"1998\",\"1999\",\"2000\",\"2001\",\"2002\",\"2003\",\"2004\",\"2005\",\"2006\",\"2007\",\"2008\",\"2009\",\"2010\",\"2011\",\"2012\",\"2013\",\"2014\"],\"xaxis\":\"x\",\"y\":[6436.22625629541,6863.44433456086,7084.62368269079,7089.99999079269,7170.4125280454,7293.69860938733,7431.43988603482,7561.74493868787,7862.20639476556,7828.83798348216,7555.2449313384,7173.55516447822,7076.52331814175,7368.74044037789,7468.09634319419,7521.88689331202,7671.1995995251,7885.24440007589,7963.29790527702,7630.09230606557,7517.33030357287,7601.68517694524,7770.54644758451,7957.24563262571,7979.89844555264,8053.45485804934,8056.24362752186,7948.39727830446,8107.51515577335,8265.07992477285,8056.3494253004,7993.87938404109,8341.34314379952,8455.5470136727,8422.03430847519,8239.94637098436,8213.38954256017,8194.88077131979,7797.12113645126,7788.56078606815,7911.55458837168,7733.41165473909,7743.72574213676,7897.85561511436],\"yaxis\":\"y\"},{\"hovertemplate\":\"Country_Name=Finland<br>Year=%{x}<br>Energy Use (kg of oil equivalent per capita)=%{y}<extra></extra>\",\"legendgroup\":\"Finland\",\"line\":{\"color\":\"#DA16FF\",\"dash\":\"solid\"},\"marker\":{\"symbol\":\"circle\"},\"mode\":\"lines\",\"name\":\"Finland\",\"orientation\":\"v\",\"showlegend\":true,\"type\":\"scatter\",\"x\":[\"1971\",\"1972\",\"1973\",\"1974\",\"1975\",\"1976\",\"1977\",\"1978\",\"1979\",\"1980\",\"1981\",\"1982\",\"1983\",\"1984\",\"1985\",\"1986\",\"1987\",\"1988\",\"1989\",\"1990\",\"1991\",\"1992\",\"1993\",\"1994\",\"1995\",\"1996\",\"1997\",\"1998\",\"1999\",\"2000\",\"2001\",\"2002\",\"2003\",\"2004\",\"2005\",\"2006\",\"2007\",\"2008\",\"2009\",\"2010\",\"2011\",\"2012\",\"2013\",\"2014\"],\"xaxis\":\"x\",\"y\":[3939.2110879933,4188.16067653277,4507.55698411579,4383.8481175225,4181.81065661454,4459.85960914699,4516.24806759034,4664.52317587608,4963.53550808132,5146.64229888472,4934.58846774684,4805.4938819329,4823.85883071065,4910.52301782763,5269.89237090404,5482.57842271714,5960.6925861338,5590.43651436243,5753.63928280139,5691.57118588425,5742.78422893888,5380.99306781923,5617.21537795619,5972.55427268616,5661.9038762361,6070.21209376859,6276.95169202902,6319.32660107756,6283.95825823535,6262.19207918382,6410.62523419393,6728.58140544607,7077.0266490748,7134.85420908111,6562.02231144836,7111.856821567,6974.89676140919,6669.1733483595,6268.30054519017,6828.78375314542,6537.63729819133,6275.77096367897,6116.22729442255,6213.35776612777],\"yaxis\":\"y\"},{\"hovertemplate\":\"Country_Name=Iceland<br>Year=%{x}<br>Energy Use (kg of oil equivalent per capita)=%{y}<extra></extra>\",\"legendgroup\":\"Iceland\",\"line\":{\"color\":\"#222A2A\",\"dash\":\"solid\"},\"marker\":{\"symbol\":\"circle\"},\"mode\":\"lines\",\"name\":\"Iceland\",\"orientation\":\"v\",\"showlegend\":true,\"type\":\"scatter\",\"x\":[\"1971\",\"1972\",\"1973\",\"1974\",\"1975\",\"1976\",\"1977\",\"1978\",\"1979\",\"1980\",\"1981\",\"1982\",\"1983\",\"1984\",\"1985\",\"1986\",\"1987\",\"1988\",\"1989\",\"1990\",\"1991\",\"1992\",\"1993\",\"1994\",\"1995\",\"1996\",\"1997\",\"1998\",\"1999\",\"2000\",\"2001\",\"2002\",\"2003\",\"2004\",\"2005\",\"2006\",\"2007\",\"2008\",\"2009\",\"2010\",\"2011\",\"2012\",\"2013\",\"2014\"],\"xaxis\":\"x\",\"y\":[4378.31031839222,4403.96964669093,5268.96574461772,5132.19707354246,5071.63534101909,5085.58100238924,5602.87016623159,5710.71008378926,6515.05969388885,6560.99816777565,7178.86936361076,7076.20798768494,7254.2862809471,7531.26996254869,7334.90192829477,7605.56377991611,7857.45488267666,7882.47377272363,7983.03750810751,8907.79198354956,8054.3567225375,7755.39441577893,8249.53644895251,8293.41292604719,8255.76891441219,8847.78518198992,8584.10049865746,9036.65429652578,10038.3119247533,11091.5488700414,10589.466185677,10804.6417156193,10731.3286428273,10524.2507035888,10524.8774997135,12734.0066231706,14746.0313384644,16353.8312739829,16911.07978361,17023.1668244031,18157.598099143,17630.0714650968,18178.139014838,17916.1204205433],\"yaxis\":\"y\"},{\"hovertemplate\":\"Country_Name=Kuwait<br>Year=%{x}<br>Energy Use (kg of oil equivalent per capita)=%{y}<extra></extra>\",\"legendgroup\":\"Kuwait\",\"line\":{\"color\":\"#B68100\",\"dash\":\"solid\"},\"marker\":{\"symbol\":\"circle\"},\"mode\":\"lines\",\"name\":\"Kuwait\",\"orientation\":\"v\",\"showlegend\":true,\"type\":\"scatter\",\"x\":[\"1971\",\"1972\",\"1973\",\"1974\",\"1975\",\"1976\",\"1977\",\"1978\",\"1979\",\"1980\",\"1981\",\"1982\",\"1983\",\"1984\",\"1985\",\"1986\",\"1987\",\"1988\",\"1989\",\"1990\",\"1991\",\"1992\",\"1993\",\"1994\",\"1995\",\"1996\",\"1997\",\"1998\",\"1999\",\"2000\",\"2001\",\"2002\",\"2003\",\"2004\",\"2005\",\"2006\",\"2007\",\"2008\",\"2009\",\"2010\",\"2011\",\"2012\",\"2013\",\"2014\"],\"xaxis\":\"x\",\"y\":[7665.83525222284,7938.5856385239,7871.59673998138,7082.79812388162,6343.79505248477,6475.62498503499,6582.53617239655,6763.30303260535,8046.17086793454,7637.81745915773,7154.79311959559,7604.29838502132,7722.31519206075,7626.5690161305,8083.57681017105,8288.6723913416,8523.40328307157,9914.44578224439,11260.0968278649,4347.33958527215,1325.06570924882,8643.283954777195,8643.283954777195,8643.283954777195,9210.97921610654,8941.8929003023,8592.11042550915,9168.63385871278,9232.40122932382,9151.98058992051,9497.47417477427,9612.8570499361,10131.4468830408,10619.6333738999,11576.8374184432,10811.6276924127,10489.0104974948,10810.8064352167,11134.2582401319,10721.4851912708,10221.1957245678,11105.9810944168,9906.50020332454,9178.89052081327],\"yaxis\":\"y\"},{\"hovertemplate\":\"Country_Name=Luxembourg<br>Year=%{x}<br>Energy Use (kg of oil equivalent per capita)=%{y}<extra></extra>\",\"legendgroup\":\"Luxembourg\",\"line\":{\"color\":\"#750D86\",\"dash\":\"solid\"},\"marker\":{\"symbol\":\"circle\"},\"mode\":\"lines\",\"name\":\"Luxembourg\",\"orientation\":\"v\",\"showlegend\":true,\"type\":\"scatter\",\"x\":[\"1971\",\"1972\",\"1973\",\"1974\",\"1975\",\"1976\",\"1977\",\"1978\",\"1979\",\"1980\",\"1981\",\"1982\",\"1983\",\"1984\",\"1985\",\"1986\",\"1987\",\"1988\",\"1989\",\"1990\",\"1991\",\"1992\",\"1993\",\"1994\",\"1995\",\"1996\",\"1997\",\"1998\",\"1999\",\"2000\",\"2001\",\"2002\",\"2003\",\"2004\",\"2005\",\"2006\",\"2007\",\"2008\",\"2009\",\"2010\",\"2011\",\"2012\",\"2013\",\"2014\"],\"xaxis\":\"x\",\"y\":[11863.0895885474,12009.5701096365,12648.5604223142,13023.8895930151,10504.9811951525,10668.5674366772,10278.5575523442,11096.0036684373,10458.112860198,9774.65055608952,8526.03737422137,8057.80999931605,7576.20712101569,8112.67547910098,8346.92642062033,8163.54875052599,7942.94807821982,8158.43352523765,8699.93635640414,8874.10501505827,9353.42118863049,9262.08197870848,9266.94257500472,8823.25246633989,7705.40715815234,7711.17870722433,7409.85099535105,7066.88485990111,7266.97253034439,7676.83703873481,7982.8503482249,8204.72684484788,8549.50291167549,9387.43710365754,9428.81128562768,9170.532565161,8773.89670266025,8612.2337051059,7951.72394396755,8329.47827510637,8056.404300594,7722.19020390021,7312.15400471142,6861.10666721791],\"yaxis\":\"y\"},{\"hovertemplate\":\"Country_Name=Norway<br>Year=%{x}<br>Energy Use (kg of oil equivalent per capita)=%{y}<extra></extra>\",\"legendgroup\":\"Norway\",\"line\":{\"color\":\"#EB663B\",\"dash\":\"solid\"},\"marker\":{\"symbol\":\"circle\"},\"mode\":\"lines\",\"name\":\"Norway\",\"orientation\":\"v\",\"showlegend\":true,\"type\":\"scatter\",\"x\":[\"1971\",\"1972\",\"1973\",\"1974\",\"1975\",\"1976\",\"1977\",\"1978\",\"1979\",\"1980\",\"1981\",\"1982\",\"1983\",\"1984\",\"1985\",\"1986\",\"1987\",\"1988\",\"1989\",\"1990\",\"1991\",\"1992\",\"1993\",\"1994\",\"1995\",\"1996\",\"1997\",\"1998\",\"1999\",\"2000\",\"2001\",\"2002\",\"2003\",\"2004\",\"2005\",\"2006\",\"2007\",\"2008\",\"2009\",\"2010\",\"2011\",\"2012\",\"2013\",\"2014\"],\"xaxis\":\"x\",\"y\":[3414.31663890625,3503.42994820244,3608.10122274032,3580.5995496402,3651.6808145508,3962.23292116145,4060.10627707475,4360.47070580493,4467.1936298854,4491.90698107019,4414.96406324167,4262.39171067664,4427.79292477144,4672.13755033394,4815.31389644254,5024.07618839196,5048.49930915557,4817.15567308898,4984.19811583001,4966.8935768305,5105.10820483315,5159.64861896962,5459.62340830489,5315.24486967133,5391.41408116749,5202.04727507774,5475.18873901657,5684.78859356637,5913.30220916454,5826.07776899719,5954.04177146679,5501.11774400148,5933.21584146703,5769.32670718721,5802.71629019242,5833.77393455929,5862.21726072608,6752.7089818993,6484.11858531629,6934.5901990734,5649.69772392495,5906.14104846139,6415.99071427151,5595.65462490306],\"yaxis\":\"y\"},{\"hovertemplate\":\"Country_Name=Qatar<br>Year=%{x}<br>Energy Use (kg of oil equivalent per capita)=%{y}<extra></extra>\",\"legendgroup\":\"Qatar\",\"line\":{\"color\":\"#511CFB\",\"dash\":\"solid\"},\"marker\":{\"symbol\":\"circle\"},\"mode\":\"lines\",\"name\":\"Qatar\",\"orientation\":\"v\",\"showlegend\":true,\"type\":\"scatter\",\"x\":[\"1971\",\"1972\",\"1973\",\"1974\",\"1975\",\"1976\",\"1977\",\"1978\",\"1979\",\"1980\",\"1981\",\"1982\",\"1983\",\"1984\",\"1985\",\"1986\",\"1987\",\"1988\",\"1989\",\"1990\",\"1991\",\"1992\",\"1993\",\"1994\",\"1995\",\"1996\",\"1997\",\"1998\",\"1999\",\"2000\",\"2001\",\"2002\",\"2003\",\"2004\",\"2005\",\"2006\",\"2007\",\"2008\",\"2009\",\"2010\",\"2011\",\"2012\",\"2013\",\"2014\"],\"xaxis\":\"x\",\"y\":[7754.03850502039,7802.72786483276,10075.692251426,8013.00578034682,12421.2057402291,8796.95595109259,9520.368145942,8448.73845384403,13727.1655001657,14809.7324950139,16720.312600813,17349.1409628863,16057.1938480241,16483.6816381068,15225.3387833458,15080.9299565796,14654.0859496771,14582.1045916355,14355.969832441,13703.1756863157,14818.4563992498,15242.9537164692,15624.7081134006,15511.060184126,15871.0869865828,16547.8794559557,19006.441007248,19348.547589953,19839.0109485597,18431.9261663519,19621.8405139404,21300.0739617271,20727.8667509545,22120.4303016465,19256.5154088813,19155.8525242886,18167.4919015365,15832.0338003856,14643.2833981089,14890.4256734663,15370.6935931807,17344.3475140683,17266.0950047056,17922.7037876514],\"yaxis\":\"y\"},{\"hovertemplate\":\"Country_Name=Sweden<br>Year=%{x}<br>Energy Use (kg of oil equivalent per capita)=%{y}<extra></extra>\",\"legendgroup\":\"Sweden\",\"line\":{\"color\":\"#00A08B\",\"dash\":\"solid\"},\"marker\":{\"symbol\":\"circle\"},\"mode\":\"lines\",\"name\":\"Sweden\",\"orientation\":\"v\",\"showlegend\":true,\"type\":\"scatter\",\"x\":[\"1971\",\"1972\",\"1973\",\"1974\",\"1975\",\"1976\",\"1977\",\"1978\",\"1979\",\"1980\",\"1981\",\"1982\",\"1983\",\"1984\",\"1985\",\"1986\",\"1987\",\"1988\",\"1989\",\"1990\",\"1991\",\"1992\",\"1993\",\"1994\",\"1995\",\"1996\",\"1997\",\"1998\",\"1999\",\"2000\",\"2001\",\"2002\",\"2003\",\"2004\",\"2005\",\"2006\",\"2007\",\"2008\",\"2009\",\"2010\",\"2011\",\"2012\",\"2013\",\"2014\"],\"xaxis\":\"x\",\"y\":[4450.3825107732,4527.21372025165,4773.81140251259,4510.44301102151,4764.49901293107,5151.25136732047,5054.83376436399,5016.74041963609,5229.61827068762,4871.53323897113,5097.15446289726,4877.7998965318,4941.26701142858,5216.25781718097,5656.19289934621,5878.80146655326,5763.07044079619,5854.49966212248,5594.55297349665,5514.55753031809,5650.54137715952,5369.37035673582,5334.16649834761,5660.27142343844,5702.16504271753,5825.09791315415,5672.00817719794,5769.69506406865,5661.49145946307,5360.14514699943,5680.28048687269,5802.110105168,5650.43804975291,5847.3441632658,5711.12728266633,5529.07795326361,5472.13539172977,5379.9591025113,4883.20048954053,5427.92504600599,5274.6436131771,5269.48599771372,5146.53358997598,4966.43592120964],\"yaxis\":\"y\"},{\"hovertemplate\":\"Country_Name=Trinidad and Tobago<br>Year=%{x}<br>Energy Use (kg of oil equivalent per capita)=%{y}<extra></extra>\",\"legendgroup\":\"Trinidad and Tobago\",\"line\":{\"color\":\"#FB00D1\",\"dash\":\"solid\"},\"marker\":{\"symbol\":\"circle\"},\"mode\":\"lines\",\"name\":\"Trinidad and Tobago\",\"orientation\":\"v\",\"showlegend\":true,\"type\":\"scatter\",\"x\":[\"1971\",\"1972\",\"1973\",\"1974\",\"1975\",\"1976\",\"1977\",\"1978\",\"1979\",\"1980\",\"1981\",\"1982\",\"1983\",\"1984\",\"1985\",\"1986\",\"1987\",\"1988\",\"1989\",\"1990\",\"1991\",\"1992\",\"1993\",\"1994\",\"1995\",\"1996\",\"1997\",\"1998\",\"1999\",\"2000\",\"2001\",\"2002\",\"2003\",\"2004\",\"2005\",\"2006\",\"2007\",\"2008\",\"2009\",\"2010\",\"2011\",\"2012\",\"2013\",\"2014\"],\"xaxis\":\"x\",\"y\":[2759.59165181799,2774.61844203707,2687.12309293426,2684.06559495985,2296.2596964787,2514.56632692878,2809.99509242598,3329.94513838794,3400.4925868671,3528.88103449388,3688.20299405708,3650.11218559685,3723.280884936,4144.63376224912,4350.03793911968,4496.48465161714,4191.13845422308,4561.28970643192,4397.12728118213,4903.13244960983,4841.41670219379,5289.71079943559,5034.23997169519,5039.53576033171,4903.03380641046,5783.01725502108,5441.53454650519,6308.99445905878,7353.47531938158,7764.80536380991,8640.87660925727,9361.39632480172,10417.6519441181,10880.1781236556,12430.5763916153,13805.1087403804,14617.0530016432,14127.1019263585,14210.6469652614,15108.6870098423,14775.9545869568,14312.4246178282,14478.8492052939,14363.5686324309],\"yaxis\":\"y\"},{\"hovertemplate\":\"Country_Name=United Arab Emirates<br>Year=%{x}<br>Energy Use (kg of oil equivalent per capita)=%{y}<extra></extra>\",\"legendgroup\":\"United Arab Emirates\",\"line\":{\"color\":\"#FC0080\",\"dash\":\"solid\"},\"marker\":{\"symbol\":\"circle\"},\"mode\":\"lines\",\"name\":\"United Arab Emirates\",\"orientation\":\"v\",\"showlegend\":true,\"type\":\"scatter\",\"x\":[\"1971\",\"1972\",\"1973\",\"1974\",\"1975\",\"1976\",\"1977\",\"1978\",\"1979\",\"1980\",\"1981\",\"1982\",\"1983\",\"1984\",\"1985\",\"1986\",\"1987\",\"1988\",\"1989\",\"1990\",\"1991\",\"1992\",\"1993\",\"1994\",\"1995\",\"1996\",\"1997\",\"1998\",\"1999\",\"2000\",\"2001\",\"2002\",\"2003\",\"2004\",\"2005\",\"2006\",\"2007\",\"2008\",\"2009\",\"2010\",\"2011\",\"2012\",\"2013\",\"2014\"],\"xaxis\":\"x\",\"y\":[3647.18899456865,3175.85990186362,3306.76971808679,2869.13662647046,3533.48288786146,3857.59006530538,5585.61604249422,5709.53012454847,5977.18598940491,7093.70509471735,8089.56120816851,8299.03864644716,7582.08712230058,9333.64529316754,10040.8076623248,10774.6224037014,11281.1846685351,10905.9670523912,11871.7546051518,11170.2328272727,12124.9117909268,10890.4623331378,10820.1137987286,11355.4642502082,11463.1826687022,11511.8050695497,11558.5557324525,11223.9598551692,10870.4655281523,10057.9189915212,12172.4129369653,11462.5021092231,10568.8303473313,10286.8029780437,9698.29424121152,8716.29298068063,8127.93446294493,8367.15271036574,7572.35826350373,7215.21045969835,7190.96953115412,7481.19223794352,7604.84134000905,7648.39407339686],\"yaxis\":\"y\"},{\"hovertemplate\":\"Country_Name=United States<br>Year=%{x}<br>Energy Use (kg of oil equivalent per capita)=%{y}<extra></extra>\",\"legendgroup\":\"United States\",\"line\":{\"color\":\"#B2828D\",\"dash\":\"solid\"},\"marker\":{\"symbol\":\"circle\"},\"mode\":\"lines\",\"name\":\"United States\",\"orientation\":\"v\",\"showlegend\":true,\"type\":\"scatter\",\"x\":[\"1971\",\"1972\",\"1973\",\"1974\",\"1975\",\"1976\",\"1977\",\"1978\",\"1979\",\"1980\",\"1981\",\"1982\",\"1983\",\"1984\",\"1985\",\"1986\",\"1987\",\"1988\",\"1989\",\"1990\",\"1991\",\"1992\",\"1993\",\"1994\",\"1995\",\"1996\",\"1997\",\"1998\",\"1999\",\"2000\",\"2001\",\"2002\",\"2003\",\"2004\",\"2005\",\"2006\",\"2007\",\"2008\",\"2009\",\"2010\",\"2011\",\"2012\",\"2013\",\"2014\"],\"xaxis\":\"x\",\"y\":[7644.52480244244,7940.99783225979,8163.60379219382,7909.58647956082,7656.2635792437,8100.56222166166,8285.57089797901,8438.40307747602,8327.04170536091,7942.25301793377,7647.53805356785,7259.07889874991,7199.11853271284,7443.32001696173,7456.26290328004,7376.09623833459,7622.17301652159,7849.75397036389,7890.28720236287,7671.7730657832,7631.46780588265,7677.40140109312,7709.49658932206,7757.83082249569,7763.75510556636,7844.46826581141,7828.58109639584,7803.69760452993,7923.22389263188,8056.86384994775,7827.88632537183,7843.34484914192,7794.23553026383,7881.57864206405,7846.49968849973,7697.65253500041,7758.16598577052,7488.08192070473,7056.78365282718,7161.42655156518,7029.95460147645,6872.02728367462,6905.59863316056,6960.68399657951],\"yaxis\":\"y\"}],                        {\"legend\":{\"title\":{\"text\":\"Country_Name\"},\"tracegroupgap\":0},\"template\":{\"data\":{\"bar\":[{\"error_x\":{\"color\":\"#2a3f5f\"},\"error_y\":{\"color\":\"#2a3f5f\"},\"marker\":{\"line\":{\"color\":\"#E5ECF6\",\"width\":0.5},\"pattern\":{\"fillmode\":\"overlay\",\"size\":10,\"solidity\":0.2}},\"type\":\"bar\"}],\"barpolar\":[{\"marker\":{\"line\":{\"color\":\"#E5ECF6\",\"width\":0.5},\"pattern\":{\"fillmode\":\"overlay\",\"size\":10,\"solidity\":0.2}},\"type\":\"barpolar\"}],\"carpet\":[{\"aaxis\":{\"endlinecolor\":\"#2a3f5f\",\"gridcolor\":\"white\",\"linecolor\":\"white\",\"minorgridcolor\":\"white\",\"startlinecolor\":\"#2a3f5f\"},\"baxis\":{\"endlinecolor\":\"#2a3f5f\",\"gridcolor\":\"white\",\"linecolor\":\"white\",\"minorgridcolor\":\"white\",\"startlinecolor\":\"#2a3f5f\"},\"type\":\"carpet\"}],\"choropleth\":[{\"colorbar\":{\"outlinewidth\":0,\"ticks\":\"\"},\"type\":\"choropleth\"}],\"contour\":[{\"colorbar\":{\"outlinewidth\":0,\"ticks\":\"\"},\"colorscale\":[[0.0,\"#0d0887\"],[0.1111111111111111,\"#46039f\"],[0.2222222222222222,\"#7201a8\"],[0.3333333333333333,\"#9c179e\"],[0.4444444444444444,\"#bd3786\"],[0.5555555555555556,\"#d8576b\"],[0.6666666666666666,\"#ed7953\"],[0.7777777777777778,\"#fb9f3a\"],[0.8888888888888888,\"#fdca26\"],[1.0,\"#f0f921\"]],\"type\":\"contour\"}],\"contourcarpet\":[{\"colorbar\":{\"outlinewidth\":0,\"ticks\":\"\"},\"type\":\"contourcarpet\"}],\"heatmap\":[{\"colorbar\":{\"outlinewidth\":0,\"ticks\":\"\"},\"colorscale\":[[0.0,\"#0d0887\"],[0.1111111111111111,\"#46039f\"],[0.2222222222222222,\"#7201a8\"],[0.3333333333333333,\"#9c179e\"],[0.4444444444444444,\"#bd3786\"],[0.5555555555555556,\"#d8576b\"],[0.6666666666666666,\"#ed7953\"],[0.7777777777777778,\"#fb9f3a\"],[0.8888888888888888,\"#fdca26\"],[1.0,\"#f0f921\"]],\"type\":\"heatmap\"}],\"heatmapgl\":[{\"colorbar\":{\"outlinewidth\":0,\"ticks\":\"\"},\"colorscale\":[[0.0,\"#0d0887\"],[0.1111111111111111,\"#46039f\"],[0.2222222222222222,\"#7201a8\"],[0.3333333333333333,\"#9c179e\"],[0.4444444444444444,\"#bd3786\"],[0.5555555555555556,\"#d8576b\"],[0.6666666666666666,\"#ed7953\"],[0.7777777777777778,\"#fb9f3a\"],[0.8888888888888888,\"#fdca26\"],[1.0,\"#f0f921\"]],\"type\":\"heatmapgl\"}],\"histogram\":[{\"marker\":{\"pattern\":{\"fillmode\":\"overlay\",\"size\":10,\"solidity\":0.2}},\"type\":\"histogram\"}],\"histogram2d\":[{\"colorbar\":{\"outlinewidth\":0,\"ticks\":\"\"},\"colorscale\":[[0.0,\"#0d0887\"],[0.1111111111111111,\"#46039f\"],[0.2222222222222222,\"#7201a8\"],[0.3333333333333333,\"#9c179e\"],[0.4444444444444444,\"#bd3786\"],[0.5555555555555556,\"#d8576b\"],[0.6666666666666666,\"#ed7953\"],[0.7777777777777778,\"#fb9f3a\"],[0.8888888888888888,\"#fdca26\"],[1.0,\"#f0f921\"]],\"type\":\"histogram2d\"}],\"histogram2dcontour\":[{\"colorbar\":{\"outlinewidth\":0,\"ticks\":\"\"},\"colorscale\":[[0.0,\"#0d0887\"],[0.1111111111111111,\"#46039f\"],[0.2222222222222222,\"#7201a8\"],[0.3333333333333333,\"#9c179e\"],[0.4444444444444444,\"#bd3786\"],[0.5555555555555556,\"#d8576b\"],[0.6666666666666666,\"#ed7953\"],[0.7777777777777778,\"#fb9f3a\"],[0.8888888888888888,\"#fdca26\"],[1.0,\"#f0f921\"]],\"type\":\"histogram2dcontour\"}],\"mesh3d\":[{\"colorbar\":{\"outlinewidth\":0,\"ticks\":\"\"},\"type\":\"mesh3d\"}],\"parcoords\":[{\"line\":{\"colorbar\":{\"outlinewidth\":0,\"ticks\":\"\"}},\"type\":\"parcoords\"}],\"pie\":[{\"automargin\":true,\"type\":\"pie\"}],\"scatter\":[{\"marker\":{\"colorbar\":{\"outlinewidth\":0,\"ticks\":\"\"}},\"type\":\"scatter\"}],\"scatter3d\":[{\"line\":{\"colorbar\":{\"outlinewidth\":0,\"ticks\":\"\"}},\"marker\":{\"colorbar\":{\"outlinewidth\":0,\"ticks\":\"\"}},\"type\":\"scatter3d\"}],\"scattercarpet\":[{\"marker\":{\"colorbar\":{\"outlinewidth\":0,\"ticks\":\"\"}},\"type\":\"scattercarpet\"}],\"scattergeo\":[{\"marker\":{\"colorbar\":{\"outlinewidth\":0,\"ticks\":\"\"}},\"type\":\"scattergeo\"}],\"scattergl\":[{\"marker\":{\"colorbar\":{\"outlinewidth\":0,\"ticks\":\"\"}},\"type\":\"scattergl\"}],\"scattermapbox\":[{\"marker\":{\"colorbar\":{\"outlinewidth\":0,\"ticks\":\"\"}},\"type\":\"scattermapbox\"}],\"scatterpolar\":[{\"marker\":{\"colorbar\":{\"outlinewidth\":0,\"ticks\":\"\"}},\"type\":\"scatterpolar\"}],\"scatterpolargl\":[{\"marker\":{\"colorbar\":{\"outlinewidth\":0,\"ticks\":\"\"}},\"type\":\"scatterpolargl\"}],\"scatterternary\":[{\"marker\":{\"colorbar\":{\"outlinewidth\":0,\"ticks\":\"\"}},\"type\":\"scatterternary\"}],\"surface\":[{\"colorbar\":{\"outlinewidth\":0,\"ticks\":\"\"},\"colorscale\":[[0.0,\"#0d0887\"],[0.1111111111111111,\"#46039f\"],[0.2222222222222222,\"#7201a8\"],[0.3333333333333333,\"#9c179e\"],[0.4444444444444444,\"#bd3786\"],[0.5555555555555556,\"#d8576b\"],[0.6666666666666666,\"#ed7953\"],[0.7777777777777778,\"#fb9f3a\"],[0.8888888888888888,\"#fdca26\"],[1.0,\"#f0f921\"]],\"type\":\"surface\"}],\"table\":[{\"cells\":{\"fill\":{\"color\":\"#EBF0F8\"},\"line\":{\"color\":\"white\"}},\"header\":{\"fill\":{\"color\":\"#C8D4E3\"},\"line\":{\"color\":\"white\"}},\"type\":\"table\"}]},\"layout\":{\"annotationdefaults\":{\"arrowcolor\":\"#2a3f5f\",\"arrowhead\":0,\"arrowwidth\":1},\"autotypenumbers\":\"strict\",\"coloraxis\":{\"colorbar\":{\"outlinewidth\":0,\"ticks\":\"\"}},\"colorscale\":{\"diverging\":[[0,\"#8e0152\"],[0.1,\"#c51b7d\"],[0.2,\"#de77ae\"],[0.3,\"#f1b6da\"],[0.4,\"#fde0ef\"],[0.5,\"#f7f7f7\"],[0.6,\"#e6f5d0\"],[0.7,\"#b8e186\"],[0.8,\"#7fbc41\"],[0.9,\"#4d9221\"],[1,\"#276419\"]],\"sequential\":[[0.0,\"#0d0887\"],[0.1111111111111111,\"#46039f\"],[0.2222222222222222,\"#7201a8\"],[0.3333333333333333,\"#9c179e\"],[0.4444444444444444,\"#bd3786\"],[0.5555555555555556,\"#d8576b\"],[0.6666666666666666,\"#ed7953\"],[0.7777777777777778,\"#fb9f3a\"],[0.8888888888888888,\"#fdca26\"],[1.0,\"#f0f921\"]],\"sequentialminus\":[[0.0,\"#0d0887\"],[0.1111111111111111,\"#46039f\"],[0.2222222222222222,\"#7201a8\"],[0.3333333333333333,\"#9c179e\"],[0.4444444444444444,\"#bd3786\"],[0.5555555555555556,\"#d8576b\"],[0.6666666666666666,\"#ed7953\"],[0.7777777777777778,\"#fb9f3a\"],[0.8888888888888888,\"#fdca26\"],[1.0,\"#f0f921\"]]},\"colorway\":[\"#636efa\",\"#EF553B\",\"#00cc96\",\"#ab63fa\",\"#FFA15A\",\"#19d3f3\",\"#FF6692\",\"#B6E880\",\"#FF97FF\",\"#FECB52\"],\"font\":{\"color\":\"#2a3f5f\"},\"geo\":{\"bgcolor\":\"white\",\"lakecolor\":\"white\",\"landcolor\":\"#E5ECF6\",\"showlakes\":true,\"showland\":true,\"subunitcolor\":\"white\"},\"hoverlabel\":{\"align\":\"left\"},\"hovermode\":\"closest\",\"mapbox\":{\"style\":\"light\"},\"paper_bgcolor\":\"white\",\"plot_bgcolor\":\"#E5ECF6\",\"polar\":{\"angularaxis\":{\"gridcolor\":\"white\",\"linecolor\":\"white\",\"ticks\":\"\"},\"bgcolor\":\"#E5ECF6\",\"radialaxis\":{\"gridcolor\":\"white\",\"linecolor\":\"white\",\"ticks\":\"\"}},\"scene\":{\"xaxis\":{\"backgroundcolor\":\"#E5ECF6\",\"gridcolor\":\"white\",\"gridwidth\":2,\"linecolor\":\"white\",\"showbackground\":true,\"ticks\":\"\",\"zerolinecolor\":\"white\"},\"yaxis\":{\"backgroundcolor\":\"#E5ECF6\",\"gridcolor\":\"white\",\"gridwidth\":2,\"linecolor\":\"white\",\"showbackground\":true,\"ticks\":\"\",\"zerolinecolor\":\"white\"},\"zaxis\":{\"backgroundcolor\":\"#E5ECF6\",\"gridcolor\":\"white\",\"gridwidth\":2,\"linecolor\":\"white\",\"showbackground\":true,\"ticks\":\"\",\"zerolinecolor\":\"white\"}},\"shapedefaults\":{\"line\":{\"color\":\"#2a3f5f\"}},\"ternary\":{\"aaxis\":{\"gridcolor\":\"white\",\"linecolor\":\"white\",\"ticks\":\"\"},\"baxis\":{\"gridcolor\":\"white\",\"linecolor\":\"white\",\"ticks\":\"\"},\"bgcolor\":\"#E5ECF6\",\"caxis\":{\"gridcolor\":\"white\",\"linecolor\":\"white\",\"ticks\":\"\"}},\"title\":{\"x\":0.05},\"xaxis\":{\"automargin\":true,\"gridcolor\":\"white\",\"linecolor\":\"white\",\"ticks\":\"\",\"title\":{\"standoff\":15},\"zerolinecolor\":\"white\",\"zerolinewidth\":2},\"yaxis\":{\"automargin\":true,\"gridcolor\":\"white\",\"linecolor\":\"white\",\"ticks\":\"\",\"title\":{\"standoff\":15},\"zerolinecolor\":\"white\",\"zerolinewidth\":2}}},\"title\":{\"text\":\"Top 15 Countries with the Highest Average Energy Use Per Capita\"},\"xaxis\":{\"anchor\":\"y\",\"domain\":[0.0,1.0],\"title\":{\"text\":\"Year\"}},\"yaxis\":{\"anchor\":\"x\",\"domain\":[0.0,1.0],\"title\":{\"text\":\"Energy Use (kg of oil equivalent per capita)\"}}},                        {\"responsive\": true}                    ).then(function(){\n",
       "                            \n",
       "var gd = document.getElementById('34ffb401-3128-423e-9ee0-10389065fdb7');\n",
       "var x = new MutationObserver(function (mutations, observer) {{\n",
       "        var display = window.getComputedStyle(gd).display;\n",
       "        if (!display || display === 'none') {{\n",
       "            console.log([gd, 'removed!']);\n",
       "            Plotly.purge(gd);\n",
       "            observer.disconnect();\n",
       "        }}\n",
       "}});\n",
       "\n",
       "// Listen for the removal of the full notebook cells\n",
       "var notebookContainer = gd.closest('#notebook-container');\n",
       "if (notebookContainer) {{\n",
       "    x.observe(notebookContainer, {childList: true});\n",
       "}}\n",
       "\n",
       "// Listen for the clearing of the current output cell\n",
       "var outputEl = gd.closest('.output');\n",
       "if (outputEl) {{\n",
       "    x.observe(outputEl, {childList: true});\n",
       "}}\n",
       "\n",
       "                        })                };                });            </script>        </div>"
      ]
     },
     "metadata": {},
     "output_type": "display_data"
    }
   ],
   "source": [
    "df = EG_USE_IMP[EG_USE_IMP['Country_Name'].isin(AvgEGUsageTop15['Country_Name'])].drop(columns=['EG.IMP.CONS.ZS'])\n",
    "# Impute missing data with the average for the country\n",
    "display(df.isna().sum())\n",
    "df = df.set_index(['Country_Name', 'Country_Code', 'Year'])['EG.USE.PCAP.KG.OE'].fillna(AvgEGUsageTop15.set_index(['Country_Name', 'Country_Code'])['EG.USE.PCAP.KG.OE']).reset_index()\n",
    "display(df.isna().sum())\n",
    "fig = px.line(df, x='Year', y='EG.USE.PCAP.KG.OE',\n",
    "             color='Country_Name',\n",
    "             color_discrete_sequence=px.colors.qualitative.Dark24,\n",
    "              labels= {'EG.USE.PCAP.KG.OE': 'Energy Use (kg of oil equivalent per capita)'},\n",
    "                         title='Top 15 Countries with the Highest Average Energy Use Per Capita')\n",
    "fig.show()\n",
    "\n",
    "fig.write_image(\"energyUsePerCapita_Top15.png\", engine='kaleido') "
   ]
  },
  {
   "cell_type": "code",
   "execution_count": 189,
   "id": "c4eaf5b1",
   "metadata": {},
   "outputs": [
    {
     "data": {
      "text/plain": [
       "Country_Name      0\n",
       "Country_Code      0\n",
       "Year              0\n",
       "EG.IMP.CONS.ZS    0\n",
       "dtype: int64"
      ]
     },
     "metadata": {},
     "output_type": "display_data"
    },
    {
     "data": {
      "text/plain": [
       "Country_Name      0\n",
       "Country_Code      0\n",
       "Year              0\n",
       "EG.IMP.CONS.ZS    0\n",
       "dtype: int64"
      ]
     },
     "metadata": {},
     "output_type": "display_data"
    },
    {
     "data": {
      "application/vnd.plotly.v1+json": {
       "config": {
        "plotlyServerURL": "https://plot.ly"
       },
       "data": [
        {
         "hovertemplate": "Country_Name=Australia<br>Year=%{x}<br>Energy Imports, net (% of Energy Use)=%{y}<extra></extra>",
         "legendgroup": "Australia",
         "line": {
          "color": "#2E91E5",
          "dash": "solid"
         },
         "marker": {
          "symbol": "circle"
         },
         "mode": "lines",
         "name": "Australia",
         "orientation": "v",
         "showlegend": true,
         "type": "scatter",
         "x": [
          "1971",
          "1972",
          "1973",
          "1974",
          "1975",
          "1976",
          "1977",
          "1978",
          "1979",
          "1980",
          "1981",
          "1982",
          "1983",
          "1984",
          "1985",
          "1986",
          "1987",
          "1988",
          "1989",
          "1990",
          "1991",
          "1992",
          "1993",
          "1994",
          "1995",
          "1996",
          "1997",
          "1998",
          "1999",
          "2000",
          "2001",
          "2002",
          "2003",
          "2004",
          "2005",
          "2006",
          "2007",
          "2008",
          "2009",
          "2010",
          "2011",
          "2012",
          "2013",
          "2014"
         ],
         "xaxis": "x",
         "y": [
          -4.33555030976189,
          -17.4075132973397,
          -19.156857771308,
          -14.5479475393857,
          -24.1536323848913,
          -21.7158383397846,
          -24.062550282939,
          -22.7956957315391,
          -27.2748659579095,
          -22.7121625038292,
          -38.697961761871,
          -34.8646392301429,
          -53.479474543796,
          -63.6929772761729,
          -76.5548980484009,
          -84.2570938661338,
          -91.8299097949175,
          -75.862788440002,
          -72.0740064626526,
          -82.3704660974937,
          -96.085617657126,
          -98.3968470334151,
          -92.3545832140717,
          -90.8747580359827,
          -101.625326755943,
          -92.1329424199252,
          -98.4726193766084,
          -108.326749870398,
          -101.108797941455,
          -116.050707166061,
          -135.645551022818,
          -132.12721394128,
          -127.826018775984,
          -125.596553129462,
          -133.666023534249,
          -128.348970430208,
          -134.100166231418,
          -126.27199647896,
          -132.236460070314,
          -153.605591504432,
          -143.738620495545,
          -153.237178406375,
          -172.438340343449,
          -192.015924390399
         ],
         "yaxis": "y"
        },
        {
         "hovertemplate": "Country_Name=Bahrain<br>Year=%{x}<br>Energy Imports, net (% of Energy Use)=%{y}<extra></extra>",
         "legendgroup": "Bahrain",
         "line": {
          "color": "#E15F99",
          "dash": "solid"
         },
         "marker": {
          "symbol": "circle"
         },
         "mode": "lines",
         "name": "Bahrain",
         "orientation": "v",
         "showlegend": true,
         "type": "scatter",
         "x": [
          "1971",
          "1972",
          "1973",
          "1974",
          "1975",
          "1976",
          "1977",
          "1978",
          "1979",
          "1980",
          "1981",
          "1982",
          "1983",
          "1984",
          "1985",
          "1986",
          "1987",
          "1988",
          "1989",
          "1990",
          "1991",
          "1992",
          "1993",
          "1994",
          "1995",
          "1996",
          "1997",
          "1998",
          "1999",
          "2000",
          "2001",
          "2002",
          "2003",
          "2004",
          "2005",
          "2006",
          "2007",
          "2008",
          "2009",
          "2010",
          "2011",
          "2012",
          "2013",
          "2014"
         ],
         "xaxis": "x",
         "y": [
          -657.248334438266,
          -636.505156048007,
          -432.42018377659,
          -404.996734937752,
          -367.0683361813,
          -279.93337919841,
          -382.900901786333,
          -361.379957484474,
          -300.301476969066,
          -327.351080276895,
          -317.204864808953,
          -203.162787828031,
          -194.070342248185,
          -209.578697868219,
          -166.513314264609,
          -203.606600496836,
          -219.229495568031,
          -186.065376979168,
          -186.540253407945,
          -173.388948257832,
          -173.558443473899,
          -161.53026049757,
          -153.836666371532,
          -135.927328027532,
          -135.525879373426,
          -139.4878306424,
          -122.455193022633,
          -117.052824768194,
          -117.645157826785,
          -110.021596732478,
          -104.718517447385,
          -101.828986537286,
          -94.2008852930528,
          -91.9752138082236,
          -75.6655028542399,
          -66.9989277694232,
          -63.1854939780943,
          -55.7653049819932,
          -60.7154635861878,
          -59.525702964544,
          -63.2179768463029,
          -58.330635620874,
          -60.8813007394347,
          -61.5842547697783
         ],
         "yaxis": "y"
        },
        {
         "hovertemplate": "Country_Name=Brunei Darussalam<br>Year=%{x}<br>Energy Imports, net (% of Energy Use)=%{y}<extra></extra>",
         "legendgroup": "Brunei Darussalam",
         "line": {
          "color": "#1CA71C",
          "dash": "solid"
         },
         "marker": {
          "symbol": "circle"
         },
         "mode": "lines",
         "name": "Brunei Darussalam",
         "orientation": "v",
         "showlegend": true,
         "type": "scatter",
         "x": [
          "1971",
          "1972",
          "1973",
          "1974",
          "1975",
          "1976",
          "1977",
          "1978",
          "1979",
          "1980",
          "1981",
          "1982",
          "1983",
          "1984",
          "1985",
          "1986",
          "1987",
          "1988",
          "1989",
          "1990",
          "1991",
          "1992",
          "1993",
          "1994",
          "1995",
          "1996",
          "1997",
          "1998",
          "1999",
          "2000",
          "2001",
          "2002",
          "2003",
          "2004",
          "2005",
          "2006",
          "2007",
          "2008",
          "2009",
          "2010",
          "2011",
          "2012",
          "2013",
          "2014"
         ],
         "xaxis": "x",
         "y": [
          -3651.91781517441,
          -5228.08704424597,
          -3719.783480283,
          -2190.06745970268,
          -1827.15567135492,
          -1709.47879969965,
          -1688.65292377547,
          -1817.69554250677,
          -1881.14659761886,
          -1466.02098562184,
          -1186.77401358189,
          -1115.32078664231,
          -1065.96366253362,
          -864.833394692672,
          -801.305827887474,
          -899.09586154773,
          -867.337158129997,
          -1034.62900120607,
          -885.828439376765,
          -805.789431624981,
          -737.903776320324,
          -734.423980911286,
          -749.625798088792,
          -839.360306111186,
          -711.7893373624,
          -681.187465295339,
          -651.149477934202,
          -629.187508490052,
          -683.452774250343,
          -725.508428160801,
          -799.196782964715,
          -839.333573129704,
          -746.201598045458,
          -803.435958392657,
          -849.55521188867,
          -608.136737784708,
          -542.866744173652,
          -495.880028340207,
          -522.428639880426,
          -473.19072663497,
          -382.704805332459,
          -383.542312546638,
          -458.372543437915,
          -357.394379176148
         ],
         "yaxis": "y"
        },
        {
         "hovertemplate": "Country_Name=Canada<br>Year=%{x}<br>Energy Imports, net (% of Energy Use)=%{y}<extra></extra>",
         "legendgroup": "Canada",
         "line": {
          "color": "#FB0D0D",
          "dash": "solid"
         },
         "marker": {
          "symbol": "circle"
         },
         "mode": "lines",
         "name": "Canada",
         "orientation": "v",
         "showlegend": true,
         "type": "scatter",
         "x": [
          "1971",
          "1972",
          "1973",
          "1974",
          "1975",
          "1976",
          "1977",
          "1978",
          "1979",
          "1980",
          "1981",
          "1982",
          "1983",
          "1984",
          "1985",
          "1986",
          "1987",
          "1988",
          "1989",
          "1990",
          "1991",
          "1992",
          "1993",
          "1994",
          "1995",
          "1996",
          "1997",
          "1998",
          "1999",
          "2000",
          "2001",
          "2002",
          "2003",
          "2004",
          "2005",
          "2006",
          "2007",
          "2008",
          "2009",
          "2010",
          "2011",
          "2012",
          "2013",
          "2014"
         ],
         "xaxis": "x",
         "y": [
          -10.2487186529216,
          -15.9496427113397,
          -24.3962538423359,
          -18.6512960048482,
          -13.018307809907,
          -6.48667935266337,
          -7.71002990655884,
          -5.43734640104809,
          -10.4350637632291,
          -7.93487452155856,
          -6.87490725349191,
          -12.345262194916,
          -15.4200029612334,
          -21.2122781620415,
          -24.9984455266849,
          -22.0922006629074,
          -24.554389083384,
          -29.1182014829697,
          -26.1482154488329,
          -30.8357552368878,
          -36.560282500619,
          -37.5403847825118,
          -42.8923862174091,
          -47.8357572141914,
          -50.505881068043,
          -51.2684199598067,
          -52.3839011182034,
          -53.5360828039117,
          -48.7356760905854,
          -47.8043564157088,
          -51.6681952783461,
          -54.1240941269592,
          -47.0464527990546,
          -48.2377563683902,
          -48.9536448704213,
          -53.8094922964823,
          -53.2917175763433,
          -50.4282560415369,
          -50.1977151257696,
          -51.374873798441,
          -52.9620789163126,
          -59.1141604001908,
          -64.4437480511021,
          -67.9272217430383
         ],
         "yaxis": "y"
        },
        {
         "hovertemplate": "Country_Name=Finland<br>Year=%{x}<br>Energy Imports, net (% of Energy Use)=%{y}<extra></extra>",
         "legendgroup": "Finland",
         "line": {
          "color": "#DA16FF",
          "dash": "solid"
         },
         "marker": {
          "symbol": "circle"
         },
         "mode": "lines",
         "name": "Finland",
         "orientation": "v",
         "showlegend": true,
         "type": "scatter",
         "x": [
          "1971",
          "1972",
          "1973",
          "1974",
          "1975",
          "1976",
          "1977",
          "1978",
          "1979",
          "1980",
          "1981",
          "1982",
          "1983",
          "1984",
          "1985",
          "1986",
          "1987",
          "1988",
          "1989",
          "1990",
          "1991",
          "1992",
          "1993",
          "1994",
          "1995",
          "1996",
          "1997",
          "1998",
          "1999",
          "2000",
          "2001",
          "2002",
          "2003",
          "2004",
          "2005",
          "2006",
          "2007",
          "2008",
          "2009",
          "2010",
          "2011",
          "2012",
          "2013",
          "2014"
         ],
         "xaxis": "x",
         "y": [
          72.5718937502099,
          74.9018623194175,
          76.781002048912,
          75.7543781565552,
          77.822518633564,
          80.2625931411945,
          76.3745139077052,
          75.9088133010969,
          72.8010045620859,
          71.8989248027842,
          62.1573296492205,
          56.4778955428865,
          56.54897825192,
          56.0765579938701,
          59.8357140241552,
          58.0160001246098,
          63.6358323852526,
          59.4684559947012,
          59.2147658525655,
          57.4327727149932,
          61.206942270726,
          55.3217465059428,
          58.4954969415296,
          57.2256188602005,
          54.4968647103425,
          56.2369988084769,
          53.3833123140875,
          58.2779916759597,
          52.5476158487731,
          53.9228858518656,
          53.7819722100073,
          53.9634026542776,
          56.8084869179459,
          57.412209372385,
          51.4599869705152,
          51.3241121979623,
          56.1671491505865,
          53.3535732143876,
          50.2790742315822,
          52.2354339314894,
          51.1549180720642,
          49.0107821085903,
          45.3050561641201,
          46.1972755140458
         ],
         "yaxis": "y"
        },
        {
         "hovertemplate": "Country_Name=Iceland<br>Year=%{x}<br>Energy Imports, net (% of Energy Use)=%{y}<extra></extra>",
         "legendgroup": "Iceland",
         "line": {
          "color": "#222A2A",
          "dash": "solid"
         },
         "marker": {
          "symbol": "circle"
         },
         "mode": "lines",
         "name": "Iceland",
         "orientation": "v",
         "showlegend": true,
         "type": "scatter",
         "x": [
          "1971",
          "1972",
          "1973",
          "1974",
          "1975",
          "1976",
          "1977",
          "1978",
          "1979",
          "1980",
          "1981",
          "1982",
          "1983",
          "1984",
          "1985",
          "1986",
          "1987",
          "1988",
          "1989",
          "1990",
          "1991",
          "1992",
          "1993",
          "1994",
          "1995",
          "1996",
          "1997",
          "1998",
          "1999",
          "2000",
          "2001",
          "2002",
          "2003",
          "2004",
          "2005",
          "2006",
          "2007",
          "2008",
          "2009",
          "2010",
          "2011",
          "2012",
          "2013",
          "2014"
         ],
         "xaxis": "x",
         "y": [
          53.1285150843177,
          50.1786580936839,
          51.6138057783606,
          51.9391214989656,
          47.6649691092799,
          45.0761916415612,
          45.5532299947454,
          44.445245210743,
          42.5506756412183,
          39.5979992156669,
          33.8214734147873,
          29.8068335224753,
          28.4576397287184,
          30.6531908359029,
          29.2664069550602,
          31.0107319678987,
          31.8734192416915,
          30.3176571407962,
          30.1613998722831,
          28.6399137949644,
          27.8386179083014,
          29.7638545885607,
          30.0456102176448,
          29.9821142205997,
          29.2891256678656,
          30.7364190725803,
          29.7508367742407,
          28.0253167010436,
          24.4679624642253,
          22.622225912865,
          22.8911218928315,
          23.085943623589,
          22.8737554092525,
          24.0893859837468,
          23.6589479198319,
          19.7134342649421,
          16.1512741050879,
          13.1670498667389,
          12.1703357604172,
          11.5197730356026,
          10.2549353235755,
          10.3306966127756,
          10.4389197249409,
          10.9633522331564
         ],
         "yaxis": "y"
        },
        {
         "hovertemplate": "Country_Name=Kuwait<br>Year=%{x}<br>Energy Imports, net (% of Energy Use)=%{y}<extra></extra>",
         "legendgroup": "Kuwait",
         "line": {
          "color": "#B68100",
          "dash": "solid"
         },
         "marker": {
          "symbol": "circle"
         },
         "mode": "lines",
         "name": "Kuwait",
         "orientation": "v",
         "showlegend": true,
         "type": "scatter",
         "x": [
          "1971",
          "1972",
          "1973",
          "1974",
          "1975",
          "1976",
          "1977",
          "1978",
          "1979",
          "1980",
          "1981",
          "1982",
          "1983",
          "1984",
          "1985",
          "1986",
          "1987",
          "1988",
          "1989",
          "1990",
          "1991",
          "1992",
          "1993",
          "1994",
          "1995",
          "1996",
          "1997",
          "1998",
          "1999",
          "2000",
          "2001",
          "2002",
          "2003",
          "2004",
          "2005",
          "2006",
          "2007",
          "2008",
          "2009",
          "2010",
          "2011",
          "2012",
          "2013",
          "2014"
         ],
         "xaxis": "x",
         "y": [
          -2534.27661630107,
          -2469.79608530149,
          -2147.66124852272,
          -1894.20808203823,
          -1625.8722595946,
          -1529.6738281325,
          -1291.88084287535,
          -1296.2817632556,
          -1228.00776759208,
          -795.388343756409,
          -518.396006967085,
          -304.876299161046,
          -390.757009132446,
          -429.997120688851,
          -333.314434408505,
          -328.481754323055,
          -321.404926237264,
          -311.060957916489,
          -319.88310786522,
          -452.990449872755,
          -273.305823074883,
          -577.162341236164,
          -766.214366669431,
          -689.355613994088,
          -676.708568212928,
          -691.96028923799,
          -683.508794351058,
          -599.383538316259,
          -497.551589374871,
          -510.296851096168,
          -460.248052379028,
          -390.398975513749,
          -452.011901700969,
          -462.604802485673,
          -458.383985200343,
          -487.868993734554,
          -458.873319016302,
          -433.040321297113,
          -315.265360146238,
          -319.47316868179,
          -376.210349800657,
          -365.445690392742,
          -387.609308657237,
          -391.05848581964
         ],
         "yaxis": "y"
        },
        {
         "hovertemplate": "Country_Name=Luxembourg<br>Year=%{x}<br>Energy Imports, net (% of Energy Use)=%{y}<extra></extra>",
         "legendgroup": "Luxembourg",
         "line": {
          "color": "#750D86",
          "dash": "solid"
         },
         "marker": {
          "symbol": "circle"
         },
         "mode": "lines",
         "name": "Luxembourg",
         "orientation": "v",
         "showlegend": true,
         "type": "scatter",
         "x": [
          "1971",
          "1972",
          "1973",
          "1974",
          "1975",
          "1976",
          "1977",
          "1978",
          "1979",
          "1980",
          "1981",
          "1982",
          "1983",
          "1984",
          "1985",
          "1986",
          "1987",
          "1988",
          "1989",
          "1990",
          "1991",
          "1992",
          "1993",
          "1994",
          "1995",
          "1996",
          "1997",
          "1998",
          "1999",
          "2000",
          "2001",
          "2002",
          "2003",
          "2004",
          "2005",
          "2006",
          "2007",
          "2008",
          "2009",
          "2010",
          "2011",
          "2012",
          "2013",
          "2014"
         ],
         "xaxis": "x",
         "y": [
          99.8835598009045,
          99.8657062541727,
          99.9088137942485,
          99.8456358944771,
          99.8380699078674,
          99.8972062498392,
          99.3469456327393,
          99.3974852315171,
          99.3117403892548,
          99.1735214453738,
          99.0276570832539,
          99.0269344939499,
          98.974667404084,
          98.9590542711006,
          98.9979966467028,
          99.1319165011686,
          98.8544060678174,
          98.7999082305933,
          98.9284754138236,
          99.1500266926205,
          99.1572125773598,
          98.7449196210615,
          98.8004217867403,
          98.7252711520237,
          98.5848094817352,
          98.8298969088303,
          98.6325884103985,
          98.2314365812749,
          98.2900982977703,
          98.1000798948111,
          97.9563517057687,
          98.0136824645482,
          98.0779869118816,
          97.9940181446203,
          97.567515989354,
          97.3630083336929,
          97.2042610917154,
          97.059477688263,
          97.1960468219026,
          97.1974971191104,
          97.294404974314,
          96.9960239664435,
          96.6269935154432,
          96.0021367767681
         ],
         "yaxis": "y"
        },
        {
         "hovertemplate": "Country_Name=Norway<br>Year=%{x}<br>Energy Imports, net (% of Energy Use)=%{y}<extra></extra>",
         "legendgroup": "Norway",
         "line": {
          "color": "#EB663B",
          "dash": "solid"
         },
         "marker": {
          "symbol": "circle"
         },
         "mode": "lines",
         "name": "Norway",
         "orientation": "v",
         "showlegend": true,
         "type": "scatter",
         "x": [
          "1971",
          "1972",
          "1973",
          "1974",
          "1975",
          "1976",
          "1977",
          "1978",
          "1979",
          "1980",
          "1981",
          "1982",
          "1983",
          "1984",
          "1985",
          "1986",
          "1987",
          "1988",
          "1989",
          "1990",
          "1991",
          "1992",
          "1993",
          "1994",
          "1995",
          "1996",
          "1997",
          "1998",
          "1999",
          "2000",
          "2001",
          "2002",
          "2003",
          "2004",
          "2005",
          "2006",
          "2007",
          "2008",
          "2009",
          "2010",
          "2011",
          "2012",
          "2013",
          "2014"
         ],
         "xaxis": "x",
         "y": [
          54.7449233694409,
          44.3937021863119,
          43.5706863591072,
          39.8891897068267,
          -10.4846929919633,
          -36.7417388766387,
          -42.0975543015095,
          -109.06582521722,
          -152.882542810251,
          -200.152161386426,
          -206.639770957374,
          -216.651044191421,
          -248.250603041317,
          -260.851211532043,
          -263.918949844536,
          -258.456269787837,
          -310.275931685107,
          -369.270958393381,
          -437.021509502313,
          -467.106796927604,
          -504.262742671731,
          -565.312005074261,
          -559.84652351194,
          -639.812352712519,
          -687.171841948525,
          -812.016975140792,
          -784.422638919766,
          -719.755436819147,
          -696.52984463688,
          -771.483646129179,
          -744.036940268268,
          -843.48187881192,
          -768.207693986214,
          -764.518176254629,
          -736.371827032457,
          -693.015544770935,
          -680.484286829878,
          -588.736251313266,
          -594.186786522607,
          -512.231482126258,
          -611.501280220988,
          -584.362913455959,
          -494.815747774818,
          -582.899339376479
         ],
         "yaxis": "y"
        },
        {
         "hovertemplate": "Country_Name=Qatar<br>Year=%{x}<br>Energy Imports, net (% of Energy Use)=%{y}<extra></extra>",
         "legendgroup": "Qatar",
         "line": {
          "color": "#511CFB",
          "dash": "solid"
         },
         "marker": {
          "symbol": "circle"
         },
         "mode": "lines",
         "name": "Qatar",
         "orientation": "v",
         "showlegend": true,
         "type": "scatter",
         "x": [
          "1971",
          "1972",
          "1973",
          "1974",
          "1975",
          "1976",
          "1977",
          "1978",
          "1979",
          "1980",
          "1981",
          "1982",
          "1983",
          "1984",
          "1985",
          "1986",
          "1987",
          "1988",
          "1989",
          "1990",
          "1991",
          "1992",
          "1993",
          "1994",
          "1995",
          "1996",
          "1997",
          "1998",
          "1999",
          "2000",
          "2001",
          "2002",
          "2003",
          "2004",
          "2005",
          "2006",
          "2007",
          "2008",
          "2009",
          "2010",
          "2011",
          "2012",
          "2013",
          "2014"
         ],
         "xaxis": "x",
         "y": [
          -2278.89631323217,
          -2357.57349294654,
          -1961.64353344893,
          -2046.74327167564,
          -1058.89632323327,
          -1614.46093764315,
          -1245.52468566793,
          -1455.25149379359,
          -877.020696413545,
          -699.483631470912,
          -488.371057093313,
          -340.474168266737,
          -299.968831005659,
          -364.698078489798,
          -275.321882141684,
          -274.873488606889,
          -241.056298606546,
          -252.874018632874,
          -295.83301335143,
          -324.326252436229,
          -287.54680597754,
          -288.111510374559,
          -267.373006547284,
          -261.224737087704,
          -253.776898211085,
          -242.40607486255,
          -295.762339049045,
          -331.79796366211,
          -371.843299600861,
          -444.574447900187,
          -422.25420662634,
          -398.582650562198,
          -412.14327862586,
          -405.574294522309,
          -435.982051009251,
          -407.381747738616,
          -404.421025697622,
          -491.147171332341,
          -487.874422078176,
          -545.208132299773,
          -524.79253968293,
          -444.127637141325,
          -455.172286951621,
          -398.991186700817
         ],
         "yaxis": "y"
        },
        {
         "hovertemplate": "Country_Name=Sweden<br>Year=%{x}<br>Energy Imports, net (% of Energy Use)=%{y}<extra></extra>",
         "legendgroup": "Sweden",
         "line": {
          "color": "#00A08B",
          "dash": "solid"
         },
         "marker": {
          "symbol": "circle"
         },
         "mode": "lines",
         "name": "Sweden",
         "orientation": "v",
         "showlegend": true,
         "type": "scatter",
         "x": [
          "1971",
          "1972",
          "1973",
          "1974",
          "1975",
          "1976",
          "1977",
          "1978",
          "1979",
          "1980",
          "1981",
          "1982",
          "1983",
          "1984",
          "1985",
          "1986",
          "1987",
          "1988",
          "1989",
          "1990",
          "1991",
          "1992",
          "1993",
          "1994",
          "1995",
          "1996",
          "1997",
          "1998",
          "1999",
          "2000",
          "2001",
          "2002",
          "2003",
          "2004",
          "2005",
          "2006",
          "2007",
          "2008",
          "2009",
          "2010",
          "2011",
          "2012",
          "2013",
          "2014"
         ],
         "xaxis": "x",
         "y": [
          79.5066514275922,
          78.5345551818713,
          76.1813242782107,
          75.5284742197612,
          70.0281542284196,
          70.6911041707364,
          68.4064696654386,
          64.1499246613373,
          66.1452473521982,
          60.1620579341084,
          54.5865850630955,
          52.9721994652068,
          49.2925523136664,
          44.1446799709543,
          43.125455920272,
          40.924730903514,
          39.2403116581113,
          39.5718248403539,
          39.0010450950836,
          37.106640619339,
          35.4574494472842,
          36.6676727816658,
          36.9599973818576,
          37.1088118242142,
          36.7428919864621,
          37.9143217572288,
          35.33219055825,
          33.4405647780803,
          33.7161575502398,
          35.8208060124411,
          32.9084931259181,
          38.53408654236,
          38.905709239167,
          34.7130237463027,
          32.760965955636,
          34.6109333353517,
          32.9125455621917,
          32.9994453771043,
          33.1674268843326,
          34.9959359587645,
          33.1893849090525,
          27.8671405373543,
          28.9998175016763,
          28.2711850989684
         ],
         "yaxis": "y"
        },
        {
         "hovertemplate": "Country_Name=Trinidad and Tobago<br>Year=%{x}<br>Energy Imports, net (% of Energy Use)=%{y}<extra></extra>",
         "legendgroup": "Trinidad and Tobago",
         "line": {
          "color": "#FB00D1",
          "dash": "solid"
         },
         "marker": {
          "symbol": "circle"
         },
         "mode": "lines",
         "name": "Trinidad and Tobago",
         "orientation": "v",
         "showlegend": true,
         "type": "scatter",
         "x": [
          "1971",
          "1972",
          "1973",
          "1974",
          "1975",
          "1976",
          "1977",
          "1978",
          "1979",
          "1980",
          "1981",
          "1982",
          "1983",
          "1984",
          "1985",
          "1986",
          "1987",
          "1988",
          "1989",
          "1990",
          "1991",
          "1992",
          "1993",
          "1994",
          "1995",
          "1996",
          "1997",
          "1998",
          "1999",
          "2000",
          "2001",
          "2002",
          "2003",
          "2004",
          "2005",
          "2006",
          "2007",
          "2008",
          "2009",
          "2010",
          "2011",
          "2012",
          "2013",
          "2014"
         ],
         "xaxis": "x",
         "y": [
          -209.613920518311,
          -226.400077730392,
          -278.211447677726,
          -307.063409126173,
          -425.674484043238,
          -374.454007693704,
          -355.797066956604,
          -289.603502782119,
          -256.992786844825,
          -243.706949632556,
          -200.99681694702,
          -198.251257584337,
          -170.173041786887,
          -158.942920117743,
          -152.089913790123,
          -136.017773905533,
          -140.230111202571,
          -126.628786975348,
          -131.629912184135,
          -110.932023319957,
          -105.803122496061,
          -89.127759639458,
          -85.1201784619572,
          -95.1346951168772,
          -98.2495810556665,
          -77.619789626996,
          -87.809702409119,
          -74.4834958364594,
          -73.1982527703132,
          -93.493035998806,
          -79.0051066748259,
          -92.654202507446,
          -125.406785647594,
          -129.469088882194,
          -116.662973696351,
          -125.695111165289,
          -115.85667293555,
          -120.209684181276,
          -121.224398600788,
          -112.02977876773,
          -104.81811710129,
          -106.862188011575,
          -103.545368618398,
          -102.662737330464
         ],
         "yaxis": "y"
        },
        {
         "hovertemplate": "Country_Name=United Arab Emirates<br>Year=%{x}<br>Energy Imports, net (% of Energy Use)=%{y}<extra></extra>",
         "legendgroup": "United Arab Emirates",
         "line": {
          "color": "#FC0080",
          "dash": "solid"
         },
         "marker": {
          "symbol": "circle"
         },
         "mode": "lines",
         "name": "United Arab Emirates",
         "orientation": "v",
         "showlegend": true,
         "type": "scatter",
         "x": [
          "1971",
          "1972",
          "1973",
          "1974",
          "1975",
          "1976",
          "1977",
          "1978",
          "1979",
          "1980",
          "1981",
          "1982",
          "1983",
          "1984",
          "1985",
          "1986",
          "1987",
          "1988",
          "1989",
          "1990",
          "1991",
          "1992",
          "1993",
          "1994",
          "1995",
          "1996",
          "1997",
          "1998",
          "1999",
          "2000",
          "2001",
          "2002",
          "2003",
          "2004",
          "2005",
          "2006",
          "2007",
          "2008",
          "2009",
          "2010",
          "2011",
          "2012",
          "2013",
          "2014"
         ],
         "xaxis": "x",
         "y": [
          -5116.127119649,
          -5588.7293218204,
          -5734.55040638071,
          -6106.88421843755,
          -4258.01668326115,
          -3842.63742265398,
          -2365.80416743967,
          -1883.33713113701,
          -1612.65153059072,
          -1147.41413330214,
          -829.979227888895,
          -634.534010189252,
          -611.182982924691,
          -432.410423816868,
          -362.228359601674,
          -369.883003129503,
          -363.066417957467,
          -371.659482382113,
          -393.384174845835,
          -439.553111532586,
          -441.926854026259,
          -499.196571731654,
          -458.344879858301,
          -412.653231500643,
          -394.967458765432,
          -379.016629771755,
          -376.872349469631,
          -376.628531178432,
          -341.434733998228,
          -388.166374977984,
          -285.944906952115,
          -271.816526365869,
          -313.704278904143,
          -306.340317757657,
          -294.154192845882,
          -300.816708967335,
          -265.599187761877,
          -212.820850154585,
          -179.80683983111,
          -181.459592298821,
          -191.249161744695,
          -183.354428506649,
          -187.524243326506,
          -183.843970434642
         ],
         "yaxis": "y"
        },
        {
         "hovertemplate": "Country_Name=United States<br>Year=%{x}<br>Energy Imports, net (% of Energy Use)=%{y}<extra></extra>",
         "legendgroup": "United States",
         "line": {
          "color": "#B2828D",
          "dash": "solid"
         },
         "marker": {
          "symbol": "circle"
         },
         "mode": "lines",
         "name": "United States",
         "orientation": "v",
         "showlegend": true,
         "type": "scatter",
         "x": [
          "1971",
          "1972",
          "1973",
          "1974",
          "1975",
          "1976",
          "1977",
          "1978",
          "1979",
          "1980",
          "1981",
          "1982",
          "1983",
          "1984",
          "1985",
          "1986",
          "1987",
          "1988",
          "1989",
          "1990",
          "1991",
          "1992",
          "1993",
          "1994",
          "1995",
          "1996",
          "1997",
          "1998",
          "1999",
          "2000",
          "2001",
          "2002",
          "2003",
          "2004",
          "2005",
          "2006",
          "2007",
          "2008",
          "2009",
          "2010",
          "2011",
          "2012",
          "2013",
          "2014"
         ],
         "xaxis": "x",
         "y": [
          9.51537451898334,
          12.1318125624245,
          15.8218004340444,
          15.5511744664603,
          14.8712458060153,
          19.694418966796,
          20.8085095303747,
          21.9235616320309,
          18.5741089628757,
          13.9313696085034,
          11.801346091942,
          9.04865570986495,
          12.7705810086971,
          9.51353880131994,
          11.5371937535261,
          12.0486465321885,
          13.8549791345335,
          15.668952653384,
          16.9955043022868,
          13.7096309133924,
          14.9427076463954,
          16.3385296201642,
          20.287092675434,
          18.7960037621226,
          19.7408464242136,
          20.5835348178363,
          21.5098249494927,
          21.5698941494774,
          24.4574111759769,
          26.6594195867123,
          24.3005371666905,
          26.60412855113,
          27.726180617665,
          28.6955706933386,
          29.6591792835944,
          27.9721234263917,
          28.585606884949,
          25.2640713700468,
          22.1249837026312,
          22.2092008982127,
          18.554976759716,
          15.6917290892051,
          13.9434315101907,
          9.21446550107214
         ],
         "yaxis": "y"
        }
       ],
       "layout": {
        "legend": {
         "title": {
          "text": "Country_Name"
         },
         "tracegroupgap": 0
        },
        "template": {
         "data": {
          "bar": [
           {
            "error_x": {
             "color": "#2a3f5f"
            },
            "error_y": {
             "color": "#2a3f5f"
            },
            "marker": {
             "line": {
              "color": "#E5ECF6",
              "width": 0.5
             },
             "pattern": {
              "fillmode": "overlay",
              "size": 10,
              "solidity": 0.2
             }
            },
            "type": "bar"
           }
          ],
          "barpolar": [
           {
            "marker": {
             "line": {
              "color": "#E5ECF6",
              "width": 0.5
             },
             "pattern": {
              "fillmode": "overlay",
              "size": 10,
              "solidity": 0.2
             }
            },
            "type": "barpolar"
           }
          ],
          "carpet": [
           {
            "aaxis": {
             "endlinecolor": "#2a3f5f",
             "gridcolor": "white",
             "linecolor": "white",
             "minorgridcolor": "white",
             "startlinecolor": "#2a3f5f"
            },
            "baxis": {
             "endlinecolor": "#2a3f5f",
             "gridcolor": "white",
             "linecolor": "white",
             "minorgridcolor": "white",
             "startlinecolor": "#2a3f5f"
            },
            "type": "carpet"
           }
          ],
          "choropleth": [
           {
            "colorbar": {
             "outlinewidth": 0,
             "ticks": ""
            },
            "type": "choropleth"
           }
          ],
          "contour": [
           {
            "colorbar": {
             "outlinewidth": 0,
             "ticks": ""
            },
            "colorscale": [
             [
              0,
              "#0d0887"
             ],
             [
              0.1111111111111111,
              "#46039f"
             ],
             [
              0.2222222222222222,
              "#7201a8"
             ],
             [
              0.3333333333333333,
              "#9c179e"
             ],
             [
              0.4444444444444444,
              "#bd3786"
             ],
             [
              0.5555555555555556,
              "#d8576b"
             ],
             [
              0.6666666666666666,
              "#ed7953"
             ],
             [
              0.7777777777777778,
              "#fb9f3a"
             ],
             [
              0.8888888888888888,
              "#fdca26"
             ],
             [
              1,
              "#f0f921"
             ]
            ],
            "type": "contour"
           }
          ],
          "contourcarpet": [
           {
            "colorbar": {
             "outlinewidth": 0,
             "ticks": ""
            },
            "type": "contourcarpet"
           }
          ],
          "heatmap": [
           {
            "colorbar": {
             "outlinewidth": 0,
             "ticks": ""
            },
            "colorscale": [
             [
              0,
              "#0d0887"
             ],
             [
              0.1111111111111111,
              "#46039f"
             ],
             [
              0.2222222222222222,
              "#7201a8"
             ],
             [
              0.3333333333333333,
              "#9c179e"
             ],
             [
              0.4444444444444444,
              "#bd3786"
             ],
             [
              0.5555555555555556,
              "#d8576b"
             ],
             [
              0.6666666666666666,
              "#ed7953"
             ],
             [
              0.7777777777777778,
              "#fb9f3a"
             ],
             [
              0.8888888888888888,
              "#fdca26"
             ],
             [
              1,
              "#f0f921"
             ]
            ],
            "type": "heatmap"
           }
          ],
          "heatmapgl": [
           {
            "colorbar": {
             "outlinewidth": 0,
             "ticks": ""
            },
            "colorscale": [
             [
              0,
              "#0d0887"
             ],
             [
              0.1111111111111111,
              "#46039f"
             ],
             [
              0.2222222222222222,
              "#7201a8"
             ],
             [
              0.3333333333333333,
              "#9c179e"
             ],
             [
              0.4444444444444444,
              "#bd3786"
             ],
             [
              0.5555555555555556,
              "#d8576b"
             ],
             [
              0.6666666666666666,
              "#ed7953"
             ],
             [
              0.7777777777777778,
              "#fb9f3a"
             ],
             [
              0.8888888888888888,
              "#fdca26"
             ],
             [
              1,
              "#f0f921"
             ]
            ],
            "type": "heatmapgl"
           }
          ],
          "histogram": [
           {
            "marker": {
             "pattern": {
              "fillmode": "overlay",
              "size": 10,
              "solidity": 0.2
             }
            },
            "type": "histogram"
           }
          ],
          "histogram2d": [
           {
            "colorbar": {
             "outlinewidth": 0,
             "ticks": ""
            },
            "colorscale": [
             [
              0,
              "#0d0887"
             ],
             [
              0.1111111111111111,
              "#46039f"
             ],
             [
              0.2222222222222222,
              "#7201a8"
             ],
             [
              0.3333333333333333,
              "#9c179e"
             ],
             [
              0.4444444444444444,
              "#bd3786"
             ],
             [
              0.5555555555555556,
              "#d8576b"
             ],
             [
              0.6666666666666666,
              "#ed7953"
             ],
             [
              0.7777777777777778,
              "#fb9f3a"
             ],
             [
              0.8888888888888888,
              "#fdca26"
             ],
             [
              1,
              "#f0f921"
             ]
            ],
            "type": "histogram2d"
           }
          ],
          "histogram2dcontour": [
           {
            "colorbar": {
             "outlinewidth": 0,
             "ticks": ""
            },
            "colorscale": [
             [
              0,
              "#0d0887"
             ],
             [
              0.1111111111111111,
              "#46039f"
             ],
             [
              0.2222222222222222,
              "#7201a8"
             ],
             [
              0.3333333333333333,
              "#9c179e"
             ],
             [
              0.4444444444444444,
              "#bd3786"
             ],
             [
              0.5555555555555556,
              "#d8576b"
             ],
             [
              0.6666666666666666,
              "#ed7953"
             ],
             [
              0.7777777777777778,
              "#fb9f3a"
             ],
             [
              0.8888888888888888,
              "#fdca26"
             ],
             [
              1,
              "#f0f921"
             ]
            ],
            "type": "histogram2dcontour"
           }
          ],
          "mesh3d": [
           {
            "colorbar": {
             "outlinewidth": 0,
             "ticks": ""
            },
            "type": "mesh3d"
           }
          ],
          "parcoords": [
           {
            "line": {
             "colorbar": {
              "outlinewidth": 0,
              "ticks": ""
             }
            },
            "type": "parcoords"
           }
          ],
          "pie": [
           {
            "automargin": true,
            "type": "pie"
           }
          ],
          "scatter": [
           {
            "marker": {
             "colorbar": {
              "outlinewidth": 0,
              "ticks": ""
             }
            },
            "type": "scatter"
           }
          ],
          "scatter3d": [
           {
            "line": {
             "colorbar": {
              "outlinewidth": 0,
              "ticks": ""
             }
            },
            "marker": {
             "colorbar": {
              "outlinewidth": 0,
              "ticks": ""
             }
            },
            "type": "scatter3d"
           }
          ],
          "scattercarpet": [
           {
            "marker": {
             "colorbar": {
              "outlinewidth": 0,
              "ticks": ""
             }
            },
            "type": "scattercarpet"
           }
          ],
          "scattergeo": [
           {
            "marker": {
             "colorbar": {
              "outlinewidth": 0,
              "ticks": ""
             }
            },
            "type": "scattergeo"
           }
          ],
          "scattergl": [
           {
            "marker": {
             "colorbar": {
              "outlinewidth": 0,
              "ticks": ""
             }
            },
            "type": "scattergl"
           }
          ],
          "scattermapbox": [
           {
            "marker": {
             "colorbar": {
              "outlinewidth": 0,
              "ticks": ""
             }
            },
            "type": "scattermapbox"
           }
          ],
          "scatterpolar": [
           {
            "marker": {
             "colorbar": {
              "outlinewidth": 0,
              "ticks": ""
             }
            },
            "type": "scatterpolar"
           }
          ],
          "scatterpolargl": [
           {
            "marker": {
             "colorbar": {
              "outlinewidth": 0,
              "ticks": ""
             }
            },
            "type": "scatterpolargl"
           }
          ],
          "scatterternary": [
           {
            "marker": {
             "colorbar": {
              "outlinewidth": 0,
              "ticks": ""
             }
            },
            "type": "scatterternary"
           }
          ],
          "surface": [
           {
            "colorbar": {
             "outlinewidth": 0,
             "ticks": ""
            },
            "colorscale": [
             [
              0,
              "#0d0887"
             ],
             [
              0.1111111111111111,
              "#46039f"
             ],
             [
              0.2222222222222222,
              "#7201a8"
             ],
             [
              0.3333333333333333,
              "#9c179e"
             ],
             [
              0.4444444444444444,
              "#bd3786"
             ],
             [
              0.5555555555555556,
              "#d8576b"
             ],
             [
              0.6666666666666666,
              "#ed7953"
             ],
             [
              0.7777777777777778,
              "#fb9f3a"
             ],
             [
              0.8888888888888888,
              "#fdca26"
             ],
             [
              1,
              "#f0f921"
             ]
            ],
            "type": "surface"
           }
          ],
          "table": [
           {
            "cells": {
             "fill": {
              "color": "#EBF0F8"
             },
             "line": {
              "color": "white"
             }
            },
            "header": {
             "fill": {
              "color": "#C8D4E3"
             },
             "line": {
              "color": "white"
             }
            },
            "type": "table"
           }
          ]
         },
         "layout": {
          "annotationdefaults": {
           "arrowcolor": "#2a3f5f",
           "arrowhead": 0,
           "arrowwidth": 1
          },
          "autotypenumbers": "strict",
          "coloraxis": {
           "colorbar": {
            "outlinewidth": 0,
            "ticks": ""
           }
          },
          "colorscale": {
           "diverging": [
            [
             0,
             "#8e0152"
            ],
            [
             0.1,
             "#c51b7d"
            ],
            [
             0.2,
             "#de77ae"
            ],
            [
             0.3,
             "#f1b6da"
            ],
            [
             0.4,
             "#fde0ef"
            ],
            [
             0.5,
             "#f7f7f7"
            ],
            [
             0.6,
             "#e6f5d0"
            ],
            [
             0.7,
             "#b8e186"
            ],
            [
             0.8,
             "#7fbc41"
            ],
            [
             0.9,
             "#4d9221"
            ],
            [
             1,
             "#276419"
            ]
           ],
           "sequential": [
            [
             0,
             "#0d0887"
            ],
            [
             0.1111111111111111,
             "#46039f"
            ],
            [
             0.2222222222222222,
             "#7201a8"
            ],
            [
             0.3333333333333333,
             "#9c179e"
            ],
            [
             0.4444444444444444,
             "#bd3786"
            ],
            [
             0.5555555555555556,
             "#d8576b"
            ],
            [
             0.6666666666666666,
             "#ed7953"
            ],
            [
             0.7777777777777778,
             "#fb9f3a"
            ],
            [
             0.8888888888888888,
             "#fdca26"
            ],
            [
             1,
             "#f0f921"
            ]
           ],
           "sequentialminus": [
            [
             0,
             "#0d0887"
            ],
            [
             0.1111111111111111,
             "#46039f"
            ],
            [
             0.2222222222222222,
             "#7201a8"
            ],
            [
             0.3333333333333333,
             "#9c179e"
            ],
            [
             0.4444444444444444,
             "#bd3786"
            ],
            [
             0.5555555555555556,
             "#d8576b"
            ],
            [
             0.6666666666666666,
             "#ed7953"
            ],
            [
             0.7777777777777778,
             "#fb9f3a"
            ],
            [
             0.8888888888888888,
             "#fdca26"
            ],
            [
             1,
             "#f0f921"
            ]
           ]
          },
          "colorway": [
           "#636efa",
           "#EF553B",
           "#00cc96",
           "#ab63fa",
           "#FFA15A",
           "#19d3f3",
           "#FF6692",
           "#B6E880",
           "#FF97FF",
           "#FECB52"
          ],
          "font": {
           "color": "#2a3f5f"
          },
          "geo": {
           "bgcolor": "white",
           "lakecolor": "white",
           "landcolor": "#E5ECF6",
           "showlakes": true,
           "showland": true,
           "subunitcolor": "white"
          },
          "hoverlabel": {
           "align": "left"
          },
          "hovermode": "closest",
          "mapbox": {
           "style": "light"
          },
          "paper_bgcolor": "white",
          "plot_bgcolor": "#E5ECF6",
          "polar": {
           "angularaxis": {
            "gridcolor": "white",
            "linecolor": "white",
            "ticks": ""
           },
           "bgcolor": "#E5ECF6",
           "radialaxis": {
            "gridcolor": "white",
            "linecolor": "white",
            "ticks": ""
           }
          },
          "scene": {
           "xaxis": {
            "backgroundcolor": "#E5ECF6",
            "gridcolor": "white",
            "gridwidth": 2,
            "linecolor": "white",
            "showbackground": true,
            "ticks": "",
            "zerolinecolor": "white"
           },
           "yaxis": {
            "backgroundcolor": "#E5ECF6",
            "gridcolor": "white",
            "gridwidth": 2,
            "linecolor": "white",
            "showbackground": true,
            "ticks": "",
            "zerolinecolor": "white"
           },
           "zaxis": {
            "backgroundcolor": "#E5ECF6",
            "gridcolor": "white",
            "gridwidth": 2,
            "linecolor": "white",
            "showbackground": true,
            "ticks": "",
            "zerolinecolor": "white"
           }
          },
          "shapedefaults": {
           "line": {
            "color": "#2a3f5f"
           }
          },
          "ternary": {
           "aaxis": {
            "gridcolor": "white",
            "linecolor": "white",
            "ticks": ""
           },
           "baxis": {
            "gridcolor": "white",
            "linecolor": "white",
            "ticks": ""
           },
           "bgcolor": "#E5ECF6",
           "caxis": {
            "gridcolor": "white",
            "linecolor": "white",
            "ticks": ""
           }
          },
          "title": {
           "x": 0.05
          },
          "xaxis": {
           "automargin": true,
           "gridcolor": "white",
           "linecolor": "white",
           "ticks": "",
           "title": {
            "standoff": 15
           },
           "zerolinecolor": "white",
           "zerolinewidth": 2
          },
          "yaxis": {
           "automargin": true,
           "gridcolor": "white",
           "linecolor": "white",
           "ticks": "",
           "title": {
            "standoff": 15
           },
           "zerolinecolor": "white",
           "zerolinewidth": 2
          }
         }
        },
        "title": {
         "text": "Top 15 Countries with the Highest Average Energy Use Per Capita"
        },
        "xaxis": {
         "anchor": "y",
         "domain": [
          0,
          1
         ],
         "title": {
          "text": "Year"
         }
        },
        "yaxis": {
         "anchor": "x",
         "domain": [
          0,
          1
         ],
         "title": {
          "text": "Energy Imports, net (% of Energy Use)"
         }
        }
       }
      },
      "text/html": [
       "<div>                            <div id=\"e4a0cdce-6ced-4035-806c-5fd3a8296806\" class=\"plotly-graph-div\" style=\"height:525px; width:100%;\"></div>            <script type=\"text/javascript\">                require([\"plotly\"], function(Plotly) {                    window.PLOTLYENV=window.PLOTLYENV || {};                                    if (document.getElementById(\"e4a0cdce-6ced-4035-806c-5fd3a8296806\")) {                    Plotly.newPlot(                        \"e4a0cdce-6ced-4035-806c-5fd3a8296806\",                        [{\"hovertemplate\":\"Country_Name=Australia<br>Year=%{x}<br>Energy Imports, net (% of Energy Use)=%{y}<extra></extra>\",\"legendgroup\":\"Australia\",\"line\":{\"color\":\"#2E91E5\",\"dash\":\"solid\"},\"marker\":{\"symbol\":\"circle\"},\"mode\":\"lines\",\"name\":\"Australia\",\"orientation\":\"v\",\"showlegend\":true,\"type\":\"scatter\",\"x\":[\"1971\",\"1972\",\"1973\",\"1974\",\"1975\",\"1976\",\"1977\",\"1978\",\"1979\",\"1980\",\"1981\",\"1982\",\"1983\",\"1984\",\"1985\",\"1986\",\"1987\",\"1988\",\"1989\",\"1990\",\"1991\",\"1992\",\"1993\",\"1994\",\"1995\",\"1996\",\"1997\",\"1998\",\"1999\",\"2000\",\"2001\",\"2002\",\"2003\",\"2004\",\"2005\",\"2006\",\"2007\",\"2008\",\"2009\",\"2010\",\"2011\",\"2012\",\"2013\",\"2014\"],\"xaxis\":\"x\",\"y\":[-4.33555030976189,-17.4075132973397,-19.156857771308,-14.5479475393857,-24.1536323848913,-21.7158383397846,-24.062550282939,-22.7956957315391,-27.2748659579095,-22.7121625038292,-38.697961761871,-34.8646392301429,-53.479474543796,-63.6929772761729,-76.5548980484009,-84.2570938661338,-91.8299097949175,-75.862788440002,-72.0740064626526,-82.3704660974937,-96.085617657126,-98.3968470334151,-92.3545832140717,-90.8747580359827,-101.625326755943,-92.1329424199252,-98.4726193766084,-108.326749870398,-101.108797941455,-116.050707166061,-135.645551022818,-132.12721394128,-127.826018775984,-125.596553129462,-133.666023534249,-128.348970430208,-134.100166231418,-126.27199647896,-132.236460070314,-153.605591504432,-143.738620495545,-153.237178406375,-172.438340343449,-192.015924390399],\"yaxis\":\"y\"},{\"hovertemplate\":\"Country_Name=Bahrain<br>Year=%{x}<br>Energy Imports, net (% of Energy Use)=%{y}<extra></extra>\",\"legendgroup\":\"Bahrain\",\"line\":{\"color\":\"#E15F99\",\"dash\":\"solid\"},\"marker\":{\"symbol\":\"circle\"},\"mode\":\"lines\",\"name\":\"Bahrain\",\"orientation\":\"v\",\"showlegend\":true,\"type\":\"scatter\",\"x\":[\"1971\",\"1972\",\"1973\",\"1974\",\"1975\",\"1976\",\"1977\",\"1978\",\"1979\",\"1980\",\"1981\",\"1982\",\"1983\",\"1984\",\"1985\",\"1986\",\"1987\",\"1988\",\"1989\",\"1990\",\"1991\",\"1992\",\"1993\",\"1994\",\"1995\",\"1996\",\"1997\",\"1998\",\"1999\",\"2000\",\"2001\",\"2002\",\"2003\",\"2004\",\"2005\",\"2006\",\"2007\",\"2008\",\"2009\",\"2010\",\"2011\",\"2012\",\"2013\",\"2014\"],\"xaxis\":\"x\",\"y\":[-657.248334438266,-636.505156048007,-432.42018377659,-404.996734937752,-367.0683361813,-279.93337919841,-382.900901786333,-361.379957484474,-300.301476969066,-327.351080276895,-317.204864808953,-203.162787828031,-194.070342248185,-209.578697868219,-166.513314264609,-203.606600496836,-219.229495568031,-186.065376979168,-186.540253407945,-173.388948257832,-173.558443473899,-161.53026049757,-153.836666371532,-135.927328027532,-135.525879373426,-139.4878306424,-122.455193022633,-117.052824768194,-117.645157826785,-110.021596732478,-104.718517447385,-101.828986537286,-94.2008852930528,-91.9752138082236,-75.6655028542399,-66.9989277694232,-63.1854939780943,-55.7653049819932,-60.7154635861878,-59.525702964544,-63.2179768463029,-58.330635620874,-60.8813007394347,-61.5842547697783],\"yaxis\":\"y\"},{\"hovertemplate\":\"Country_Name=Brunei Darussalam<br>Year=%{x}<br>Energy Imports, net (% of Energy Use)=%{y}<extra></extra>\",\"legendgroup\":\"Brunei Darussalam\",\"line\":{\"color\":\"#1CA71C\",\"dash\":\"solid\"},\"marker\":{\"symbol\":\"circle\"},\"mode\":\"lines\",\"name\":\"Brunei Darussalam\",\"orientation\":\"v\",\"showlegend\":true,\"type\":\"scatter\",\"x\":[\"1971\",\"1972\",\"1973\",\"1974\",\"1975\",\"1976\",\"1977\",\"1978\",\"1979\",\"1980\",\"1981\",\"1982\",\"1983\",\"1984\",\"1985\",\"1986\",\"1987\",\"1988\",\"1989\",\"1990\",\"1991\",\"1992\",\"1993\",\"1994\",\"1995\",\"1996\",\"1997\",\"1998\",\"1999\",\"2000\",\"2001\",\"2002\",\"2003\",\"2004\",\"2005\",\"2006\",\"2007\",\"2008\",\"2009\",\"2010\",\"2011\",\"2012\",\"2013\",\"2014\"],\"xaxis\":\"x\",\"y\":[-3651.91781517441,-5228.08704424597,-3719.783480283,-2190.06745970268,-1827.15567135492,-1709.47879969965,-1688.65292377547,-1817.69554250677,-1881.14659761886,-1466.02098562184,-1186.77401358189,-1115.32078664231,-1065.96366253362,-864.833394692672,-801.305827887474,-899.09586154773,-867.337158129997,-1034.62900120607,-885.828439376765,-805.789431624981,-737.903776320324,-734.423980911286,-749.625798088792,-839.360306111186,-711.7893373624,-681.187465295339,-651.149477934202,-629.187508490052,-683.452774250343,-725.508428160801,-799.196782964715,-839.333573129704,-746.201598045458,-803.435958392657,-849.55521188867,-608.136737784708,-542.866744173652,-495.880028340207,-522.428639880426,-473.19072663497,-382.704805332459,-383.542312546638,-458.372543437915,-357.394379176148],\"yaxis\":\"y\"},{\"hovertemplate\":\"Country_Name=Canada<br>Year=%{x}<br>Energy Imports, net (% of Energy Use)=%{y}<extra></extra>\",\"legendgroup\":\"Canada\",\"line\":{\"color\":\"#FB0D0D\",\"dash\":\"solid\"},\"marker\":{\"symbol\":\"circle\"},\"mode\":\"lines\",\"name\":\"Canada\",\"orientation\":\"v\",\"showlegend\":true,\"type\":\"scatter\",\"x\":[\"1971\",\"1972\",\"1973\",\"1974\",\"1975\",\"1976\",\"1977\",\"1978\",\"1979\",\"1980\",\"1981\",\"1982\",\"1983\",\"1984\",\"1985\",\"1986\",\"1987\",\"1988\",\"1989\",\"1990\",\"1991\",\"1992\",\"1993\",\"1994\",\"1995\",\"1996\",\"1997\",\"1998\",\"1999\",\"2000\",\"2001\",\"2002\",\"2003\",\"2004\",\"2005\",\"2006\",\"2007\",\"2008\",\"2009\",\"2010\",\"2011\",\"2012\",\"2013\",\"2014\"],\"xaxis\":\"x\",\"y\":[-10.2487186529216,-15.9496427113397,-24.3962538423359,-18.6512960048482,-13.018307809907,-6.48667935266337,-7.71002990655884,-5.43734640104809,-10.4350637632291,-7.93487452155856,-6.87490725349191,-12.345262194916,-15.4200029612334,-21.2122781620415,-24.9984455266849,-22.0922006629074,-24.554389083384,-29.1182014829697,-26.1482154488329,-30.8357552368878,-36.560282500619,-37.5403847825118,-42.8923862174091,-47.8357572141914,-50.505881068043,-51.2684199598067,-52.3839011182034,-53.5360828039117,-48.7356760905854,-47.8043564157088,-51.6681952783461,-54.1240941269592,-47.0464527990546,-48.2377563683902,-48.9536448704213,-53.8094922964823,-53.2917175763433,-50.4282560415369,-50.1977151257696,-51.374873798441,-52.9620789163126,-59.1141604001908,-64.4437480511021,-67.9272217430383],\"yaxis\":\"y\"},{\"hovertemplate\":\"Country_Name=Finland<br>Year=%{x}<br>Energy Imports, net (% of Energy Use)=%{y}<extra></extra>\",\"legendgroup\":\"Finland\",\"line\":{\"color\":\"#DA16FF\",\"dash\":\"solid\"},\"marker\":{\"symbol\":\"circle\"},\"mode\":\"lines\",\"name\":\"Finland\",\"orientation\":\"v\",\"showlegend\":true,\"type\":\"scatter\",\"x\":[\"1971\",\"1972\",\"1973\",\"1974\",\"1975\",\"1976\",\"1977\",\"1978\",\"1979\",\"1980\",\"1981\",\"1982\",\"1983\",\"1984\",\"1985\",\"1986\",\"1987\",\"1988\",\"1989\",\"1990\",\"1991\",\"1992\",\"1993\",\"1994\",\"1995\",\"1996\",\"1997\",\"1998\",\"1999\",\"2000\",\"2001\",\"2002\",\"2003\",\"2004\",\"2005\",\"2006\",\"2007\",\"2008\",\"2009\",\"2010\",\"2011\",\"2012\",\"2013\",\"2014\"],\"xaxis\":\"x\",\"y\":[72.5718937502099,74.9018623194175,76.781002048912,75.7543781565552,77.822518633564,80.2625931411945,76.3745139077052,75.9088133010969,72.8010045620859,71.8989248027842,62.1573296492205,56.4778955428865,56.54897825192,56.0765579938701,59.8357140241552,58.0160001246098,63.6358323852526,59.4684559947012,59.2147658525655,57.4327727149932,61.206942270726,55.3217465059428,58.4954969415296,57.2256188602005,54.4968647103425,56.2369988084769,53.3833123140875,58.2779916759597,52.5476158487731,53.9228858518656,53.7819722100073,53.9634026542776,56.8084869179459,57.412209372385,51.4599869705152,51.3241121979623,56.1671491505865,53.3535732143876,50.2790742315822,52.2354339314894,51.1549180720642,49.0107821085903,45.3050561641201,46.1972755140458],\"yaxis\":\"y\"},{\"hovertemplate\":\"Country_Name=Iceland<br>Year=%{x}<br>Energy Imports, net (% of Energy Use)=%{y}<extra></extra>\",\"legendgroup\":\"Iceland\",\"line\":{\"color\":\"#222A2A\",\"dash\":\"solid\"},\"marker\":{\"symbol\":\"circle\"},\"mode\":\"lines\",\"name\":\"Iceland\",\"orientation\":\"v\",\"showlegend\":true,\"type\":\"scatter\",\"x\":[\"1971\",\"1972\",\"1973\",\"1974\",\"1975\",\"1976\",\"1977\",\"1978\",\"1979\",\"1980\",\"1981\",\"1982\",\"1983\",\"1984\",\"1985\",\"1986\",\"1987\",\"1988\",\"1989\",\"1990\",\"1991\",\"1992\",\"1993\",\"1994\",\"1995\",\"1996\",\"1997\",\"1998\",\"1999\",\"2000\",\"2001\",\"2002\",\"2003\",\"2004\",\"2005\",\"2006\",\"2007\",\"2008\",\"2009\",\"2010\",\"2011\",\"2012\",\"2013\",\"2014\"],\"xaxis\":\"x\",\"y\":[53.1285150843177,50.1786580936839,51.6138057783606,51.9391214989656,47.6649691092799,45.0761916415612,45.5532299947454,44.445245210743,42.5506756412183,39.5979992156669,33.8214734147873,29.8068335224753,28.4576397287184,30.6531908359029,29.2664069550602,31.0107319678987,31.8734192416915,30.3176571407962,30.1613998722831,28.6399137949644,27.8386179083014,29.7638545885607,30.0456102176448,29.9821142205997,29.2891256678656,30.7364190725803,29.7508367742407,28.0253167010436,24.4679624642253,22.622225912865,22.8911218928315,23.085943623589,22.8737554092525,24.0893859837468,23.6589479198319,19.7134342649421,16.1512741050879,13.1670498667389,12.1703357604172,11.5197730356026,10.2549353235755,10.3306966127756,10.4389197249409,10.9633522331564],\"yaxis\":\"y\"},{\"hovertemplate\":\"Country_Name=Kuwait<br>Year=%{x}<br>Energy Imports, net (% of Energy Use)=%{y}<extra></extra>\",\"legendgroup\":\"Kuwait\",\"line\":{\"color\":\"#B68100\",\"dash\":\"solid\"},\"marker\":{\"symbol\":\"circle\"},\"mode\":\"lines\",\"name\":\"Kuwait\",\"orientation\":\"v\",\"showlegend\":true,\"type\":\"scatter\",\"x\":[\"1971\",\"1972\",\"1973\",\"1974\",\"1975\",\"1976\",\"1977\",\"1978\",\"1979\",\"1980\",\"1981\",\"1982\",\"1983\",\"1984\",\"1985\",\"1986\",\"1987\",\"1988\",\"1989\",\"1990\",\"1991\",\"1992\",\"1993\",\"1994\",\"1995\",\"1996\",\"1997\",\"1998\",\"1999\",\"2000\",\"2001\",\"2002\",\"2003\",\"2004\",\"2005\",\"2006\",\"2007\",\"2008\",\"2009\",\"2010\",\"2011\",\"2012\",\"2013\",\"2014\"],\"xaxis\":\"x\",\"y\":[-2534.27661630107,-2469.79608530149,-2147.66124852272,-1894.20808203823,-1625.8722595946,-1529.6738281325,-1291.88084287535,-1296.2817632556,-1228.00776759208,-795.388343756409,-518.396006967085,-304.876299161046,-390.757009132446,-429.997120688851,-333.314434408505,-328.481754323055,-321.404926237264,-311.060957916489,-319.88310786522,-452.990449872755,-273.305823074883,-577.162341236164,-766.214366669431,-689.355613994088,-676.708568212928,-691.96028923799,-683.508794351058,-599.383538316259,-497.551589374871,-510.296851096168,-460.248052379028,-390.398975513749,-452.011901700969,-462.604802485673,-458.383985200343,-487.868993734554,-458.873319016302,-433.040321297113,-315.265360146238,-319.47316868179,-376.210349800657,-365.445690392742,-387.609308657237,-391.05848581964],\"yaxis\":\"y\"},{\"hovertemplate\":\"Country_Name=Luxembourg<br>Year=%{x}<br>Energy Imports, net (% of Energy Use)=%{y}<extra></extra>\",\"legendgroup\":\"Luxembourg\",\"line\":{\"color\":\"#750D86\",\"dash\":\"solid\"},\"marker\":{\"symbol\":\"circle\"},\"mode\":\"lines\",\"name\":\"Luxembourg\",\"orientation\":\"v\",\"showlegend\":true,\"type\":\"scatter\",\"x\":[\"1971\",\"1972\",\"1973\",\"1974\",\"1975\",\"1976\",\"1977\",\"1978\",\"1979\",\"1980\",\"1981\",\"1982\",\"1983\",\"1984\",\"1985\",\"1986\",\"1987\",\"1988\",\"1989\",\"1990\",\"1991\",\"1992\",\"1993\",\"1994\",\"1995\",\"1996\",\"1997\",\"1998\",\"1999\",\"2000\",\"2001\",\"2002\",\"2003\",\"2004\",\"2005\",\"2006\",\"2007\",\"2008\",\"2009\",\"2010\",\"2011\",\"2012\",\"2013\",\"2014\"],\"xaxis\":\"x\",\"y\":[99.8835598009045,99.8657062541727,99.9088137942485,99.8456358944771,99.8380699078674,99.8972062498392,99.3469456327393,99.3974852315171,99.3117403892548,99.1735214453738,99.0276570832539,99.0269344939499,98.974667404084,98.9590542711006,98.9979966467028,99.1319165011686,98.8544060678174,98.7999082305933,98.9284754138236,99.1500266926205,99.1572125773598,98.7449196210615,98.8004217867403,98.7252711520237,98.5848094817352,98.8298969088303,98.6325884103985,98.2314365812749,98.2900982977703,98.1000798948111,97.9563517057687,98.0136824645482,98.0779869118816,97.9940181446203,97.567515989354,97.3630083336929,97.2042610917154,97.059477688263,97.1960468219026,97.1974971191104,97.294404974314,96.9960239664435,96.6269935154432,96.0021367767681],\"yaxis\":\"y\"},{\"hovertemplate\":\"Country_Name=Norway<br>Year=%{x}<br>Energy Imports, net (% of Energy Use)=%{y}<extra></extra>\",\"legendgroup\":\"Norway\",\"line\":{\"color\":\"#EB663B\",\"dash\":\"solid\"},\"marker\":{\"symbol\":\"circle\"},\"mode\":\"lines\",\"name\":\"Norway\",\"orientation\":\"v\",\"showlegend\":true,\"type\":\"scatter\",\"x\":[\"1971\",\"1972\",\"1973\",\"1974\",\"1975\",\"1976\",\"1977\",\"1978\",\"1979\",\"1980\",\"1981\",\"1982\",\"1983\",\"1984\",\"1985\",\"1986\",\"1987\",\"1988\",\"1989\",\"1990\",\"1991\",\"1992\",\"1993\",\"1994\",\"1995\",\"1996\",\"1997\",\"1998\",\"1999\",\"2000\",\"2001\",\"2002\",\"2003\",\"2004\",\"2005\",\"2006\",\"2007\",\"2008\",\"2009\",\"2010\",\"2011\",\"2012\",\"2013\",\"2014\"],\"xaxis\":\"x\",\"y\":[54.7449233694409,44.3937021863119,43.5706863591072,39.8891897068267,-10.4846929919633,-36.7417388766387,-42.0975543015095,-109.06582521722,-152.882542810251,-200.152161386426,-206.639770957374,-216.651044191421,-248.250603041317,-260.851211532043,-263.918949844536,-258.456269787837,-310.275931685107,-369.270958393381,-437.021509502313,-467.106796927604,-504.262742671731,-565.312005074261,-559.84652351194,-639.812352712519,-687.171841948525,-812.016975140792,-784.422638919766,-719.755436819147,-696.52984463688,-771.483646129179,-744.036940268268,-843.48187881192,-768.207693986214,-764.518176254629,-736.371827032457,-693.015544770935,-680.484286829878,-588.736251313266,-594.186786522607,-512.231482126258,-611.501280220988,-584.362913455959,-494.815747774818,-582.899339376479],\"yaxis\":\"y\"},{\"hovertemplate\":\"Country_Name=Qatar<br>Year=%{x}<br>Energy Imports, net (% of Energy Use)=%{y}<extra></extra>\",\"legendgroup\":\"Qatar\",\"line\":{\"color\":\"#511CFB\",\"dash\":\"solid\"},\"marker\":{\"symbol\":\"circle\"},\"mode\":\"lines\",\"name\":\"Qatar\",\"orientation\":\"v\",\"showlegend\":true,\"type\":\"scatter\",\"x\":[\"1971\",\"1972\",\"1973\",\"1974\",\"1975\",\"1976\",\"1977\",\"1978\",\"1979\",\"1980\",\"1981\",\"1982\",\"1983\",\"1984\",\"1985\",\"1986\",\"1987\",\"1988\",\"1989\",\"1990\",\"1991\",\"1992\",\"1993\",\"1994\",\"1995\",\"1996\",\"1997\",\"1998\",\"1999\",\"2000\",\"2001\",\"2002\",\"2003\",\"2004\",\"2005\",\"2006\",\"2007\",\"2008\",\"2009\",\"2010\",\"2011\",\"2012\",\"2013\",\"2014\"],\"xaxis\":\"x\",\"y\":[-2278.89631323217,-2357.57349294654,-1961.64353344893,-2046.74327167564,-1058.89632323327,-1614.46093764315,-1245.52468566793,-1455.25149379359,-877.020696413545,-699.483631470912,-488.371057093313,-340.474168266737,-299.968831005659,-364.698078489798,-275.321882141684,-274.873488606889,-241.056298606546,-252.874018632874,-295.83301335143,-324.326252436229,-287.54680597754,-288.111510374559,-267.373006547284,-261.224737087704,-253.776898211085,-242.40607486255,-295.762339049045,-331.79796366211,-371.843299600861,-444.574447900187,-422.25420662634,-398.582650562198,-412.14327862586,-405.574294522309,-435.982051009251,-407.381747738616,-404.421025697622,-491.147171332341,-487.874422078176,-545.208132299773,-524.79253968293,-444.127637141325,-455.172286951621,-398.991186700817],\"yaxis\":\"y\"},{\"hovertemplate\":\"Country_Name=Sweden<br>Year=%{x}<br>Energy Imports, net (% of Energy Use)=%{y}<extra></extra>\",\"legendgroup\":\"Sweden\",\"line\":{\"color\":\"#00A08B\",\"dash\":\"solid\"},\"marker\":{\"symbol\":\"circle\"},\"mode\":\"lines\",\"name\":\"Sweden\",\"orientation\":\"v\",\"showlegend\":true,\"type\":\"scatter\",\"x\":[\"1971\",\"1972\",\"1973\",\"1974\",\"1975\",\"1976\",\"1977\",\"1978\",\"1979\",\"1980\",\"1981\",\"1982\",\"1983\",\"1984\",\"1985\",\"1986\",\"1987\",\"1988\",\"1989\",\"1990\",\"1991\",\"1992\",\"1993\",\"1994\",\"1995\",\"1996\",\"1997\",\"1998\",\"1999\",\"2000\",\"2001\",\"2002\",\"2003\",\"2004\",\"2005\",\"2006\",\"2007\",\"2008\",\"2009\",\"2010\",\"2011\",\"2012\",\"2013\",\"2014\"],\"xaxis\":\"x\",\"y\":[79.5066514275922,78.5345551818713,76.1813242782107,75.5284742197612,70.0281542284196,70.6911041707364,68.4064696654386,64.1499246613373,66.1452473521982,60.1620579341084,54.5865850630955,52.9721994652068,49.2925523136664,44.1446799709543,43.125455920272,40.924730903514,39.2403116581113,39.5718248403539,39.0010450950836,37.106640619339,35.4574494472842,36.6676727816658,36.9599973818576,37.1088118242142,36.7428919864621,37.9143217572288,35.33219055825,33.4405647780803,33.7161575502398,35.8208060124411,32.9084931259181,38.53408654236,38.905709239167,34.7130237463027,32.760965955636,34.6109333353517,32.9125455621917,32.9994453771043,33.1674268843326,34.9959359587645,33.1893849090525,27.8671405373543,28.9998175016763,28.2711850989684],\"yaxis\":\"y\"},{\"hovertemplate\":\"Country_Name=Trinidad and Tobago<br>Year=%{x}<br>Energy Imports, net (% of Energy Use)=%{y}<extra></extra>\",\"legendgroup\":\"Trinidad and Tobago\",\"line\":{\"color\":\"#FB00D1\",\"dash\":\"solid\"},\"marker\":{\"symbol\":\"circle\"},\"mode\":\"lines\",\"name\":\"Trinidad and Tobago\",\"orientation\":\"v\",\"showlegend\":true,\"type\":\"scatter\",\"x\":[\"1971\",\"1972\",\"1973\",\"1974\",\"1975\",\"1976\",\"1977\",\"1978\",\"1979\",\"1980\",\"1981\",\"1982\",\"1983\",\"1984\",\"1985\",\"1986\",\"1987\",\"1988\",\"1989\",\"1990\",\"1991\",\"1992\",\"1993\",\"1994\",\"1995\",\"1996\",\"1997\",\"1998\",\"1999\",\"2000\",\"2001\",\"2002\",\"2003\",\"2004\",\"2005\",\"2006\",\"2007\",\"2008\",\"2009\",\"2010\",\"2011\",\"2012\",\"2013\",\"2014\"],\"xaxis\":\"x\",\"y\":[-209.613920518311,-226.400077730392,-278.211447677726,-307.063409126173,-425.674484043238,-374.454007693704,-355.797066956604,-289.603502782119,-256.992786844825,-243.706949632556,-200.99681694702,-198.251257584337,-170.173041786887,-158.942920117743,-152.089913790123,-136.017773905533,-140.230111202571,-126.628786975348,-131.629912184135,-110.932023319957,-105.803122496061,-89.127759639458,-85.1201784619572,-95.1346951168772,-98.2495810556665,-77.619789626996,-87.809702409119,-74.4834958364594,-73.1982527703132,-93.493035998806,-79.0051066748259,-92.654202507446,-125.406785647594,-129.469088882194,-116.662973696351,-125.695111165289,-115.85667293555,-120.209684181276,-121.224398600788,-112.02977876773,-104.81811710129,-106.862188011575,-103.545368618398,-102.662737330464],\"yaxis\":\"y\"},{\"hovertemplate\":\"Country_Name=United Arab Emirates<br>Year=%{x}<br>Energy Imports, net (% of Energy Use)=%{y}<extra></extra>\",\"legendgroup\":\"United Arab Emirates\",\"line\":{\"color\":\"#FC0080\",\"dash\":\"solid\"},\"marker\":{\"symbol\":\"circle\"},\"mode\":\"lines\",\"name\":\"United Arab Emirates\",\"orientation\":\"v\",\"showlegend\":true,\"type\":\"scatter\",\"x\":[\"1971\",\"1972\",\"1973\",\"1974\",\"1975\",\"1976\",\"1977\",\"1978\",\"1979\",\"1980\",\"1981\",\"1982\",\"1983\",\"1984\",\"1985\",\"1986\",\"1987\",\"1988\",\"1989\",\"1990\",\"1991\",\"1992\",\"1993\",\"1994\",\"1995\",\"1996\",\"1997\",\"1998\",\"1999\",\"2000\",\"2001\",\"2002\",\"2003\",\"2004\",\"2005\",\"2006\",\"2007\",\"2008\",\"2009\",\"2010\",\"2011\",\"2012\",\"2013\",\"2014\"],\"xaxis\":\"x\",\"y\":[-5116.127119649,-5588.7293218204,-5734.55040638071,-6106.88421843755,-4258.01668326115,-3842.63742265398,-2365.80416743967,-1883.33713113701,-1612.65153059072,-1147.41413330214,-829.979227888895,-634.534010189252,-611.182982924691,-432.410423816868,-362.228359601674,-369.883003129503,-363.066417957467,-371.659482382113,-393.384174845835,-439.553111532586,-441.926854026259,-499.196571731654,-458.344879858301,-412.653231500643,-394.967458765432,-379.016629771755,-376.872349469631,-376.628531178432,-341.434733998228,-388.166374977984,-285.944906952115,-271.816526365869,-313.704278904143,-306.340317757657,-294.154192845882,-300.816708967335,-265.599187761877,-212.820850154585,-179.80683983111,-181.459592298821,-191.249161744695,-183.354428506649,-187.524243326506,-183.843970434642],\"yaxis\":\"y\"},{\"hovertemplate\":\"Country_Name=United States<br>Year=%{x}<br>Energy Imports, net (% of Energy Use)=%{y}<extra></extra>\",\"legendgroup\":\"United States\",\"line\":{\"color\":\"#B2828D\",\"dash\":\"solid\"},\"marker\":{\"symbol\":\"circle\"},\"mode\":\"lines\",\"name\":\"United States\",\"orientation\":\"v\",\"showlegend\":true,\"type\":\"scatter\",\"x\":[\"1971\",\"1972\",\"1973\",\"1974\",\"1975\",\"1976\",\"1977\",\"1978\",\"1979\",\"1980\",\"1981\",\"1982\",\"1983\",\"1984\",\"1985\",\"1986\",\"1987\",\"1988\",\"1989\",\"1990\",\"1991\",\"1992\",\"1993\",\"1994\",\"1995\",\"1996\",\"1997\",\"1998\",\"1999\",\"2000\",\"2001\",\"2002\",\"2003\",\"2004\",\"2005\",\"2006\",\"2007\",\"2008\",\"2009\",\"2010\",\"2011\",\"2012\",\"2013\",\"2014\"],\"xaxis\":\"x\",\"y\":[9.51537451898334,12.1318125624245,15.8218004340444,15.5511744664603,14.8712458060153,19.694418966796,20.8085095303747,21.9235616320309,18.5741089628757,13.9313696085034,11.801346091942,9.04865570986495,12.7705810086971,9.51353880131994,11.5371937535261,12.0486465321885,13.8549791345335,15.668952653384,16.9955043022868,13.7096309133924,14.9427076463954,16.3385296201642,20.287092675434,18.7960037621226,19.7408464242136,20.5835348178363,21.5098249494927,21.5698941494774,24.4574111759769,26.6594195867123,24.3005371666905,26.60412855113,27.726180617665,28.6955706933386,29.6591792835944,27.9721234263917,28.585606884949,25.2640713700468,22.1249837026312,22.2092008982127,18.554976759716,15.6917290892051,13.9434315101907,9.21446550107214],\"yaxis\":\"y\"}],                        {\"legend\":{\"title\":{\"text\":\"Country_Name\"},\"tracegroupgap\":0},\"template\":{\"data\":{\"bar\":[{\"error_x\":{\"color\":\"#2a3f5f\"},\"error_y\":{\"color\":\"#2a3f5f\"},\"marker\":{\"line\":{\"color\":\"#E5ECF6\",\"width\":0.5},\"pattern\":{\"fillmode\":\"overlay\",\"size\":10,\"solidity\":0.2}},\"type\":\"bar\"}],\"barpolar\":[{\"marker\":{\"line\":{\"color\":\"#E5ECF6\",\"width\":0.5},\"pattern\":{\"fillmode\":\"overlay\",\"size\":10,\"solidity\":0.2}},\"type\":\"barpolar\"}],\"carpet\":[{\"aaxis\":{\"endlinecolor\":\"#2a3f5f\",\"gridcolor\":\"white\",\"linecolor\":\"white\",\"minorgridcolor\":\"white\",\"startlinecolor\":\"#2a3f5f\"},\"baxis\":{\"endlinecolor\":\"#2a3f5f\",\"gridcolor\":\"white\",\"linecolor\":\"white\",\"minorgridcolor\":\"white\",\"startlinecolor\":\"#2a3f5f\"},\"type\":\"carpet\"}],\"choropleth\":[{\"colorbar\":{\"outlinewidth\":0,\"ticks\":\"\"},\"type\":\"choropleth\"}],\"contour\":[{\"colorbar\":{\"outlinewidth\":0,\"ticks\":\"\"},\"colorscale\":[[0.0,\"#0d0887\"],[0.1111111111111111,\"#46039f\"],[0.2222222222222222,\"#7201a8\"],[0.3333333333333333,\"#9c179e\"],[0.4444444444444444,\"#bd3786\"],[0.5555555555555556,\"#d8576b\"],[0.6666666666666666,\"#ed7953\"],[0.7777777777777778,\"#fb9f3a\"],[0.8888888888888888,\"#fdca26\"],[1.0,\"#f0f921\"]],\"type\":\"contour\"}],\"contourcarpet\":[{\"colorbar\":{\"outlinewidth\":0,\"ticks\":\"\"},\"type\":\"contourcarpet\"}],\"heatmap\":[{\"colorbar\":{\"outlinewidth\":0,\"ticks\":\"\"},\"colorscale\":[[0.0,\"#0d0887\"],[0.1111111111111111,\"#46039f\"],[0.2222222222222222,\"#7201a8\"],[0.3333333333333333,\"#9c179e\"],[0.4444444444444444,\"#bd3786\"],[0.5555555555555556,\"#d8576b\"],[0.6666666666666666,\"#ed7953\"],[0.7777777777777778,\"#fb9f3a\"],[0.8888888888888888,\"#fdca26\"],[1.0,\"#f0f921\"]],\"type\":\"heatmap\"}],\"heatmapgl\":[{\"colorbar\":{\"outlinewidth\":0,\"ticks\":\"\"},\"colorscale\":[[0.0,\"#0d0887\"],[0.1111111111111111,\"#46039f\"],[0.2222222222222222,\"#7201a8\"],[0.3333333333333333,\"#9c179e\"],[0.4444444444444444,\"#bd3786\"],[0.5555555555555556,\"#d8576b\"],[0.6666666666666666,\"#ed7953\"],[0.7777777777777778,\"#fb9f3a\"],[0.8888888888888888,\"#fdca26\"],[1.0,\"#f0f921\"]],\"type\":\"heatmapgl\"}],\"histogram\":[{\"marker\":{\"pattern\":{\"fillmode\":\"overlay\",\"size\":10,\"solidity\":0.2}},\"type\":\"histogram\"}],\"histogram2d\":[{\"colorbar\":{\"outlinewidth\":0,\"ticks\":\"\"},\"colorscale\":[[0.0,\"#0d0887\"],[0.1111111111111111,\"#46039f\"],[0.2222222222222222,\"#7201a8\"],[0.3333333333333333,\"#9c179e\"],[0.4444444444444444,\"#bd3786\"],[0.5555555555555556,\"#d8576b\"],[0.6666666666666666,\"#ed7953\"],[0.7777777777777778,\"#fb9f3a\"],[0.8888888888888888,\"#fdca26\"],[1.0,\"#f0f921\"]],\"type\":\"histogram2d\"}],\"histogram2dcontour\":[{\"colorbar\":{\"outlinewidth\":0,\"ticks\":\"\"},\"colorscale\":[[0.0,\"#0d0887\"],[0.1111111111111111,\"#46039f\"],[0.2222222222222222,\"#7201a8\"],[0.3333333333333333,\"#9c179e\"],[0.4444444444444444,\"#bd3786\"],[0.5555555555555556,\"#d8576b\"],[0.6666666666666666,\"#ed7953\"],[0.7777777777777778,\"#fb9f3a\"],[0.8888888888888888,\"#fdca26\"],[1.0,\"#f0f921\"]],\"type\":\"histogram2dcontour\"}],\"mesh3d\":[{\"colorbar\":{\"outlinewidth\":0,\"ticks\":\"\"},\"type\":\"mesh3d\"}],\"parcoords\":[{\"line\":{\"colorbar\":{\"outlinewidth\":0,\"ticks\":\"\"}},\"type\":\"parcoords\"}],\"pie\":[{\"automargin\":true,\"type\":\"pie\"}],\"scatter\":[{\"marker\":{\"colorbar\":{\"outlinewidth\":0,\"ticks\":\"\"}},\"type\":\"scatter\"}],\"scatter3d\":[{\"line\":{\"colorbar\":{\"outlinewidth\":0,\"ticks\":\"\"}},\"marker\":{\"colorbar\":{\"outlinewidth\":0,\"ticks\":\"\"}},\"type\":\"scatter3d\"}],\"scattercarpet\":[{\"marker\":{\"colorbar\":{\"outlinewidth\":0,\"ticks\":\"\"}},\"type\":\"scattercarpet\"}],\"scattergeo\":[{\"marker\":{\"colorbar\":{\"outlinewidth\":0,\"ticks\":\"\"}},\"type\":\"scattergeo\"}],\"scattergl\":[{\"marker\":{\"colorbar\":{\"outlinewidth\":0,\"ticks\":\"\"}},\"type\":\"scattergl\"}],\"scattermapbox\":[{\"marker\":{\"colorbar\":{\"outlinewidth\":0,\"ticks\":\"\"}},\"type\":\"scattermapbox\"}],\"scatterpolar\":[{\"marker\":{\"colorbar\":{\"outlinewidth\":0,\"ticks\":\"\"}},\"type\":\"scatterpolar\"}],\"scatterpolargl\":[{\"marker\":{\"colorbar\":{\"outlinewidth\":0,\"ticks\":\"\"}},\"type\":\"scatterpolargl\"}],\"scatterternary\":[{\"marker\":{\"colorbar\":{\"outlinewidth\":0,\"ticks\":\"\"}},\"type\":\"scatterternary\"}],\"surface\":[{\"colorbar\":{\"outlinewidth\":0,\"ticks\":\"\"},\"colorscale\":[[0.0,\"#0d0887\"],[0.1111111111111111,\"#46039f\"],[0.2222222222222222,\"#7201a8\"],[0.3333333333333333,\"#9c179e\"],[0.4444444444444444,\"#bd3786\"],[0.5555555555555556,\"#d8576b\"],[0.6666666666666666,\"#ed7953\"],[0.7777777777777778,\"#fb9f3a\"],[0.8888888888888888,\"#fdca26\"],[1.0,\"#f0f921\"]],\"type\":\"surface\"}],\"table\":[{\"cells\":{\"fill\":{\"color\":\"#EBF0F8\"},\"line\":{\"color\":\"white\"}},\"header\":{\"fill\":{\"color\":\"#C8D4E3\"},\"line\":{\"color\":\"white\"}},\"type\":\"table\"}]},\"layout\":{\"annotationdefaults\":{\"arrowcolor\":\"#2a3f5f\",\"arrowhead\":0,\"arrowwidth\":1},\"autotypenumbers\":\"strict\",\"coloraxis\":{\"colorbar\":{\"outlinewidth\":0,\"ticks\":\"\"}},\"colorscale\":{\"diverging\":[[0,\"#8e0152\"],[0.1,\"#c51b7d\"],[0.2,\"#de77ae\"],[0.3,\"#f1b6da\"],[0.4,\"#fde0ef\"],[0.5,\"#f7f7f7\"],[0.6,\"#e6f5d0\"],[0.7,\"#b8e186\"],[0.8,\"#7fbc41\"],[0.9,\"#4d9221\"],[1,\"#276419\"]],\"sequential\":[[0.0,\"#0d0887\"],[0.1111111111111111,\"#46039f\"],[0.2222222222222222,\"#7201a8\"],[0.3333333333333333,\"#9c179e\"],[0.4444444444444444,\"#bd3786\"],[0.5555555555555556,\"#d8576b\"],[0.6666666666666666,\"#ed7953\"],[0.7777777777777778,\"#fb9f3a\"],[0.8888888888888888,\"#fdca26\"],[1.0,\"#f0f921\"]],\"sequentialminus\":[[0.0,\"#0d0887\"],[0.1111111111111111,\"#46039f\"],[0.2222222222222222,\"#7201a8\"],[0.3333333333333333,\"#9c179e\"],[0.4444444444444444,\"#bd3786\"],[0.5555555555555556,\"#d8576b\"],[0.6666666666666666,\"#ed7953\"],[0.7777777777777778,\"#fb9f3a\"],[0.8888888888888888,\"#fdca26\"],[1.0,\"#f0f921\"]]},\"colorway\":[\"#636efa\",\"#EF553B\",\"#00cc96\",\"#ab63fa\",\"#FFA15A\",\"#19d3f3\",\"#FF6692\",\"#B6E880\",\"#FF97FF\",\"#FECB52\"],\"font\":{\"color\":\"#2a3f5f\"},\"geo\":{\"bgcolor\":\"white\",\"lakecolor\":\"white\",\"landcolor\":\"#E5ECF6\",\"showlakes\":true,\"showland\":true,\"subunitcolor\":\"white\"},\"hoverlabel\":{\"align\":\"left\"},\"hovermode\":\"closest\",\"mapbox\":{\"style\":\"light\"},\"paper_bgcolor\":\"white\",\"plot_bgcolor\":\"#E5ECF6\",\"polar\":{\"angularaxis\":{\"gridcolor\":\"white\",\"linecolor\":\"white\",\"ticks\":\"\"},\"bgcolor\":\"#E5ECF6\",\"radialaxis\":{\"gridcolor\":\"white\",\"linecolor\":\"white\",\"ticks\":\"\"}},\"scene\":{\"xaxis\":{\"backgroundcolor\":\"#E5ECF6\",\"gridcolor\":\"white\",\"gridwidth\":2,\"linecolor\":\"white\",\"showbackground\":true,\"ticks\":\"\",\"zerolinecolor\":\"white\"},\"yaxis\":{\"backgroundcolor\":\"#E5ECF6\",\"gridcolor\":\"white\",\"gridwidth\":2,\"linecolor\":\"white\",\"showbackground\":true,\"ticks\":\"\",\"zerolinecolor\":\"white\"},\"zaxis\":{\"backgroundcolor\":\"#E5ECF6\",\"gridcolor\":\"white\",\"gridwidth\":2,\"linecolor\":\"white\",\"showbackground\":true,\"ticks\":\"\",\"zerolinecolor\":\"white\"}},\"shapedefaults\":{\"line\":{\"color\":\"#2a3f5f\"}},\"ternary\":{\"aaxis\":{\"gridcolor\":\"white\",\"linecolor\":\"white\",\"ticks\":\"\"},\"baxis\":{\"gridcolor\":\"white\",\"linecolor\":\"white\",\"ticks\":\"\"},\"bgcolor\":\"#E5ECF6\",\"caxis\":{\"gridcolor\":\"white\",\"linecolor\":\"white\",\"ticks\":\"\"}},\"title\":{\"x\":0.05},\"xaxis\":{\"automargin\":true,\"gridcolor\":\"white\",\"linecolor\":\"white\",\"ticks\":\"\",\"title\":{\"standoff\":15},\"zerolinecolor\":\"white\",\"zerolinewidth\":2},\"yaxis\":{\"automargin\":true,\"gridcolor\":\"white\",\"linecolor\":\"white\",\"ticks\":\"\",\"title\":{\"standoff\":15},\"zerolinecolor\":\"white\",\"zerolinewidth\":2}}},\"title\":{\"text\":\"Top 15 Countries with the Highest Average Energy Use Per Capita\"},\"xaxis\":{\"anchor\":\"y\",\"domain\":[0.0,1.0],\"title\":{\"text\":\"Year\"}},\"yaxis\":{\"anchor\":\"x\",\"domain\":[0.0,1.0],\"title\":{\"text\":\"Energy Imports, net (% of Energy Use)\"}}},                        {\"responsive\": true}                    ).then(function(){\n",
       "                            \n",
       "var gd = document.getElementById('e4a0cdce-6ced-4035-806c-5fd3a8296806');\n",
       "var x = new MutationObserver(function (mutations, observer) {{\n",
       "        var display = window.getComputedStyle(gd).display;\n",
       "        if (!display || display === 'none') {{\n",
       "            console.log([gd, 'removed!']);\n",
       "            Plotly.purge(gd);\n",
       "            observer.disconnect();\n",
       "        }}\n",
       "}});\n",
       "\n",
       "// Listen for the removal of the full notebook cells\n",
       "var notebookContainer = gd.closest('#notebook-container');\n",
       "if (notebookContainer) {{\n",
       "    x.observe(notebookContainer, {childList: true});\n",
       "}}\n",
       "\n",
       "// Listen for the clearing of the current output cell\n",
       "var outputEl = gd.closest('.output');\n",
       "if (outputEl) {{\n",
       "    x.observe(outputEl, {childList: true});\n",
       "}}\n",
       "\n",
       "                        })                };                });            </script>        </div>"
      ]
     },
     "metadata": {},
     "output_type": "display_data"
    }
   ],
   "source": [
    "df = EG_USE_IMP[EG_USE_IMP['Country_Name'].isin(AvgEGUsageTop15['Country_Name'])].drop(columns=['EG.USE.PCAP.KG.OE'])\n",
    "# Impute missing data with the average for the country\n",
    "display(df.isna().sum())\n",
    "df = df.set_index(['Country_Name', 'Country_Code', 'Year'])['EG.IMP.CONS.ZS'].fillna(AvgEGImportTop15.set_index(['Country_Name', 'Country_Code'])['EG.IMP.CONS.ZS']).reset_index()\n",
    "\n",
    "display(df.isna().sum())\n",
    "fig = px.line(df, x='Year', y='EG.IMP.CONS.ZS',\n",
    "             color='Country_Name',\n",
    "             color_discrete_sequence=px.colors.qualitative.Dark24,\n",
    "             labels= {'EG.IMP.CONS.ZS': 'Energy Imports, net (% of Energy Use)'},\n",
    "             title='Top 15 Countries with the Highest Average Energy Use Per Capita')\n",
    "fig.write_image(\"energyUsePerCapita_Top15EnergyUsers.png\", engine='kaleido') \n",
    "fig.show()"
   ]
  },
  {
   "cell_type": "markdown",
   "id": "2fe71d67",
   "metadata": {},
   "source": [
    "#### Visualization for the yearly variation in Energy Import data for the top 10  countries with the highest average energy import per capita"
   ]
  },
  {
   "cell_type": "code",
   "execution_count": 190,
   "id": "7c2b300a",
   "metadata": {
    "scrolled": false
   },
   "outputs": [
    {
     "data": {
      "text/plain": [
       "Country_Name       0\n",
       "Country_Code       0\n",
       "Year               0\n",
       "EG.IMP.CONS.ZS    38\n",
       "dtype: int64"
      ]
     },
     "metadata": {},
     "output_type": "display_data"
    },
    {
     "data": {
      "text/plain": [
       "Country_Name      0\n",
       "Country_Code      0\n",
       "Year              0\n",
       "EG.IMP.CONS.ZS    0\n",
       "dtype: int64"
      ]
     },
     "metadata": {},
     "output_type": "display_data"
    },
    {
     "data": {
      "application/vnd.plotly.v1+json": {
       "config": {
        "plotlyServerURL": "https://plot.ly"
       },
       "data": [
        {
         "hovertemplate": "Country_Name=Belarus<br>Year=%{x}<br>Energy Imports, net (% of Energy Use)=%{y}<extra></extra>",
         "legendgroup": "Belarus",
         "line": {
          "color": "#2E91E5",
          "dash": "solid"
         },
         "marker": {
          "symbol": "circle"
         },
         "mode": "lines",
         "name": "Belarus",
         "orientation": "v",
         "showlegend": true,
         "type": "scatter",
         "x": [
          "1971",
          "1972",
          "1973",
          "1974",
          "1975",
          "1976",
          "1977",
          "1978",
          "1979",
          "1980",
          "1981",
          "1982",
          "1983",
          "1984",
          "1985",
          "1986",
          "1987",
          "1988",
          "1989",
          "1990",
          "1991",
          "1992",
          "1993",
          "1994",
          "1995",
          "1996",
          "1997",
          "1998",
          "1999",
          "2000",
          "2001",
          "2002",
          "2003",
          "2004",
          "2005",
          "2006",
          "2007",
          "2008",
          "2009",
          "2010",
          "2011",
          "2012",
          "2013",
          "2014"
         ],
         "xaxis": "x",
         "y": [
          87.11208280307066,
          87.11208280307066,
          87.11208280307066,
          87.11208280307066,
          87.11208280307066,
          87.11208280307066,
          87.11208280307066,
          87.11208280307066,
          87.11208280307066,
          87.11208280307066,
          87.11208280307066,
          87.11208280307066,
          87.11208280307066,
          87.11208280307066,
          87.11208280307066,
          87.11208280307066,
          87.11208280307066,
          87.11208280307066,
          87.11208280307066,
          92.6587771260379,
          92.1609865232314,
          90.5359665491177,
          89.7734863433474,
          87.123753783293,
          86.5892382076335,
          86.9107982055666,
          86.9151147243215,
          87.1357098032738,
          85.4989770543383,
          86.1667105207793,
          85.8385395445467,
          85.7769513989085,
          86.5986284005088,
          86.8392410053379,
          86.1800413309746,
          86.7643860751072,
          86.1983623755877,
          86.31206617624,
          85.6356111438264,
          85.6224329737371,
          85.8955371534026,
          86.5014276765472,
          85.3896270540696,
          86.7796989270316
         ],
         "yaxis": "y"
        },
        {
         "hovertemplate": "Country_Name=Cyprus<br>Year=%{x}<br>Energy Imports, net (% of Energy Use)=%{y}<extra></extra>",
         "legendgroup": "Cyprus",
         "line": {
          "color": "#E15F99",
          "dash": "solid"
         },
         "marker": {
          "symbol": "circle"
         },
         "mode": "lines",
         "name": "Cyprus",
         "orientation": "v",
         "showlegend": true,
         "type": "scatter",
         "x": [
          "1971",
          "1972",
          "1973",
          "1974",
          "1975",
          "1976",
          "1977",
          "1978",
          "1979",
          "1980",
          "1981",
          "1982",
          "1983",
          "1984",
          "1985",
          "1986",
          "1987",
          "1988",
          "1989",
          "1990",
          "1991",
          "1992",
          "1993",
          "1994",
          "1995",
          "1996",
          "1997",
          "1998",
          "1999",
          "2000",
          "2001",
          "2002",
          "2003",
          "2004",
          "2005",
          "2006",
          "2007",
          "2008",
          "2009",
          "2010",
          "2011",
          "2012",
          "2013",
          "2014"
         ],
         "xaxis": "x",
         "y": [
          98.4465814403776,
          98.7779947968996,
          98.8334292473943,
          99.3085870225808,
          98.8920859487743,
          98.7924040876695,
          98.8912213767148,
          98.9202931218428,
          98.9768594478011,
          99.2763537574206,
          99.2912754333548,
          99.3027644959061,
          99.3548178217203,
          99.2856541205284,
          99.2676932445952,
          99.3526935695191,
          99.4510310389333,
          99.5024201003097,
          99.5218728474148,
          99.5504398173923,
          99.6023274610834,
          99.6497969370623,
          99.6751885379386,
          99.3918237957451,
          97.4962430370068,
          97.71015780176,
          97.7458263967341,
          97.8261617586635,
          97.8027094530859,
          97.929278181471,
          97.8969225275336,
          97.9130232723078,
          97.9373785485482,
          97.7072856269023,
          97.7009759238474,
          97.7679826546901,
          96.9921284320967,
          96.8613963714625,
          96.6979056905392,
          96.3506715702671,
          95.9596497051175,
          95.1986462763843,
          94.3563077946247,
          94.0267505230889
         ],
         "yaxis": "y"
        },
        {
         "hovertemplate": "Country_Name=Israel<br>Year=%{x}<br>Energy Imports, net (% of Energy Use)=%{y}<extra></extra>",
         "legendgroup": "Israel",
         "line": {
          "color": "#1CA71C",
          "dash": "solid"
         },
         "marker": {
          "symbol": "circle"
         },
         "mode": "lines",
         "name": "Israel",
         "orientation": "v",
         "showlegend": true,
         "type": "scatter",
         "x": [
          "1971",
          "1972",
          "1973",
          "1974",
          "1975",
          "1976",
          "1977",
          "1978",
          "1979",
          "1980",
          "1981",
          "1982",
          "1983",
          "1984",
          "1985",
          "1986",
          "1987",
          "1988",
          "1989",
          "1990",
          "1991",
          "1992",
          "1993",
          "1994",
          "1995",
          "1996",
          "1997",
          "1998",
          "1999",
          "2000",
          "2001",
          "2002",
          "2003",
          "2004",
          "2005",
          "2006",
          "2007",
          "2008",
          "2009",
          "2010",
          "2011",
          "2012",
          "2013",
          "2014"
         ],
         "xaxis": "x",
         "y": [
          -3.46822340102085,
          -12.8899805206432,
          20.7959415415465,
          27.0182785166938,
          6.3556062257082,
          98.6390964654759,
          98.7926247718674,
          98.9093066626926,
          98.870399169872,
          98.0382206314713,
          97.9385326648127,
          99.0008457081704,
          99.0754408240031,
          99.2643289965646,
          96.2738862376686,
          96.225815499878,
          96.360293393778,
          96.5156549353551,
          96.5266026830163,
          96.3011988118721,
          96.191607459746,
          96.5360732084101,
          96.3786070577779,
          96.508581214803,
          96.4678851599284,
          96.5070540409037,
          96.5268776244457,
          96.5156439333507,
          96.4186952105887,
          96.4790467999825,
          96.4864693470164,
          96.23412585158,
          96.2563992228053,
          91.0670931326121,
          88.7459296624196,
          87.0171120018328,
          85.5267071301878,
          82.9080056207717,
          84.8014290358057,
          83.3652319750973,
          79.6693164010278,
          86.5950160167702,
          71.8329644938359,
          67.0487382754257
         ],
         "yaxis": "y"
        },
        {
         "hovertemplate": "Country_Name=Italy<br>Year=%{x}<br>Energy Imports, net (% of Energy Use)=%{y}<extra></extra>",
         "legendgroup": "Italy",
         "line": {
          "color": "#FB0D0D",
          "dash": "solid"
         },
         "marker": {
          "symbol": "circle"
         },
         "mode": "lines",
         "name": "Italy",
         "orientation": "v",
         "showlegend": true,
         "type": "scatter",
         "x": [
          "1971",
          "1972",
          "1973",
          "1974",
          "1975",
          "1976",
          "1977",
          "1978",
          "1979",
          "1980",
          "1981",
          "1982",
          "1983",
          "1984",
          "1985",
          "1986",
          "1987",
          "1988",
          "1989",
          "1990",
          "1991",
          "1992",
          "1993",
          "1994",
          "1995",
          "1996",
          "1997",
          "1998",
          "1999",
          "2000",
          "2001",
          "2002",
          "2003",
          "2004",
          "2005",
          "2006",
          "2007",
          "2008",
          "2009",
          "2010",
          "2011",
          "2012",
          "2013",
          "2014"
         ],
         "xaxis": "x",
         "y": [
          81.4697038559081,
          81.9590870613341,
          82.8876260334664,
          82.5988613481289,
          82.0314727132063,
          82.7663495977271,
          83.0537976783657,
          83.4055147196634,
          84.3999752629075,
          84.7939688402871,
          83.730668876626,
          81.9072901855161,
          82.7731712175379,
          82.2424550236134,
          82.3905160971675,
          81.0349454334449,
          82.2457029543014,
          81.7355944614857,
          82.6596403559659,
          82.7279681603029,
          82.6341212470324,
          81.7361864990966,
          80.9387506237783,
          79.8704844175778,
          81.5123078720173,
          80.9609613285211,
          81.1459930992474,
          81.7286017337053,
          82.639022489153,
          83.5770384679968,
          84.4230696083365,
          83.7003423076947,
          83.5382570544466,
          84.064837070475,
          83.7920833042666,
          83.7151253356548,
          83.0854301565539,
          81.8823860631965,
          81.3307662429071,
          81.0026718172754,
          80.9821353995273,
          78.3338476613038,
          76.338774185009,
          75.0013037014096
         ],
         "yaxis": "y"
        },
        {
         "hovertemplate": "Country_Name=Jamaica<br>Year=%{x}<br>Energy Imports, net (% of Energy Use)=%{y}<extra></extra>",
         "legendgroup": "Jamaica",
         "line": {
          "color": "#DA16FF",
          "dash": "solid"
         },
         "marker": {
          "symbol": "circle"
         },
         "mode": "lines",
         "name": "Jamaica",
         "orientation": "v",
         "showlegend": true,
         "type": "scatter",
         "x": [
          "1971",
          "1972",
          "1973",
          "1974",
          "1975",
          "1976",
          "1977",
          "1978",
          "1979",
          "1980",
          "1981",
          "1982",
          "1983",
          "1984",
          "1985",
          "1986",
          "1987",
          "1988",
          "1989",
          "1990",
          "1991",
          "1992",
          "1993",
          "1994",
          "1995",
          "1996",
          "1997",
          "1998",
          "1999",
          "2000",
          "2001",
          "2002",
          "2003",
          "2004",
          "2005",
          "2006",
          "2007",
          "2008",
          "2009",
          "2010",
          "2011",
          "2012",
          "2013",
          "2014"
         ],
         "xaxis": "x",
         "y": [
          86.2206009044804,
          89.0728775110762,
          91.395932350765,
          90.2379704594204,
          90.5434707625073,
          89.5374211590438,
          90.1528485292923,
          89.750482023364,
          91.3103984834289,
          90.1740786402002,
          90.341119523182,
          89.2032471305799,
          88.2528656269157,
          86.4182964900291,
          85.3722056307808,
          85.4242474740788,
          85.7683862086137,
          85.8180902396958,
          86.5420213850239,
          82.5966028435447,
          82.6387967129349,
          83.5353462225952,
          83.9832892679498,
          83.8652195850609,
          84.9032681167341,
          85.2552308644635,
          84.877809249312,
          86.6932226611787,
          86.6497085261813,
          84.5570703738397,
          86.919410960444,
          88.9738005956653,
          89.341164225388,
          89.0331440416757,
          88.915213423969,
          90.1158956472919,
          90.3265400349583,
          85.9767865587557,
          82.3168379451876,
          82.6526177847954,
          82.4930960411927,
          81.9541998293587,
          82.5422588605831,
          82.0425186774483
         ],
         "yaxis": "y"
        },
        {
         "hovertemplate": "Country_Name=Japan<br>Year=%{x}<br>Energy Imports, net (% of Energy Use)=%{y}<extra></extra>",
         "legendgroup": "Japan",
         "line": {
          "color": "#222A2A",
          "dash": "solid"
         },
         "marker": {
          "symbol": "circle"
         },
         "mode": "lines",
         "name": "Japan",
         "orientation": "v",
         "showlegend": true,
         "type": "scatter",
         "x": [
          "1971",
          "1972",
          "1973",
          "1974",
          "1975",
          "1976",
          "1977",
          "1978",
          "1979",
          "1980",
          "1981",
          "1982",
          "1983",
          "1984",
          "1985",
          "1986",
          "1987",
          "1988",
          "1989",
          "1990",
          "1991",
          "1992",
          "1993",
          "1994",
          "1995",
          "1996",
          "1997",
          "1998",
          "1999",
          "2000",
          "2001",
          "2002",
          "2003",
          "2004",
          "2005",
          "2006",
          "2007",
          "2008",
          "2009",
          "2010",
          "2011",
          "2012",
          "2013",
          "2014"
         ],
         "xaxis": "x",
         "y": [
          86.623496680998,
          88.592144269339,
          90.7896287358445,
          90.4896169052264,
          90.1915693150205,
          89.8322262535535,
          90.3189523238121,
          89.1397126132484,
          88.8333695292846,
          87.434380885189,
          86.7877722599725,
          84.6084870868658,
          83.6151055792491,
          83.6283155726638,
          81.5242694680302,
          81.2305824424031,
          80.7203755603371,
          82.4663907249315,
          82.9055097052826,
          82.9987386000423,
          82.2639986169808,
          82.3991652954356,
          80.9367328227929,
          81.3272733954984,
          80.1951251845639,
          80.0000587588886,
          79.3666525843726,
          78.4282878327979,
          79.674112614524,
          79.8078641502515,
          79.7209559085014,
          81.2322688514395,
          83.6753101057672,
          82.0703277852697,
          80.9242074274278,
          80.7150247589734,
          82.6454156454555,
          82.3458669273846,
          80.3610828926439,
          80.1440783092453,
          88.9369141471852,
          93.8270471248281,
          93.9186266276607,
          93.9812595165796
         ],
         "yaxis": "y"
        },
        {
         "hovertemplate": "Country_Name=Jordan<br>Year=%{x}<br>Energy Imports, net (% of Energy Use)=%{y}<extra></extra>",
         "legendgroup": "Jordan",
         "line": {
          "color": "#B68100",
          "dash": "solid"
         },
         "marker": {
          "symbol": "circle"
         },
         "mode": "lines",
         "name": "Jordan",
         "orientation": "v",
         "showlegend": true,
         "type": "scatter",
         "x": [
          "1971",
          "1972",
          "1973",
          "1974",
          "1975",
          "1976",
          "1977",
          "1978",
          "1979",
          "1980",
          "1981",
          "1982",
          "1983",
          "1984",
          "1985",
          "1986",
          "1987",
          "1988",
          "1989",
          "1990",
          "1991",
          "1992",
          "1993",
          "1994",
          "1995",
          "1996",
          "1997",
          "1998",
          "1999",
          "2000",
          "2001",
          "2002",
          "2003",
          "2004",
          "2005",
          "2006",
          "2007",
          "2008",
          "2009",
          "2010",
          "2011",
          "2012",
          "2013",
          "2014"
         ],
         "xaxis": "x",
         "y": [
          99.8109034185656,
          99.8274743805941,
          99.848543512424,
          99.8565997979151,
          99.8764173509508,
          99.8791732975053,
          99.9300366777417,
          99.9429608973494,
          99.9444493876206,
          99.9544769280795,
          99.9508930243304,
          99.9568267523887,
          99.9500301314037,
          99.9545689466713,
          99.955299339691,
          99.4058337488425,
          99.1885324498018,
          99.3221144282232,
          98.1839110549123,
          95.0536674077669,
          95.3154680217542,
          95.5031832088397,
          94.9975769114849,
          93.2607702224572,
          93.5036856773286,
          93.7727814774961,
          93.5933985991652,
          93.6812619373686,
          93.8525303523299,
          94.1233919774025,
          94.1717730280325,
          94.8089857839912,
          94.4569015308556,
          95.2709104035018,
          96.1675414188585,
          95.7655703138918,
          96.1561344364595,
          96.1028002228895,
          96.0698870297168,
          96.1647631286124,
          96.1058954597793,
          96.532476211611,
          96.5396912779106,
          96.812297293481
         ],
         "yaxis": "y"
        },
        {
         "hovertemplate": "Country_Name=Lebanon<br>Year=%{x}<br>Energy Imports, net (% of Energy Use)=%{y}<extra></extra>",
         "legendgroup": "Lebanon",
         "line": {
          "color": "#750D86",
          "dash": "solid"
         },
         "marker": {
          "symbol": "circle"
         },
         "mode": "lines",
         "name": "Lebanon",
         "orientation": "v",
         "showlegend": true,
         "type": "scatter",
         "x": [
          "1971",
          "1972",
          "1973",
          "1974",
          "1975",
          "1976",
          "1977",
          "1978",
          "1979",
          "1980",
          "1981",
          "1982",
          "1983",
          "1984",
          "1985",
          "1986",
          "1987",
          "1988",
          "1989",
          "1990",
          "1991",
          "1992",
          "1993",
          "1994",
          "1995",
          "1996",
          "1997",
          "1998",
          "1999",
          "2000",
          "2001",
          "2002",
          "2003",
          "2004",
          "2005",
          "2006",
          "2007",
          "2008",
          "2009",
          "2010",
          "2011",
          "2012",
          "2013",
          "2014"
         ],
         "xaxis": "x",
         "y": [
          90.8842227139681,
          91.155589864043,
          94.0154617914134,
          92.7366791608643,
          91.7983535900166,
          92.3392519110817,
          90.2172786815135,
          91.8341845075653,
          92.3379227972655,
          92.8199486882183,
          92.485959822186,
          91.0456008424508,
          92.1349661613126,
          92.1688215031384,
          93.362593402271,
          94.0921348175462,
          94.0992051843571,
          92.0899879058291,
          92.3473750606155,
          92.6893717420844,
          93.7545796028006,
          93.1807599912021,
          95.1355499682939,
          95.1687468881178,
          95.8855184400985,
          95.8888132560373,
          96.1411489650538,
          96.2134701645351,
          97.0605697797437,
          96.484469092861,
          96.8036563532807,
          96.0756786664172,
          94.8020148728454,
          95.1108503453665,
          94.8865796514698,
          95.1699637209654,
          94.6839266471342,
          96.581910157339,
          97.191527201656,
          96.7553750721573,
          96.7606187291497,
          96.8489382693669,
          96.4703348526504,
          97.8655352175546
         ],
         "yaxis": "y"
        },
        {
         "hovertemplate": "Country_Name=Luxembourg<br>Year=%{x}<br>Energy Imports, net (% of Energy Use)=%{y}<extra></extra>",
         "legendgroup": "Luxembourg",
         "line": {
          "color": "#EB663B",
          "dash": "solid"
         },
         "marker": {
          "symbol": "circle"
         },
         "mode": "lines",
         "name": "Luxembourg",
         "orientation": "v",
         "showlegend": true,
         "type": "scatter",
         "x": [
          "1971",
          "1972",
          "1973",
          "1974",
          "1975",
          "1976",
          "1977",
          "1978",
          "1979",
          "1980",
          "1981",
          "1982",
          "1983",
          "1984",
          "1985",
          "1986",
          "1987",
          "1988",
          "1989",
          "1990",
          "1991",
          "1992",
          "1993",
          "1994",
          "1995",
          "1996",
          "1997",
          "1998",
          "1999",
          "2000",
          "2001",
          "2002",
          "2003",
          "2004",
          "2005",
          "2006",
          "2007",
          "2008",
          "2009",
          "2010",
          "2011",
          "2012",
          "2013",
          "2014"
         ],
         "xaxis": "x",
         "y": [
          99.8835598009045,
          99.8657062541727,
          99.9088137942485,
          99.8456358944771,
          99.8380699078674,
          99.8972062498392,
          99.3469456327393,
          99.3974852315171,
          99.3117403892548,
          99.1735214453738,
          99.0276570832539,
          99.0269344939499,
          98.974667404084,
          98.9590542711006,
          98.9979966467028,
          99.1319165011686,
          98.8544060678174,
          98.7999082305933,
          98.9284754138236,
          99.1500266926205,
          99.1572125773598,
          98.7449196210615,
          98.8004217867403,
          98.7252711520237,
          98.5848094817352,
          98.8298969088303,
          98.6325884103985,
          98.2314365812749,
          98.2900982977703,
          98.1000798948111,
          97.9563517057687,
          98.0136824645482,
          98.0779869118816,
          97.9940181446203,
          97.567515989354,
          97.3630083336929,
          97.2042610917154,
          97.059477688263,
          97.1960468219026,
          97.1974971191104,
          97.294404974314,
          96.9960239664435,
          96.6269935154432,
          96.0021367767681
         ],
         "yaxis": "y"
        },
        {
         "hovertemplate": "Country_Name=Malta<br>Year=%{x}<br>Energy Imports, net (% of Energy Use)=%{y}<extra></extra>",
         "legendgroup": "Malta",
         "line": {
          "color": "#511CFB",
          "dash": "solid"
         },
         "marker": {
          "symbol": "circle"
         },
         "mode": "lines",
         "name": "Malta",
         "orientation": "v",
         "showlegend": true,
         "type": "scatter",
         "x": [
          "1971",
          "1972",
          "1973",
          "1974",
          "1975",
          "1976",
          "1977",
          "1978",
          "1979",
          "1980",
          "1981",
          "1982",
          "1983",
          "1984",
          "1985",
          "1986",
          "1987",
          "1988",
          "1989",
          "1990",
          "1991",
          "1992",
          "1993",
          "1994",
          "1995",
          "1996",
          "1997",
          "1998",
          "1999",
          "2000",
          "2001",
          "2002",
          "2003",
          "2004",
          "2005",
          "2006",
          "2007",
          "2008",
          "2009",
          "2010",
          "2011",
          "2012",
          "2013",
          "2014"
         ],
         "xaxis": "x",
         "y": [
          100,
          100,
          100,
          100,
          100,
          100,
          100,
          100,
          100,
          100,
          100,
          100,
          100,
          100,
          100,
          100,
          100,
          100,
          100,
          100,
          100,
          100,
          100,
          100,
          100,
          100,
          100,
          100,
          100,
          100,
          100,
          99.9674076094368,
          99.962454369948,
          99.9510403326363,
          99.9403964487637,
          99.9225863132602,
          99.9101608326312,
          99.8915820061991,
          99.880399985612,
          99.4177103801487,
          99.200490744903,
          99.020755696883,
          98.8396163039573,
          98.3814861651297
         ],
         "yaxis": "y"
        },
        {
         "hovertemplate": "Country_Name=Moldova<br>Year=%{x}<br>Energy Imports, net (% of Energy Use)=%{y}<extra></extra>",
         "legendgroup": "Moldova",
         "line": {
          "color": "#00A08B",
          "dash": "solid"
         },
         "marker": {
          "symbol": "circle"
         },
         "mode": "lines",
         "name": "Moldova",
         "orientation": "v",
         "showlegend": true,
         "type": "scatter",
         "x": [
          "1971",
          "1972",
          "1973",
          "1974",
          "1975",
          "1976",
          "1977",
          "1978",
          "1979",
          "1980",
          "1981",
          "1982",
          "1983",
          "1984",
          "1985",
          "1986",
          "1987",
          "1988",
          "1989",
          "1990",
          "1991",
          "1992",
          "1993",
          "1994",
          "1995",
          "1996",
          "1997",
          "1998",
          "1999",
          "2000",
          "2001",
          "2002",
          "2003",
          "2004",
          "2005",
          "2006",
          "2007",
          "2008",
          "2009",
          "2010",
          "2011",
          "2012",
          "2013",
          "2014"
         ],
         "xaxis": "x",
         "y": [
          96.24795079406607,
          96.24795079406607,
          96.24795079406607,
          96.24795079406607,
          96.24795079406607,
          96.24795079406607,
          96.24795079406607,
          96.24795079406607,
          96.24795079406607,
          96.24795079406607,
          96.24795079406607,
          96.24795079406607,
          96.24795079406607,
          96.24795079406607,
          96.24795079406607,
          96.24795079406607,
          96.24795079406607,
          96.24795079406607,
          96.24795079406607,
          99.1484648905781,
          98.8811168639421,
          98.7638662436813,
          98.4495143712167,
          98.3104187959327,
          98.1000318137954,
          97.7550149212728,
          97.4133327477365,
          97.5434911162288,
          97.1605009596806,
          96.8344044069009,
          96.7109460060294,
          96.8482161201081,
          96.681951038622,
          96.4609713294405,
          96.9141752581004,
          96.6765090665428,
          96.7228193332928,
          96.2410175827566,
          95.9413394404509,
          93.8117840069182,
          92.5207884624576,
          92.2474194809244,
          90.0495989023482,
          90.011076692694
         ],
         "yaxis": "y"
        },
        {
         "hovertemplate": "Country_Name=Morocco<br>Year=%{x}<br>Energy Imports, net (% of Energy Use)=%{y}<extra></extra>",
         "legendgroup": "Morocco",
         "line": {
          "color": "#FB00D1",
          "dash": "solid"
         },
         "marker": {
          "symbol": "circle"
         },
         "mode": "lines",
         "name": "Morocco",
         "orientation": "v",
         "showlegend": true,
         "type": "scatter",
         "x": [
          "1971",
          "1972",
          "1973",
          "1974",
          "1975",
          "1976",
          "1977",
          "1978",
          "1979",
          "1980",
          "1981",
          "1982",
          "1983",
          "1984",
          "1985",
          "1986",
          "1987",
          "1988",
          "1989",
          "1990",
          "1991",
          "1992",
          "1993",
          "1994",
          "1995",
          "1996",
          "1997",
          "1998",
          "1999",
          "2000",
          "2001",
          "2002",
          "2003",
          "2004",
          "2005",
          "2006",
          "2007",
          "2008",
          "2009",
          "2010",
          "2011",
          "2012",
          "2013",
          "2014"
         ],
         "xaxis": "x",
         "y": [
          61.2807116170151,
          61.6747888198289,
          64.9579680514627,
          67.0215736661676,
          67.581243314249,
          69.0090157026545,
          70.3437644965317,
          71.5971772845256,
          73.0716276349883,
          73.8336264186649,
          74.4678343620641,
          75.5946862085235,
          76.1048421753643,
          75.8816923612222,
          76.1890938981038,
          76.4106995661341,
          77.9580033846228,
          78.537384176655,
          81.0432065751674,
          80.9845752554351,
          80.9448194173937,
          82.0747417088347,
          82.8854441292392,
          83.2497232064654,
          83.1648204029189,
          83.4015425847251,
          84.1731701405241,
          85.1389347310785,
          87.321643214177,
          87.7348643811487,
          88.2710288654828,
          88.3824671544884,
          87.8022726297925,
          81.8993612529186,
          84.3822096980259,
          85.5719901694836,
          86.8663600685819,
          88.3165600830087,
          88.5431396113244,
          88.7646796056595,
          90.4826115130109,
          90.9405998998956,
          90.2455849447978,
          90.72183409217
         ],
         "yaxis": "y"
        },
        {
         "hovertemplate": "Country_Name=Portugal<br>Year=%{x}<br>Energy Imports, net (% of Energy Use)=%{y}<extra></extra>",
         "legendgroup": "Portugal",
         "line": {
          "color": "#FC0080",
          "dash": "solid"
         },
         "marker": {
          "symbol": "circle"
         },
         "mode": "lines",
         "name": "Portugal",
         "orientation": "v",
         "showlegend": true,
         "type": "scatter",
         "x": [
          "1971",
          "1972",
          "1973",
          "1974",
          "1975",
          "1976",
          "1977",
          "1978",
          "1979",
          "1980",
          "1981",
          "1982",
          "1983",
          "1984",
          "1985",
          "1986",
          "1987",
          "1988",
          "1989",
          "1990",
          "1991",
          "1992",
          "1993",
          "1994",
          "1995",
          "1996",
          "1997",
          "1998",
          "1999",
          "2000",
          "2001",
          "2002",
          "2003",
          "2004",
          "2005",
          "2006",
          "2007",
          "2008",
          "2009",
          "2010",
          "2011",
          "2012",
          "2013",
          "2014"
         ],
         "xaxis": "x",
         "y": [
          77.9391896144605,
          78.1227374298462,
          79.6805271833634,
          80.0438950503959,
          82.7370884726687,
          85.7727376038944,
          79.496628149702,
          80.2024738691028,
          81.2384203030125,
          85.1696711467069,
          87.4230712054395,
          86.9286686558553,
          85.6690982092392,
          84.3852719803908,
          82.2796656273955,
          84.7575212789587,
          84.34099262838,
          82.9873140513385,
          84.1911451287323,
          79.779212883968,
          79.9907364575214,
          83.7004439449682,
          81.5925061679092,
          80.910317385609,
          83.5673823166967,
          81.029613884541,
          82.205931849832,
          83.6008997200864,
          86.2044446365921,
          84.361729413483,
          83.4683225534454,
          85.8893764825227,
          82.7304243814245,
          84.9146177774547,
          86.3402366170609,
          82.6382161926017,
          81.6817802891148,
          81.8767228619796,
          79.7744867527795,
          75.3133414064953,
          75.7898442601672,
          78.0427158868151,
          73.1730789650377,
          71.6682863058296
         ],
         "yaxis": "y"
        },
        {
         "hovertemplate": "Country_Name=Singapore<br>Year=%{x}<br>Energy Imports, net (% of Energy Use)=%{y}<extra></extra>",
         "legendgroup": "Singapore",
         "line": {
          "color": "#B2828D",
          "dash": "solid"
         },
         "marker": {
          "symbol": "circle"
         },
         "mode": "lines",
         "name": "Singapore",
         "orientation": "v",
         "showlegend": true,
         "type": "scatter",
         "x": [
          "1971",
          "1972",
          "1973",
          "1974",
          "1975",
          "1976",
          "1977",
          "1978",
          "1979",
          "1980",
          "1981",
          "1982",
          "1983",
          "1984",
          "1985",
          "1986",
          "1987",
          "1988",
          "1989",
          "1990",
          "1991",
          "1992",
          "1993",
          "1994",
          "1995",
          "1996",
          "1997",
          "1998",
          "1999",
          "2000",
          "2001",
          "2002",
          "2003",
          "2004",
          "2005",
          "2006",
          "2007",
          "2008",
          "2009",
          "2010",
          "2011",
          "2012",
          "2013",
          "2014"
         ],
         "xaxis": "x",
         "y": [
          100,
          100,
          100,
          100,
          100,
          100,
          100,
          100,
          100,
          100,
          100,
          100,
          100,
          100,
          100,
          99.0249808332359,
          99.0838071086752,
          99.1736571634255,
          99.174118646234,
          99.391729351488,
          98.4536974522154,
          98.6372841222639,
          98.888936735692,
          99.0853919954902,
          98.9279703816829,
          98.9730748642021,
          99.085308181757,
          98.9880030079641,
          98.8875652676099,
          98.9178093257436,
          98.1682125594019,
          98.1562254523666,
          98.404252408056,
          98.7137424288612,
          98.172203063037,
          98.302365849048,
          98.1287043989523,
          98.2467607800251,
          97.9328422483174,
          97.6880328585997,
          97.7014427633591,
          97.6089951637979,
          97.5551670519087,
          97.6820012924571
         ],
         "yaxis": "y"
        }
       ],
       "layout": {
        "legend": {
         "title": {
          "text": "Country_Name"
         },
         "tracegroupgap": 0
        },
        "template": {
         "data": {
          "bar": [
           {
            "error_x": {
             "color": "#2a3f5f"
            },
            "error_y": {
             "color": "#2a3f5f"
            },
            "marker": {
             "line": {
              "color": "#E5ECF6",
              "width": 0.5
             },
             "pattern": {
              "fillmode": "overlay",
              "size": 10,
              "solidity": 0.2
             }
            },
            "type": "bar"
           }
          ],
          "barpolar": [
           {
            "marker": {
             "line": {
              "color": "#E5ECF6",
              "width": 0.5
             },
             "pattern": {
              "fillmode": "overlay",
              "size": 10,
              "solidity": 0.2
             }
            },
            "type": "barpolar"
           }
          ],
          "carpet": [
           {
            "aaxis": {
             "endlinecolor": "#2a3f5f",
             "gridcolor": "white",
             "linecolor": "white",
             "minorgridcolor": "white",
             "startlinecolor": "#2a3f5f"
            },
            "baxis": {
             "endlinecolor": "#2a3f5f",
             "gridcolor": "white",
             "linecolor": "white",
             "minorgridcolor": "white",
             "startlinecolor": "#2a3f5f"
            },
            "type": "carpet"
           }
          ],
          "choropleth": [
           {
            "colorbar": {
             "outlinewidth": 0,
             "ticks": ""
            },
            "type": "choropleth"
           }
          ],
          "contour": [
           {
            "colorbar": {
             "outlinewidth": 0,
             "ticks": ""
            },
            "colorscale": [
             [
              0,
              "#0d0887"
             ],
             [
              0.1111111111111111,
              "#46039f"
             ],
             [
              0.2222222222222222,
              "#7201a8"
             ],
             [
              0.3333333333333333,
              "#9c179e"
             ],
             [
              0.4444444444444444,
              "#bd3786"
             ],
             [
              0.5555555555555556,
              "#d8576b"
             ],
             [
              0.6666666666666666,
              "#ed7953"
             ],
             [
              0.7777777777777778,
              "#fb9f3a"
             ],
             [
              0.8888888888888888,
              "#fdca26"
             ],
             [
              1,
              "#f0f921"
             ]
            ],
            "type": "contour"
           }
          ],
          "contourcarpet": [
           {
            "colorbar": {
             "outlinewidth": 0,
             "ticks": ""
            },
            "type": "contourcarpet"
           }
          ],
          "heatmap": [
           {
            "colorbar": {
             "outlinewidth": 0,
             "ticks": ""
            },
            "colorscale": [
             [
              0,
              "#0d0887"
             ],
             [
              0.1111111111111111,
              "#46039f"
             ],
             [
              0.2222222222222222,
              "#7201a8"
             ],
             [
              0.3333333333333333,
              "#9c179e"
             ],
             [
              0.4444444444444444,
              "#bd3786"
             ],
             [
              0.5555555555555556,
              "#d8576b"
             ],
             [
              0.6666666666666666,
              "#ed7953"
             ],
             [
              0.7777777777777778,
              "#fb9f3a"
             ],
             [
              0.8888888888888888,
              "#fdca26"
             ],
             [
              1,
              "#f0f921"
             ]
            ],
            "type": "heatmap"
           }
          ],
          "heatmapgl": [
           {
            "colorbar": {
             "outlinewidth": 0,
             "ticks": ""
            },
            "colorscale": [
             [
              0,
              "#0d0887"
             ],
             [
              0.1111111111111111,
              "#46039f"
             ],
             [
              0.2222222222222222,
              "#7201a8"
             ],
             [
              0.3333333333333333,
              "#9c179e"
             ],
             [
              0.4444444444444444,
              "#bd3786"
             ],
             [
              0.5555555555555556,
              "#d8576b"
             ],
             [
              0.6666666666666666,
              "#ed7953"
             ],
             [
              0.7777777777777778,
              "#fb9f3a"
             ],
             [
              0.8888888888888888,
              "#fdca26"
             ],
             [
              1,
              "#f0f921"
             ]
            ],
            "type": "heatmapgl"
           }
          ],
          "histogram": [
           {
            "marker": {
             "pattern": {
              "fillmode": "overlay",
              "size": 10,
              "solidity": 0.2
             }
            },
            "type": "histogram"
           }
          ],
          "histogram2d": [
           {
            "colorbar": {
             "outlinewidth": 0,
             "ticks": ""
            },
            "colorscale": [
             [
              0,
              "#0d0887"
             ],
             [
              0.1111111111111111,
              "#46039f"
             ],
             [
              0.2222222222222222,
              "#7201a8"
             ],
             [
              0.3333333333333333,
              "#9c179e"
             ],
             [
              0.4444444444444444,
              "#bd3786"
             ],
             [
              0.5555555555555556,
              "#d8576b"
             ],
             [
              0.6666666666666666,
              "#ed7953"
             ],
             [
              0.7777777777777778,
              "#fb9f3a"
             ],
             [
              0.8888888888888888,
              "#fdca26"
             ],
             [
              1,
              "#f0f921"
             ]
            ],
            "type": "histogram2d"
           }
          ],
          "histogram2dcontour": [
           {
            "colorbar": {
             "outlinewidth": 0,
             "ticks": ""
            },
            "colorscale": [
             [
              0,
              "#0d0887"
             ],
             [
              0.1111111111111111,
              "#46039f"
             ],
             [
              0.2222222222222222,
              "#7201a8"
             ],
             [
              0.3333333333333333,
              "#9c179e"
             ],
             [
              0.4444444444444444,
              "#bd3786"
             ],
             [
              0.5555555555555556,
              "#d8576b"
             ],
             [
              0.6666666666666666,
              "#ed7953"
             ],
             [
              0.7777777777777778,
              "#fb9f3a"
             ],
             [
              0.8888888888888888,
              "#fdca26"
             ],
             [
              1,
              "#f0f921"
             ]
            ],
            "type": "histogram2dcontour"
           }
          ],
          "mesh3d": [
           {
            "colorbar": {
             "outlinewidth": 0,
             "ticks": ""
            },
            "type": "mesh3d"
           }
          ],
          "parcoords": [
           {
            "line": {
             "colorbar": {
              "outlinewidth": 0,
              "ticks": ""
             }
            },
            "type": "parcoords"
           }
          ],
          "pie": [
           {
            "automargin": true,
            "type": "pie"
           }
          ],
          "scatter": [
           {
            "marker": {
             "colorbar": {
              "outlinewidth": 0,
              "ticks": ""
             }
            },
            "type": "scatter"
           }
          ],
          "scatter3d": [
           {
            "line": {
             "colorbar": {
              "outlinewidth": 0,
              "ticks": ""
             }
            },
            "marker": {
             "colorbar": {
              "outlinewidth": 0,
              "ticks": ""
             }
            },
            "type": "scatter3d"
           }
          ],
          "scattercarpet": [
           {
            "marker": {
             "colorbar": {
              "outlinewidth": 0,
              "ticks": ""
             }
            },
            "type": "scattercarpet"
           }
          ],
          "scattergeo": [
           {
            "marker": {
             "colorbar": {
              "outlinewidth": 0,
              "ticks": ""
             }
            },
            "type": "scattergeo"
           }
          ],
          "scattergl": [
           {
            "marker": {
             "colorbar": {
              "outlinewidth": 0,
              "ticks": ""
             }
            },
            "type": "scattergl"
           }
          ],
          "scattermapbox": [
           {
            "marker": {
             "colorbar": {
              "outlinewidth": 0,
              "ticks": ""
             }
            },
            "type": "scattermapbox"
           }
          ],
          "scatterpolar": [
           {
            "marker": {
             "colorbar": {
              "outlinewidth": 0,
              "ticks": ""
             }
            },
            "type": "scatterpolar"
           }
          ],
          "scatterpolargl": [
           {
            "marker": {
             "colorbar": {
              "outlinewidth": 0,
              "ticks": ""
             }
            },
            "type": "scatterpolargl"
           }
          ],
          "scatterternary": [
           {
            "marker": {
             "colorbar": {
              "outlinewidth": 0,
              "ticks": ""
             }
            },
            "type": "scatterternary"
           }
          ],
          "surface": [
           {
            "colorbar": {
             "outlinewidth": 0,
             "ticks": ""
            },
            "colorscale": [
             [
              0,
              "#0d0887"
             ],
             [
              0.1111111111111111,
              "#46039f"
             ],
             [
              0.2222222222222222,
              "#7201a8"
             ],
             [
              0.3333333333333333,
              "#9c179e"
             ],
             [
              0.4444444444444444,
              "#bd3786"
             ],
             [
              0.5555555555555556,
              "#d8576b"
             ],
             [
              0.6666666666666666,
              "#ed7953"
             ],
             [
              0.7777777777777778,
              "#fb9f3a"
             ],
             [
              0.8888888888888888,
              "#fdca26"
             ],
             [
              1,
              "#f0f921"
             ]
            ],
            "type": "surface"
           }
          ],
          "table": [
           {
            "cells": {
             "fill": {
              "color": "#EBF0F8"
             },
             "line": {
              "color": "white"
             }
            },
            "header": {
             "fill": {
              "color": "#C8D4E3"
             },
             "line": {
              "color": "white"
             }
            },
            "type": "table"
           }
          ]
         },
         "layout": {
          "annotationdefaults": {
           "arrowcolor": "#2a3f5f",
           "arrowhead": 0,
           "arrowwidth": 1
          },
          "autotypenumbers": "strict",
          "coloraxis": {
           "colorbar": {
            "outlinewidth": 0,
            "ticks": ""
           }
          },
          "colorscale": {
           "diverging": [
            [
             0,
             "#8e0152"
            ],
            [
             0.1,
             "#c51b7d"
            ],
            [
             0.2,
             "#de77ae"
            ],
            [
             0.3,
             "#f1b6da"
            ],
            [
             0.4,
             "#fde0ef"
            ],
            [
             0.5,
             "#f7f7f7"
            ],
            [
             0.6,
             "#e6f5d0"
            ],
            [
             0.7,
             "#b8e186"
            ],
            [
             0.8,
             "#7fbc41"
            ],
            [
             0.9,
             "#4d9221"
            ],
            [
             1,
             "#276419"
            ]
           ],
           "sequential": [
            [
             0,
             "#0d0887"
            ],
            [
             0.1111111111111111,
             "#46039f"
            ],
            [
             0.2222222222222222,
             "#7201a8"
            ],
            [
             0.3333333333333333,
             "#9c179e"
            ],
            [
             0.4444444444444444,
             "#bd3786"
            ],
            [
             0.5555555555555556,
             "#d8576b"
            ],
            [
             0.6666666666666666,
             "#ed7953"
            ],
            [
             0.7777777777777778,
             "#fb9f3a"
            ],
            [
             0.8888888888888888,
             "#fdca26"
            ],
            [
             1,
             "#f0f921"
            ]
           ],
           "sequentialminus": [
            [
             0,
             "#0d0887"
            ],
            [
             0.1111111111111111,
             "#46039f"
            ],
            [
             0.2222222222222222,
             "#7201a8"
            ],
            [
             0.3333333333333333,
             "#9c179e"
            ],
            [
             0.4444444444444444,
             "#bd3786"
            ],
            [
             0.5555555555555556,
             "#d8576b"
            ],
            [
             0.6666666666666666,
             "#ed7953"
            ],
            [
             0.7777777777777778,
             "#fb9f3a"
            ],
            [
             0.8888888888888888,
             "#fdca26"
            ],
            [
             1,
             "#f0f921"
            ]
           ]
          },
          "colorway": [
           "#636efa",
           "#EF553B",
           "#00cc96",
           "#ab63fa",
           "#FFA15A",
           "#19d3f3",
           "#FF6692",
           "#B6E880",
           "#FF97FF",
           "#FECB52"
          ],
          "font": {
           "color": "#2a3f5f"
          },
          "geo": {
           "bgcolor": "white",
           "lakecolor": "white",
           "landcolor": "#E5ECF6",
           "showlakes": true,
           "showland": true,
           "subunitcolor": "white"
          },
          "hoverlabel": {
           "align": "left"
          },
          "hovermode": "closest",
          "mapbox": {
           "style": "light"
          },
          "paper_bgcolor": "white",
          "plot_bgcolor": "#E5ECF6",
          "polar": {
           "angularaxis": {
            "gridcolor": "white",
            "linecolor": "white",
            "ticks": ""
           },
           "bgcolor": "#E5ECF6",
           "radialaxis": {
            "gridcolor": "white",
            "linecolor": "white",
            "ticks": ""
           }
          },
          "scene": {
           "xaxis": {
            "backgroundcolor": "#E5ECF6",
            "gridcolor": "white",
            "gridwidth": 2,
            "linecolor": "white",
            "showbackground": true,
            "ticks": "",
            "zerolinecolor": "white"
           },
           "yaxis": {
            "backgroundcolor": "#E5ECF6",
            "gridcolor": "white",
            "gridwidth": 2,
            "linecolor": "white",
            "showbackground": true,
            "ticks": "",
            "zerolinecolor": "white"
           },
           "zaxis": {
            "backgroundcolor": "#E5ECF6",
            "gridcolor": "white",
            "gridwidth": 2,
            "linecolor": "white",
            "showbackground": true,
            "ticks": "",
            "zerolinecolor": "white"
           }
          },
          "shapedefaults": {
           "line": {
            "color": "#2a3f5f"
           }
          },
          "ternary": {
           "aaxis": {
            "gridcolor": "white",
            "linecolor": "white",
            "ticks": ""
           },
           "baxis": {
            "gridcolor": "white",
            "linecolor": "white",
            "ticks": ""
           },
           "bgcolor": "#E5ECF6",
           "caxis": {
            "gridcolor": "white",
            "linecolor": "white",
            "ticks": ""
           }
          },
          "title": {
           "x": 0.05
          },
          "xaxis": {
           "automargin": true,
           "gridcolor": "white",
           "linecolor": "white",
           "ticks": "",
           "title": {
            "standoff": 15
           },
           "zerolinecolor": "white",
           "zerolinewidth": 2
          },
          "yaxis": {
           "automargin": true,
           "gridcolor": "white",
           "linecolor": "white",
           "ticks": "",
           "title": {
            "standoff": 15
           },
           "zerolinecolor": "white",
           "zerolinewidth": 2
          }
         }
        },
        "title": {
         "text": "Top 15 Countries with the Highest Average Energy Import Per Capita"
        },
        "xaxis": {
         "anchor": "y",
         "domain": [
          0,
          1
         ],
         "title": {
          "text": "Year"
         }
        },
        "yaxis": {
         "anchor": "x",
         "domain": [
          0,
          1
         ],
         "title": {
          "text": "Energy Imports, net (% of Energy Use)"
         }
        }
       }
      },
      "text/html": [
       "<div>                            <div id=\"260a300d-8ccb-4199-9670-3103e91d4502\" class=\"plotly-graph-div\" style=\"height:525px; width:100%;\"></div>            <script type=\"text/javascript\">                require([\"plotly\"], function(Plotly) {                    window.PLOTLYENV=window.PLOTLYENV || {};                                    if (document.getElementById(\"260a300d-8ccb-4199-9670-3103e91d4502\")) {                    Plotly.newPlot(                        \"260a300d-8ccb-4199-9670-3103e91d4502\",                        [{\"hovertemplate\":\"Country_Name=Belarus<br>Year=%{x}<br>Energy Imports, net (% of Energy Use)=%{y}<extra></extra>\",\"legendgroup\":\"Belarus\",\"line\":{\"color\":\"#2E91E5\",\"dash\":\"solid\"},\"marker\":{\"symbol\":\"circle\"},\"mode\":\"lines\",\"name\":\"Belarus\",\"orientation\":\"v\",\"showlegend\":true,\"type\":\"scatter\",\"x\":[\"1971\",\"1972\",\"1973\",\"1974\",\"1975\",\"1976\",\"1977\",\"1978\",\"1979\",\"1980\",\"1981\",\"1982\",\"1983\",\"1984\",\"1985\",\"1986\",\"1987\",\"1988\",\"1989\",\"1990\",\"1991\",\"1992\",\"1993\",\"1994\",\"1995\",\"1996\",\"1997\",\"1998\",\"1999\",\"2000\",\"2001\",\"2002\",\"2003\",\"2004\",\"2005\",\"2006\",\"2007\",\"2008\",\"2009\",\"2010\",\"2011\",\"2012\",\"2013\",\"2014\"],\"xaxis\":\"x\",\"y\":[87.11208280307066,87.11208280307066,87.11208280307066,87.11208280307066,87.11208280307066,87.11208280307066,87.11208280307066,87.11208280307066,87.11208280307066,87.11208280307066,87.11208280307066,87.11208280307066,87.11208280307066,87.11208280307066,87.11208280307066,87.11208280307066,87.11208280307066,87.11208280307066,87.11208280307066,92.6587771260379,92.1609865232314,90.5359665491177,89.7734863433474,87.123753783293,86.5892382076335,86.9107982055666,86.9151147243215,87.1357098032738,85.4989770543383,86.1667105207793,85.8385395445467,85.7769513989085,86.5986284005088,86.8392410053379,86.1800413309746,86.7643860751072,86.1983623755877,86.31206617624,85.6356111438264,85.6224329737371,85.8955371534026,86.5014276765472,85.3896270540696,86.7796989270316],\"yaxis\":\"y\"},{\"hovertemplate\":\"Country_Name=Cyprus<br>Year=%{x}<br>Energy Imports, net (% of Energy Use)=%{y}<extra></extra>\",\"legendgroup\":\"Cyprus\",\"line\":{\"color\":\"#E15F99\",\"dash\":\"solid\"},\"marker\":{\"symbol\":\"circle\"},\"mode\":\"lines\",\"name\":\"Cyprus\",\"orientation\":\"v\",\"showlegend\":true,\"type\":\"scatter\",\"x\":[\"1971\",\"1972\",\"1973\",\"1974\",\"1975\",\"1976\",\"1977\",\"1978\",\"1979\",\"1980\",\"1981\",\"1982\",\"1983\",\"1984\",\"1985\",\"1986\",\"1987\",\"1988\",\"1989\",\"1990\",\"1991\",\"1992\",\"1993\",\"1994\",\"1995\",\"1996\",\"1997\",\"1998\",\"1999\",\"2000\",\"2001\",\"2002\",\"2003\",\"2004\",\"2005\",\"2006\",\"2007\",\"2008\",\"2009\",\"2010\",\"2011\",\"2012\",\"2013\",\"2014\"],\"xaxis\":\"x\",\"y\":[98.4465814403776,98.7779947968996,98.8334292473943,99.3085870225808,98.8920859487743,98.7924040876695,98.8912213767148,98.9202931218428,98.9768594478011,99.2763537574206,99.2912754333548,99.3027644959061,99.3548178217203,99.2856541205284,99.2676932445952,99.3526935695191,99.4510310389333,99.5024201003097,99.5218728474148,99.5504398173923,99.6023274610834,99.6497969370623,99.6751885379386,99.3918237957451,97.4962430370068,97.71015780176,97.7458263967341,97.8261617586635,97.8027094530859,97.929278181471,97.8969225275336,97.9130232723078,97.9373785485482,97.7072856269023,97.7009759238474,97.7679826546901,96.9921284320967,96.8613963714625,96.6979056905392,96.3506715702671,95.9596497051175,95.1986462763843,94.3563077946247,94.0267505230889],\"yaxis\":\"y\"},{\"hovertemplate\":\"Country_Name=Israel<br>Year=%{x}<br>Energy Imports, net (% of Energy Use)=%{y}<extra></extra>\",\"legendgroup\":\"Israel\",\"line\":{\"color\":\"#1CA71C\",\"dash\":\"solid\"},\"marker\":{\"symbol\":\"circle\"},\"mode\":\"lines\",\"name\":\"Israel\",\"orientation\":\"v\",\"showlegend\":true,\"type\":\"scatter\",\"x\":[\"1971\",\"1972\",\"1973\",\"1974\",\"1975\",\"1976\",\"1977\",\"1978\",\"1979\",\"1980\",\"1981\",\"1982\",\"1983\",\"1984\",\"1985\",\"1986\",\"1987\",\"1988\",\"1989\",\"1990\",\"1991\",\"1992\",\"1993\",\"1994\",\"1995\",\"1996\",\"1997\",\"1998\",\"1999\",\"2000\",\"2001\",\"2002\",\"2003\",\"2004\",\"2005\",\"2006\",\"2007\",\"2008\",\"2009\",\"2010\",\"2011\",\"2012\",\"2013\",\"2014\"],\"xaxis\":\"x\",\"y\":[-3.46822340102085,-12.8899805206432,20.7959415415465,27.0182785166938,6.3556062257082,98.6390964654759,98.7926247718674,98.9093066626926,98.870399169872,98.0382206314713,97.9385326648127,99.0008457081704,99.0754408240031,99.2643289965646,96.2738862376686,96.225815499878,96.360293393778,96.5156549353551,96.5266026830163,96.3011988118721,96.191607459746,96.5360732084101,96.3786070577779,96.508581214803,96.4678851599284,96.5070540409037,96.5268776244457,96.5156439333507,96.4186952105887,96.4790467999825,96.4864693470164,96.23412585158,96.2563992228053,91.0670931326121,88.7459296624196,87.0171120018328,85.5267071301878,82.9080056207717,84.8014290358057,83.3652319750973,79.6693164010278,86.5950160167702,71.8329644938359,67.0487382754257],\"yaxis\":\"y\"},{\"hovertemplate\":\"Country_Name=Italy<br>Year=%{x}<br>Energy Imports, net (% of Energy Use)=%{y}<extra></extra>\",\"legendgroup\":\"Italy\",\"line\":{\"color\":\"#FB0D0D\",\"dash\":\"solid\"},\"marker\":{\"symbol\":\"circle\"},\"mode\":\"lines\",\"name\":\"Italy\",\"orientation\":\"v\",\"showlegend\":true,\"type\":\"scatter\",\"x\":[\"1971\",\"1972\",\"1973\",\"1974\",\"1975\",\"1976\",\"1977\",\"1978\",\"1979\",\"1980\",\"1981\",\"1982\",\"1983\",\"1984\",\"1985\",\"1986\",\"1987\",\"1988\",\"1989\",\"1990\",\"1991\",\"1992\",\"1993\",\"1994\",\"1995\",\"1996\",\"1997\",\"1998\",\"1999\",\"2000\",\"2001\",\"2002\",\"2003\",\"2004\",\"2005\",\"2006\",\"2007\",\"2008\",\"2009\",\"2010\",\"2011\",\"2012\",\"2013\",\"2014\"],\"xaxis\":\"x\",\"y\":[81.4697038559081,81.9590870613341,82.8876260334664,82.5988613481289,82.0314727132063,82.7663495977271,83.0537976783657,83.4055147196634,84.3999752629075,84.7939688402871,83.730668876626,81.9072901855161,82.7731712175379,82.2424550236134,82.3905160971675,81.0349454334449,82.2457029543014,81.7355944614857,82.6596403559659,82.7279681603029,82.6341212470324,81.7361864990966,80.9387506237783,79.8704844175778,81.5123078720173,80.9609613285211,81.1459930992474,81.7286017337053,82.639022489153,83.5770384679968,84.4230696083365,83.7003423076947,83.5382570544466,84.064837070475,83.7920833042666,83.7151253356548,83.0854301565539,81.8823860631965,81.3307662429071,81.0026718172754,80.9821353995273,78.3338476613038,76.338774185009,75.0013037014096],\"yaxis\":\"y\"},{\"hovertemplate\":\"Country_Name=Jamaica<br>Year=%{x}<br>Energy Imports, net (% of Energy Use)=%{y}<extra></extra>\",\"legendgroup\":\"Jamaica\",\"line\":{\"color\":\"#DA16FF\",\"dash\":\"solid\"},\"marker\":{\"symbol\":\"circle\"},\"mode\":\"lines\",\"name\":\"Jamaica\",\"orientation\":\"v\",\"showlegend\":true,\"type\":\"scatter\",\"x\":[\"1971\",\"1972\",\"1973\",\"1974\",\"1975\",\"1976\",\"1977\",\"1978\",\"1979\",\"1980\",\"1981\",\"1982\",\"1983\",\"1984\",\"1985\",\"1986\",\"1987\",\"1988\",\"1989\",\"1990\",\"1991\",\"1992\",\"1993\",\"1994\",\"1995\",\"1996\",\"1997\",\"1998\",\"1999\",\"2000\",\"2001\",\"2002\",\"2003\",\"2004\",\"2005\",\"2006\",\"2007\",\"2008\",\"2009\",\"2010\",\"2011\",\"2012\",\"2013\",\"2014\"],\"xaxis\":\"x\",\"y\":[86.2206009044804,89.0728775110762,91.395932350765,90.2379704594204,90.5434707625073,89.5374211590438,90.1528485292923,89.750482023364,91.3103984834289,90.1740786402002,90.341119523182,89.2032471305799,88.2528656269157,86.4182964900291,85.3722056307808,85.4242474740788,85.7683862086137,85.8180902396958,86.5420213850239,82.5966028435447,82.6387967129349,83.5353462225952,83.9832892679498,83.8652195850609,84.9032681167341,85.2552308644635,84.877809249312,86.6932226611787,86.6497085261813,84.5570703738397,86.919410960444,88.9738005956653,89.341164225388,89.0331440416757,88.915213423969,90.1158956472919,90.3265400349583,85.9767865587557,82.3168379451876,82.6526177847954,82.4930960411927,81.9541998293587,82.5422588605831,82.0425186774483],\"yaxis\":\"y\"},{\"hovertemplate\":\"Country_Name=Japan<br>Year=%{x}<br>Energy Imports, net (% of Energy Use)=%{y}<extra></extra>\",\"legendgroup\":\"Japan\",\"line\":{\"color\":\"#222A2A\",\"dash\":\"solid\"},\"marker\":{\"symbol\":\"circle\"},\"mode\":\"lines\",\"name\":\"Japan\",\"orientation\":\"v\",\"showlegend\":true,\"type\":\"scatter\",\"x\":[\"1971\",\"1972\",\"1973\",\"1974\",\"1975\",\"1976\",\"1977\",\"1978\",\"1979\",\"1980\",\"1981\",\"1982\",\"1983\",\"1984\",\"1985\",\"1986\",\"1987\",\"1988\",\"1989\",\"1990\",\"1991\",\"1992\",\"1993\",\"1994\",\"1995\",\"1996\",\"1997\",\"1998\",\"1999\",\"2000\",\"2001\",\"2002\",\"2003\",\"2004\",\"2005\",\"2006\",\"2007\",\"2008\",\"2009\",\"2010\",\"2011\",\"2012\",\"2013\",\"2014\"],\"xaxis\":\"x\",\"y\":[86.623496680998,88.592144269339,90.7896287358445,90.4896169052264,90.1915693150205,89.8322262535535,90.3189523238121,89.1397126132484,88.8333695292846,87.434380885189,86.7877722599725,84.6084870868658,83.6151055792491,83.6283155726638,81.5242694680302,81.2305824424031,80.7203755603371,82.4663907249315,82.9055097052826,82.9987386000423,82.2639986169808,82.3991652954356,80.9367328227929,81.3272733954984,80.1951251845639,80.0000587588886,79.3666525843726,78.4282878327979,79.674112614524,79.8078641502515,79.7209559085014,81.2322688514395,83.6753101057672,82.0703277852697,80.9242074274278,80.7150247589734,82.6454156454555,82.3458669273846,80.3610828926439,80.1440783092453,88.9369141471852,93.8270471248281,93.9186266276607,93.9812595165796],\"yaxis\":\"y\"},{\"hovertemplate\":\"Country_Name=Jordan<br>Year=%{x}<br>Energy Imports, net (% of Energy Use)=%{y}<extra></extra>\",\"legendgroup\":\"Jordan\",\"line\":{\"color\":\"#B68100\",\"dash\":\"solid\"},\"marker\":{\"symbol\":\"circle\"},\"mode\":\"lines\",\"name\":\"Jordan\",\"orientation\":\"v\",\"showlegend\":true,\"type\":\"scatter\",\"x\":[\"1971\",\"1972\",\"1973\",\"1974\",\"1975\",\"1976\",\"1977\",\"1978\",\"1979\",\"1980\",\"1981\",\"1982\",\"1983\",\"1984\",\"1985\",\"1986\",\"1987\",\"1988\",\"1989\",\"1990\",\"1991\",\"1992\",\"1993\",\"1994\",\"1995\",\"1996\",\"1997\",\"1998\",\"1999\",\"2000\",\"2001\",\"2002\",\"2003\",\"2004\",\"2005\",\"2006\",\"2007\",\"2008\",\"2009\",\"2010\",\"2011\",\"2012\",\"2013\",\"2014\"],\"xaxis\":\"x\",\"y\":[99.8109034185656,99.8274743805941,99.848543512424,99.8565997979151,99.8764173509508,99.8791732975053,99.9300366777417,99.9429608973494,99.9444493876206,99.9544769280795,99.9508930243304,99.9568267523887,99.9500301314037,99.9545689466713,99.955299339691,99.4058337488425,99.1885324498018,99.3221144282232,98.1839110549123,95.0536674077669,95.3154680217542,95.5031832088397,94.9975769114849,93.2607702224572,93.5036856773286,93.7727814774961,93.5933985991652,93.6812619373686,93.8525303523299,94.1233919774025,94.1717730280325,94.8089857839912,94.4569015308556,95.2709104035018,96.1675414188585,95.7655703138918,96.1561344364595,96.1028002228895,96.0698870297168,96.1647631286124,96.1058954597793,96.532476211611,96.5396912779106,96.812297293481],\"yaxis\":\"y\"},{\"hovertemplate\":\"Country_Name=Lebanon<br>Year=%{x}<br>Energy Imports, net (% of Energy Use)=%{y}<extra></extra>\",\"legendgroup\":\"Lebanon\",\"line\":{\"color\":\"#750D86\",\"dash\":\"solid\"},\"marker\":{\"symbol\":\"circle\"},\"mode\":\"lines\",\"name\":\"Lebanon\",\"orientation\":\"v\",\"showlegend\":true,\"type\":\"scatter\",\"x\":[\"1971\",\"1972\",\"1973\",\"1974\",\"1975\",\"1976\",\"1977\",\"1978\",\"1979\",\"1980\",\"1981\",\"1982\",\"1983\",\"1984\",\"1985\",\"1986\",\"1987\",\"1988\",\"1989\",\"1990\",\"1991\",\"1992\",\"1993\",\"1994\",\"1995\",\"1996\",\"1997\",\"1998\",\"1999\",\"2000\",\"2001\",\"2002\",\"2003\",\"2004\",\"2005\",\"2006\",\"2007\",\"2008\",\"2009\",\"2010\",\"2011\",\"2012\",\"2013\",\"2014\"],\"xaxis\":\"x\",\"y\":[90.8842227139681,91.155589864043,94.0154617914134,92.7366791608643,91.7983535900166,92.3392519110817,90.2172786815135,91.8341845075653,92.3379227972655,92.8199486882183,92.485959822186,91.0456008424508,92.1349661613126,92.1688215031384,93.362593402271,94.0921348175462,94.0992051843571,92.0899879058291,92.3473750606155,92.6893717420844,93.7545796028006,93.1807599912021,95.1355499682939,95.1687468881178,95.8855184400985,95.8888132560373,96.1411489650538,96.2134701645351,97.0605697797437,96.484469092861,96.8036563532807,96.0756786664172,94.8020148728454,95.1108503453665,94.8865796514698,95.1699637209654,94.6839266471342,96.581910157339,97.191527201656,96.7553750721573,96.7606187291497,96.8489382693669,96.4703348526504,97.8655352175546],\"yaxis\":\"y\"},{\"hovertemplate\":\"Country_Name=Luxembourg<br>Year=%{x}<br>Energy Imports, net (% of Energy Use)=%{y}<extra></extra>\",\"legendgroup\":\"Luxembourg\",\"line\":{\"color\":\"#EB663B\",\"dash\":\"solid\"},\"marker\":{\"symbol\":\"circle\"},\"mode\":\"lines\",\"name\":\"Luxembourg\",\"orientation\":\"v\",\"showlegend\":true,\"type\":\"scatter\",\"x\":[\"1971\",\"1972\",\"1973\",\"1974\",\"1975\",\"1976\",\"1977\",\"1978\",\"1979\",\"1980\",\"1981\",\"1982\",\"1983\",\"1984\",\"1985\",\"1986\",\"1987\",\"1988\",\"1989\",\"1990\",\"1991\",\"1992\",\"1993\",\"1994\",\"1995\",\"1996\",\"1997\",\"1998\",\"1999\",\"2000\",\"2001\",\"2002\",\"2003\",\"2004\",\"2005\",\"2006\",\"2007\",\"2008\",\"2009\",\"2010\",\"2011\",\"2012\",\"2013\",\"2014\"],\"xaxis\":\"x\",\"y\":[99.8835598009045,99.8657062541727,99.9088137942485,99.8456358944771,99.8380699078674,99.8972062498392,99.3469456327393,99.3974852315171,99.3117403892548,99.1735214453738,99.0276570832539,99.0269344939499,98.974667404084,98.9590542711006,98.9979966467028,99.1319165011686,98.8544060678174,98.7999082305933,98.9284754138236,99.1500266926205,99.1572125773598,98.7449196210615,98.8004217867403,98.7252711520237,98.5848094817352,98.8298969088303,98.6325884103985,98.2314365812749,98.2900982977703,98.1000798948111,97.9563517057687,98.0136824645482,98.0779869118816,97.9940181446203,97.567515989354,97.3630083336929,97.2042610917154,97.059477688263,97.1960468219026,97.1974971191104,97.294404974314,96.9960239664435,96.6269935154432,96.0021367767681],\"yaxis\":\"y\"},{\"hovertemplate\":\"Country_Name=Malta<br>Year=%{x}<br>Energy Imports, net (% of Energy Use)=%{y}<extra></extra>\",\"legendgroup\":\"Malta\",\"line\":{\"color\":\"#511CFB\",\"dash\":\"solid\"},\"marker\":{\"symbol\":\"circle\"},\"mode\":\"lines\",\"name\":\"Malta\",\"orientation\":\"v\",\"showlegend\":true,\"type\":\"scatter\",\"x\":[\"1971\",\"1972\",\"1973\",\"1974\",\"1975\",\"1976\",\"1977\",\"1978\",\"1979\",\"1980\",\"1981\",\"1982\",\"1983\",\"1984\",\"1985\",\"1986\",\"1987\",\"1988\",\"1989\",\"1990\",\"1991\",\"1992\",\"1993\",\"1994\",\"1995\",\"1996\",\"1997\",\"1998\",\"1999\",\"2000\",\"2001\",\"2002\",\"2003\",\"2004\",\"2005\",\"2006\",\"2007\",\"2008\",\"2009\",\"2010\",\"2011\",\"2012\",\"2013\",\"2014\"],\"xaxis\":\"x\",\"y\":[100.0,100.0,100.0,100.0,100.0,100.0,100.0,100.0,100.0,100.0,100.0,100.0,100.0,100.0,100.0,100.0,100.0,100.0,100.0,100.0,100.0,100.0,100.0,100.0,100.0,100.0,100.0,100.0,100.0,100.0,100.0,99.9674076094368,99.962454369948,99.9510403326363,99.9403964487637,99.9225863132602,99.9101608326312,99.8915820061991,99.880399985612,99.4177103801487,99.200490744903,99.020755696883,98.8396163039573,98.3814861651297],\"yaxis\":\"y\"},{\"hovertemplate\":\"Country_Name=Moldova<br>Year=%{x}<br>Energy Imports, net (% of Energy Use)=%{y}<extra></extra>\",\"legendgroup\":\"Moldova\",\"line\":{\"color\":\"#00A08B\",\"dash\":\"solid\"},\"marker\":{\"symbol\":\"circle\"},\"mode\":\"lines\",\"name\":\"Moldova\",\"orientation\":\"v\",\"showlegend\":true,\"type\":\"scatter\",\"x\":[\"1971\",\"1972\",\"1973\",\"1974\",\"1975\",\"1976\",\"1977\",\"1978\",\"1979\",\"1980\",\"1981\",\"1982\",\"1983\",\"1984\",\"1985\",\"1986\",\"1987\",\"1988\",\"1989\",\"1990\",\"1991\",\"1992\",\"1993\",\"1994\",\"1995\",\"1996\",\"1997\",\"1998\",\"1999\",\"2000\",\"2001\",\"2002\",\"2003\",\"2004\",\"2005\",\"2006\",\"2007\",\"2008\",\"2009\",\"2010\",\"2011\",\"2012\",\"2013\",\"2014\"],\"xaxis\":\"x\",\"y\":[96.24795079406607,96.24795079406607,96.24795079406607,96.24795079406607,96.24795079406607,96.24795079406607,96.24795079406607,96.24795079406607,96.24795079406607,96.24795079406607,96.24795079406607,96.24795079406607,96.24795079406607,96.24795079406607,96.24795079406607,96.24795079406607,96.24795079406607,96.24795079406607,96.24795079406607,99.1484648905781,98.8811168639421,98.7638662436813,98.4495143712167,98.3104187959327,98.1000318137954,97.7550149212728,97.4133327477365,97.5434911162288,97.1605009596806,96.8344044069009,96.7109460060294,96.8482161201081,96.681951038622,96.4609713294405,96.9141752581004,96.6765090665428,96.7228193332928,96.2410175827566,95.9413394404509,93.8117840069182,92.5207884624576,92.2474194809244,90.0495989023482,90.011076692694],\"yaxis\":\"y\"},{\"hovertemplate\":\"Country_Name=Morocco<br>Year=%{x}<br>Energy Imports, net (% of Energy Use)=%{y}<extra></extra>\",\"legendgroup\":\"Morocco\",\"line\":{\"color\":\"#FB00D1\",\"dash\":\"solid\"},\"marker\":{\"symbol\":\"circle\"},\"mode\":\"lines\",\"name\":\"Morocco\",\"orientation\":\"v\",\"showlegend\":true,\"type\":\"scatter\",\"x\":[\"1971\",\"1972\",\"1973\",\"1974\",\"1975\",\"1976\",\"1977\",\"1978\",\"1979\",\"1980\",\"1981\",\"1982\",\"1983\",\"1984\",\"1985\",\"1986\",\"1987\",\"1988\",\"1989\",\"1990\",\"1991\",\"1992\",\"1993\",\"1994\",\"1995\",\"1996\",\"1997\",\"1998\",\"1999\",\"2000\",\"2001\",\"2002\",\"2003\",\"2004\",\"2005\",\"2006\",\"2007\",\"2008\",\"2009\",\"2010\",\"2011\",\"2012\",\"2013\",\"2014\"],\"xaxis\":\"x\",\"y\":[61.2807116170151,61.6747888198289,64.9579680514627,67.0215736661676,67.581243314249,69.0090157026545,70.3437644965317,71.5971772845256,73.0716276349883,73.8336264186649,74.4678343620641,75.5946862085235,76.1048421753643,75.8816923612222,76.1890938981038,76.4106995661341,77.9580033846228,78.537384176655,81.0432065751674,80.9845752554351,80.9448194173937,82.0747417088347,82.8854441292392,83.2497232064654,83.1648204029189,83.4015425847251,84.1731701405241,85.1389347310785,87.321643214177,87.7348643811487,88.2710288654828,88.3824671544884,87.8022726297925,81.8993612529186,84.3822096980259,85.5719901694836,86.8663600685819,88.3165600830087,88.5431396113244,88.7646796056595,90.4826115130109,90.9405998998956,90.2455849447978,90.72183409217],\"yaxis\":\"y\"},{\"hovertemplate\":\"Country_Name=Portugal<br>Year=%{x}<br>Energy Imports, net (% of Energy Use)=%{y}<extra></extra>\",\"legendgroup\":\"Portugal\",\"line\":{\"color\":\"#FC0080\",\"dash\":\"solid\"},\"marker\":{\"symbol\":\"circle\"},\"mode\":\"lines\",\"name\":\"Portugal\",\"orientation\":\"v\",\"showlegend\":true,\"type\":\"scatter\",\"x\":[\"1971\",\"1972\",\"1973\",\"1974\",\"1975\",\"1976\",\"1977\",\"1978\",\"1979\",\"1980\",\"1981\",\"1982\",\"1983\",\"1984\",\"1985\",\"1986\",\"1987\",\"1988\",\"1989\",\"1990\",\"1991\",\"1992\",\"1993\",\"1994\",\"1995\",\"1996\",\"1997\",\"1998\",\"1999\",\"2000\",\"2001\",\"2002\",\"2003\",\"2004\",\"2005\",\"2006\",\"2007\",\"2008\",\"2009\",\"2010\",\"2011\",\"2012\",\"2013\",\"2014\"],\"xaxis\":\"x\",\"y\":[77.9391896144605,78.1227374298462,79.6805271833634,80.0438950503959,82.7370884726687,85.7727376038944,79.496628149702,80.2024738691028,81.2384203030125,85.1696711467069,87.4230712054395,86.9286686558553,85.6690982092392,84.3852719803908,82.2796656273955,84.7575212789587,84.34099262838,82.9873140513385,84.1911451287323,79.779212883968,79.9907364575214,83.7004439449682,81.5925061679092,80.910317385609,83.5673823166967,81.029613884541,82.205931849832,83.6008997200864,86.2044446365921,84.361729413483,83.4683225534454,85.8893764825227,82.7304243814245,84.9146177774547,86.3402366170609,82.6382161926017,81.6817802891148,81.8767228619796,79.7744867527795,75.3133414064953,75.7898442601672,78.0427158868151,73.1730789650377,71.6682863058296],\"yaxis\":\"y\"},{\"hovertemplate\":\"Country_Name=Singapore<br>Year=%{x}<br>Energy Imports, net (% of Energy Use)=%{y}<extra></extra>\",\"legendgroup\":\"Singapore\",\"line\":{\"color\":\"#B2828D\",\"dash\":\"solid\"},\"marker\":{\"symbol\":\"circle\"},\"mode\":\"lines\",\"name\":\"Singapore\",\"orientation\":\"v\",\"showlegend\":true,\"type\":\"scatter\",\"x\":[\"1971\",\"1972\",\"1973\",\"1974\",\"1975\",\"1976\",\"1977\",\"1978\",\"1979\",\"1980\",\"1981\",\"1982\",\"1983\",\"1984\",\"1985\",\"1986\",\"1987\",\"1988\",\"1989\",\"1990\",\"1991\",\"1992\",\"1993\",\"1994\",\"1995\",\"1996\",\"1997\",\"1998\",\"1999\",\"2000\",\"2001\",\"2002\",\"2003\",\"2004\",\"2005\",\"2006\",\"2007\",\"2008\",\"2009\",\"2010\",\"2011\",\"2012\",\"2013\",\"2014\"],\"xaxis\":\"x\",\"y\":[100.0,100.0,100.0,100.0,100.0,100.0,100.0,100.0,100.0,100.0,100.0,100.0,100.0,100.0,100.0,99.0249808332359,99.0838071086752,99.1736571634255,99.174118646234,99.391729351488,98.4536974522154,98.6372841222639,98.888936735692,99.0853919954902,98.9279703816829,98.9730748642021,99.085308181757,98.9880030079641,98.8875652676099,98.9178093257436,98.1682125594019,98.1562254523666,98.404252408056,98.7137424288612,98.172203063037,98.302365849048,98.1287043989523,98.2467607800251,97.9328422483174,97.6880328585997,97.7014427633591,97.6089951637979,97.5551670519087,97.6820012924571],\"yaxis\":\"y\"}],                        {\"legend\":{\"title\":{\"text\":\"Country_Name\"},\"tracegroupgap\":0},\"template\":{\"data\":{\"bar\":[{\"error_x\":{\"color\":\"#2a3f5f\"},\"error_y\":{\"color\":\"#2a3f5f\"},\"marker\":{\"line\":{\"color\":\"#E5ECF6\",\"width\":0.5},\"pattern\":{\"fillmode\":\"overlay\",\"size\":10,\"solidity\":0.2}},\"type\":\"bar\"}],\"barpolar\":[{\"marker\":{\"line\":{\"color\":\"#E5ECF6\",\"width\":0.5},\"pattern\":{\"fillmode\":\"overlay\",\"size\":10,\"solidity\":0.2}},\"type\":\"barpolar\"}],\"carpet\":[{\"aaxis\":{\"endlinecolor\":\"#2a3f5f\",\"gridcolor\":\"white\",\"linecolor\":\"white\",\"minorgridcolor\":\"white\",\"startlinecolor\":\"#2a3f5f\"},\"baxis\":{\"endlinecolor\":\"#2a3f5f\",\"gridcolor\":\"white\",\"linecolor\":\"white\",\"minorgridcolor\":\"white\",\"startlinecolor\":\"#2a3f5f\"},\"type\":\"carpet\"}],\"choropleth\":[{\"colorbar\":{\"outlinewidth\":0,\"ticks\":\"\"},\"type\":\"choropleth\"}],\"contour\":[{\"colorbar\":{\"outlinewidth\":0,\"ticks\":\"\"},\"colorscale\":[[0.0,\"#0d0887\"],[0.1111111111111111,\"#46039f\"],[0.2222222222222222,\"#7201a8\"],[0.3333333333333333,\"#9c179e\"],[0.4444444444444444,\"#bd3786\"],[0.5555555555555556,\"#d8576b\"],[0.6666666666666666,\"#ed7953\"],[0.7777777777777778,\"#fb9f3a\"],[0.8888888888888888,\"#fdca26\"],[1.0,\"#f0f921\"]],\"type\":\"contour\"}],\"contourcarpet\":[{\"colorbar\":{\"outlinewidth\":0,\"ticks\":\"\"},\"type\":\"contourcarpet\"}],\"heatmap\":[{\"colorbar\":{\"outlinewidth\":0,\"ticks\":\"\"},\"colorscale\":[[0.0,\"#0d0887\"],[0.1111111111111111,\"#46039f\"],[0.2222222222222222,\"#7201a8\"],[0.3333333333333333,\"#9c179e\"],[0.4444444444444444,\"#bd3786\"],[0.5555555555555556,\"#d8576b\"],[0.6666666666666666,\"#ed7953\"],[0.7777777777777778,\"#fb9f3a\"],[0.8888888888888888,\"#fdca26\"],[1.0,\"#f0f921\"]],\"type\":\"heatmap\"}],\"heatmapgl\":[{\"colorbar\":{\"outlinewidth\":0,\"ticks\":\"\"},\"colorscale\":[[0.0,\"#0d0887\"],[0.1111111111111111,\"#46039f\"],[0.2222222222222222,\"#7201a8\"],[0.3333333333333333,\"#9c179e\"],[0.4444444444444444,\"#bd3786\"],[0.5555555555555556,\"#d8576b\"],[0.6666666666666666,\"#ed7953\"],[0.7777777777777778,\"#fb9f3a\"],[0.8888888888888888,\"#fdca26\"],[1.0,\"#f0f921\"]],\"type\":\"heatmapgl\"}],\"histogram\":[{\"marker\":{\"pattern\":{\"fillmode\":\"overlay\",\"size\":10,\"solidity\":0.2}},\"type\":\"histogram\"}],\"histogram2d\":[{\"colorbar\":{\"outlinewidth\":0,\"ticks\":\"\"},\"colorscale\":[[0.0,\"#0d0887\"],[0.1111111111111111,\"#46039f\"],[0.2222222222222222,\"#7201a8\"],[0.3333333333333333,\"#9c179e\"],[0.4444444444444444,\"#bd3786\"],[0.5555555555555556,\"#d8576b\"],[0.6666666666666666,\"#ed7953\"],[0.7777777777777778,\"#fb9f3a\"],[0.8888888888888888,\"#fdca26\"],[1.0,\"#f0f921\"]],\"type\":\"histogram2d\"}],\"histogram2dcontour\":[{\"colorbar\":{\"outlinewidth\":0,\"ticks\":\"\"},\"colorscale\":[[0.0,\"#0d0887\"],[0.1111111111111111,\"#46039f\"],[0.2222222222222222,\"#7201a8\"],[0.3333333333333333,\"#9c179e\"],[0.4444444444444444,\"#bd3786\"],[0.5555555555555556,\"#d8576b\"],[0.6666666666666666,\"#ed7953\"],[0.7777777777777778,\"#fb9f3a\"],[0.8888888888888888,\"#fdca26\"],[1.0,\"#f0f921\"]],\"type\":\"histogram2dcontour\"}],\"mesh3d\":[{\"colorbar\":{\"outlinewidth\":0,\"ticks\":\"\"},\"type\":\"mesh3d\"}],\"parcoords\":[{\"line\":{\"colorbar\":{\"outlinewidth\":0,\"ticks\":\"\"}},\"type\":\"parcoords\"}],\"pie\":[{\"automargin\":true,\"type\":\"pie\"}],\"scatter\":[{\"marker\":{\"colorbar\":{\"outlinewidth\":0,\"ticks\":\"\"}},\"type\":\"scatter\"}],\"scatter3d\":[{\"line\":{\"colorbar\":{\"outlinewidth\":0,\"ticks\":\"\"}},\"marker\":{\"colorbar\":{\"outlinewidth\":0,\"ticks\":\"\"}},\"type\":\"scatter3d\"}],\"scattercarpet\":[{\"marker\":{\"colorbar\":{\"outlinewidth\":0,\"ticks\":\"\"}},\"type\":\"scattercarpet\"}],\"scattergeo\":[{\"marker\":{\"colorbar\":{\"outlinewidth\":0,\"ticks\":\"\"}},\"type\":\"scattergeo\"}],\"scattergl\":[{\"marker\":{\"colorbar\":{\"outlinewidth\":0,\"ticks\":\"\"}},\"type\":\"scattergl\"}],\"scattermapbox\":[{\"marker\":{\"colorbar\":{\"outlinewidth\":0,\"ticks\":\"\"}},\"type\":\"scattermapbox\"}],\"scatterpolar\":[{\"marker\":{\"colorbar\":{\"outlinewidth\":0,\"ticks\":\"\"}},\"type\":\"scatterpolar\"}],\"scatterpolargl\":[{\"marker\":{\"colorbar\":{\"outlinewidth\":0,\"ticks\":\"\"}},\"type\":\"scatterpolargl\"}],\"scatterternary\":[{\"marker\":{\"colorbar\":{\"outlinewidth\":0,\"ticks\":\"\"}},\"type\":\"scatterternary\"}],\"surface\":[{\"colorbar\":{\"outlinewidth\":0,\"ticks\":\"\"},\"colorscale\":[[0.0,\"#0d0887\"],[0.1111111111111111,\"#46039f\"],[0.2222222222222222,\"#7201a8\"],[0.3333333333333333,\"#9c179e\"],[0.4444444444444444,\"#bd3786\"],[0.5555555555555556,\"#d8576b\"],[0.6666666666666666,\"#ed7953\"],[0.7777777777777778,\"#fb9f3a\"],[0.8888888888888888,\"#fdca26\"],[1.0,\"#f0f921\"]],\"type\":\"surface\"}],\"table\":[{\"cells\":{\"fill\":{\"color\":\"#EBF0F8\"},\"line\":{\"color\":\"white\"}},\"header\":{\"fill\":{\"color\":\"#C8D4E3\"},\"line\":{\"color\":\"white\"}},\"type\":\"table\"}]},\"layout\":{\"annotationdefaults\":{\"arrowcolor\":\"#2a3f5f\",\"arrowhead\":0,\"arrowwidth\":1},\"autotypenumbers\":\"strict\",\"coloraxis\":{\"colorbar\":{\"outlinewidth\":0,\"ticks\":\"\"}},\"colorscale\":{\"diverging\":[[0,\"#8e0152\"],[0.1,\"#c51b7d\"],[0.2,\"#de77ae\"],[0.3,\"#f1b6da\"],[0.4,\"#fde0ef\"],[0.5,\"#f7f7f7\"],[0.6,\"#e6f5d0\"],[0.7,\"#b8e186\"],[0.8,\"#7fbc41\"],[0.9,\"#4d9221\"],[1,\"#276419\"]],\"sequential\":[[0.0,\"#0d0887\"],[0.1111111111111111,\"#46039f\"],[0.2222222222222222,\"#7201a8\"],[0.3333333333333333,\"#9c179e\"],[0.4444444444444444,\"#bd3786\"],[0.5555555555555556,\"#d8576b\"],[0.6666666666666666,\"#ed7953\"],[0.7777777777777778,\"#fb9f3a\"],[0.8888888888888888,\"#fdca26\"],[1.0,\"#f0f921\"]],\"sequentialminus\":[[0.0,\"#0d0887\"],[0.1111111111111111,\"#46039f\"],[0.2222222222222222,\"#7201a8\"],[0.3333333333333333,\"#9c179e\"],[0.4444444444444444,\"#bd3786\"],[0.5555555555555556,\"#d8576b\"],[0.6666666666666666,\"#ed7953\"],[0.7777777777777778,\"#fb9f3a\"],[0.8888888888888888,\"#fdca26\"],[1.0,\"#f0f921\"]]},\"colorway\":[\"#636efa\",\"#EF553B\",\"#00cc96\",\"#ab63fa\",\"#FFA15A\",\"#19d3f3\",\"#FF6692\",\"#B6E880\",\"#FF97FF\",\"#FECB52\"],\"font\":{\"color\":\"#2a3f5f\"},\"geo\":{\"bgcolor\":\"white\",\"lakecolor\":\"white\",\"landcolor\":\"#E5ECF6\",\"showlakes\":true,\"showland\":true,\"subunitcolor\":\"white\"},\"hoverlabel\":{\"align\":\"left\"},\"hovermode\":\"closest\",\"mapbox\":{\"style\":\"light\"},\"paper_bgcolor\":\"white\",\"plot_bgcolor\":\"#E5ECF6\",\"polar\":{\"angularaxis\":{\"gridcolor\":\"white\",\"linecolor\":\"white\",\"ticks\":\"\"},\"bgcolor\":\"#E5ECF6\",\"radialaxis\":{\"gridcolor\":\"white\",\"linecolor\":\"white\",\"ticks\":\"\"}},\"scene\":{\"xaxis\":{\"backgroundcolor\":\"#E5ECF6\",\"gridcolor\":\"white\",\"gridwidth\":2,\"linecolor\":\"white\",\"showbackground\":true,\"ticks\":\"\",\"zerolinecolor\":\"white\"},\"yaxis\":{\"backgroundcolor\":\"#E5ECF6\",\"gridcolor\":\"white\",\"gridwidth\":2,\"linecolor\":\"white\",\"showbackground\":true,\"ticks\":\"\",\"zerolinecolor\":\"white\"},\"zaxis\":{\"backgroundcolor\":\"#E5ECF6\",\"gridcolor\":\"white\",\"gridwidth\":2,\"linecolor\":\"white\",\"showbackground\":true,\"ticks\":\"\",\"zerolinecolor\":\"white\"}},\"shapedefaults\":{\"line\":{\"color\":\"#2a3f5f\"}},\"ternary\":{\"aaxis\":{\"gridcolor\":\"white\",\"linecolor\":\"white\",\"ticks\":\"\"},\"baxis\":{\"gridcolor\":\"white\",\"linecolor\":\"white\",\"ticks\":\"\"},\"bgcolor\":\"#E5ECF6\",\"caxis\":{\"gridcolor\":\"white\",\"linecolor\":\"white\",\"ticks\":\"\"}},\"title\":{\"x\":0.05},\"xaxis\":{\"automargin\":true,\"gridcolor\":\"white\",\"linecolor\":\"white\",\"ticks\":\"\",\"title\":{\"standoff\":15},\"zerolinecolor\":\"white\",\"zerolinewidth\":2},\"yaxis\":{\"automargin\":true,\"gridcolor\":\"white\",\"linecolor\":\"white\",\"ticks\":\"\",\"title\":{\"standoff\":15},\"zerolinecolor\":\"white\",\"zerolinewidth\":2}}},\"title\":{\"text\":\"Top 15 Countries with the Highest Average Energy Import Per Capita\"},\"xaxis\":{\"anchor\":\"y\",\"domain\":[0.0,1.0],\"title\":{\"text\":\"Year\"}},\"yaxis\":{\"anchor\":\"x\",\"domain\":[0.0,1.0],\"title\":{\"text\":\"Energy Imports, net (% of Energy Use)\"}}},                        {\"responsive\": true}                    ).then(function(){\n",
       "                            \n",
       "var gd = document.getElementById('260a300d-8ccb-4199-9670-3103e91d4502');\n",
       "var x = new MutationObserver(function (mutations, observer) {{\n",
       "        var display = window.getComputedStyle(gd).display;\n",
       "        if (!display || display === 'none') {{\n",
       "            console.log([gd, 'removed!']);\n",
       "            Plotly.purge(gd);\n",
       "            observer.disconnect();\n",
       "        }}\n",
       "}});\n",
       "\n",
       "// Listen for the removal of the full notebook cells\n",
       "var notebookContainer = gd.closest('#notebook-container');\n",
       "if (notebookContainer) {{\n",
       "    x.observe(notebookContainer, {childList: true});\n",
       "}}\n",
       "\n",
       "// Listen for the clearing of the current output cell\n",
       "var outputEl = gd.closest('.output');\n",
       "if (outputEl) {{\n",
       "    x.observe(outputEl, {childList: true});\n",
       "}}\n",
       "\n",
       "                        })                };                });            </script>        </div>"
      ]
     },
     "metadata": {},
     "output_type": "display_data"
    }
   ],
   "source": [
    "df = EG_USE_IMP[EG_USE_IMP['Country_Name'].isin(AvgEGImportTop15['Country_Name'])].drop(columns=['EG.USE.PCAP.KG.OE'])\n",
    "# Impute missing data with the average for the country\n",
    "display(df.isna().sum())\n",
    "df = df.set_index(['Country_Name', 'Country_Code', 'Year'])['EG.IMP.CONS.ZS'].fillna(AvgEGImportTop15.set_index(['Country_Name', 'Country_Code'])['EG.IMP.CONS.ZS']).reset_index()\n",
    "\n",
    "display(df.isna().sum())\n",
    "fig = px.line(df, x='Year', y='EG.IMP.CONS.ZS',\n",
    "             color='Country_Name',\n",
    "             color_discrete_sequence=px.colors.qualitative.Dark24,\n",
    "             labels= {'EG.IMP.CONS.ZS': 'Energy Imports, net (% of Energy Use)'},\n",
    "             title='Top 15 Countries with the Highest Average Energy Import Per Capita')\n",
    "fig.show()\n",
    "fig.write_image(\"energyUseImportCapita_Top15EnergyImporters.png\", engine='kaleido') "
   ]
  },
  {
   "cell_type": "markdown",
   "id": "9708f3e8",
   "metadata": {},
   "source": [
    "#### Conclusion: \n",
    "\n",
    "1. There has been a rise in per capita energy use over the years in most countries in top 15 list of energy users. This rise is also associated with a corresponding increase in the net energy import in these countries. \n",
    "\n",
    "2. Countries that were solely dependent on imports for their energy demands until late 1980's, such as Singapore, Malta, Jordan, and Luxembourg, are showing a decrease in energy imports in recent years. This could be attributed to an increase in the energy production in these countries potentially from renewable resources. Further analysis required. "
   ]
  },
  {
   "cell_type": "markdown",
   "id": "ddb69fc1",
   "metadata": {},
   "source": [
    "## Energy Consumption by Fuel Type"
   ]
  },
  {
   "cell_type": "markdown",
   "id": "f9f363a9",
   "metadata": {},
   "source": [
    "Here, \n",
    "\n",
    "1. we analyze the shares of renewable and fossil fuels in the total energy consumption for each country.\n",
    "2. We give a 'green rank' to countries based on the ratio of energy consumption from renewables to fossil fuels.\n",
    "3. Correlate the energy consumption to cooling degree days."
   ]
  },
  {
   "cell_type": "code",
   "execution_count": 123,
   "id": "4701d411",
   "metadata": {},
   "outputs": [
    {
     "name": "stdout",
     "output_type": "stream",
     "text": [
      "<class 'pandas.core.frame.DataFrame'>\n",
      "Int64Index: 11966 entries, 0 to 14817\n",
      "Data columns (total 7 columns):\n",
      " #   Column            Non-Null Count  Dtype         \n",
      "---  ------            --------------  -----         \n",
      " 0   Country_Name      11966 non-null  object        \n",
      " 1   Country_Code      11966 non-null  object        \n",
      " 2   Year              11966 non-null  datetime64[ns]\n",
      " 3   Energy_Use        5923 non-null   float64       \n",
      " 4   Energy_Use_FF     5773 non-null   float64       \n",
      " 5   Energy_Use_RNEW   5465 non-null   float64       \n",
      " 6   Cooling_Deg_Days  193 non-null    float64       \n",
      "dtypes: datetime64[ns](1), float64(4), object(2)\n",
      "memory usage: 747.9+ KB\n"
     ]
    },
    {
     "data": {
      "text/plain": [
       "None"
      ]
     },
     "metadata": {},
     "output_type": "display_data"
    },
    {
     "data": {
      "text/html": [
       "<div>\n",
       "<style scoped>\n",
       "    .dataframe tbody tr th:only-of-type {\n",
       "        vertical-align: middle;\n",
       "    }\n",
       "\n",
       "    .dataframe tbody tr th {\n",
       "        vertical-align: top;\n",
       "    }\n",
       "\n",
       "    .dataframe thead th {\n",
       "        text-align: right;\n",
       "    }\n",
       "</style>\n",
       "<table border=\"1\" class=\"dataframe\">\n",
       "  <thead>\n",
       "    <tr style=\"text-align: right;\">\n",
       "      <th></th>\n",
       "      <th>Country_Name</th>\n",
       "      <th>Country_Code</th>\n",
       "      <th>Year</th>\n",
       "      <th>Energy_Use</th>\n",
       "      <th>Energy_Use_FF</th>\n",
       "      <th>Energy_Use_RNEW</th>\n",
       "      <th>Cooling_Deg_Days</th>\n",
       "    </tr>\n",
       "  </thead>\n",
       "  <tbody>\n",
       "    <tr>\n",
       "      <th>11080</th>\n",
       "      <td>Qatar</td>\n",
       "      <td>QAT</td>\n",
       "      <td>2004-01-01</td>\n",
       "      <td>22120.430302</td>\n",
       "      <td>100.000000</td>\n",
       "      <td>0.000000</td>\n",
       "      <td>NaN</td>\n",
       "    </tr>\n",
       "    <tr>\n",
       "      <th>11078</th>\n",
       "      <td>Qatar</td>\n",
       "      <td>QAT</td>\n",
       "      <td>2002-01-01</td>\n",
       "      <td>21300.073962</td>\n",
       "      <td>NaN</td>\n",
       "      <td>0.000000</td>\n",
       "      <td>NaN</td>\n",
       "    </tr>\n",
       "    <tr>\n",
       "      <th>11079</th>\n",
       "      <td>Qatar</td>\n",
       "      <td>QAT</td>\n",
       "      <td>2003-01-01</td>\n",
       "      <td>20727.866751</td>\n",
       "      <td>NaN</td>\n",
       "      <td>0.000000</td>\n",
       "      <td>NaN</td>\n",
       "    </tr>\n",
       "    <tr>\n",
       "      <th>11075</th>\n",
       "      <td>Qatar</td>\n",
       "      <td>QAT</td>\n",
       "      <td>1999-01-01</td>\n",
       "      <td>19839.010949</td>\n",
       "      <td>99.999991</td>\n",
       "      <td>0.000000</td>\n",
       "      <td>NaN</td>\n",
       "    </tr>\n",
       "    <tr>\n",
       "      <th>11077</th>\n",
       "      <td>Qatar</td>\n",
       "      <td>QAT</td>\n",
       "      <td>2001-01-01</td>\n",
       "      <td>19621.840514</td>\n",
       "      <td>99.999992</td>\n",
       "      <td>0.000000</td>\n",
       "      <td>NaN</td>\n",
       "    </tr>\n",
       "    <tr>\n",
       "      <th>...</th>\n",
       "      <td>...</td>\n",
       "      <td>...</td>\n",
       "      <td>...</td>\n",
       "      <td>...</td>\n",
       "      <td>...</td>\n",
       "      <td>...</td>\n",
       "      <td>...</td>\n",
       "    </tr>\n",
       "    <tr>\n",
       "      <th>14500</th>\n",
       "      <td>Venezuela, RB</td>\n",
       "      <td>VEN</td>\n",
       "      <td>2014-01-01</td>\n",
       "      <td>NaN</td>\n",
       "      <td>NaN</td>\n",
       "      <td>12.004200</td>\n",
       "      <td>NaN</td>\n",
       "    </tr>\n",
       "    <tr>\n",
       "      <th>14562</th>\n",
       "      <td>Vietnam</td>\n",
       "      <td>VNM</td>\n",
       "      <td>2014-01-01</td>\n",
       "      <td>NaN</td>\n",
       "      <td>NaN</td>\n",
       "      <td>36.944401</td>\n",
       "      <td>NaN</td>\n",
       "    </tr>\n",
       "    <tr>\n",
       "      <th>14686</th>\n",
       "      <td>Yemen, Rep.</td>\n",
       "      <td>YEM</td>\n",
       "      <td>2014-01-01</td>\n",
       "      <td>NaN</td>\n",
       "      <td>NaN</td>\n",
       "      <td>0.955600</td>\n",
       "      <td>NaN</td>\n",
       "    </tr>\n",
       "    <tr>\n",
       "      <th>14748</th>\n",
       "      <td>Zambia</td>\n",
       "      <td>ZMB</td>\n",
       "      <td>2014-01-01</td>\n",
       "      <td>NaN</td>\n",
       "      <td>NaN</td>\n",
       "      <td>86.002701</td>\n",
       "      <td>NaN</td>\n",
       "    </tr>\n",
       "    <tr>\n",
       "      <th>14810</th>\n",
       "      <td>Zimbabwe</td>\n",
       "      <td>ZWE</td>\n",
       "      <td>2014-01-01</td>\n",
       "      <td>NaN</td>\n",
       "      <td>NaN</td>\n",
       "      <td>80.775002</td>\n",
       "      <td>NaN</td>\n",
       "    </tr>\n",
       "  </tbody>\n",
       "</table>\n",
       "<p>8492 rows × 7 columns</p>\n",
       "</div>"
      ],
      "text/plain": [
       "        Country_Name Country_Code       Year    Energy_Use  Energy_Use_FF  \\\n",
       "11080          Qatar          QAT 2004-01-01  22120.430302     100.000000   \n",
       "11078          Qatar          QAT 2002-01-01  21300.073962            NaN   \n",
       "11079          Qatar          QAT 2003-01-01  20727.866751            NaN   \n",
       "11075          Qatar          QAT 1999-01-01  19839.010949      99.999991   \n",
       "11077          Qatar          QAT 2001-01-01  19621.840514      99.999992   \n",
       "...              ...          ...        ...           ...            ...   \n",
       "14500  Venezuela, RB          VEN 2014-01-01           NaN            NaN   \n",
       "14562        Vietnam          VNM 2014-01-01           NaN            NaN   \n",
       "14686    Yemen, Rep.          YEM 2014-01-01           NaN            NaN   \n",
       "14748         Zambia          ZMB 2014-01-01           NaN            NaN   \n",
       "14810       Zimbabwe          ZWE 2014-01-01           NaN            NaN   \n",
       "\n",
       "       Energy_Use_RNEW  Cooling_Deg_Days  \n",
       "11080         0.000000               NaN  \n",
       "11078         0.000000               NaN  \n",
       "11079         0.000000               NaN  \n",
       "11075         0.000000               NaN  \n",
       "11077         0.000000               NaN  \n",
       "...                ...               ...  \n",
       "14500        12.004200               NaN  \n",
       "14562        36.944401               NaN  \n",
       "14686         0.955600               NaN  \n",
       "14748        86.002701               NaN  \n",
       "14810        80.775002               NaN  \n",
       "\n",
       "[8492 rows x 7 columns]"
      ]
     },
     "metadata": {},
     "output_type": "display_data"
    }
   ],
   "source": [
    "FuelTypeDF = energyDF2[['Country_Name', 'Country_Code', 'Year', 'EG.USE.PCAP.KG.OE', 'EG.USE.COMM.FO.ZS',\n",
    "       'EG.FEC.RNEW.ZS', 'EN.CLC.CDDY.XD']]\n",
    "FuelTypeDF = FuelTypeDF.rename(columns= {'EG.USE.PCAP.KG.OE': 'Energy_Use',\n",
    "                                        'EG.USE.COMM.FO.ZS': 'Energy_Use_FF',\n",
    "                                        'EG.FEC.RNEW.ZS': 'Energy_Use_RNEW',\n",
    "                                        'EN.CLC.CDDY.XD': 'Cooling_Deg_Days'})\n",
    "FuelTypeDF['Year'] = pd.to_datetime(FuelTypeDF['Year'])\n",
    "display(FuelTypeDF.info())\n",
    "\n",
    "# Remove Years where no data is available for any country\n",
    "years_to_remove = ['1960', '1961', '1962', '1963', '1964', '1965', '1966', '1967',\n",
    "       '1968', '1969', '1970', '2015', '2016', '2017', '2018', '2019', '2020', '2050']\n",
    "\n",
    "FuelTypeDF = FuelTypeDF[~FuelTypeDF['Year'].isin(years_to_remove)].sort_values(by='Energy_Use', ascending=False)\n",
    "display(FuelTypeDF)\n"
   ]
  },
  {
   "cell_type": "code",
   "execution_count": 144,
   "id": "5bc313f6",
   "metadata": {},
   "outputs": [
    {
     "data": {
      "text/html": [
       "<div>\n",
       "<style scoped>\n",
       "    .dataframe tbody tr th:only-of-type {\n",
       "        vertical-align: middle;\n",
       "    }\n",
       "\n",
       "    .dataframe tbody tr th {\n",
       "        vertical-align: top;\n",
       "    }\n",
       "\n",
       "    .dataframe thead th {\n",
       "        text-align: right;\n",
       "    }\n",
       "</style>\n",
       "<table border=\"1\" class=\"dataframe\">\n",
       "  <thead>\n",
       "    <tr style=\"text-align: right;\">\n",
       "      <th></th>\n",
       "      <th>Country_Name</th>\n",
       "      <th>Country_Code</th>\n",
       "      <th>Year</th>\n",
       "      <th>Energy_Use</th>\n",
       "      <th>Energy_Use_FF</th>\n",
       "      <th>Energy_Use_RNEW</th>\n",
       "      <th>Cooling_Deg_Days</th>\n",
       "      <th>Total</th>\n",
       "    </tr>\n",
       "  </thead>\n",
       "  <tbody>\n",
       "    <tr>\n",
       "      <th>10092</th>\n",
       "      <td>Norway</td>\n",
       "      <td>NOR</td>\n",
       "      <td>2008-01-01</td>\n",
       "      <td>6752.708982</td>\n",
       "      <td>61.670897</td>\n",
       "      <td>58.489201</td>\n",
       "      <td>NaN</td>\n",
       "      <td>120.160097</td>\n",
       "    </tr>\n",
       "    <tr>\n",
       "      <th>901</th>\n",
       "      <td>Bangladesh</td>\n",
       "      <td>BGD</td>\n",
       "      <td>1993-01-01</td>\n",
       "      <td>126.798910</td>\n",
       "      <td>49.456842</td>\n",
       "      <td>70.557123</td>\n",
       "      <td>NaN</td>\n",
       "      <td>120.013965</td>\n",
       "    </tr>\n",
       "    <tr>\n",
       "      <th>10093</th>\n",
       "      <td>Norway</td>\n",
       "      <td>NOR</td>\n",
       "      <td>2009-01-01</td>\n",
       "      <td>6484.118585</td>\n",
       "      <td>63.110111</td>\n",
       "      <td>56.754200</td>\n",
       "      <td>NaN</td>\n",
       "      <td>119.864311</td>\n",
       "    </tr>\n",
       "    <tr>\n",
       "      <th>10094</th>\n",
       "      <td>Norway</td>\n",
       "      <td>NOR</td>\n",
       "      <td>2010-01-01</td>\n",
       "      <td>6934.590199</td>\n",
       "      <td>63.043064</td>\n",
       "      <td>56.378201</td>\n",
       "      <td>NaN</td>\n",
       "      <td>119.421265</td>\n",
       "    </tr>\n",
       "    <tr>\n",
       "      <th>10097</th>\n",
       "      <td>Norway</td>\n",
       "      <td>NOR</td>\n",
       "      <td>2013-01-01</td>\n",
       "      <td>6415.990714</td>\n",
       "      <td>61.840119</td>\n",
       "      <td>57.440601</td>\n",
       "      <td>NaN</td>\n",
       "      <td>119.280720</td>\n",
       "    </tr>\n",
       "    <tr>\n",
       "      <th>...</th>\n",
       "      <td>...</td>\n",
       "      <td>...</td>\n",
       "      <td>...</td>\n",
       "      <td>...</td>\n",
       "      <td>...</td>\n",
       "      <td>...</td>\n",
       "      <td>...</td>\n",
       "      <td>...</td>\n",
       "    </tr>\n",
       "    <tr>\n",
       "      <th>14500</th>\n",
       "      <td>Venezuela, RB</td>\n",
       "      <td>VEN</td>\n",
       "      <td>2014-01-01</td>\n",
       "      <td>NaN</td>\n",
       "      <td>NaN</td>\n",
       "      <td>12.004200</td>\n",
       "      <td>NaN</td>\n",
       "      <td>NaN</td>\n",
       "    </tr>\n",
       "    <tr>\n",
       "      <th>14562</th>\n",
       "      <td>Vietnam</td>\n",
       "      <td>VNM</td>\n",
       "      <td>2014-01-01</td>\n",
       "      <td>NaN</td>\n",
       "      <td>NaN</td>\n",
       "      <td>36.944401</td>\n",
       "      <td>NaN</td>\n",
       "      <td>NaN</td>\n",
       "    </tr>\n",
       "    <tr>\n",
       "      <th>14686</th>\n",
       "      <td>Yemen, Rep.</td>\n",
       "      <td>YEM</td>\n",
       "      <td>2014-01-01</td>\n",
       "      <td>NaN</td>\n",
       "      <td>NaN</td>\n",
       "      <td>0.955600</td>\n",
       "      <td>NaN</td>\n",
       "      <td>NaN</td>\n",
       "    </tr>\n",
       "    <tr>\n",
       "      <th>14748</th>\n",
       "      <td>Zambia</td>\n",
       "      <td>ZMB</td>\n",
       "      <td>2014-01-01</td>\n",
       "      <td>NaN</td>\n",
       "      <td>NaN</td>\n",
       "      <td>86.002701</td>\n",
       "      <td>NaN</td>\n",
       "      <td>NaN</td>\n",
       "    </tr>\n",
       "    <tr>\n",
       "      <th>14810</th>\n",
       "      <td>Zimbabwe</td>\n",
       "      <td>ZWE</td>\n",
       "      <td>2014-01-01</td>\n",
       "      <td>NaN</td>\n",
       "      <td>NaN</td>\n",
       "      <td>80.775002</td>\n",
       "      <td>NaN</td>\n",
       "      <td>NaN</td>\n",
       "    </tr>\n",
       "  </tbody>\n",
       "</table>\n",
       "<p>8492 rows × 8 columns</p>\n",
       "</div>"
      ],
      "text/plain": [
       "        Country_Name Country_Code       Year   Energy_Use  Energy_Use_FF  \\\n",
       "10092         Norway          NOR 2008-01-01  6752.708982      61.670897   \n",
       "901       Bangladesh          BGD 1993-01-01   126.798910      49.456842   \n",
       "10093         Norway          NOR 2009-01-01  6484.118585      63.110111   \n",
       "10094         Norway          NOR 2010-01-01  6934.590199      63.043064   \n",
       "10097         Norway          NOR 2013-01-01  6415.990714      61.840119   \n",
       "...              ...          ...        ...          ...            ...   \n",
       "14500  Venezuela, RB          VEN 2014-01-01          NaN            NaN   \n",
       "14562        Vietnam          VNM 2014-01-01          NaN            NaN   \n",
       "14686    Yemen, Rep.          YEM 2014-01-01          NaN            NaN   \n",
       "14748         Zambia          ZMB 2014-01-01          NaN            NaN   \n",
       "14810       Zimbabwe          ZWE 2014-01-01          NaN            NaN   \n",
       "\n",
       "       Energy_Use_RNEW  Cooling_Deg_Days       Total  \n",
       "10092        58.489201               NaN  120.160097  \n",
       "901          70.557123               NaN  120.013965  \n",
       "10093        56.754200               NaN  119.864311  \n",
       "10094        56.378201               NaN  119.421265  \n",
       "10097        57.440601               NaN  119.280720  \n",
       "...                ...               ...         ...  \n",
       "14500        12.004200               NaN         NaN  \n",
       "14562        36.944401               NaN         NaN  \n",
       "14686         0.955600               NaN         NaN  \n",
       "14748        86.002701               NaN         NaN  \n",
       "14810        80.775002               NaN         NaN  \n",
       "\n",
       "[8492 rows x 8 columns]"
      ]
     },
     "metadata": {},
     "output_type": "display_data"
    },
    {
     "data": {
      "text/html": [
       "<div>\n",
       "<style scoped>\n",
       "    .dataframe tbody tr th:only-of-type {\n",
       "        vertical-align: middle;\n",
       "    }\n",
       "\n",
       "    .dataframe tbody tr th {\n",
       "        vertical-align: top;\n",
       "    }\n",
       "\n",
       "    .dataframe thead th {\n",
       "        text-align: right;\n",
       "    }\n",
       "</style>\n",
       "<table border=\"1\" class=\"dataframe\">\n",
       "  <thead>\n",
       "    <tr style=\"text-align: right;\">\n",
       "      <th></th>\n",
       "      <th>Energy_Use</th>\n",
       "      <th>Energy_Use_FF</th>\n",
       "      <th>Energy_Use_RNEW</th>\n",
       "      <th>Cooling_Deg_Days</th>\n",
       "      <th>Total</th>\n",
       "    </tr>\n",
       "  </thead>\n",
       "  <tbody>\n",
       "    <tr>\n",
       "      <th>count</th>\n",
       "      <td>5608.000000</td>\n",
       "      <td>5470.000000</td>\n",
       "      <td>4701.000000</td>\n",
       "      <td>0.0</td>\n",
       "      <td>3440.000000</td>\n",
       "    </tr>\n",
       "    <tr>\n",
       "      <th>mean</th>\n",
       "      <td>2204.508728</td>\n",
       "      <td>65.024139</td>\n",
       "      <td>33.737467</td>\n",
       "      <td>NaN</td>\n",
       "      <td>94.899354</td>\n",
       "    </tr>\n",
       "    <tr>\n",
       "      <th>std</th>\n",
       "      <td>2640.165467</td>\n",
       "      <td>30.992760</td>\n",
       "      <td>31.300034</td>\n",
       "      <td>NaN</td>\n",
       "      <td>17.105838</td>\n",
       "    </tr>\n",
       "    <tr>\n",
       "      <th>min</th>\n",
       "      <td>9.548060</td>\n",
       "      <td>0.000000</td>\n",
       "      <td>0.000000</td>\n",
       "      <td>NaN</td>\n",
       "      <td>0.000000</td>\n",
       "    </tr>\n",
       "    <tr>\n",
       "      <th>25%</th>\n",
       "      <td>498.427885</td>\n",
       "      <td>39.615862</td>\n",
       "      <td>5.143344</td>\n",
       "      <td>NaN</td>\n",
       "      <td>94.226934</td>\n",
       "    </tr>\n",
       "    <tr>\n",
       "      <th>50%</th>\n",
       "      <td>1083.657731</td>\n",
       "      <td>74.893699</td>\n",
       "      <td>24.036877</td>\n",
       "      <td>NaN</td>\n",
       "      <td>99.825876</td>\n",
       "    </tr>\n",
       "    <tr>\n",
       "      <th>75%</th>\n",
       "      <td>2960.150289</td>\n",
       "      <td>92.002062</td>\n",
       "      <td>58.597531</td>\n",
       "      <td>NaN</td>\n",
       "      <td>102.388984</td>\n",
       "    </tr>\n",
       "    <tr>\n",
       "      <th>max</th>\n",
       "      <td>22120.430302</td>\n",
       "      <td>100.000000</td>\n",
       "      <td>98.342903</td>\n",
       "      <td>NaN</td>\n",
       "      <td>120.160097</td>\n",
       "    </tr>\n",
       "  </tbody>\n",
       "</table>\n",
       "</div>"
      ],
      "text/plain": [
       "         Energy_Use  Energy_Use_FF  Energy_Use_RNEW  Cooling_Deg_Days  \\\n",
       "count   5608.000000    5470.000000      4701.000000               0.0   \n",
       "mean    2204.508728      65.024139        33.737467               NaN   \n",
       "std     2640.165467      30.992760        31.300034               NaN   \n",
       "min        9.548060       0.000000         0.000000               NaN   \n",
       "25%      498.427885      39.615862         5.143344               NaN   \n",
       "50%     1083.657731      74.893699        24.036877               NaN   \n",
       "75%     2960.150289      92.002062        58.597531               NaN   \n",
       "max    22120.430302     100.000000        98.342903               NaN   \n",
       "\n",
       "             Total  \n",
       "count  3440.000000  \n",
       "mean     94.899354  \n",
       "std      17.105838  \n",
       "min       0.000000  \n",
       "25%      94.226934  \n",
       "50%      99.825876  \n",
       "75%     102.388984  \n",
       "max     120.160097  "
      ]
     },
     "metadata": {},
     "output_type": "display_data"
    }
   ],
   "source": [
    "FuelTypeDF['Total'] = FuelTypeDF['Energy_Use_FF'] + FuelTypeDF['Energy_Use_RNEW']\n",
    "display(FuelTypeDF.sort_values(by='Total', ascending=False))\n",
    "display(FuelTypeDF.describe())\n",
    "\n",
    "## Proportions of energy use from renewable vs fossil fuel sources don't always add up to a 100%"
   ]
  },
  {
   "cell_type": "code",
   "execution_count": 155,
   "id": "1e3b4059",
   "metadata": {},
   "outputs": [
    {
     "data": {
      "text/html": [
       "<div>\n",
       "<style scoped>\n",
       "    .dataframe tbody tr th:only-of-type {\n",
       "        vertical-align: middle;\n",
       "    }\n",
       "\n",
       "    .dataframe tbody tr th {\n",
       "        vertical-align: top;\n",
       "    }\n",
       "\n",
       "    .dataframe thead th {\n",
       "        text-align: right;\n",
       "    }\n",
       "</style>\n",
       "<table border=\"1\" class=\"dataframe\">\n",
       "  <thead>\n",
       "    <tr style=\"text-align: right;\">\n",
       "      <th></th>\n",
       "      <th>Country_Name</th>\n",
       "      <th>Country_Code</th>\n",
       "      <th>Energy_Use</th>\n",
       "      <th>Energy_Use_FF</th>\n",
       "      <th>Energy_Use_RNEW</th>\n",
       "      <th>Cooling_Deg_Days</th>\n",
       "      <th>Total</th>\n",
       "      <th>Green_Rank</th>\n",
       "      <th>Energy_Use_sd</th>\n",
       "      <th>Energy_Use_FF_sd</th>\n",
       "      <th>Energy_Use_RNEW_sd</th>\n",
       "      <th>Cooling_Deg_Days_sd</th>\n",
       "      <th>Total_sd</th>\n",
       "    </tr>\n",
       "  </thead>\n",
       "  <tbody>\n",
       "    <tr>\n",
       "      <th>0</th>\n",
       "      <td>Congo, Dem. Rep.</td>\n",
       "      <td>COD</td>\n",
       "      <td>322.581246</td>\n",
       "      <td>7.328961</td>\n",
       "      <td>96.485776</td>\n",
       "      <td>NaN</td>\n",
       "      <td>100.716092</td>\n",
       "      <td>1</td>\n",
       "      <td>21.183629</td>\n",
       "      <td>4.106999</td>\n",
       "      <td>1.574472</td>\n",
       "      <td>NaN</td>\n",
       "      <td>1.681740</td>\n",
       "    </tr>\n",
       "    <tr>\n",
       "      <th>1</th>\n",
       "      <td>Ethiopia</td>\n",
       "      <td>ETH</td>\n",
       "      <td>479.049078</td>\n",
       "      <td>3.599869</td>\n",
       "      <td>95.044398</td>\n",
       "      <td>NaN</td>\n",
       "      <td>99.107936</td>\n",
       "      <td>2</td>\n",
       "      <td>5.738308</td>\n",
       "      <td>0.922344</td>\n",
       "      <td>1.589799</td>\n",
       "      <td>NaN</td>\n",
       "      <td>0.682511</td>\n",
       "    </tr>\n",
       "    <tr>\n",
       "      <th>2</th>\n",
       "      <td>Uganda</td>\n",
       "      <td>UGA</td>\n",
       "      <td>NaN</td>\n",
       "      <td>NaN</td>\n",
       "      <td>94.569601</td>\n",
       "      <td>NaN</td>\n",
       "      <td>NaN</td>\n",
       "      <td>3</td>\n",
       "      <td>NaN</td>\n",
       "      <td>NaN</td>\n",
       "      <td>1.322800</td>\n",
       "      <td>NaN</td>\n",
       "      <td>NaN</td>\n",
       "    </tr>\n",
       "    <tr>\n",
       "      <th>3</th>\n",
       "      <td>Burundi</td>\n",
       "      <td>BDI</td>\n",
       "      <td>NaN</td>\n",
       "      <td>NaN</td>\n",
       "      <td>94.342457</td>\n",
       "      <td>NaN</td>\n",
       "      <td>NaN</td>\n",
       "      <td>4</td>\n",
       "      <td>NaN</td>\n",
       "      <td>NaN</td>\n",
       "      <td>1.529989</td>\n",
       "      <td>NaN</td>\n",
       "      <td>NaN</td>\n",
       "    </tr>\n",
       "    <tr>\n",
       "      <th>4</th>\n",
       "      <td>Somalia</td>\n",
       "      <td>SOM</td>\n",
       "      <td>NaN</td>\n",
       "      <td>NaN</td>\n",
       "      <td>92.145529</td>\n",
       "      <td>NaN</td>\n",
       "      <td>NaN</td>\n",
       "      <td>5</td>\n",
       "      <td>NaN</td>\n",
       "      <td>NaN</td>\n",
       "      <td>2.062299</td>\n",
       "      <td>NaN</td>\n",
       "      <td>NaN</td>\n",
       "    </tr>\n",
       "    <tr>\n",
       "      <th>...</th>\n",
       "      <td>...</td>\n",
       "      <td>...</td>\n",
       "      <td>...</td>\n",
       "      <td>...</td>\n",
       "      <td>...</td>\n",
       "      <td>...</td>\n",
       "      <td>...</td>\n",
       "      <td>...</td>\n",
       "      <td>...</td>\n",
       "      <td>...</td>\n",
       "      <td>...</td>\n",
       "      <td>...</td>\n",
       "      <td>...</td>\n",
       "    </tr>\n",
       "    <tr>\n",
       "      <th>186</th>\n",
       "      <td>Saudi Arabia</td>\n",
       "      <td>SAU</td>\n",
       "      <td>4136.646584</td>\n",
       "      <td>99.949357</td>\n",
       "      <td>0.013209</td>\n",
       "      <td>NaN</td>\n",
       "      <td>99.935709</td>\n",
       "      <td>187</td>\n",
       "      <td>1681.164029</td>\n",
       "      <td>0.149156</td>\n",
       "      <td>0.009486</td>\n",
       "      <td>NaN</td>\n",
       "      <td>0.197165</td>\n",
       "    </tr>\n",
       "    <tr>\n",
       "      <th>187</th>\n",
       "      <td>Palau</td>\n",
       "      <td>PLW</td>\n",
       "      <td>4877.028215</td>\n",
       "      <td>0.000000</td>\n",
       "      <td>0.000696</td>\n",
       "      <td>NaN</td>\n",
       "      <td>NaN</td>\n",
       "      <td>188</td>\n",
       "      <td>NaN</td>\n",
       "      <td>NaN</td>\n",
       "      <td>0.003336</td>\n",
       "      <td>NaN</td>\n",
       "      <td>NaN</td>\n",
       "    </tr>\n",
       "    <tr>\n",
       "      <th>188</th>\n",
       "      <td>Oman</td>\n",
       "      <td>OMN</td>\n",
       "      <td>2763.017297</td>\n",
       "      <td>99.909752</td>\n",
       "      <td>0.000040</td>\n",
       "      <td>NaN</td>\n",
       "      <td>99.839670</td>\n",
       "      <td>189</td>\n",
       "      <td>2104.533008</td>\n",
       "      <td>0.367507</td>\n",
       "      <td>0.000138</td>\n",
       "      <td>NaN</td>\n",
       "      <td>0.484148</td>\n",
       "    </tr>\n",
       "    <tr>\n",
       "      <th>189</th>\n",
       "      <td>Bahrain</td>\n",
       "      <td>BHR</td>\n",
       "      <td>10070.710597</td>\n",
       "      <td>99.774828</td>\n",
       "      <td>0.000000</td>\n",
       "      <td>NaN</td>\n",
       "      <td>99.530904</td>\n",
       "      <td>190</td>\n",
       "      <td>1544.866472</td>\n",
       "      <td>0.511989</td>\n",
       "      <td>0.000000</td>\n",
       "      <td>NaN</td>\n",
       "      <td>0.668658</td>\n",
       "    </tr>\n",
       "    <tr>\n",
       "      <th>190</th>\n",
       "      <td>Qatar</td>\n",
       "      <td>QAT</td>\n",
       "      <td>15441.892937</td>\n",
       "      <td>99.999786</td>\n",
       "      <td>0.000000</td>\n",
       "      <td>NaN</td>\n",
       "      <td>99.999684</td>\n",
       "      <td>191</td>\n",
       "      <td>3694.539700</td>\n",
       "      <td>0.001014</td>\n",
       "      <td>0.000000</td>\n",
       "      <td>NaN</td>\n",
       "      <td>0.001242</td>\n",
       "    </tr>\n",
       "  </tbody>\n",
       "</table>\n",
       "<p>191 rows × 13 columns</p>\n",
       "</div>"
      ],
      "text/plain": [
       "         Country_Name Country_Code    Energy_Use  Energy_Use_FF  \\\n",
       "0    Congo, Dem. Rep.          COD    322.581246       7.328961   \n",
       "1            Ethiopia          ETH    479.049078       3.599869   \n",
       "2              Uganda          UGA           NaN            NaN   \n",
       "3             Burundi          BDI           NaN            NaN   \n",
       "4             Somalia          SOM           NaN            NaN   \n",
       "..                ...          ...           ...            ...   \n",
       "186      Saudi Arabia          SAU   4136.646584      99.949357   \n",
       "187             Palau          PLW   4877.028215       0.000000   \n",
       "188              Oman          OMN   2763.017297      99.909752   \n",
       "189           Bahrain          BHR  10070.710597      99.774828   \n",
       "190             Qatar          QAT  15441.892937      99.999786   \n",
       "\n",
       "     Energy_Use_RNEW  Cooling_Deg_Days       Total  Green_Rank  Energy_Use_sd  \\\n",
       "0          96.485776               NaN  100.716092           1      21.183629   \n",
       "1          95.044398               NaN   99.107936           2       5.738308   \n",
       "2          94.569601               NaN         NaN           3            NaN   \n",
       "3          94.342457               NaN         NaN           4            NaN   \n",
       "4          92.145529               NaN         NaN           5            NaN   \n",
       "..               ...               ...         ...         ...            ...   \n",
       "186         0.013209               NaN   99.935709         187    1681.164029   \n",
       "187         0.000696               NaN         NaN         188            NaN   \n",
       "188         0.000040               NaN   99.839670         189    2104.533008   \n",
       "189         0.000000               NaN   99.530904         190    1544.866472   \n",
       "190         0.000000               NaN   99.999684         191    3694.539700   \n",
       "\n",
       "     Energy_Use_FF_sd  Energy_Use_RNEW_sd  Cooling_Deg_Days_sd  Total_sd  \n",
       "0            4.106999            1.574472                  NaN  1.681740  \n",
       "1            0.922344            1.589799                  NaN  0.682511  \n",
       "2                 NaN            1.322800                  NaN       NaN  \n",
       "3                 NaN            1.529989                  NaN       NaN  \n",
       "4                 NaN            2.062299                  NaN       NaN  \n",
       "..                ...                 ...                  ...       ...  \n",
       "186          0.149156            0.009486                  NaN  0.197165  \n",
       "187               NaN            0.003336                  NaN       NaN  \n",
       "188          0.367507            0.000138                  NaN  0.484148  \n",
       "189          0.511989            0.000000                  NaN  0.668658  \n",
       "190          0.001014            0.000000                  NaN  0.001242  \n",
       "\n",
       "[191 rows x 13 columns]"
      ]
     },
     "metadata": {},
     "output_type": "display_data"
    },
    {
     "data": {
      "text/html": [
       "<div>\n",
       "<style scoped>\n",
       "    .dataframe tbody tr th:only-of-type {\n",
       "        vertical-align: middle;\n",
       "    }\n",
       "\n",
       "    .dataframe tbody tr th {\n",
       "        vertical-align: top;\n",
       "    }\n",
       "\n",
       "    .dataframe thead th {\n",
       "        text-align: right;\n",
       "    }\n",
       "</style>\n",
       "<table border=\"1\" class=\"dataframe\">\n",
       "  <thead>\n",
       "    <tr style=\"text-align: right;\">\n",
       "      <th></th>\n",
       "      <th></th>\n",
       "      <th>Energy_Use</th>\n",
       "      <th>Energy_Use_FF</th>\n",
       "      <th>Energy_Use_RNEW</th>\n",
       "      <th>Cooling_Deg_Days</th>\n",
       "      <th>Total</th>\n",
       "    </tr>\n",
       "    <tr>\n",
       "      <th>Country_Name</th>\n",
       "      <th>Country_Code</th>\n",
       "      <th></th>\n",
       "      <th></th>\n",
       "      <th></th>\n",
       "      <th></th>\n",
       "      <th></th>\n",
       "    </tr>\n",
       "  </thead>\n",
       "  <tbody>\n",
       "    <tr>\n",
       "      <th>Chad</th>\n",
       "      <th>TCD</th>\n",
       "      <td>NaN</td>\n",
       "      <td>NaN</td>\n",
       "      <td>97.158379</td>\n",
       "      <td>NaN</td>\n",
       "      <td>NaN</td>\n",
       "    </tr>\n",
       "    <tr>\n",
       "      <th>Ethiopia</th>\n",
       "      <th>ETH</th>\n",
       "      <td>475.603998</td>\n",
       "      <td>3.064440</td>\n",
       "      <td>96.564258</td>\n",
       "      <td>NaN</td>\n",
       "      <td>99.757661</td>\n",
       "    </tr>\n",
       "    <tr>\n",
       "      <th>Congo, Dem. Rep.</th>\n",
       "      <th>COD</th>\n",
       "      <td>322.965287</td>\n",
       "      <td>9.396978</td>\n",
       "      <td>96.226118</td>\n",
       "      <td>NaN</td>\n",
       "      <td>102.152750</td>\n",
       "    </tr>\n",
       "    <tr>\n",
       "      <th>Uganda</th>\n",
       "      <th>UGA</th>\n",
       "      <td>NaN</td>\n",
       "      <td>NaN</td>\n",
       "      <td>95.526129</td>\n",
       "      <td>NaN</td>\n",
       "      <td>NaN</td>\n",
       "    </tr>\n",
       "    <tr>\n",
       "      <th>Burundi</th>\n",
       "      <th>BDI</th>\n",
       "      <td>NaN</td>\n",
       "      <td>NaN</td>\n",
       "      <td>94.749193</td>\n",
       "      <td>NaN</td>\n",
       "      <td>NaN</td>\n",
       "    </tr>\n",
       "    <tr>\n",
       "      <th>...</th>\n",
       "      <th>...</th>\n",
       "      <td>...</td>\n",
       "      <td>...</td>\n",
       "      <td>...</td>\n",
       "      <td>...</td>\n",
       "      <td>...</td>\n",
       "    </tr>\n",
       "    <tr>\n",
       "      <th>Montenegro</th>\n",
       "      <th>MNE</th>\n",
       "      <td>NaN</td>\n",
       "      <td>NaN</td>\n",
       "      <td>0.000000</td>\n",
       "      <td>NaN</td>\n",
       "      <td>NaN</td>\n",
       "    </tr>\n",
       "    <tr>\n",
       "      <th>Timor-Leste</th>\n",
       "      <th>TLS</th>\n",
       "      <td>NaN</td>\n",
       "      <td>NaN</td>\n",
       "      <td>0.000000</td>\n",
       "      <td>NaN</td>\n",
       "      <td>NaN</td>\n",
       "    </tr>\n",
       "    <tr>\n",
       "      <th>Oman</th>\n",
       "      <th>OMN</th>\n",
       "      <td>1585.541485</td>\n",
       "      <td>99.999949</td>\n",
       "      <td>0.000000</td>\n",
       "      <td>NaN</td>\n",
       "      <td>99.999989</td>\n",
       "    </tr>\n",
       "    <tr>\n",
       "      <th>Malta</th>\n",
       "      <th>MLT</th>\n",
       "      <td>1413.853823</td>\n",
       "      <td>99.999946</td>\n",
       "      <td>0.000000</td>\n",
       "      <td>NaN</td>\n",
       "      <td>99.999982</td>\n",
       "    </tr>\n",
       "    <tr>\n",
       "      <th>Bahrain</th>\n",
       "      <th>BHR</th>\n",
       "      <td>9679.847726</td>\n",
       "      <td>99.978490</td>\n",
       "      <td>0.000000</td>\n",
       "      <td>NaN</td>\n",
       "      <td>99.931910</td>\n",
       "    </tr>\n",
       "  </tbody>\n",
       "</table>\n",
       "<p>191 rows × 5 columns</p>\n",
       "</div>"
      ],
      "text/plain": [
       "                                Energy_Use  Energy_Use_FF  Energy_Use_RNEW  \\\n",
       "Country_Name     Country_Code                                                \n",
       "Chad             TCD                   NaN            NaN        97.158379   \n",
       "Ethiopia         ETH            475.603998       3.064440        96.564258   \n",
       "Congo, Dem. Rep. COD            322.965287       9.396978        96.226118   \n",
       "Uganda           UGA                   NaN            NaN        95.526129   \n",
       "Burundi          BDI                   NaN            NaN        94.749193   \n",
       "...                                    ...            ...              ...   \n",
       "Montenegro       MNE                   NaN            NaN         0.000000   \n",
       "Timor-Leste      TLS                   NaN            NaN         0.000000   \n",
       "Oman             OMN           1585.541485      99.999949         0.000000   \n",
       "Malta            MLT           1413.853823      99.999946         0.000000   \n",
       "Bahrain          BHR           9679.847726      99.978490         0.000000   \n",
       "\n",
       "                               Cooling_Deg_Days       Total  \n",
       "Country_Name     Country_Code                                \n",
       "Chad             TCD                        NaN         NaN  \n",
       "Ethiopia         ETH                        NaN   99.757661  \n",
       "Congo, Dem. Rep. COD                        NaN  102.152750  \n",
       "Uganda           UGA                        NaN         NaN  \n",
       "Burundi          BDI                        NaN         NaN  \n",
       "...                                         ...         ...  \n",
       "Montenegro       MNE                        NaN         NaN  \n",
       "Timor-Leste      TLS                        NaN         NaN  \n",
       "Oman             OMN                        NaN   99.999989  \n",
       "Malta            MLT                        NaN   99.999982  \n",
       "Bahrain          BHR                        NaN   99.931910  \n",
       "\n",
       "[191 rows x 5 columns]"
      ]
     },
     "metadata": {},
     "output_type": "display_data"
    },
    {
     "data": {
      "text/html": [
       "<div>\n",
       "<style scoped>\n",
       "    .dataframe tbody tr th:only-of-type {\n",
       "        vertical-align: middle;\n",
       "    }\n",
       "\n",
       "    .dataframe tbody tr th {\n",
       "        vertical-align: top;\n",
       "    }\n",
       "\n",
       "    .dataframe thead th {\n",
       "        text-align: right;\n",
       "    }\n",
       "</style>\n",
       "<table border=\"1\" class=\"dataframe\">\n",
       "  <thead>\n",
       "    <tr style=\"text-align: right;\">\n",
       "      <th></th>\n",
       "      <th></th>\n",
       "      <th>Energy_Use</th>\n",
       "      <th>Energy_Use_FF</th>\n",
       "      <th>Energy_Use_RNEW</th>\n",
       "      <th>Cooling_Deg_Days</th>\n",
       "      <th>Total</th>\n",
       "    </tr>\n",
       "    <tr>\n",
       "      <th>Country_Name</th>\n",
       "      <th>Country_Code</th>\n",
       "      <th></th>\n",
       "      <th></th>\n",
       "      <th></th>\n",
       "      <th></th>\n",
       "      <th></th>\n",
       "    </tr>\n",
       "  </thead>\n",
       "  <tbody>\n",
       "    <tr>\n",
       "      <th>Congo, Dem. Rep.</th>\n",
       "      <th>COD</th>\n",
       "      <td>321.758300</td>\n",
       "      <td>2.897496</td>\n",
       "      <td>96.689793</td>\n",
       "      <td>NaN</td>\n",
       "      <td>99.587289</td>\n",
       "    </tr>\n",
       "    <tr>\n",
       "      <th>Burundi</th>\n",
       "      <th>BDI</th>\n",
       "      <td>NaN</td>\n",
       "      <td>NaN</td>\n",
       "      <td>94.022879</td>\n",
       "      <td>NaN</td>\n",
       "      <td>NaN</td>\n",
       "    </tr>\n",
       "    <tr>\n",
       "      <th>Ethiopia</th>\n",
       "      <th>ETH</th>\n",
       "      <td>486.431392</td>\n",
       "      <td>4.747216</td>\n",
       "      <td>93.850222</td>\n",
       "      <td>NaN</td>\n",
       "      <td>98.597438</td>\n",
       "    </tr>\n",
       "    <tr>\n",
       "      <th>Uganda</th>\n",
       "      <th>UGA</th>\n",
       "      <td>NaN</td>\n",
       "      <td>NaN</td>\n",
       "      <td>93.818043</td>\n",
       "      <td>NaN</td>\n",
       "      <td>NaN</td>\n",
       "    </tr>\n",
       "    <tr>\n",
       "      <th>Somalia</th>\n",
       "      <th>SOM</th>\n",
       "      <td>NaN</td>\n",
       "      <td>NaN</td>\n",
       "      <td>93.469564</td>\n",
       "      <td>NaN</td>\n",
       "      <td>NaN</td>\n",
       "    </tr>\n",
       "    <tr>\n",
       "      <th>...</th>\n",
       "      <th>...</th>\n",
       "      <td>...</td>\n",
       "      <td>...</td>\n",
       "      <td>...</td>\n",
       "      <td>...</td>\n",
       "      <td>...</td>\n",
       "    </tr>\n",
       "    <tr>\n",
       "      <th>Palau</th>\n",
       "      <th>PLW</th>\n",
       "      <td>NaN</td>\n",
       "      <td>NaN</td>\n",
       "      <td>0.001143</td>\n",
       "      <td>NaN</td>\n",
       "      <td>NaN</td>\n",
       "    </tr>\n",
       "    <tr>\n",
       "      <th>Kuwait</th>\n",
       "      <th>KWT</th>\n",
       "      <td>10415.571750</td>\n",
       "      <td>97.852942</td>\n",
       "      <td>0.000329</td>\n",
       "      <td>NaN</td>\n",
       "      <td>97.853402</td>\n",
       "    </tr>\n",
       "    <tr>\n",
       "      <th>Oman</th>\n",
       "      <th>OMN</th>\n",
       "      <td>5286.179752</td>\n",
       "      <td>99.737557</td>\n",
       "      <td>0.000071</td>\n",
       "      <td>NaN</td>\n",
       "      <td>99.737648</td>\n",
       "    </tr>\n",
       "    <tr>\n",
       "      <th>Bahrain</th>\n",
       "      <th>BHR</th>\n",
       "      <td>10908.273894</td>\n",
       "      <td>99.129898</td>\n",
       "      <td>0.000000</td>\n",
       "      <td>NaN</td>\n",
       "      <td>99.129898</td>\n",
       "    </tr>\n",
       "    <tr>\n",
       "      <th>Qatar</th>\n",
       "      <th>QAT</th>\n",
       "      <td>18115.689581</td>\n",
       "      <td>99.999377</td>\n",
       "      <td>0.000000</td>\n",
       "      <td>NaN</td>\n",
       "      <td>99.999377</td>\n",
       "    </tr>\n",
       "  </tbody>\n",
       "</table>\n",
       "<p>191 rows × 5 columns</p>\n",
       "</div>"
      ],
      "text/plain": [
       "                                 Energy_Use  Energy_Use_FF  Energy_Use_RNEW  \\\n",
       "Country_Name     Country_Code                                                 \n",
       "Congo, Dem. Rep. COD             321.758300       2.897496        96.689793   \n",
       "Burundi          BDI                    NaN            NaN        94.022879   \n",
       "Ethiopia         ETH             486.431392       4.747216        93.850222   \n",
       "Uganda           UGA                    NaN            NaN        93.818043   \n",
       "Somalia          SOM                    NaN            NaN        93.469564   \n",
       "...                                     ...            ...              ...   \n",
       "Palau            PLW                    NaN            NaN         0.001143   \n",
       "Kuwait           KWT           10415.571750      97.852942         0.000329   \n",
       "Oman             OMN            5286.179752      99.737557         0.000071   \n",
       "Bahrain          BHR           10908.273894      99.129898         0.000000   \n",
       "Qatar            QAT           18115.689581      99.999377         0.000000   \n",
       "\n",
       "                               Cooling_Deg_Days      Total  \n",
       "Country_Name     Country_Code                               \n",
       "Congo, Dem. Rep. COD                        NaN  99.587289  \n",
       "Burundi          BDI                        NaN        NaN  \n",
       "Ethiopia         ETH                        NaN  98.597438  \n",
       "Uganda           UGA                        NaN        NaN  \n",
       "Somalia          SOM                        NaN        NaN  \n",
       "...                                         ...        ...  \n",
       "Palau            PLW                        NaN        NaN  \n",
       "Kuwait           KWT                        NaN  97.853402  \n",
       "Oman             OMN                        NaN  99.737648  \n",
       "Bahrain          BHR                        NaN  99.129898  \n",
       "Qatar            QAT                        NaN  99.999377  \n",
       "\n",
       "[191 rows x 5 columns]"
      ]
     },
     "metadata": {},
     "output_type": "display_data"
    }
   ],
   "source": [
    "gp = FuelTypeDF.groupby('Country_Code').count().sort_values(by='Energy_Use', ascending=False)\n",
    "\n",
    "# Average aggregated over the years 1971-2014\n",
    "Avg = FuelTypeDF.groupby(['Country_Name', 'Country_Code']).mean().sort_values(by='Energy_Use_RNEW', ascending=False)\n",
    "sd = FuelTypeDF.groupby(['Country_Name', 'Country_Code']).std().sort_values(by='Energy_Use_RNEW', ascending=False)\n",
    "Avg = Avg[Avg['Energy_Use_RNEW'].notna()].reset_index()\n",
    "Avg['Green_Rank'] = Avg.index + 1\n",
    "Avg = Avg.merge(sd, how='left', on='Country_Code', suffixes=[None, '_sd'])\n",
    "display(Avg)\n",
    "\n",
    "# Average between Years 1971-2000\n",
    "yr_range_1 = (FuelTypeDF['Year'] >= '1971-01-01') & (FuelTypeDF['Year'] <= '2000-01-01')\n",
    "Avg_1 = FuelTypeDF[yr_range_1].groupby(['Country_Name', 'Country_Code']).mean().sort_values(by='Energy_Use_RNEW', ascending=False)\n",
    "Avg_1 = Avg_1[Avg_1['Energy_Use_RNEW'].notna()]\n",
    "display(Avg_1)\n",
    "\n",
    "\n",
    "# Average between Years 2001-2014\n",
    "yr_range_2 = (FuelTypeDF['Year'] >= '2001-01-01') & (FuelTypeDF['Year'] <= '2014-01-01')\n",
    "Avg_2 = FuelTypeDF[yr_range_2].groupby(['Country_Name', 'Country_Code']).mean().sort_values(by='Energy_Use_RNEW', ascending=False)\n",
    "Avg_2 = Avg_2[Avg_2['Energy_Use_RNEW'].notna()]\n",
    "display(Avg_2)\n",
    "\n",
    "## There is not much difference in the rankings in the two time periods.\n",
    "\n"
   ]
  },
  {
   "cell_type": "code",
   "execution_count": 157,
   "id": "c4ac4465",
   "metadata": {
    "scrolled": true
   },
   "outputs": [
    {
     "data": {
      "text/html": [
       "<div>\n",
       "<style scoped>\n",
       "    .dataframe tbody tr th:only-of-type {\n",
       "        vertical-align: middle;\n",
       "    }\n",
       "\n",
       "    .dataframe tbody tr th {\n",
       "        vertical-align: top;\n",
       "    }\n",
       "\n",
       "    .dataframe thead th {\n",
       "        text-align: right;\n",
       "    }\n",
       "</style>\n",
       "<table border=\"1\" class=\"dataframe\">\n",
       "  <thead>\n",
       "    <tr style=\"text-align: right;\">\n",
       "      <th></th>\n",
       "      <th>Country_Name</th>\n",
       "      <th>Country_Code</th>\n",
       "      <th>Energy_Use</th>\n",
       "      <th>Energy_Use_FF</th>\n",
       "      <th>Energy_Use_RNEW</th>\n",
       "      <th>Cooling_Deg_Days</th>\n",
       "      <th>Total</th>\n",
       "      <th>Green_Rank</th>\n",
       "      <th>Energy_Use_sd</th>\n",
       "      <th>Energy_Use_FF_sd</th>\n",
       "      <th>Energy_Use_RNEW_sd</th>\n",
       "      <th>Cooling_Deg_Days_sd</th>\n",
       "      <th>Total_sd</th>\n",
       "    </tr>\n",
       "  </thead>\n",
       "  <tbody>\n",
       "    <tr>\n",
       "      <th>0</th>\n",
       "      <td>Congo, Dem. Rep.</td>\n",
       "      <td>COD</td>\n",
       "      <td>322.581246</td>\n",
       "      <td>7.328961</td>\n",
       "      <td>96.485776</td>\n",
       "      <td>NaN</td>\n",
       "      <td>100.716092</td>\n",
       "      <td>1</td>\n",
       "      <td>21.183629</td>\n",
       "      <td>4.106999</td>\n",
       "      <td>1.574472</td>\n",
       "      <td>NaN</td>\n",
       "      <td>1.681740</td>\n",
       "    </tr>\n",
       "    <tr>\n",
       "      <th>1</th>\n",
       "      <td>Ethiopia</td>\n",
       "      <td>ETH</td>\n",
       "      <td>479.049078</td>\n",
       "      <td>3.599869</td>\n",
       "      <td>95.044398</td>\n",
       "      <td>NaN</td>\n",
       "      <td>99.107936</td>\n",
       "      <td>2</td>\n",
       "      <td>5.738308</td>\n",
       "      <td>0.922344</td>\n",
       "      <td>1.589799</td>\n",
       "      <td>NaN</td>\n",
       "      <td>0.682511</td>\n",
       "    </tr>\n",
       "    <tr>\n",
       "      <th>2</th>\n",
       "      <td>Uganda</td>\n",
       "      <td>UGA</td>\n",
       "      <td>NaN</td>\n",
       "      <td>NaN</td>\n",
       "      <td>94.569601</td>\n",
       "      <td>NaN</td>\n",
       "      <td>NaN</td>\n",
       "      <td>3</td>\n",
       "      <td>NaN</td>\n",
       "      <td>NaN</td>\n",
       "      <td>1.322800</td>\n",
       "      <td>NaN</td>\n",
       "      <td>NaN</td>\n",
       "    </tr>\n",
       "    <tr>\n",
       "      <th>3</th>\n",
       "      <td>Burundi</td>\n",
       "      <td>BDI</td>\n",
       "      <td>NaN</td>\n",
       "      <td>NaN</td>\n",
       "      <td>94.342457</td>\n",
       "      <td>NaN</td>\n",
       "      <td>NaN</td>\n",
       "      <td>4</td>\n",
       "      <td>NaN</td>\n",
       "      <td>NaN</td>\n",
       "      <td>1.529989</td>\n",
       "      <td>NaN</td>\n",
       "      <td>NaN</td>\n",
       "    </tr>\n",
       "    <tr>\n",
       "      <th>4</th>\n",
       "      <td>Somalia</td>\n",
       "      <td>SOM</td>\n",
       "      <td>NaN</td>\n",
       "      <td>NaN</td>\n",
       "      <td>92.145529</td>\n",
       "      <td>NaN</td>\n",
       "      <td>NaN</td>\n",
       "      <td>5</td>\n",
       "      <td>NaN</td>\n",
       "      <td>NaN</td>\n",
       "      <td>2.062299</td>\n",
       "      <td>NaN</td>\n",
       "      <td>NaN</td>\n",
       "    </tr>\n",
       "    <tr>\n",
       "      <th>5</th>\n",
       "      <td>Bhutan</td>\n",
       "      <td>BTN</td>\n",
       "      <td>277.925733</td>\n",
       "      <td>0.000000</td>\n",
       "      <td>92.010238</td>\n",
       "      <td>NaN</td>\n",
       "      <td>93.003530</td>\n",
       "      <td>6</td>\n",
       "      <td>101.093489</td>\n",
       "      <td>0.000000</td>\n",
       "      <td>2.652047</td>\n",
       "      <td>NaN</td>\n",
       "      <td>1.761327</td>\n",
       "    </tr>\n",
       "    <tr>\n",
       "      <th>6</th>\n",
       "      <td>Tanzania</td>\n",
       "      <td>TZA</td>\n",
       "      <td>432.363000</td>\n",
       "      <td>8.675362</td>\n",
       "      <td>91.221632</td>\n",
       "      <td>NaN</td>\n",
       "      <td>100.113443</td>\n",
       "      <td>7</td>\n",
       "      <td>47.949898</td>\n",
       "      <td>2.220142</td>\n",
       "      <td>3.410659</td>\n",
       "      <td>NaN</td>\n",
       "      <td>1.052057</td>\n",
       "    </tr>\n",
       "    <tr>\n",
       "      <th>7</th>\n",
       "      <td>Mozambique</td>\n",
       "      <td>MOZ</td>\n",
       "      <td>489.044185</td>\n",
       "      <td>8.005682</td>\n",
       "      <td>90.802197</td>\n",
       "      <td>NaN</td>\n",
       "      <td>97.607114</td>\n",
       "      <td>8</td>\n",
       "      <td>100.018262</td>\n",
       "      <td>2.311523</td>\n",
       "      <td>3.714195</td>\n",
       "      <td>NaN</td>\n",
       "      <td>2.477294</td>\n",
       "    </tr>\n",
       "    <tr>\n",
       "      <th>8</th>\n",
       "      <td>Chad</td>\n",
       "      <td>TCD</td>\n",
       "      <td>NaN</td>\n",
       "      <td>NaN</td>\n",
       "      <td>90.031626</td>\n",
       "      <td>NaN</td>\n",
       "      <td>NaN</td>\n",
       "      <td>9</td>\n",
       "      <td>NaN</td>\n",
       "      <td>NaN</td>\n",
       "      <td>6.886575</td>\n",
       "      <td>NaN</td>\n",
       "      <td>NaN</td>\n",
       "    </tr>\n",
       "    <tr>\n",
       "      <th>9</th>\n",
       "      <td>Nepal</td>\n",
       "      <td>NPL</td>\n",
       "      <td>326.278235</td>\n",
       "      <td>7.160610</td>\n",
       "      <td>89.926958</td>\n",
       "      <td>NaN</td>\n",
       "      <td>100.126070</td>\n",
       "      <td>10</td>\n",
       "      <td>34.007414</td>\n",
       "      <td>4.122221</td>\n",
       "      <td>2.871222</td>\n",
       "      <td>NaN</td>\n",
       "      <td>0.232714</td>\n",
       "    </tr>\n",
       "    <tr>\n",
       "      <th>10</th>\n",
       "      <td>Guinea-Bissau</td>\n",
       "      <td>GNB</td>\n",
       "      <td>67.864637</td>\n",
       "      <td>0.000000</td>\n",
       "      <td>88.649094</td>\n",
       "      <td>NaN</td>\n",
       "      <td>88.370262</td>\n",
       "      <td>11</td>\n",
       "      <td>4.939277</td>\n",
       "      <td>0.000000</td>\n",
       "      <td>1.055867</td>\n",
       "      <td>NaN</td>\n",
       "      <td>0.285116</td>\n",
       "    </tr>\n",
       "    <tr>\n",
       "      <th>11</th>\n",
       "      <td>Liberia</td>\n",
       "      <td>LBR</td>\n",
       "      <td>NaN</td>\n",
       "      <td>NaN</td>\n",
       "      <td>88.640557</td>\n",
       "      <td>NaN</td>\n",
       "      <td>NaN</td>\n",
       "      <td>12</td>\n",
       "      <td>NaN</td>\n",
       "      <td>NaN</td>\n",
       "      <td>1.909477</td>\n",
       "      <td>NaN</td>\n",
       "      <td>NaN</td>\n",
       "    </tr>\n",
       "    <tr>\n",
       "      <th>12</th>\n",
       "      <td>Central African Republic</td>\n",
       "      <td>CAF</td>\n",
       "      <td>NaN</td>\n",
       "      <td>NaN</td>\n",
       "      <td>88.396211</td>\n",
       "      <td>NaN</td>\n",
       "      <td>NaN</td>\n",
       "      <td>13</td>\n",
       "      <td>NaN</td>\n",
       "      <td>NaN</td>\n",
       "      <td>3.618127</td>\n",
       "      <td>NaN</td>\n",
       "      <td>NaN</td>\n",
       "    </tr>\n",
       "    <tr>\n",
       "      <th>13</th>\n",
       "      <td>Zambia</td>\n",
       "      <td>ZMB</td>\n",
       "      <td>697.211345</td>\n",
       "      <td>15.795215</td>\n",
       "      <td>87.892948</td>\n",
       "      <td>NaN</td>\n",
       "      <td>98.449266</td>\n",
       "      <td>14</td>\n",
       "      <td>92.585850</td>\n",
       "      <td>6.992691</td>\n",
       "      <td>2.513125</td>\n",
       "      <td>NaN</td>\n",
       "      <td>0.769297</td>\n",
       "    </tr>\n",
       "    <tr>\n",
       "      <th>14</th>\n",
       "      <td>Rwanda</td>\n",
       "      <td>RWA</td>\n",
       "      <td>NaN</td>\n",
       "      <td>NaN</td>\n",
       "      <td>87.441393</td>\n",
       "      <td>NaN</td>\n",
       "      <td>NaN</td>\n",
       "      <td>15</td>\n",
       "      <td>NaN</td>\n",
       "      <td>NaN</td>\n",
       "      <td>3.746953</td>\n",
       "      <td>NaN</td>\n",
       "      <td>NaN</td>\n",
       "    </tr>\n",
       "    <tr>\n",
       "      <th>15</th>\n",
       "      <td>Sierra Leone</td>\n",
       "      <td>SLE</td>\n",
       "      <td>NaN</td>\n",
       "      <td>NaN</td>\n",
       "      <td>86.892168</td>\n",
       "      <td>NaN</td>\n",
       "      <td>NaN</td>\n",
       "      <td>16</td>\n",
       "      <td>NaN</td>\n",
       "      <td>NaN</td>\n",
       "      <td>4.853873</td>\n",
       "      <td>NaN</td>\n",
       "      <td>NaN</td>\n",
       "    </tr>\n",
       "    <tr>\n",
       "      <th>16</th>\n",
       "      <td>Burkina Faso</td>\n",
       "      <td>BFA</td>\n",
       "      <td>NaN</td>\n",
       "      <td>NaN</td>\n",
       "      <td>85.694836</td>\n",
       "      <td>NaN</td>\n",
       "      <td>NaN</td>\n",
       "      <td>17</td>\n",
       "      <td>NaN</td>\n",
       "      <td>NaN</td>\n",
       "      <td>6.130641</td>\n",
       "      <td>NaN</td>\n",
       "      <td>NaN</td>\n",
       "    </tr>\n",
       "    <tr>\n",
       "      <th>17</th>\n",
       "      <td>Nigeria</td>\n",
       "      <td>NGA</td>\n",
       "      <td>694.826551</td>\n",
       "      <td>17.919035</td>\n",
       "      <td>85.683643</td>\n",
       "      <td>NaN</td>\n",
       "      <td>105.030741</td>\n",
       "      <td>18</td>\n",
       "      <td>53.605510</td>\n",
       "      <td>4.101348</td>\n",
       "      <td>1.989633</td>\n",
       "      <td>NaN</td>\n",
       "      <td>2.018790</td>\n",
       "    </tr>\n",
       "    <tr>\n",
       "      <th>18</th>\n",
       "      <td>Madagascar</td>\n",
       "      <td>MDG</td>\n",
       "      <td>NaN</td>\n",
       "      <td>NaN</td>\n",
       "      <td>83.692361</td>\n",
       "      <td>NaN</td>\n",
       "      <td>NaN</td>\n",
       "      <td>19</td>\n",
       "      <td>NaN</td>\n",
       "      <td>NaN</td>\n",
       "      <td>3.003443</td>\n",
       "      <td>NaN</td>\n",
       "      <td>NaN</td>\n",
       "    </tr>\n",
       "    <tr>\n",
       "      <th>19</th>\n",
       "      <td>Niger</td>\n",
       "      <td>NER</td>\n",
       "      <td>131.096027</td>\n",
       "      <td>18.271537</td>\n",
       "      <td>83.657840</td>\n",
       "      <td>NaN</td>\n",
       "      <td>101.929377</td>\n",
       "      <td>20</td>\n",
       "      <td>9.898906</td>\n",
       "      <td>5.404346</td>\n",
       "      <td>4.913610</td>\n",
       "      <td>NaN</td>\n",
       "      <td>1.181778</td>\n",
       "    </tr>\n",
       "    <tr>\n",
       "      <th>20</th>\n",
       "      <td>Mali</td>\n",
       "      <td>MLI</td>\n",
       "      <td>NaN</td>\n",
       "      <td>NaN</td>\n",
       "      <td>83.469559</td>\n",
       "      <td>NaN</td>\n",
       "      <td>NaN</td>\n",
       "      <td>21</td>\n",
       "      <td>NaN</td>\n",
       "      <td>NaN</td>\n",
       "      <td>3.987323</td>\n",
       "      <td>NaN</td>\n",
       "      <td>NaN</td>\n",
       "    </tr>\n",
       "    <tr>\n",
       "      <th>21</th>\n",
       "      <td>Myanmar</td>\n",
       "      <td>MMR</td>\n",
       "      <td>280.485693</td>\n",
       "      <td>21.753235</td>\n",
       "      <td>83.458597</td>\n",
       "      <td>NaN</td>\n",
       "      <td>108.127111</td>\n",
       "      <td>22</td>\n",
       "      <td>21.115313</td>\n",
       "      <td>6.018627</td>\n",
       "      <td>4.551405</td>\n",
       "      <td>NaN</td>\n",
       "      <td>2.951649</td>\n",
       "    </tr>\n",
       "    <tr>\n",
       "      <th>22</th>\n",
       "      <td>Guinea</td>\n",
       "      <td>GIN</td>\n",
       "      <td>NaN</td>\n",
       "      <td>NaN</td>\n",
       "      <td>83.179825</td>\n",
       "      <td>NaN</td>\n",
       "      <td>NaN</td>\n",
       "      <td>23</td>\n",
       "      <td>NaN</td>\n",
       "      <td>NaN</td>\n",
       "      <td>4.385624</td>\n",
       "      <td>NaN</td>\n",
       "      <td>NaN</td>\n",
       "    </tr>\n",
       "    <tr>\n",
       "      <th>23</th>\n",
       "      <td>Cameroon</td>\n",
       "      <td>CMR</td>\n",
       "      <td>399.099470</td>\n",
       "      <td>18.704093</td>\n",
       "      <td>82.732394</td>\n",
       "      <td>NaN</td>\n",
       "      <td>104.161415</td>\n",
       "      <td>24</td>\n",
       "      <td>34.467323</td>\n",
       "      <td>7.181028</td>\n",
       "      <td>3.048801</td>\n",
       "      <td>NaN</td>\n",
       "      <td>4.973351</td>\n",
       "    </tr>\n",
       "  </tbody>\n",
       "</table>\n",
       "</div>"
      ],
      "text/plain": [
       "                Country_Name Country_Code  Energy_Use  Energy_Use_FF  \\\n",
       "0           Congo, Dem. Rep.          COD  322.581246       7.328961   \n",
       "1                   Ethiopia          ETH  479.049078       3.599869   \n",
       "2                     Uganda          UGA         NaN            NaN   \n",
       "3                    Burundi          BDI         NaN            NaN   \n",
       "4                    Somalia          SOM         NaN            NaN   \n",
       "5                     Bhutan          BTN  277.925733       0.000000   \n",
       "6                   Tanzania          TZA  432.363000       8.675362   \n",
       "7                 Mozambique          MOZ  489.044185       8.005682   \n",
       "8                       Chad          TCD         NaN            NaN   \n",
       "9                      Nepal          NPL  326.278235       7.160610   \n",
       "10             Guinea-Bissau          GNB   67.864637       0.000000   \n",
       "11                   Liberia          LBR         NaN            NaN   \n",
       "12  Central African Republic          CAF         NaN            NaN   \n",
       "13                    Zambia          ZMB  697.211345      15.795215   \n",
       "14                    Rwanda          RWA         NaN            NaN   \n",
       "15              Sierra Leone          SLE         NaN            NaN   \n",
       "16              Burkina Faso          BFA         NaN            NaN   \n",
       "17                   Nigeria          NGA  694.826551      17.919035   \n",
       "18                Madagascar          MDG         NaN            NaN   \n",
       "19                     Niger          NER  131.096027      18.271537   \n",
       "20                      Mali          MLI         NaN            NaN   \n",
       "21                   Myanmar          MMR  280.485693      21.753235   \n",
       "22                    Guinea          GIN         NaN            NaN   \n",
       "23                  Cameroon          CMR  399.099470      18.704093   \n",
       "\n",
       "    Energy_Use_RNEW  Cooling_Deg_Days       Total  Green_Rank  Energy_Use_sd  \\\n",
       "0         96.485776               NaN  100.716092           1      21.183629   \n",
       "1         95.044398               NaN   99.107936           2       5.738308   \n",
       "2         94.569601               NaN         NaN           3            NaN   \n",
       "3         94.342457               NaN         NaN           4            NaN   \n",
       "4         92.145529               NaN         NaN           5            NaN   \n",
       "5         92.010238               NaN   93.003530           6     101.093489   \n",
       "6         91.221632               NaN  100.113443           7      47.949898   \n",
       "7         90.802197               NaN   97.607114           8     100.018262   \n",
       "8         90.031626               NaN         NaN           9            NaN   \n",
       "9         89.926958               NaN  100.126070          10      34.007414   \n",
       "10        88.649094               NaN   88.370262          11       4.939277   \n",
       "11        88.640557               NaN         NaN          12            NaN   \n",
       "12        88.396211               NaN         NaN          13            NaN   \n",
       "13        87.892948               NaN   98.449266          14      92.585850   \n",
       "14        87.441393               NaN         NaN          15            NaN   \n",
       "15        86.892168               NaN         NaN          16            NaN   \n",
       "16        85.694836               NaN         NaN          17            NaN   \n",
       "17        85.683643               NaN  105.030741          18      53.605510   \n",
       "18        83.692361               NaN         NaN          19            NaN   \n",
       "19        83.657840               NaN  101.929377          20       9.898906   \n",
       "20        83.469559               NaN         NaN          21            NaN   \n",
       "21        83.458597               NaN  108.127111          22      21.115313   \n",
       "22        83.179825               NaN         NaN          23            NaN   \n",
       "23        82.732394               NaN  104.161415          24      34.467323   \n",
       "\n",
       "    Energy_Use_FF_sd  Energy_Use_RNEW_sd  Cooling_Deg_Days_sd  Total_sd  \n",
       "0           4.106999            1.574472                  NaN  1.681740  \n",
       "1           0.922344            1.589799                  NaN  0.682511  \n",
       "2                NaN            1.322800                  NaN       NaN  \n",
       "3                NaN            1.529989                  NaN       NaN  \n",
       "4                NaN            2.062299                  NaN       NaN  \n",
       "5           0.000000            2.652047                  NaN  1.761327  \n",
       "6           2.220142            3.410659                  NaN  1.052057  \n",
       "7           2.311523            3.714195                  NaN  2.477294  \n",
       "8                NaN            6.886575                  NaN       NaN  \n",
       "9           4.122221            2.871222                  NaN  0.232714  \n",
       "10          0.000000            1.055867                  NaN  0.285116  \n",
       "11               NaN            1.909477                  NaN       NaN  \n",
       "12               NaN            3.618127                  NaN       NaN  \n",
       "13          6.992691            2.513125                  NaN  0.769297  \n",
       "14               NaN            3.746953                  NaN       NaN  \n",
       "15               NaN            4.853873                  NaN       NaN  \n",
       "16               NaN            6.130641                  NaN       NaN  \n",
       "17          4.101348            1.989633                  NaN  2.018790  \n",
       "18               NaN            3.003443                  NaN       NaN  \n",
       "19          5.404346            4.913610                  NaN  1.181778  \n",
       "20               NaN            3.987323                  NaN       NaN  \n",
       "21          6.018627            4.551405                  NaN  2.951649  \n",
       "22               NaN            4.385624                  NaN       NaN  \n",
       "23          7.181028            3.048801                  NaN  4.973351  "
      ]
     },
     "metadata": {},
     "output_type": "display_data"
    },
    {
     "data": {
      "text/html": [
       "<div>\n",
       "<style scoped>\n",
       "    .dataframe tbody tr th:only-of-type {\n",
       "        vertical-align: middle;\n",
       "    }\n",
       "\n",
       "    .dataframe tbody tr th {\n",
       "        vertical-align: top;\n",
       "    }\n",
       "\n",
       "    .dataframe thead th {\n",
       "        text-align: right;\n",
       "    }\n",
       "</style>\n",
       "<table border=\"1\" class=\"dataframe\">\n",
       "  <thead>\n",
       "    <tr style=\"text-align: right;\">\n",
       "      <th></th>\n",
       "      <th>Country_Name</th>\n",
       "      <th>Country_Code</th>\n",
       "      <th>Energy_Use</th>\n",
       "      <th>Energy_Use_FF</th>\n",
       "      <th>Energy_Use_RNEW</th>\n",
       "      <th>Cooling_Deg_Days</th>\n",
       "      <th>Total</th>\n",
       "      <th>Green_Rank</th>\n",
       "      <th>Energy_Use_sd</th>\n",
       "      <th>Energy_Use_FF_sd</th>\n",
       "      <th>Energy_Use_RNEW_sd</th>\n",
       "      <th>Cooling_Deg_Days_sd</th>\n",
       "      <th>Total_sd</th>\n",
       "    </tr>\n",
       "  </thead>\n",
       "  <tbody>\n",
       "    <tr>\n",
       "      <th>190</th>\n",
       "      <td>Qatar</td>\n",
       "      <td>QAT</td>\n",
       "      <td>15441.892937</td>\n",
       "      <td>99.999786</td>\n",
       "      <td>0.000000</td>\n",
       "      <td>NaN</td>\n",
       "      <td>99.999684</td>\n",
       "      <td>191</td>\n",
       "      <td>3694.539700</td>\n",
       "      <td>0.001014</td>\n",
       "      <td>0.000000</td>\n",
       "      <td>NaN</td>\n",
       "      <td>0.001242</td>\n",
       "    </tr>\n",
       "    <tr>\n",
       "      <th>189</th>\n",
       "      <td>Bahrain</td>\n",
       "      <td>BHR</td>\n",
       "      <td>10070.710597</td>\n",
       "      <td>99.774828</td>\n",
       "      <td>0.000000</td>\n",
       "      <td>NaN</td>\n",
       "      <td>99.530904</td>\n",
       "      <td>190</td>\n",
       "      <td>1544.866472</td>\n",
       "      <td>0.511989</td>\n",
       "      <td>0.000000</td>\n",
       "      <td>NaN</td>\n",
       "      <td>0.668658</td>\n",
       "    </tr>\n",
       "    <tr>\n",
       "      <th>43</th>\n",
       "      <td>Iceland</td>\n",
       "      <td>ISL</td>\n",
       "      <td>9576.673511</td>\n",
       "      <td>29.307254</td>\n",
       "      <td>63.350993</td>\n",
       "      <td>NaN</td>\n",
       "      <td>85.047067</td>\n",
       "      <td>44</td>\n",
       "      <td>4079.772225</td>\n",
       "      <td>12.024572</td>\n",
       "      <td>8.631061</td>\n",
       "      <td>NaN</td>\n",
       "      <td>1.473598</td>\n",
       "    </tr>\n",
       "    <tr>\n",
       "      <th>154</th>\n",
       "      <td>Luxembourg</td>\n",
       "      <td>LUX</td>\n",
       "      <td>8924.329306</td>\n",
       "      <td>89.240654</td>\n",
       "      <td>3.516024</td>\n",
       "      <td>NaN</td>\n",
       "      <td>90.728829</td>\n",
       "      <td>155</td>\n",
       "      <td>1493.216692</td>\n",
       "      <td>3.617031</td>\n",
       "      <td>1.772598</td>\n",
       "      <td>NaN</td>\n",
       "      <td>1.307668</td>\n",
       "    </tr>\n",
       "    <tr>\n",
       "      <th>183</th>\n",
       "      <td>Kuwait</td>\n",
       "      <td>KWT</td>\n",
       "      <td>8643.283955</td>\n",
       "      <td>99.387805</td>\n",
       "      <td>0.039103</td>\n",
       "      <td>NaN</td>\n",
       "      <td>98.895617</td>\n",
       "      <td>184</td>\n",
       "      <td>2007.377500</td>\n",
       "      <td>1.733045</td>\n",
       "      <td>0.083198</td>\n",
       "      <td>NaN</td>\n",
       "      <td>2.379600</td>\n",
       "    </tr>\n",
       "    <tr>\n",
       "      <th>179</th>\n",
       "      <td>United Arab Emirates</td>\n",
       "      <td>ARE</td>\n",
       "      <td>8638.522628</td>\n",
       "      <td>98.956445</td>\n",
       "      <td>0.094459</td>\n",
       "      <td>NaN</td>\n",
       "      <td>98.294970</td>\n",
       "      <td>180</td>\n",
       "      <td>2791.653089</td>\n",
       "      <td>3.115434</td>\n",
       "      <td>0.040304</td>\n",
       "      <td>NaN</td>\n",
       "      <td>3.949404</td>\n",
       "    </tr>\n",
       "    <tr>\n",
       "      <th>101</th>\n",
       "      <td>Canada</td>\n",
       "      <td>CAN</td>\n",
       "      <td>7726.898005</td>\n",
       "      <td>76.622893</td>\n",
       "      <td>21.865637</td>\n",
       "      <td>NaN</td>\n",
       "      <td>96.299874</td>\n",
       "      <td>102</td>\n",
       "      <td>436.677357</td>\n",
       "      <td>3.677471</td>\n",
       "      <td>0.323795</td>\n",
       "      <td>NaN</td>\n",
       "      <td>1.275848</td>\n",
       "    </tr>\n",
       "    <tr>\n",
       "      <th>147</th>\n",
       "      <td>United States</td>\n",
       "      <td>USA</td>\n",
       "      <td>7680.566271</td>\n",
       "      <td>87.818578</td>\n",
       "      <td>5.895700</td>\n",
       "      <td>NaN</td>\n",
       "      <td>91.241169</td>\n",
       "      <td>148</td>\n",
       "      <td>372.046761</td>\n",
       "      <td>3.513642</td>\n",
       "      <td>1.619501</td>\n",
       "      <td>NaN</td>\n",
       "      <td>0.727531</td>\n",
       "    </tr>\n",
       "    <tr>\n",
       "      <th>175</th>\n",
       "      <td>Trinidad and Tobago</td>\n",
       "      <td>TTO</td>\n",
       "      <td>7049.564023</td>\n",
       "      <td>99.307566</td>\n",
       "      <td>0.758627</td>\n",
       "      <td>NaN</td>\n",
       "      <td>100.342714</td>\n",
       "      <td>176</td>\n",
       "      <td>4411.539154</td>\n",
       "      <td>0.451497</td>\n",
       "      <td>0.345336</td>\n",
       "      <td>NaN</td>\n",
       "      <td>0.092677</td>\n",
       "    </tr>\n",
       "    <tr>\n",
       "      <th>182</th>\n",
       "      <td>Brunei Darussalam</td>\n",
       "      <td>BRN</td>\n",
       "      <td>6687.948033</td>\n",
       "      <td>98.978360</td>\n",
       "      <td>0.054712</td>\n",
       "      <td>NaN</td>\n",
       "      <td>100.073433</td>\n",
       "      <td>183</td>\n",
       "      <td>1843.387940</td>\n",
       "      <td>2.145933</td>\n",
       "      <td>0.158952</td>\n",
       "      <td>NaN</td>\n",
       "      <td>0.161730</td>\n",
       "    </tr>\n",
       "    <tr>\n",
       "      <th>87</th>\n",
       "      <td>Finland</td>\n",
       "      <td>FIN</td>\n",
       "      <td>5697.088106</td>\n",
       "      <td>57.663788</td>\n",
       "      <td>30.710823</td>\n",
       "      <td>NaN</td>\n",
       "      <td>81.573710</td>\n",
       "      <td>88</td>\n",
       "      <td>894.162952</td>\n",
       "      <td>10.294769</td>\n",
       "      <td>4.550608</td>\n",
       "      <td>NaN</td>\n",
       "      <td>1.237910</td>\n",
       "    </tr>\n",
       "    <tr>\n",
       "      <th>69</th>\n",
       "      <td>Sweden</td>\n",
       "      <td>SWE</td>\n",
       "      <td>5336.139330</td>\n",
       "      <td>44.916760</td>\n",
       "      <td>39.003555</td>\n",
       "      <td>NaN</td>\n",
       "      <td>73.580885</td>\n",
       "      <td>70</td>\n",
       "      <td>399.530272</td>\n",
       "      <td>15.321443</td>\n",
       "      <td>5.938351</td>\n",
       "      <td>NaN</td>\n",
       "      <td>4.084587</td>\n",
       "    </tr>\n",
       "    <tr>\n",
       "      <th>46</th>\n",
       "      <td>Norway</td>\n",
       "      <td>NOR</td>\n",
       "      <td>5124.118566</td>\n",
       "      <td>56.204128</td>\n",
       "      <td>58.585260</td>\n",
       "      <td>NaN</td>\n",
       "      <td>114.783323</td>\n",
       "      <td>47</td>\n",
       "      <td>892.221388</td>\n",
       "      <td>3.127539</td>\n",
       "      <td>1.576039</td>\n",
       "      <td>NaN</td>\n",
       "      <td>2.517087</td>\n",
       "    </tr>\n",
       "    <tr>\n",
       "      <th>134</th>\n",
       "      <td>Australia</td>\n",
       "      <td>AUS</td>\n",
       "      <td>5080.329509</td>\n",
       "      <td>93.482405</td>\n",
       "      <td>8.041881</td>\n",
       "      <td>NaN</td>\n",
       "      <td>102.145256</td>\n",
       "      <td>135</td>\n",
       "      <td>541.665264</td>\n",
       "      <td>1.358575</td>\n",
       "      <td>0.823707</td>\n",
       "      <td>NaN</td>\n",
       "      <td>1.500673</td>\n",
       "    </tr>\n",
       "    <tr>\n",
       "      <th>156</th>\n",
       "      <td>Belgium</td>\n",
       "      <td>BEL</td>\n",
       "      <td>4978.909311</td>\n",
       "      <td>79.660758</td>\n",
       "      <td>3.010412</td>\n",
       "      <td>NaN</td>\n",
       "      <td>77.681004</td>\n",
       "      <td>157</td>\n",
       "      <td>465.557070</td>\n",
       "      <td>8.255295</td>\n",
       "      <td>2.527402</td>\n",
       "      <td>NaN</td>\n",
       "      <td>1.193720</td>\n",
       "    </tr>\n",
       "    <tr>\n",
       "      <th>187</th>\n",
       "      <td>Palau</td>\n",
       "      <td>PLW</td>\n",
       "      <td>4877.028215</td>\n",
       "      <td>0.000000</td>\n",
       "      <td>0.000696</td>\n",
       "      <td>NaN</td>\n",
       "      <td>NaN</td>\n",
       "      <td>188</td>\n",
       "      <td>NaN</td>\n",
       "      <td>NaN</td>\n",
       "      <td>0.003336</td>\n",
       "      <td>NaN</td>\n",
       "      <td>NaN</td>\n",
       "    </tr>\n",
       "    <tr>\n",
       "      <th>153</th>\n",
       "      <td>Russian Federation</td>\n",
       "      <td>RUS</td>\n",
       "      <td>4699.699520</td>\n",
       "      <td>91.430125</td>\n",
       "      <td>3.596720</td>\n",
       "      <td>NaN</td>\n",
       "      <td>95.026845</td>\n",
       "      <td>154</td>\n",
       "      <td>517.824790</td>\n",
       "      <td>1.015863</td>\n",
       "      <td>0.230600</td>\n",
       "      <td>NaN</td>\n",
       "      <td>1.157174</td>\n",
       "    </tr>\n",
       "    <tr>\n",
       "      <th>158</th>\n",
       "      <td>Netherlands</td>\n",
       "      <td>NLD</td>\n",
       "      <td>4582.686769</td>\n",
       "      <td>95.851051</td>\n",
       "      <td>2.586528</td>\n",
       "      <td>NaN</td>\n",
       "      <td>96.822976</td>\n",
       "      <td>159</td>\n",
       "      <td>316.464551</td>\n",
       "      <td>2.509939</td>\n",
       "      <td>1.450301</td>\n",
       "      <td>NaN</td>\n",
       "      <td>1.048975</td>\n",
       "    </tr>\n",
       "    <tr>\n",
       "      <th>136</th>\n",
       "      <td>Czech Republic</td>\n",
       "      <td>CZE</td>\n",
       "      <td>4378.498453</td>\n",
       "      <td>90.549967</td>\n",
       "      <td>7.795413</td>\n",
       "      <td>NaN</td>\n",
       "      <td>93.033826</td>\n",
       "      <td>137</td>\n",
       "      <td>303.875868</td>\n",
       "      <td>7.694051</td>\n",
       "      <td>3.050039</td>\n",
       "      <td>NaN</td>\n",
       "      <td>2.258510</td>\n",
       "    </tr>\n",
       "  </tbody>\n",
       "</table>\n",
       "</div>"
      ],
      "text/plain": [
       "             Country_Name Country_Code    Energy_Use  Energy_Use_FF  \\\n",
       "190                 Qatar          QAT  15441.892937      99.999786   \n",
       "189               Bahrain          BHR  10070.710597      99.774828   \n",
       "43                Iceland          ISL   9576.673511      29.307254   \n",
       "154            Luxembourg          LUX   8924.329306      89.240654   \n",
       "183                Kuwait          KWT   8643.283955      99.387805   \n",
       "179  United Arab Emirates          ARE   8638.522628      98.956445   \n",
       "101                Canada          CAN   7726.898005      76.622893   \n",
       "147         United States          USA   7680.566271      87.818578   \n",
       "175   Trinidad and Tobago          TTO   7049.564023      99.307566   \n",
       "182     Brunei Darussalam          BRN   6687.948033      98.978360   \n",
       "87                Finland          FIN   5697.088106      57.663788   \n",
       "69                 Sweden          SWE   5336.139330      44.916760   \n",
       "46                 Norway          NOR   5124.118566      56.204128   \n",
       "134             Australia          AUS   5080.329509      93.482405   \n",
       "156               Belgium          BEL   4978.909311      79.660758   \n",
       "187                 Palau          PLW   4877.028215       0.000000   \n",
       "153    Russian Federation          RUS   4699.699520      91.430125   \n",
       "158           Netherlands          NLD   4582.686769      95.851051   \n",
       "136        Czech Republic          CZE   4378.498453      90.549967   \n",
       "\n",
       "     Energy_Use_RNEW  Cooling_Deg_Days       Total  Green_Rank  Energy_Use_sd  \\\n",
       "190         0.000000               NaN   99.999684         191    3694.539700   \n",
       "189         0.000000               NaN   99.530904         190    1544.866472   \n",
       "43         63.350993               NaN   85.047067          44    4079.772225   \n",
       "154         3.516024               NaN   90.728829         155    1493.216692   \n",
       "183         0.039103               NaN   98.895617         184    2007.377500   \n",
       "179         0.094459               NaN   98.294970         180    2791.653089   \n",
       "101        21.865637               NaN   96.299874         102     436.677357   \n",
       "147         5.895700               NaN   91.241169         148     372.046761   \n",
       "175         0.758627               NaN  100.342714         176    4411.539154   \n",
       "182         0.054712               NaN  100.073433         183    1843.387940   \n",
       "87         30.710823               NaN   81.573710          88     894.162952   \n",
       "69         39.003555               NaN   73.580885          70     399.530272   \n",
       "46         58.585260               NaN  114.783323          47     892.221388   \n",
       "134         8.041881               NaN  102.145256         135     541.665264   \n",
       "156         3.010412               NaN   77.681004         157     465.557070   \n",
       "187         0.000696               NaN         NaN         188            NaN   \n",
       "153         3.596720               NaN   95.026845         154     517.824790   \n",
       "158         2.586528               NaN   96.822976         159     316.464551   \n",
       "136         7.795413               NaN   93.033826         137     303.875868   \n",
       "\n",
       "     Energy_Use_FF_sd  Energy_Use_RNEW_sd  Cooling_Deg_Days_sd  Total_sd  \n",
       "190          0.001014            0.000000                  NaN  0.001242  \n",
       "189          0.511989            0.000000                  NaN  0.668658  \n",
       "43          12.024572            8.631061                  NaN  1.473598  \n",
       "154          3.617031            1.772598                  NaN  1.307668  \n",
       "183          1.733045            0.083198                  NaN  2.379600  \n",
       "179          3.115434            0.040304                  NaN  3.949404  \n",
       "101          3.677471            0.323795                  NaN  1.275848  \n",
       "147          3.513642            1.619501                  NaN  0.727531  \n",
       "175          0.451497            0.345336                  NaN  0.092677  \n",
       "182          2.145933            0.158952                  NaN  0.161730  \n",
       "87          10.294769            4.550608                  NaN  1.237910  \n",
       "69          15.321443            5.938351                  NaN  4.084587  \n",
       "46           3.127539            1.576039                  NaN  2.517087  \n",
       "134          1.358575            0.823707                  NaN  1.500673  \n",
       "156          8.255295            2.527402                  NaN  1.193720  \n",
       "187               NaN            0.003336                  NaN       NaN  \n",
       "153          1.015863            0.230600                  NaN  1.157174  \n",
       "158          2.509939            1.450301                  NaN  1.048975  \n",
       "136          7.694051            3.050039                  NaN  2.258510  "
      ]
     },
     "metadata": {},
     "output_type": "display_data"
    }
   ],
   "source": [
    "# Top 25 Green Ranks \n",
    "green_Top25 = Avg.sort_values(by='Green_Rank')[0:24]\n",
    "display(green_Top25)\n",
    "\n",
    "\n",
    "# Top 20 Energy Users \n",
    "energyUse_Top20 = Avg.sort_values(by='Energy_Use', ascending=False)[0:19]\n",
    "display(energyUse_Top20)\n",
    "\n",
    "## Top 20 average energy consumers have poor green ranking\n"
   ]
  },
  {
   "cell_type": "markdown",
   "id": "7bb19833",
   "metadata": {},
   "source": [
    "### Visualizations"
   ]
  },
  {
   "cell_type": "markdown",
   "id": "28765017",
   "metadata": {},
   "source": [
    "#### Bar plot for the Top 20 average energy consumers with ranking"
   ]
  },
  {
   "cell_type": "code",
   "execution_count": 192,
   "id": "d80c56b5",
   "metadata": {},
   "outputs": [
    {
     "data": {
      "application/vnd.plotly.v1+json": {
       "config": {
        "plotlyServerURL": "https://plot.ly"
       },
       "data": [
        {
         "alignmentgroup": "True",
         "cliponaxis": false,
         "hovertemplate": "Energy Use (kg of oil equivalent per capita)=%{x}<br>Country=%{y}<br>Green_Rank=%{text}<br>Renewable Energy Proportion=%{marker.color}<extra></extra>",
         "legendgroup": "",
         "marker": {
          "color": [
           7.795413288823117,
           2.5865276199901825,
           3.596719766122659,
           0.0006956522069547479,
           3.0104121820810734,
           8.041881094454332,
           58.5852596366539,
           39.00355467264554,
           30.71082333992537,
           0.054711561470665,
           0.7586265466607796,
           5.895700103338036,
           21.86563653105499,
           0.0944592643446161,
           0.03910271851872837,
           3.5160238951007035,
           63.35099307457726,
           0,
           0
          ],
          "coloraxis": "coloraxis",
          "pattern": {
           "shape": ""
          }
         },
         "name": "",
         "offsetgroup": "",
         "orientation": "h",
         "showlegend": false,
         "text": [
          137,
          159,
          154,
          188,
          157,
          135,
          47,
          70,
          88,
          183,
          176,
          148,
          102,
          180,
          184,
          155,
          44,
          190,
          191
         ],
         "textangle": 0,
         "textfont": {
          "size": 12
         },
         "textposition": "outside",
         "type": "bar",
         "x": [
          4378.498452721128,
          4582.686768616392,
          4699.699519770714,
          4877.02821483104,
          4978.90931077858,
          5080.329509445203,
          5124.118565773161,
          5336.13933025628,
          5697.088105741966,
          6687.948032926622,
          7049.564023400937,
          7680.566271239265,
          7726.898005460598,
          8638.522627859145,
          8643.283954777195,
          8924.329305976862,
          9576.673510881157,
          10070.710597386458,
          15441.89293727674
         ],
         "xaxis": "x",
         "y": [
          "Czech Republic",
          "Netherlands",
          "Russian Federation",
          "Palau",
          "Belgium",
          "Australia",
          "Norway",
          "Sweden",
          "Finland",
          "Brunei Darussalam",
          "Trinidad and Tobago",
          "United States",
          "Canada",
          "United Arab Emirates",
          "Kuwait",
          "Luxembourg",
          "Iceland",
          "Bahrain",
          "Qatar"
         ],
         "yaxis": "y"
        }
       ],
       "layout": {
        "barmode": "relative",
        "coloraxis": {
         "cmax": 100,
         "cmin": 0,
         "colorbar": {
          "title": {
           "text": "Renewable Energy Proportion"
          }
         },
         "colorscale": [
          [
           0,
           "rgb(247,252,245)"
          ],
          [
           0.125,
           "rgb(229,245,224)"
          ],
          [
           0.25,
           "rgb(199,233,192)"
          ],
          [
           0.375,
           "rgb(161,217,155)"
          ],
          [
           0.5,
           "rgb(116,196,118)"
          ],
          [
           0.625,
           "rgb(65,171,93)"
          ],
          [
           0.75,
           "rgb(35,139,69)"
          ],
          [
           0.875,
           "rgb(0,109,44)"
          ],
          [
           1,
           "rgb(0,68,27)"
          ]
         ]
        },
        "legend": {
         "tracegroupgap": 0
        },
        "template": {
         "data": {
          "bar": [
           {
            "error_x": {
             "color": "#2a3f5f"
            },
            "error_y": {
             "color": "#2a3f5f"
            },
            "marker": {
             "line": {
              "color": "#E5ECF6",
              "width": 0.5
             },
             "pattern": {
              "fillmode": "overlay",
              "size": 10,
              "solidity": 0.2
             }
            },
            "type": "bar"
           }
          ],
          "barpolar": [
           {
            "marker": {
             "line": {
              "color": "#E5ECF6",
              "width": 0.5
             },
             "pattern": {
              "fillmode": "overlay",
              "size": 10,
              "solidity": 0.2
             }
            },
            "type": "barpolar"
           }
          ],
          "carpet": [
           {
            "aaxis": {
             "endlinecolor": "#2a3f5f",
             "gridcolor": "white",
             "linecolor": "white",
             "minorgridcolor": "white",
             "startlinecolor": "#2a3f5f"
            },
            "baxis": {
             "endlinecolor": "#2a3f5f",
             "gridcolor": "white",
             "linecolor": "white",
             "minorgridcolor": "white",
             "startlinecolor": "#2a3f5f"
            },
            "type": "carpet"
           }
          ],
          "choropleth": [
           {
            "colorbar": {
             "outlinewidth": 0,
             "ticks": ""
            },
            "type": "choropleth"
           }
          ],
          "contour": [
           {
            "colorbar": {
             "outlinewidth": 0,
             "ticks": ""
            },
            "colorscale": [
             [
              0,
              "#0d0887"
             ],
             [
              0.1111111111111111,
              "#46039f"
             ],
             [
              0.2222222222222222,
              "#7201a8"
             ],
             [
              0.3333333333333333,
              "#9c179e"
             ],
             [
              0.4444444444444444,
              "#bd3786"
             ],
             [
              0.5555555555555556,
              "#d8576b"
             ],
             [
              0.6666666666666666,
              "#ed7953"
             ],
             [
              0.7777777777777778,
              "#fb9f3a"
             ],
             [
              0.8888888888888888,
              "#fdca26"
             ],
             [
              1,
              "#f0f921"
             ]
            ],
            "type": "contour"
           }
          ],
          "contourcarpet": [
           {
            "colorbar": {
             "outlinewidth": 0,
             "ticks": ""
            },
            "type": "contourcarpet"
           }
          ],
          "heatmap": [
           {
            "colorbar": {
             "outlinewidth": 0,
             "ticks": ""
            },
            "colorscale": [
             [
              0,
              "#0d0887"
             ],
             [
              0.1111111111111111,
              "#46039f"
             ],
             [
              0.2222222222222222,
              "#7201a8"
             ],
             [
              0.3333333333333333,
              "#9c179e"
             ],
             [
              0.4444444444444444,
              "#bd3786"
             ],
             [
              0.5555555555555556,
              "#d8576b"
             ],
             [
              0.6666666666666666,
              "#ed7953"
             ],
             [
              0.7777777777777778,
              "#fb9f3a"
             ],
             [
              0.8888888888888888,
              "#fdca26"
             ],
             [
              1,
              "#f0f921"
             ]
            ],
            "type": "heatmap"
           }
          ],
          "heatmapgl": [
           {
            "colorbar": {
             "outlinewidth": 0,
             "ticks": ""
            },
            "colorscale": [
             [
              0,
              "#0d0887"
             ],
             [
              0.1111111111111111,
              "#46039f"
             ],
             [
              0.2222222222222222,
              "#7201a8"
             ],
             [
              0.3333333333333333,
              "#9c179e"
             ],
             [
              0.4444444444444444,
              "#bd3786"
             ],
             [
              0.5555555555555556,
              "#d8576b"
             ],
             [
              0.6666666666666666,
              "#ed7953"
             ],
             [
              0.7777777777777778,
              "#fb9f3a"
             ],
             [
              0.8888888888888888,
              "#fdca26"
             ],
             [
              1,
              "#f0f921"
             ]
            ],
            "type": "heatmapgl"
           }
          ],
          "histogram": [
           {
            "marker": {
             "pattern": {
              "fillmode": "overlay",
              "size": 10,
              "solidity": 0.2
             }
            },
            "type": "histogram"
           }
          ],
          "histogram2d": [
           {
            "colorbar": {
             "outlinewidth": 0,
             "ticks": ""
            },
            "colorscale": [
             [
              0,
              "#0d0887"
             ],
             [
              0.1111111111111111,
              "#46039f"
             ],
             [
              0.2222222222222222,
              "#7201a8"
             ],
             [
              0.3333333333333333,
              "#9c179e"
             ],
             [
              0.4444444444444444,
              "#bd3786"
             ],
             [
              0.5555555555555556,
              "#d8576b"
             ],
             [
              0.6666666666666666,
              "#ed7953"
             ],
             [
              0.7777777777777778,
              "#fb9f3a"
             ],
             [
              0.8888888888888888,
              "#fdca26"
             ],
             [
              1,
              "#f0f921"
             ]
            ],
            "type": "histogram2d"
           }
          ],
          "histogram2dcontour": [
           {
            "colorbar": {
             "outlinewidth": 0,
             "ticks": ""
            },
            "colorscale": [
             [
              0,
              "#0d0887"
             ],
             [
              0.1111111111111111,
              "#46039f"
             ],
             [
              0.2222222222222222,
              "#7201a8"
             ],
             [
              0.3333333333333333,
              "#9c179e"
             ],
             [
              0.4444444444444444,
              "#bd3786"
             ],
             [
              0.5555555555555556,
              "#d8576b"
             ],
             [
              0.6666666666666666,
              "#ed7953"
             ],
             [
              0.7777777777777778,
              "#fb9f3a"
             ],
             [
              0.8888888888888888,
              "#fdca26"
             ],
             [
              1,
              "#f0f921"
             ]
            ],
            "type": "histogram2dcontour"
           }
          ],
          "mesh3d": [
           {
            "colorbar": {
             "outlinewidth": 0,
             "ticks": ""
            },
            "type": "mesh3d"
           }
          ],
          "parcoords": [
           {
            "line": {
             "colorbar": {
              "outlinewidth": 0,
              "ticks": ""
             }
            },
            "type": "parcoords"
           }
          ],
          "pie": [
           {
            "automargin": true,
            "type": "pie"
           }
          ],
          "scatter": [
           {
            "marker": {
             "colorbar": {
              "outlinewidth": 0,
              "ticks": ""
             }
            },
            "type": "scatter"
           }
          ],
          "scatter3d": [
           {
            "line": {
             "colorbar": {
              "outlinewidth": 0,
              "ticks": ""
             }
            },
            "marker": {
             "colorbar": {
              "outlinewidth": 0,
              "ticks": ""
             }
            },
            "type": "scatter3d"
           }
          ],
          "scattercarpet": [
           {
            "marker": {
             "colorbar": {
              "outlinewidth": 0,
              "ticks": ""
             }
            },
            "type": "scattercarpet"
           }
          ],
          "scattergeo": [
           {
            "marker": {
             "colorbar": {
              "outlinewidth": 0,
              "ticks": ""
             }
            },
            "type": "scattergeo"
           }
          ],
          "scattergl": [
           {
            "marker": {
             "colorbar": {
              "outlinewidth": 0,
              "ticks": ""
             }
            },
            "type": "scattergl"
           }
          ],
          "scattermapbox": [
           {
            "marker": {
             "colorbar": {
              "outlinewidth": 0,
              "ticks": ""
             }
            },
            "type": "scattermapbox"
           }
          ],
          "scatterpolar": [
           {
            "marker": {
             "colorbar": {
              "outlinewidth": 0,
              "ticks": ""
             }
            },
            "type": "scatterpolar"
           }
          ],
          "scatterpolargl": [
           {
            "marker": {
             "colorbar": {
              "outlinewidth": 0,
              "ticks": ""
             }
            },
            "type": "scatterpolargl"
           }
          ],
          "scatterternary": [
           {
            "marker": {
             "colorbar": {
              "outlinewidth": 0,
              "ticks": ""
             }
            },
            "type": "scatterternary"
           }
          ],
          "surface": [
           {
            "colorbar": {
             "outlinewidth": 0,
             "ticks": ""
            },
            "colorscale": [
             [
              0,
              "#0d0887"
             ],
             [
              0.1111111111111111,
              "#46039f"
             ],
             [
              0.2222222222222222,
              "#7201a8"
             ],
             [
              0.3333333333333333,
              "#9c179e"
             ],
             [
              0.4444444444444444,
              "#bd3786"
             ],
             [
              0.5555555555555556,
              "#d8576b"
             ],
             [
              0.6666666666666666,
              "#ed7953"
             ],
             [
              0.7777777777777778,
              "#fb9f3a"
             ],
             [
              0.8888888888888888,
              "#fdca26"
             ],
             [
              1,
              "#f0f921"
             ]
            ],
            "type": "surface"
           }
          ],
          "table": [
           {
            "cells": {
             "fill": {
              "color": "#EBF0F8"
             },
             "line": {
              "color": "white"
             }
            },
            "header": {
             "fill": {
              "color": "#C8D4E3"
             },
             "line": {
              "color": "white"
             }
            },
            "type": "table"
           }
          ]
         },
         "layout": {
          "annotationdefaults": {
           "arrowcolor": "#2a3f5f",
           "arrowhead": 0,
           "arrowwidth": 1
          },
          "autotypenumbers": "strict",
          "coloraxis": {
           "colorbar": {
            "outlinewidth": 0,
            "ticks": ""
           }
          },
          "colorscale": {
           "diverging": [
            [
             0,
             "#8e0152"
            ],
            [
             0.1,
             "#c51b7d"
            ],
            [
             0.2,
             "#de77ae"
            ],
            [
             0.3,
             "#f1b6da"
            ],
            [
             0.4,
             "#fde0ef"
            ],
            [
             0.5,
             "#f7f7f7"
            ],
            [
             0.6,
             "#e6f5d0"
            ],
            [
             0.7,
             "#b8e186"
            ],
            [
             0.8,
             "#7fbc41"
            ],
            [
             0.9,
             "#4d9221"
            ],
            [
             1,
             "#276419"
            ]
           ],
           "sequential": [
            [
             0,
             "#0d0887"
            ],
            [
             0.1111111111111111,
             "#46039f"
            ],
            [
             0.2222222222222222,
             "#7201a8"
            ],
            [
             0.3333333333333333,
             "#9c179e"
            ],
            [
             0.4444444444444444,
             "#bd3786"
            ],
            [
             0.5555555555555556,
             "#d8576b"
            ],
            [
             0.6666666666666666,
             "#ed7953"
            ],
            [
             0.7777777777777778,
             "#fb9f3a"
            ],
            [
             0.8888888888888888,
             "#fdca26"
            ],
            [
             1,
             "#f0f921"
            ]
           ],
           "sequentialminus": [
            [
             0,
             "#0d0887"
            ],
            [
             0.1111111111111111,
             "#46039f"
            ],
            [
             0.2222222222222222,
             "#7201a8"
            ],
            [
             0.3333333333333333,
             "#9c179e"
            ],
            [
             0.4444444444444444,
             "#bd3786"
            ],
            [
             0.5555555555555556,
             "#d8576b"
            ],
            [
             0.6666666666666666,
             "#ed7953"
            ],
            [
             0.7777777777777778,
             "#fb9f3a"
            ],
            [
             0.8888888888888888,
             "#fdca26"
            ],
            [
             1,
             "#f0f921"
            ]
           ]
          },
          "colorway": [
           "#636efa",
           "#EF553B",
           "#00cc96",
           "#ab63fa",
           "#FFA15A",
           "#19d3f3",
           "#FF6692",
           "#B6E880",
           "#FF97FF",
           "#FECB52"
          ],
          "font": {
           "color": "#2a3f5f"
          },
          "geo": {
           "bgcolor": "white",
           "lakecolor": "white",
           "landcolor": "#E5ECF6",
           "showlakes": true,
           "showland": true,
           "subunitcolor": "white"
          },
          "hoverlabel": {
           "align": "left"
          },
          "hovermode": "closest",
          "mapbox": {
           "style": "light"
          },
          "paper_bgcolor": "white",
          "plot_bgcolor": "#E5ECF6",
          "polar": {
           "angularaxis": {
            "gridcolor": "white",
            "linecolor": "white",
            "ticks": ""
           },
           "bgcolor": "#E5ECF6",
           "radialaxis": {
            "gridcolor": "white",
            "linecolor": "white",
            "ticks": ""
           }
          },
          "scene": {
           "xaxis": {
            "backgroundcolor": "#E5ECF6",
            "gridcolor": "white",
            "gridwidth": 2,
            "linecolor": "white",
            "showbackground": true,
            "ticks": "",
            "zerolinecolor": "white"
           },
           "yaxis": {
            "backgroundcolor": "#E5ECF6",
            "gridcolor": "white",
            "gridwidth": 2,
            "linecolor": "white",
            "showbackground": true,
            "ticks": "",
            "zerolinecolor": "white"
           },
           "zaxis": {
            "backgroundcolor": "#E5ECF6",
            "gridcolor": "white",
            "gridwidth": 2,
            "linecolor": "white",
            "showbackground": true,
            "ticks": "",
            "zerolinecolor": "white"
           }
          },
          "shapedefaults": {
           "line": {
            "color": "#2a3f5f"
           }
          },
          "ternary": {
           "aaxis": {
            "gridcolor": "white",
            "linecolor": "white",
            "ticks": ""
           },
           "baxis": {
            "gridcolor": "white",
            "linecolor": "white",
            "ticks": ""
           },
           "bgcolor": "#E5ECF6",
           "caxis": {
            "gridcolor": "white",
            "linecolor": "white",
            "ticks": ""
           }
          },
          "title": {
           "x": 0.05
          },
          "xaxis": {
           "automargin": true,
           "gridcolor": "white",
           "linecolor": "white",
           "ticks": "",
           "title": {
            "standoff": 15
           },
           "zerolinecolor": "white",
           "zerolinewidth": 2
          },
          "yaxis": {
           "automargin": true,
           "gridcolor": "white",
           "linecolor": "white",
           "ticks": "",
           "title": {
            "standoff": 15
           },
           "zerolinecolor": "white",
           "zerolinewidth": 2
          }
         }
        },
        "title": {
         "text": "Top 20 Countries with the Highest Average Energy Use Per Capita with Green Ranking <br><sup>Data Aggregated Over the Years 1971-2014 </sup>"
        },
        "xaxis": {
         "anchor": "y",
         "domain": [
          0,
          1
         ],
         "title": {
          "text": "Energy Use (kg of oil equivalent per capita)"
         }
        },
        "yaxis": {
         "anchor": "x",
         "domain": [
          0,
          1
         ],
         "title": {
          "text": "Country"
         }
        }
       }
      },
      "text/html": [
       "<div>                            <div id=\"02463762-52f7-45a8-ba9e-61dbe29f9a18\" class=\"plotly-graph-div\" style=\"height:525px; width:100%;\"></div>            <script type=\"text/javascript\">                require([\"plotly\"], function(Plotly) {                    window.PLOTLYENV=window.PLOTLYENV || {};                                    if (document.getElementById(\"02463762-52f7-45a8-ba9e-61dbe29f9a18\")) {                    Plotly.newPlot(                        \"02463762-52f7-45a8-ba9e-61dbe29f9a18\",                        [{\"alignmentgroup\":\"True\",\"cliponaxis\":false,\"hovertemplate\":\"Energy Use (kg of oil equivalent per capita)=%{x}<br>Country=%{y}<br>Green_Rank=%{text}<br>Renewable Energy Proportion=%{marker.color}<extra></extra>\",\"legendgroup\":\"\",\"marker\":{\"color\":[7.795413288823117,2.5865276199901825,3.596719766122659,0.0006956522069547479,3.0104121820810734,8.041881094454332,58.5852596366539,39.00355467264554,30.71082333992537,0.054711561470665,0.7586265466607796,5.895700103338036,21.86563653105499,0.0944592643446161,0.03910271851872837,3.5160238951007035,63.35099307457726,0.0,0.0],\"coloraxis\":\"coloraxis\",\"pattern\":{\"shape\":\"\"}},\"name\":\"\",\"offsetgroup\":\"\",\"orientation\":\"h\",\"showlegend\":false,\"text\":[137.0,159.0,154.0,188.0,157.0,135.0,47.0,70.0,88.0,183.0,176.0,148.0,102.0,180.0,184.0,155.0,44.0,190.0,191.0],\"textangle\":0,\"textfont\":{\"size\":12},\"textposition\":\"outside\",\"type\":\"bar\",\"x\":[4378.498452721128,4582.686768616392,4699.699519770714,4877.02821483104,4978.90931077858,5080.329509445203,5124.118565773161,5336.13933025628,5697.088105741966,6687.948032926622,7049.564023400937,7680.566271239265,7726.898005460598,8638.522627859145,8643.283954777195,8924.329305976862,9576.673510881157,10070.710597386458,15441.89293727674],\"xaxis\":\"x\",\"y\":[\"Czech Republic\",\"Netherlands\",\"Russian Federation\",\"Palau\",\"Belgium\",\"Australia\",\"Norway\",\"Sweden\",\"Finland\",\"Brunei Darussalam\",\"Trinidad and Tobago\",\"United States\",\"Canada\",\"United Arab Emirates\",\"Kuwait\",\"Luxembourg\",\"Iceland\",\"Bahrain\",\"Qatar\"],\"yaxis\":\"y\"}],                        {\"barmode\":\"relative\",\"coloraxis\":{\"cmax\":100,\"cmin\":0,\"colorbar\":{\"title\":{\"text\":\"Renewable Energy Proportion\"}},\"colorscale\":[[0.0,\"rgb(247,252,245)\"],[0.125,\"rgb(229,245,224)\"],[0.25,\"rgb(199,233,192)\"],[0.375,\"rgb(161,217,155)\"],[0.5,\"rgb(116,196,118)\"],[0.625,\"rgb(65,171,93)\"],[0.75,\"rgb(35,139,69)\"],[0.875,\"rgb(0,109,44)\"],[1.0,\"rgb(0,68,27)\"]]},\"legend\":{\"tracegroupgap\":0},\"template\":{\"data\":{\"bar\":[{\"error_x\":{\"color\":\"#2a3f5f\"},\"error_y\":{\"color\":\"#2a3f5f\"},\"marker\":{\"line\":{\"color\":\"#E5ECF6\",\"width\":0.5},\"pattern\":{\"fillmode\":\"overlay\",\"size\":10,\"solidity\":0.2}},\"type\":\"bar\"}],\"barpolar\":[{\"marker\":{\"line\":{\"color\":\"#E5ECF6\",\"width\":0.5},\"pattern\":{\"fillmode\":\"overlay\",\"size\":10,\"solidity\":0.2}},\"type\":\"barpolar\"}],\"carpet\":[{\"aaxis\":{\"endlinecolor\":\"#2a3f5f\",\"gridcolor\":\"white\",\"linecolor\":\"white\",\"minorgridcolor\":\"white\",\"startlinecolor\":\"#2a3f5f\"},\"baxis\":{\"endlinecolor\":\"#2a3f5f\",\"gridcolor\":\"white\",\"linecolor\":\"white\",\"minorgridcolor\":\"white\",\"startlinecolor\":\"#2a3f5f\"},\"type\":\"carpet\"}],\"choropleth\":[{\"colorbar\":{\"outlinewidth\":0,\"ticks\":\"\"},\"type\":\"choropleth\"}],\"contour\":[{\"colorbar\":{\"outlinewidth\":0,\"ticks\":\"\"},\"colorscale\":[[0.0,\"#0d0887\"],[0.1111111111111111,\"#46039f\"],[0.2222222222222222,\"#7201a8\"],[0.3333333333333333,\"#9c179e\"],[0.4444444444444444,\"#bd3786\"],[0.5555555555555556,\"#d8576b\"],[0.6666666666666666,\"#ed7953\"],[0.7777777777777778,\"#fb9f3a\"],[0.8888888888888888,\"#fdca26\"],[1.0,\"#f0f921\"]],\"type\":\"contour\"}],\"contourcarpet\":[{\"colorbar\":{\"outlinewidth\":0,\"ticks\":\"\"},\"type\":\"contourcarpet\"}],\"heatmap\":[{\"colorbar\":{\"outlinewidth\":0,\"ticks\":\"\"},\"colorscale\":[[0.0,\"#0d0887\"],[0.1111111111111111,\"#46039f\"],[0.2222222222222222,\"#7201a8\"],[0.3333333333333333,\"#9c179e\"],[0.4444444444444444,\"#bd3786\"],[0.5555555555555556,\"#d8576b\"],[0.6666666666666666,\"#ed7953\"],[0.7777777777777778,\"#fb9f3a\"],[0.8888888888888888,\"#fdca26\"],[1.0,\"#f0f921\"]],\"type\":\"heatmap\"}],\"heatmapgl\":[{\"colorbar\":{\"outlinewidth\":0,\"ticks\":\"\"},\"colorscale\":[[0.0,\"#0d0887\"],[0.1111111111111111,\"#46039f\"],[0.2222222222222222,\"#7201a8\"],[0.3333333333333333,\"#9c179e\"],[0.4444444444444444,\"#bd3786\"],[0.5555555555555556,\"#d8576b\"],[0.6666666666666666,\"#ed7953\"],[0.7777777777777778,\"#fb9f3a\"],[0.8888888888888888,\"#fdca26\"],[1.0,\"#f0f921\"]],\"type\":\"heatmapgl\"}],\"histogram\":[{\"marker\":{\"pattern\":{\"fillmode\":\"overlay\",\"size\":10,\"solidity\":0.2}},\"type\":\"histogram\"}],\"histogram2d\":[{\"colorbar\":{\"outlinewidth\":0,\"ticks\":\"\"},\"colorscale\":[[0.0,\"#0d0887\"],[0.1111111111111111,\"#46039f\"],[0.2222222222222222,\"#7201a8\"],[0.3333333333333333,\"#9c179e\"],[0.4444444444444444,\"#bd3786\"],[0.5555555555555556,\"#d8576b\"],[0.6666666666666666,\"#ed7953\"],[0.7777777777777778,\"#fb9f3a\"],[0.8888888888888888,\"#fdca26\"],[1.0,\"#f0f921\"]],\"type\":\"histogram2d\"}],\"histogram2dcontour\":[{\"colorbar\":{\"outlinewidth\":0,\"ticks\":\"\"},\"colorscale\":[[0.0,\"#0d0887\"],[0.1111111111111111,\"#46039f\"],[0.2222222222222222,\"#7201a8\"],[0.3333333333333333,\"#9c179e\"],[0.4444444444444444,\"#bd3786\"],[0.5555555555555556,\"#d8576b\"],[0.6666666666666666,\"#ed7953\"],[0.7777777777777778,\"#fb9f3a\"],[0.8888888888888888,\"#fdca26\"],[1.0,\"#f0f921\"]],\"type\":\"histogram2dcontour\"}],\"mesh3d\":[{\"colorbar\":{\"outlinewidth\":0,\"ticks\":\"\"},\"type\":\"mesh3d\"}],\"parcoords\":[{\"line\":{\"colorbar\":{\"outlinewidth\":0,\"ticks\":\"\"}},\"type\":\"parcoords\"}],\"pie\":[{\"automargin\":true,\"type\":\"pie\"}],\"scatter\":[{\"marker\":{\"colorbar\":{\"outlinewidth\":0,\"ticks\":\"\"}},\"type\":\"scatter\"}],\"scatter3d\":[{\"line\":{\"colorbar\":{\"outlinewidth\":0,\"ticks\":\"\"}},\"marker\":{\"colorbar\":{\"outlinewidth\":0,\"ticks\":\"\"}},\"type\":\"scatter3d\"}],\"scattercarpet\":[{\"marker\":{\"colorbar\":{\"outlinewidth\":0,\"ticks\":\"\"}},\"type\":\"scattercarpet\"}],\"scattergeo\":[{\"marker\":{\"colorbar\":{\"outlinewidth\":0,\"ticks\":\"\"}},\"type\":\"scattergeo\"}],\"scattergl\":[{\"marker\":{\"colorbar\":{\"outlinewidth\":0,\"ticks\":\"\"}},\"type\":\"scattergl\"}],\"scattermapbox\":[{\"marker\":{\"colorbar\":{\"outlinewidth\":0,\"ticks\":\"\"}},\"type\":\"scattermapbox\"}],\"scatterpolar\":[{\"marker\":{\"colorbar\":{\"outlinewidth\":0,\"ticks\":\"\"}},\"type\":\"scatterpolar\"}],\"scatterpolargl\":[{\"marker\":{\"colorbar\":{\"outlinewidth\":0,\"ticks\":\"\"}},\"type\":\"scatterpolargl\"}],\"scatterternary\":[{\"marker\":{\"colorbar\":{\"outlinewidth\":0,\"ticks\":\"\"}},\"type\":\"scatterternary\"}],\"surface\":[{\"colorbar\":{\"outlinewidth\":0,\"ticks\":\"\"},\"colorscale\":[[0.0,\"#0d0887\"],[0.1111111111111111,\"#46039f\"],[0.2222222222222222,\"#7201a8\"],[0.3333333333333333,\"#9c179e\"],[0.4444444444444444,\"#bd3786\"],[0.5555555555555556,\"#d8576b\"],[0.6666666666666666,\"#ed7953\"],[0.7777777777777778,\"#fb9f3a\"],[0.8888888888888888,\"#fdca26\"],[1.0,\"#f0f921\"]],\"type\":\"surface\"}],\"table\":[{\"cells\":{\"fill\":{\"color\":\"#EBF0F8\"},\"line\":{\"color\":\"white\"}},\"header\":{\"fill\":{\"color\":\"#C8D4E3\"},\"line\":{\"color\":\"white\"}},\"type\":\"table\"}]},\"layout\":{\"annotationdefaults\":{\"arrowcolor\":\"#2a3f5f\",\"arrowhead\":0,\"arrowwidth\":1},\"autotypenumbers\":\"strict\",\"coloraxis\":{\"colorbar\":{\"outlinewidth\":0,\"ticks\":\"\"}},\"colorscale\":{\"diverging\":[[0,\"#8e0152\"],[0.1,\"#c51b7d\"],[0.2,\"#de77ae\"],[0.3,\"#f1b6da\"],[0.4,\"#fde0ef\"],[0.5,\"#f7f7f7\"],[0.6,\"#e6f5d0\"],[0.7,\"#b8e186\"],[0.8,\"#7fbc41\"],[0.9,\"#4d9221\"],[1,\"#276419\"]],\"sequential\":[[0.0,\"#0d0887\"],[0.1111111111111111,\"#46039f\"],[0.2222222222222222,\"#7201a8\"],[0.3333333333333333,\"#9c179e\"],[0.4444444444444444,\"#bd3786\"],[0.5555555555555556,\"#d8576b\"],[0.6666666666666666,\"#ed7953\"],[0.7777777777777778,\"#fb9f3a\"],[0.8888888888888888,\"#fdca26\"],[1.0,\"#f0f921\"]],\"sequentialminus\":[[0.0,\"#0d0887\"],[0.1111111111111111,\"#46039f\"],[0.2222222222222222,\"#7201a8\"],[0.3333333333333333,\"#9c179e\"],[0.4444444444444444,\"#bd3786\"],[0.5555555555555556,\"#d8576b\"],[0.6666666666666666,\"#ed7953\"],[0.7777777777777778,\"#fb9f3a\"],[0.8888888888888888,\"#fdca26\"],[1.0,\"#f0f921\"]]},\"colorway\":[\"#636efa\",\"#EF553B\",\"#00cc96\",\"#ab63fa\",\"#FFA15A\",\"#19d3f3\",\"#FF6692\",\"#B6E880\",\"#FF97FF\",\"#FECB52\"],\"font\":{\"color\":\"#2a3f5f\"},\"geo\":{\"bgcolor\":\"white\",\"lakecolor\":\"white\",\"landcolor\":\"#E5ECF6\",\"showlakes\":true,\"showland\":true,\"subunitcolor\":\"white\"},\"hoverlabel\":{\"align\":\"left\"},\"hovermode\":\"closest\",\"mapbox\":{\"style\":\"light\"},\"paper_bgcolor\":\"white\",\"plot_bgcolor\":\"#E5ECF6\",\"polar\":{\"angularaxis\":{\"gridcolor\":\"white\",\"linecolor\":\"white\",\"ticks\":\"\"},\"bgcolor\":\"#E5ECF6\",\"radialaxis\":{\"gridcolor\":\"white\",\"linecolor\":\"white\",\"ticks\":\"\"}},\"scene\":{\"xaxis\":{\"backgroundcolor\":\"#E5ECF6\",\"gridcolor\":\"white\",\"gridwidth\":2,\"linecolor\":\"white\",\"showbackground\":true,\"ticks\":\"\",\"zerolinecolor\":\"white\"},\"yaxis\":{\"backgroundcolor\":\"#E5ECF6\",\"gridcolor\":\"white\",\"gridwidth\":2,\"linecolor\":\"white\",\"showbackground\":true,\"ticks\":\"\",\"zerolinecolor\":\"white\"},\"zaxis\":{\"backgroundcolor\":\"#E5ECF6\",\"gridcolor\":\"white\",\"gridwidth\":2,\"linecolor\":\"white\",\"showbackground\":true,\"ticks\":\"\",\"zerolinecolor\":\"white\"}},\"shapedefaults\":{\"line\":{\"color\":\"#2a3f5f\"}},\"ternary\":{\"aaxis\":{\"gridcolor\":\"white\",\"linecolor\":\"white\",\"ticks\":\"\"},\"baxis\":{\"gridcolor\":\"white\",\"linecolor\":\"white\",\"ticks\":\"\"},\"bgcolor\":\"#E5ECF6\",\"caxis\":{\"gridcolor\":\"white\",\"linecolor\":\"white\",\"ticks\":\"\"}},\"title\":{\"x\":0.05},\"xaxis\":{\"automargin\":true,\"gridcolor\":\"white\",\"linecolor\":\"white\",\"ticks\":\"\",\"title\":{\"standoff\":15},\"zerolinecolor\":\"white\",\"zerolinewidth\":2},\"yaxis\":{\"automargin\":true,\"gridcolor\":\"white\",\"linecolor\":\"white\",\"ticks\":\"\",\"title\":{\"standoff\":15},\"zerolinecolor\":\"white\",\"zerolinewidth\":2}}},\"title\":{\"text\":\"Top 20 Countries with the Highest Average Energy Use Per Capita with Green Ranking <br><sup>Data Aggregated Over the Years 1971-2014 </sup>\"},\"xaxis\":{\"anchor\":\"y\",\"domain\":[0.0,1.0],\"title\":{\"text\":\"Energy Use (kg of oil equivalent per capita)\"}},\"yaxis\":{\"anchor\":\"x\",\"domain\":[0.0,1.0],\"title\":{\"text\":\"Country\"}}},                        {\"responsive\": true}                    ).then(function(){\n",
       "                            \n",
       "var gd = document.getElementById('02463762-52f7-45a8-ba9e-61dbe29f9a18');\n",
       "var x = new MutationObserver(function (mutations, observer) {{\n",
       "        var display = window.getComputedStyle(gd).display;\n",
       "        if (!display || display === 'none') {{\n",
       "            console.log([gd, 'removed!']);\n",
       "            Plotly.purge(gd);\n",
       "            observer.disconnect();\n",
       "        }}\n",
       "}});\n",
       "\n",
       "// Listen for the removal of the full notebook cells\n",
       "var notebookContainer = gd.closest('#notebook-container');\n",
       "if (notebookContainer) {{\n",
       "    x.observe(notebookContainer, {childList: true});\n",
       "}}\n",
       "\n",
       "// Listen for the clearing of the current output cell\n",
       "var outputEl = gd.closest('.output');\n",
       "if (outputEl) {{\n",
       "    x.observe(outputEl, {childList: true});\n",
       "}}\n",
       "\n",
       "                        })                };                });            </script>        </div>"
      ]
     },
     "metadata": {},
     "output_type": "display_data"
    }
   ],
   "source": [
    "df = energyUse_Top20\n",
    "df['RENEW_Prop'] = df['Energy_Use'] * df['Energy_Use_RNEW']/100\n",
    "fig = px.bar(df.sort_values(by='Energy_Use'), x=['Energy_Use'], y='Country_Name', text='Green_Rank', orientation='h',\n",
    "            title=\"Top 20 Countries with the Highest Average Energy Use Per Capita with Green Ranking <br><sup>Data Aggregated Over the Years 1971-2014 </sup>\",\n",
    "            color='Energy_Use_RNEW', color_continuous_scale='greens', range_color=[0, 100],\n",
    "             labels={'Country_Name': 'Country',\n",
    "                    'Energy_Use_RNEW': 'Renewable Energy Proportion',\n",
    "                    'value': 'Energy Use (kg of oil equivalent per capita)'}\n",
    "            )\n",
    "\n",
    "fig.update_traces(textfont_size=12, textangle=0, textposition=\"outside\", cliponaxis=False)\n",
    "fig.show()\n",
    "\n",
    "# Save image\n",
    "fig.write_image(\"energyUsePerCapita_Top20_GreenRanking.png\", engine='kaleido', scale=1, width=800, height=600) "
   ]
  },
  {
   "cell_type": "code",
   "execution_count": 226,
   "id": "307d2bdd",
   "metadata": {},
   "outputs": [
    {
     "data": {
      "text/html": [
       "<div>\n",
       "<style scoped>\n",
       "    .dataframe tbody tr th:only-of-type {\n",
       "        vertical-align: middle;\n",
       "    }\n",
       "\n",
       "    .dataframe tbody tr th {\n",
       "        vertical-align: top;\n",
       "    }\n",
       "\n",
       "    .dataframe thead th {\n",
       "        text-align: right;\n",
       "    }\n",
       "</style>\n",
       "<table border=\"1\" class=\"dataframe\">\n",
       "  <thead>\n",
       "    <tr style=\"text-align: right;\">\n",
       "      <th></th>\n",
       "      <th>Country_Name</th>\n",
       "      <th>Country_Code</th>\n",
       "      <th>Energy_Use</th>\n",
       "      <th>Energy_Use_FF</th>\n",
       "      <th>Energy_Use_RNEW</th>\n",
       "      <th>Cooling_Deg_Days</th>\n",
       "      <th>Total</th>\n",
       "      <th>Green_Rank</th>\n",
       "      <th>Energy_Use_sd</th>\n",
       "      <th>Energy_Use_FF_sd</th>\n",
       "      <th>Energy_Use_RNEW_sd</th>\n",
       "      <th>Cooling_Deg_Days_sd</th>\n",
       "      <th>Total_sd</th>\n",
       "      <th>RENEW_Prop</th>\n",
       "      <th>FF_Prop</th>\n",
       "    </tr>\n",
       "  </thead>\n",
       "  <tbody>\n",
       "    <tr>\n",
       "      <th>136</th>\n",
       "      <td>Czech Republic</td>\n",
       "      <td>CZE</td>\n",
       "      <td>4378.498453</td>\n",
       "      <td>90.549967</td>\n",
       "      <td>7.795413</td>\n",
       "      <td>NaN</td>\n",
       "      <td>93.033826</td>\n",
       "      <td>137</td>\n",
       "      <td>303.875868</td>\n",
       "      <td>7.694051</td>\n",
       "      <td>3.050039</td>\n",
       "      <td>NaN</td>\n",
       "      <td>2.258510</td>\n",
       "      <td>341.322050</td>\n",
       "      <td>4037.176402</td>\n",
       "    </tr>\n",
       "    <tr>\n",
       "      <th>158</th>\n",
       "      <td>Netherlands</td>\n",
       "      <td>NLD</td>\n",
       "      <td>4582.686769</td>\n",
       "      <td>95.851051</td>\n",
       "      <td>2.586528</td>\n",
       "      <td>NaN</td>\n",
       "      <td>96.822976</td>\n",
       "      <td>159</td>\n",
       "      <td>316.464551</td>\n",
       "      <td>2.509939</td>\n",
       "      <td>1.450301</td>\n",
       "      <td>NaN</td>\n",
       "      <td>1.048975</td>\n",
       "      <td>118.532459</td>\n",
       "      <td>4464.154310</td>\n",
       "    </tr>\n",
       "    <tr>\n",
       "      <th>153</th>\n",
       "      <td>Russian Federation</td>\n",
       "      <td>RUS</td>\n",
       "      <td>4699.699520</td>\n",
       "      <td>91.430125</td>\n",
       "      <td>3.596720</td>\n",
       "      <td>NaN</td>\n",
       "      <td>95.026845</td>\n",
       "      <td>154</td>\n",
       "      <td>517.824790</td>\n",
       "      <td>1.015863</td>\n",
       "      <td>0.230600</td>\n",
       "      <td>NaN</td>\n",
       "      <td>1.157174</td>\n",
       "      <td>169.035022</td>\n",
       "      <td>4530.664498</td>\n",
       "    </tr>\n",
       "    <tr>\n",
       "      <th>187</th>\n",
       "      <td>Palau</td>\n",
       "      <td>PLW</td>\n",
       "      <td>4877.028215</td>\n",
       "      <td>0.000000</td>\n",
       "      <td>0.000696</td>\n",
       "      <td>NaN</td>\n",
       "      <td>NaN</td>\n",
       "      <td>188</td>\n",
       "      <td>NaN</td>\n",
       "      <td>NaN</td>\n",
       "      <td>0.003336</td>\n",
       "      <td>NaN</td>\n",
       "      <td>NaN</td>\n",
       "      <td>0.033927</td>\n",
       "      <td>4876.994288</td>\n",
       "    </tr>\n",
       "    <tr>\n",
       "      <th>156</th>\n",
       "      <td>Belgium</td>\n",
       "      <td>BEL</td>\n",
       "      <td>4978.909311</td>\n",
       "      <td>79.660758</td>\n",
       "      <td>3.010412</td>\n",
       "      <td>NaN</td>\n",
       "      <td>77.681004</td>\n",
       "      <td>157</td>\n",
       "      <td>465.557070</td>\n",
       "      <td>8.255295</td>\n",
       "      <td>2.527402</td>\n",
       "      <td>NaN</td>\n",
       "      <td>1.193720</td>\n",
       "      <td>149.885692</td>\n",
       "      <td>4829.023618</td>\n",
       "    </tr>\n",
       "    <tr>\n",
       "      <th>134</th>\n",
       "      <td>Australia</td>\n",
       "      <td>AUS</td>\n",
       "      <td>5080.329509</td>\n",
       "      <td>93.482405</td>\n",
       "      <td>8.041881</td>\n",
       "      <td>NaN</td>\n",
       "      <td>102.145256</td>\n",
       "      <td>135</td>\n",
       "      <td>541.665264</td>\n",
       "      <td>1.358575</td>\n",
       "      <td>0.823707</td>\n",
       "      <td>NaN</td>\n",
       "      <td>1.500673</td>\n",
       "      <td>408.554058</td>\n",
       "      <td>4671.775451</td>\n",
       "    </tr>\n",
       "    <tr>\n",
       "      <th>46</th>\n",
       "      <td>Norway</td>\n",
       "      <td>NOR</td>\n",
       "      <td>5124.118566</td>\n",
       "      <td>56.204128</td>\n",
       "      <td>58.585260</td>\n",
       "      <td>NaN</td>\n",
       "      <td>114.783323</td>\n",
       "      <td>47</td>\n",
       "      <td>892.221388</td>\n",
       "      <td>3.127539</td>\n",
       "      <td>1.576039</td>\n",
       "      <td>NaN</td>\n",
       "      <td>2.517087</td>\n",
       "      <td>3001.978166</td>\n",
       "      <td>2122.140400</td>\n",
       "    </tr>\n",
       "    <tr>\n",
       "      <th>69</th>\n",
       "      <td>Sweden</td>\n",
       "      <td>SWE</td>\n",
       "      <td>5336.139330</td>\n",
       "      <td>44.916760</td>\n",
       "      <td>39.003555</td>\n",
       "      <td>NaN</td>\n",
       "      <td>73.580885</td>\n",
       "      <td>70</td>\n",
       "      <td>399.530272</td>\n",
       "      <td>15.321443</td>\n",
       "      <td>5.938351</td>\n",
       "      <td>NaN</td>\n",
       "      <td>4.084587</td>\n",
       "      <td>2081.284021</td>\n",
       "      <td>3254.855309</td>\n",
       "    </tr>\n",
       "    <tr>\n",
       "      <th>87</th>\n",
       "      <td>Finland</td>\n",
       "      <td>FIN</td>\n",
       "      <td>5697.088106</td>\n",
       "      <td>57.663788</td>\n",
       "      <td>30.710823</td>\n",
       "      <td>NaN</td>\n",
       "      <td>81.573710</td>\n",
       "      <td>88</td>\n",
       "      <td>894.162952</td>\n",
       "      <td>10.294769</td>\n",
       "      <td>4.550608</td>\n",
       "      <td>NaN</td>\n",
       "      <td>1.237910</td>\n",
       "      <td>1749.622664</td>\n",
       "      <td>3947.465442</td>\n",
       "    </tr>\n",
       "    <tr>\n",
       "      <th>182</th>\n",
       "      <td>Brunei Darussalam</td>\n",
       "      <td>BRN</td>\n",
       "      <td>6687.948033</td>\n",
       "      <td>98.978360</td>\n",
       "      <td>0.054712</td>\n",
       "      <td>NaN</td>\n",
       "      <td>100.073433</td>\n",
       "      <td>183</td>\n",
       "      <td>1843.387940</td>\n",
       "      <td>2.145933</td>\n",
       "      <td>0.158952</td>\n",
       "      <td>NaN</td>\n",
       "      <td>0.161730</td>\n",
       "      <td>3.659081</td>\n",
       "      <td>6684.288952</td>\n",
       "    </tr>\n",
       "    <tr>\n",
       "      <th>175</th>\n",
       "      <td>Trinidad and Tobago</td>\n",
       "      <td>TTO</td>\n",
       "      <td>7049.564023</td>\n",
       "      <td>99.307566</td>\n",
       "      <td>0.758627</td>\n",
       "      <td>NaN</td>\n",
       "      <td>100.342714</td>\n",
       "      <td>176</td>\n",
       "      <td>4411.539154</td>\n",
       "      <td>0.451497</td>\n",
       "      <td>0.345336</td>\n",
       "      <td>NaN</td>\n",
       "      <td>0.092677</td>\n",
       "      <td>53.479864</td>\n",
       "      <td>6996.084159</td>\n",
       "    </tr>\n",
       "    <tr>\n",
       "      <th>147</th>\n",
       "      <td>United States</td>\n",
       "      <td>USA</td>\n",
       "      <td>7680.566271</td>\n",
       "      <td>87.818578</td>\n",
       "      <td>5.895700</td>\n",
       "      <td>NaN</td>\n",
       "      <td>91.241169</td>\n",
       "      <td>148</td>\n",
       "      <td>372.046761</td>\n",
       "      <td>3.513642</td>\n",
       "      <td>1.619501</td>\n",
       "      <td>NaN</td>\n",
       "      <td>0.727531</td>\n",
       "      <td>452.823154</td>\n",
       "      <td>7227.743118</td>\n",
       "    </tr>\n",
       "    <tr>\n",
       "      <th>101</th>\n",
       "      <td>Canada</td>\n",
       "      <td>CAN</td>\n",
       "      <td>7726.898005</td>\n",
       "      <td>76.622893</td>\n",
       "      <td>21.865637</td>\n",
       "      <td>NaN</td>\n",
       "      <td>96.299874</td>\n",
       "      <td>102</td>\n",
       "      <td>436.677357</td>\n",
       "      <td>3.677471</td>\n",
       "      <td>0.323795</td>\n",
       "      <td>NaN</td>\n",
       "      <td>1.275848</td>\n",
       "      <td>1689.535433</td>\n",
       "      <td>6037.362572</td>\n",
       "    </tr>\n",
       "    <tr>\n",
       "      <th>179</th>\n",
       "      <td>United Arab Emirates</td>\n",
       "      <td>ARE</td>\n",
       "      <td>8638.522628</td>\n",
       "      <td>98.956445</td>\n",
       "      <td>0.094459</td>\n",
       "      <td>NaN</td>\n",
       "      <td>98.294970</td>\n",
       "      <td>180</td>\n",
       "      <td>2791.653089</td>\n",
       "      <td>3.115434</td>\n",
       "      <td>0.040304</td>\n",
       "      <td>NaN</td>\n",
       "      <td>3.949404</td>\n",
       "      <td>8.159885</td>\n",
       "      <td>8630.362743</td>\n",
       "    </tr>\n",
       "    <tr>\n",
       "      <th>183</th>\n",
       "      <td>Kuwait</td>\n",
       "      <td>KWT</td>\n",
       "      <td>8643.283955</td>\n",
       "      <td>99.387805</td>\n",
       "      <td>0.039103</td>\n",
       "      <td>NaN</td>\n",
       "      <td>98.895617</td>\n",
       "      <td>184</td>\n",
       "      <td>2007.377500</td>\n",
       "      <td>1.733045</td>\n",
       "      <td>0.083198</td>\n",
       "      <td>NaN</td>\n",
       "      <td>2.379600</td>\n",
       "      <td>3.379759</td>\n",
       "      <td>8639.904196</td>\n",
       "    </tr>\n",
       "    <tr>\n",
       "      <th>154</th>\n",
       "      <td>Luxembourg</td>\n",
       "      <td>LUX</td>\n",
       "      <td>8924.329306</td>\n",
       "      <td>89.240654</td>\n",
       "      <td>3.516024</td>\n",
       "      <td>NaN</td>\n",
       "      <td>90.728829</td>\n",
       "      <td>155</td>\n",
       "      <td>1493.216692</td>\n",
       "      <td>3.617031</td>\n",
       "      <td>1.772598</td>\n",
       "      <td>NaN</td>\n",
       "      <td>1.307668</td>\n",
       "      <td>313.781551</td>\n",
       "      <td>8610.547755</td>\n",
       "    </tr>\n",
       "    <tr>\n",
       "      <th>43</th>\n",
       "      <td>Iceland</td>\n",
       "      <td>ISL</td>\n",
       "      <td>9576.673511</td>\n",
       "      <td>29.307254</td>\n",
       "      <td>63.350993</td>\n",
       "      <td>NaN</td>\n",
       "      <td>85.047067</td>\n",
       "      <td>44</td>\n",
       "      <td>4079.772225</td>\n",
       "      <td>12.024572</td>\n",
       "      <td>8.631061</td>\n",
       "      <td>NaN</td>\n",
       "      <td>1.473598</td>\n",
       "      <td>6066.917773</td>\n",
       "      <td>3509.755738</td>\n",
       "    </tr>\n",
       "    <tr>\n",
       "      <th>189</th>\n",
       "      <td>Bahrain</td>\n",
       "      <td>BHR</td>\n",
       "      <td>10070.710597</td>\n",
       "      <td>99.774828</td>\n",
       "      <td>0.000000</td>\n",
       "      <td>NaN</td>\n",
       "      <td>99.530904</td>\n",
       "      <td>190</td>\n",
       "      <td>1544.866472</td>\n",
       "      <td>0.511989</td>\n",
       "      <td>0.000000</td>\n",
       "      <td>NaN</td>\n",
       "      <td>0.668658</td>\n",
       "      <td>0.000000</td>\n",
       "      <td>10070.710597</td>\n",
       "    </tr>\n",
       "    <tr>\n",
       "      <th>190</th>\n",
       "      <td>Qatar</td>\n",
       "      <td>QAT</td>\n",
       "      <td>15441.892937</td>\n",
       "      <td>99.999786</td>\n",
       "      <td>0.000000</td>\n",
       "      <td>NaN</td>\n",
       "      <td>99.999684</td>\n",
       "      <td>191</td>\n",
       "      <td>3694.539700</td>\n",
       "      <td>0.001014</td>\n",
       "      <td>0.000000</td>\n",
       "      <td>NaN</td>\n",
       "      <td>0.001242</td>\n",
       "      <td>0.000000</td>\n",
       "      <td>15441.892937</td>\n",
       "    </tr>\n",
       "  </tbody>\n",
       "</table>\n",
       "</div>"
      ],
      "text/plain": [
       "             Country_Name Country_Code    Energy_Use  Energy_Use_FF  \\\n",
       "136        Czech Republic          CZE   4378.498453      90.549967   \n",
       "158           Netherlands          NLD   4582.686769      95.851051   \n",
       "153    Russian Federation          RUS   4699.699520      91.430125   \n",
       "187                 Palau          PLW   4877.028215       0.000000   \n",
       "156               Belgium          BEL   4978.909311      79.660758   \n",
       "134             Australia          AUS   5080.329509      93.482405   \n",
       "46                 Norway          NOR   5124.118566      56.204128   \n",
       "69                 Sweden          SWE   5336.139330      44.916760   \n",
       "87                Finland          FIN   5697.088106      57.663788   \n",
       "182     Brunei Darussalam          BRN   6687.948033      98.978360   \n",
       "175   Trinidad and Tobago          TTO   7049.564023      99.307566   \n",
       "147         United States          USA   7680.566271      87.818578   \n",
       "101                Canada          CAN   7726.898005      76.622893   \n",
       "179  United Arab Emirates          ARE   8638.522628      98.956445   \n",
       "183                Kuwait          KWT   8643.283955      99.387805   \n",
       "154            Luxembourg          LUX   8924.329306      89.240654   \n",
       "43                Iceland          ISL   9576.673511      29.307254   \n",
       "189               Bahrain          BHR  10070.710597      99.774828   \n",
       "190                 Qatar          QAT  15441.892937      99.999786   \n",
       "\n",
       "     Energy_Use_RNEW  Cooling_Deg_Days       Total  Green_Rank  Energy_Use_sd  \\\n",
       "136         7.795413               NaN   93.033826         137     303.875868   \n",
       "158         2.586528               NaN   96.822976         159     316.464551   \n",
       "153         3.596720               NaN   95.026845         154     517.824790   \n",
       "187         0.000696               NaN         NaN         188            NaN   \n",
       "156         3.010412               NaN   77.681004         157     465.557070   \n",
       "134         8.041881               NaN  102.145256         135     541.665264   \n",
       "46         58.585260               NaN  114.783323          47     892.221388   \n",
       "69         39.003555               NaN   73.580885          70     399.530272   \n",
       "87         30.710823               NaN   81.573710          88     894.162952   \n",
       "182         0.054712               NaN  100.073433         183    1843.387940   \n",
       "175         0.758627               NaN  100.342714         176    4411.539154   \n",
       "147         5.895700               NaN   91.241169         148     372.046761   \n",
       "101        21.865637               NaN   96.299874         102     436.677357   \n",
       "179         0.094459               NaN   98.294970         180    2791.653089   \n",
       "183         0.039103               NaN   98.895617         184    2007.377500   \n",
       "154         3.516024               NaN   90.728829         155    1493.216692   \n",
       "43         63.350993               NaN   85.047067          44    4079.772225   \n",
       "189         0.000000               NaN   99.530904         190    1544.866472   \n",
       "190         0.000000               NaN   99.999684         191    3694.539700   \n",
       "\n",
       "     Energy_Use_FF_sd  Energy_Use_RNEW_sd  Cooling_Deg_Days_sd  Total_sd  \\\n",
       "136          7.694051            3.050039                  NaN  2.258510   \n",
       "158          2.509939            1.450301                  NaN  1.048975   \n",
       "153          1.015863            0.230600                  NaN  1.157174   \n",
       "187               NaN            0.003336                  NaN       NaN   \n",
       "156          8.255295            2.527402                  NaN  1.193720   \n",
       "134          1.358575            0.823707                  NaN  1.500673   \n",
       "46           3.127539            1.576039                  NaN  2.517087   \n",
       "69          15.321443            5.938351                  NaN  4.084587   \n",
       "87          10.294769            4.550608                  NaN  1.237910   \n",
       "182          2.145933            0.158952                  NaN  0.161730   \n",
       "175          0.451497            0.345336                  NaN  0.092677   \n",
       "147          3.513642            1.619501                  NaN  0.727531   \n",
       "101          3.677471            0.323795                  NaN  1.275848   \n",
       "179          3.115434            0.040304                  NaN  3.949404   \n",
       "183          1.733045            0.083198                  NaN  2.379600   \n",
       "154          3.617031            1.772598                  NaN  1.307668   \n",
       "43          12.024572            8.631061                  NaN  1.473598   \n",
       "189          0.511989            0.000000                  NaN  0.668658   \n",
       "190          0.001014            0.000000                  NaN  0.001242   \n",
       "\n",
       "      RENEW_Prop       FF_Prop  \n",
       "136   341.322050   4037.176402  \n",
       "158   118.532459   4464.154310  \n",
       "153   169.035022   4530.664498  \n",
       "187     0.033927   4876.994288  \n",
       "156   149.885692   4829.023618  \n",
       "134   408.554058   4671.775451  \n",
       "46   3001.978166   2122.140400  \n",
       "69   2081.284021   3254.855309  \n",
       "87   1749.622664   3947.465442  \n",
       "182     3.659081   6684.288952  \n",
       "175    53.479864   6996.084159  \n",
       "147   452.823154   7227.743118  \n",
       "101  1689.535433   6037.362572  \n",
       "179     8.159885   8630.362743  \n",
       "183     3.379759   8639.904196  \n",
       "154   313.781551   8610.547755  \n",
       "43   6066.917773   3509.755738  \n",
       "189     0.000000  10070.710597  \n",
       "190     0.000000  15441.892937  "
      ]
     },
     "metadata": {},
     "output_type": "display_data"
    },
    {
     "data": {
      "application/vnd.plotly.v1+json": {
       "config": {
        "plotlyServerURL": "https://plot.ly"
       },
       "data": [
        {
         "alignmentgroup": "True",
         "hovertemplate": "Energy Source=FF_Prop<br>Energy Use (kg of oil equivalent per capita)=%{x}<br>Country=%{y}<extra></extra>",
         "legendgroup": "FF_Prop",
         "marker": {
          "color": "red",
          "pattern": {
           "shape": ""
          }
         },
         "name": "Fossil Fuels",
         "offsetgroup": "FF_Prop",
         "orientation": "h",
         "showlegend": true,
         "textposition": "auto",
         "type": "bar",
         "x": [
          4037.1764024867907,
          4464.154309608493,
          4530.664498194749,
          4876.99428767663,
          4829.023618352133,
          4671.775451089145,
          2122.1403999249687,
          3254.85530917123,
          3947.4654420676497,
          6684.288952127461,
          6996.084159295569,
          7227.743117648865,
          6037.362572461247,
          8630.362742934627,
          8639.904195781584,
          8610.54775510124,
          3509.755738227961,
          10070.710597386458,
          15441.89293727674
         ],
         "xaxis": "x",
         "y": [
          "Czech Republic",
          "Netherlands",
          "Russian Federation",
          "Palau",
          "Belgium",
          "Australia",
          "Norway",
          "Sweden",
          "Finland",
          "Brunei Darussalam",
          "Trinidad and Tobago",
          "United States",
          "Canada",
          "United Arab Emirates",
          "Kuwait",
          "Luxembourg",
          "Iceland",
          "Bahrain",
          "Qatar"
         ],
         "yaxis": "y"
        },
        {
         "alignmentgroup": "True",
         "hovertemplate": "Energy Source=RENEW_Prop<br>Energy Use (kg of oil equivalent per capita)=%{x}<br>Country=%{y}<extra></extra>",
         "legendgroup": "RENEW_Prop",
         "marker": {
          "color": "green",
          "pattern": {
           "shape": ""
          }
         },
         "name": "Renewables",
         "offsetgroup": "RENEW_Prop",
         "orientation": "h",
         "showlegend": true,
         "textposition": "auto",
         "type": "bar",
         "x": [
          341.32205023433744,
          118.53245900789857,
          169.03502157596492,
          0.03392715441027787,
          149.88569242644718,
          408.55405835605836,
          3001.9781658481925,
          2081.28402108505,
          1749.6226636743156,
          3.659080799160779,
          53.47986410536724,
          452.82315359039967,
          1689.5354329993518,
          8.159884924518947,
          3.3797589956109393,
          313.78155087562124,
          6066.917772653196,
          0,
          0
         ],
         "xaxis": "x",
         "y": [
          "Czech Republic",
          "Netherlands",
          "Russian Federation",
          "Palau",
          "Belgium",
          "Australia",
          "Norway",
          "Sweden",
          "Finland",
          "Brunei Darussalam",
          "Trinidad and Tobago",
          "United States",
          "Canada",
          "United Arab Emirates",
          "Kuwait",
          "Luxembourg",
          "Iceland",
          "Bahrain",
          "Qatar"
         ],
         "yaxis": "y"
        }
       ],
       "layout": {
        "annotations": [
         {
          "showarrow": false,
          "text": "137",
          "x": 4597.423375357184,
          "y": "Czech Republic"
         },
         {
          "showarrow": false,
          "text": "159",
          "x": 4811.8211070472125,
          "y": "Netherlands"
         },
         {
          "showarrow": false,
          "text": "154",
          "x": 4934.684495759249,
          "y": "Russian Federation"
         },
         {
          "showarrow": false,
          "text": "188",
          "x": 5120.879625572592,
          "y": "Palau"
         },
         {
          "showarrow": false,
          "text": "157",
          "x": 5227.854776317509,
          "y": "Belgium"
         },
         {
          "showarrow": false,
          "text": "135",
          "x": 5334.345984917463,
          "y": "Australia"
         },
         {
          "showarrow": false,
          "text": "47",
          "x": 5380.32449406182,
          "y": "Norway"
         },
         {
          "showarrow": false,
          "text": "70",
          "x": 5602.946296769094,
          "y": "Sweden"
         },
         {
          "showarrow": false,
          "text": "88",
          "x": 5981.942511029064,
          "y": "Finland"
         },
         {
          "showarrow": false,
          "text": "183",
          "x": 7022.345434572953,
          "y": "Brunei Darussalam"
         },
         {
          "showarrow": false,
          "text": "176",
          "x": 7402.042224570984,
          "y": "Trinidad and Tobago"
         },
         {
          "showarrow": false,
          "text": "148",
          "x": 8064.594584801229,
          "y": "United States"
         },
         {
          "showarrow": false,
          "text": "102",
          "x": 8113.2429057336285,
          "y": "Canada"
         },
         {
          "showarrow": false,
          "text": "180",
          "x": 9070.448759252104,
          "y": "United Arab Emirates"
         },
         {
          "showarrow": false,
          "text": "184",
          "x": 9075.448152516055,
          "y": "Kuwait"
         },
         {
          "showarrow": false,
          "text": "155",
          "x": 9370.545771275705,
          "y": "Luxembourg"
         },
         {
          "showarrow": false,
          "text": "44",
          "x": 10055.507186425215,
          "y": "Iceland"
         },
         {
          "showarrow": false,
          "text": "190",
          "x": 10574.246127255781,
          "y": "Bahrain"
         },
         {
          "showarrow": false,
          "text": "191",
          "x": 16213.987584140577,
          "y": "Qatar"
         }
        ],
        "barmode": "relative",
        "legend": {
         "title": {
          "text": "Energy Source"
         },
         "tracegroupgap": 0
        },
        "template": {
         "data": {
          "bar": [
           {
            "error_x": {
             "color": "#2a3f5f"
            },
            "error_y": {
             "color": "#2a3f5f"
            },
            "marker": {
             "line": {
              "color": "#E5ECF6",
              "width": 0.5
             },
             "pattern": {
              "fillmode": "overlay",
              "size": 10,
              "solidity": 0.2
             }
            },
            "type": "bar"
           }
          ],
          "barpolar": [
           {
            "marker": {
             "line": {
              "color": "#E5ECF6",
              "width": 0.5
             },
             "pattern": {
              "fillmode": "overlay",
              "size": 10,
              "solidity": 0.2
             }
            },
            "type": "barpolar"
           }
          ],
          "carpet": [
           {
            "aaxis": {
             "endlinecolor": "#2a3f5f",
             "gridcolor": "white",
             "linecolor": "white",
             "minorgridcolor": "white",
             "startlinecolor": "#2a3f5f"
            },
            "baxis": {
             "endlinecolor": "#2a3f5f",
             "gridcolor": "white",
             "linecolor": "white",
             "minorgridcolor": "white",
             "startlinecolor": "#2a3f5f"
            },
            "type": "carpet"
           }
          ],
          "choropleth": [
           {
            "colorbar": {
             "outlinewidth": 0,
             "ticks": ""
            },
            "type": "choropleth"
           }
          ],
          "contour": [
           {
            "colorbar": {
             "outlinewidth": 0,
             "ticks": ""
            },
            "colorscale": [
             [
              0,
              "#0d0887"
             ],
             [
              0.1111111111111111,
              "#46039f"
             ],
             [
              0.2222222222222222,
              "#7201a8"
             ],
             [
              0.3333333333333333,
              "#9c179e"
             ],
             [
              0.4444444444444444,
              "#bd3786"
             ],
             [
              0.5555555555555556,
              "#d8576b"
             ],
             [
              0.6666666666666666,
              "#ed7953"
             ],
             [
              0.7777777777777778,
              "#fb9f3a"
             ],
             [
              0.8888888888888888,
              "#fdca26"
             ],
             [
              1,
              "#f0f921"
             ]
            ],
            "type": "contour"
           }
          ],
          "contourcarpet": [
           {
            "colorbar": {
             "outlinewidth": 0,
             "ticks": ""
            },
            "type": "contourcarpet"
           }
          ],
          "heatmap": [
           {
            "colorbar": {
             "outlinewidth": 0,
             "ticks": ""
            },
            "colorscale": [
             [
              0,
              "#0d0887"
             ],
             [
              0.1111111111111111,
              "#46039f"
             ],
             [
              0.2222222222222222,
              "#7201a8"
             ],
             [
              0.3333333333333333,
              "#9c179e"
             ],
             [
              0.4444444444444444,
              "#bd3786"
             ],
             [
              0.5555555555555556,
              "#d8576b"
             ],
             [
              0.6666666666666666,
              "#ed7953"
             ],
             [
              0.7777777777777778,
              "#fb9f3a"
             ],
             [
              0.8888888888888888,
              "#fdca26"
             ],
             [
              1,
              "#f0f921"
             ]
            ],
            "type": "heatmap"
           }
          ],
          "heatmapgl": [
           {
            "colorbar": {
             "outlinewidth": 0,
             "ticks": ""
            },
            "colorscale": [
             [
              0,
              "#0d0887"
             ],
             [
              0.1111111111111111,
              "#46039f"
             ],
             [
              0.2222222222222222,
              "#7201a8"
             ],
             [
              0.3333333333333333,
              "#9c179e"
             ],
             [
              0.4444444444444444,
              "#bd3786"
             ],
             [
              0.5555555555555556,
              "#d8576b"
             ],
             [
              0.6666666666666666,
              "#ed7953"
             ],
             [
              0.7777777777777778,
              "#fb9f3a"
             ],
             [
              0.8888888888888888,
              "#fdca26"
             ],
             [
              1,
              "#f0f921"
             ]
            ],
            "type": "heatmapgl"
           }
          ],
          "histogram": [
           {
            "marker": {
             "pattern": {
              "fillmode": "overlay",
              "size": 10,
              "solidity": 0.2
             }
            },
            "type": "histogram"
           }
          ],
          "histogram2d": [
           {
            "colorbar": {
             "outlinewidth": 0,
             "ticks": ""
            },
            "colorscale": [
             [
              0,
              "#0d0887"
             ],
             [
              0.1111111111111111,
              "#46039f"
             ],
             [
              0.2222222222222222,
              "#7201a8"
             ],
             [
              0.3333333333333333,
              "#9c179e"
             ],
             [
              0.4444444444444444,
              "#bd3786"
             ],
             [
              0.5555555555555556,
              "#d8576b"
             ],
             [
              0.6666666666666666,
              "#ed7953"
             ],
             [
              0.7777777777777778,
              "#fb9f3a"
             ],
             [
              0.8888888888888888,
              "#fdca26"
             ],
             [
              1,
              "#f0f921"
             ]
            ],
            "type": "histogram2d"
           }
          ],
          "histogram2dcontour": [
           {
            "colorbar": {
             "outlinewidth": 0,
             "ticks": ""
            },
            "colorscale": [
             [
              0,
              "#0d0887"
             ],
             [
              0.1111111111111111,
              "#46039f"
             ],
             [
              0.2222222222222222,
              "#7201a8"
             ],
             [
              0.3333333333333333,
              "#9c179e"
             ],
             [
              0.4444444444444444,
              "#bd3786"
             ],
             [
              0.5555555555555556,
              "#d8576b"
             ],
             [
              0.6666666666666666,
              "#ed7953"
             ],
             [
              0.7777777777777778,
              "#fb9f3a"
             ],
             [
              0.8888888888888888,
              "#fdca26"
             ],
             [
              1,
              "#f0f921"
             ]
            ],
            "type": "histogram2dcontour"
           }
          ],
          "mesh3d": [
           {
            "colorbar": {
             "outlinewidth": 0,
             "ticks": ""
            },
            "type": "mesh3d"
           }
          ],
          "parcoords": [
           {
            "line": {
             "colorbar": {
              "outlinewidth": 0,
              "ticks": ""
             }
            },
            "type": "parcoords"
           }
          ],
          "pie": [
           {
            "automargin": true,
            "type": "pie"
           }
          ],
          "scatter": [
           {
            "marker": {
             "colorbar": {
              "outlinewidth": 0,
              "ticks": ""
             }
            },
            "type": "scatter"
           }
          ],
          "scatter3d": [
           {
            "line": {
             "colorbar": {
              "outlinewidth": 0,
              "ticks": ""
             }
            },
            "marker": {
             "colorbar": {
              "outlinewidth": 0,
              "ticks": ""
             }
            },
            "type": "scatter3d"
           }
          ],
          "scattercarpet": [
           {
            "marker": {
             "colorbar": {
              "outlinewidth": 0,
              "ticks": ""
             }
            },
            "type": "scattercarpet"
           }
          ],
          "scattergeo": [
           {
            "marker": {
             "colorbar": {
              "outlinewidth": 0,
              "ticks": ""
             }
            },
            "type": "scattergeo"
           }
          ],
          "scattergl": [
           {
            "marker": {
             "colorbar": {
              "outlinewidth": 0,
              "ticks": ""
             }
            },
            "type": "scattergl"
           }
          ],
          "scattermapbox": [
           {
            "marker": {
             "colorbar": {
              "outlinewidth": 0,
              "ticks": ""
             }
            },
            "type": "scattermapbox"
           }
          ],
          "scatterpolar": [
           {
            "marker": {
             "colorbar": {
              "outlinewidth": 0,
              "ticks": ""
             }
            },
            "type": "scatterpolar"
           }
          ],
          "scatterpolargl": [
           {
            "marker": {
             "colorbar": {
              "outlinewidth": 0,
              "ticks": ""
             }
            },
            "type": "scatterpolargl"
           }
          ],
          "scatterternary": [
           {
            "marker": {
             "colorbar": {
              "outlinewidth": 0,
              "ticks": ""
             }
            },
            "type": "scatterternary"
           }
          ],
          "surface": [
           {
            "colorbar": {
             "outlinewidth": 0,
             "ticks": ""
            },
            "colorscale": [
             [
              0,
              "#0d0887"
             ],
             [
              0.1111111111111111,
              "#46039f"
             ],
             [
              0.2222222222222222,
              "#7201a8"
             ],
             [
              0.3333333333333333,
              "#9c179e"
             ],
             [
              0.4444444444444444,
              "#bd3786"
             ],
             [
              0.5555555555555556,
              "#d8576b"
             ],
             [
              0.6666666666666666,
              "#ed7953"
             ],
             [
              0.7777777777777778,
              "#fb9f3a"
             ],
             [
              0.8888888888888888,
              "#fdca26"
             ],
             [
              1,
              "#f0f921"
             ]
            ],
            "type": "surface"
           }
          ],
          "table": [
           {
            "cells": {
             "fill": {
              "color": "#EBF0F8"
             },
             "line": {
              "color": "white"
             }
            },
            "header": {
             "fill": {
              "color": "#C8D4E3"
             },
             "line": {
              "color": "white"
             }
            },
            "type": "table"
           }
          ]
         },
         "layout": {
          "annotationdefaults": {
           "arrowcolor": "#2a3f5f",
           "arrowhead": 0,
           "arrowwidth": 1
          },
          "autotypenumbers": "strict",
          "coloraxis": {
           "colorbar": {
            "outlinewidth": 0,
            "ticks": ""
           }
          },
          "colorscale": {
           "diverging": [
            [
             0,
             "#8e0152"
            ],
            [
             0.1,
             "#c51b7d"
            ],
            [
             0.2,
             "#de77ae"
            ],
            [
             0.3,
             "#f1b6da"
            ],
            [
             0.4,
             "#fde0ef"
            ],
            [
             0.5,
             "#f7f7f7"
            ],
            [
             0.6,
             "#e6f5d0"
            ],
            [
             0.7,
             "#b8e186"
            ],
            [
             0.8,
             "#7fbc41"
            ],
            [
             0.9,
             "#4d9221"
            ],
            [
             1,
             "#276419"
            ]
           ],
           "sequential": [
            [
             0,
             "#0d0887"
            ],
            [
             0.1111111111111111,
             "#46039f"
            ],
            [
             0.2222222222222222,
             "#7201a8"
            ],
            [
             0.3333333333333333,
             "#9c179e"
            ],
            [
             0.4444444444444444,
             "#bd3786"
            ],
            [
             0.5555555555555556,
             "#d8576b"
            ],
            [
             0.6666666666666666,
             "#ed7953"
            ],
            [
             0.7777777777777778,
             "#fb9f3a"
            ],
            [
             0.8888888888888888,
             "#fdca26"
            ],
            [
             1,
             "#f0f921"
            ]
           ],
           "sequentialminus": [
            [
             0,
             "#0d0887"
            ],
            [
             0.1111111111111111,
             "#46039f"
            ],
            [
             0.2222222222222222,
             "#7201a8"
            ],
            [
             0.3333333333333333,
             "#9c179e"
            ],
            [
             0.4444444444444444,
             "#bd3786"
            ],
            [
             0.5555555555555556,
             "#d8576b"
            ],
            [
             0.6666666666666666,
             "#ed7953"
            ],
            [
             0.7777777777777778,
             "#fb9f3a"
            ],
            [
             0.8888888888888888,
             "#fdca26"
            ],
            [
             1,
             "#f0f921"
            ]
           ]
          },
          "colorway": [
           "#636efa",
           "#EF553B",
           "#00cc96",
           "#ab63fa",
           "#FFA15A",
           "#19d3f3",
           "#FF6692",
           "#B6E880",
           "#FF97FF",
           "#FECB52"
          ],
          "font": {
           "color": "#2a3f5f"
          },
          "geo": {
           "bgcolor": "white",
           "lakecolor": "white",
           "landcolor": "#E5ECF6",
           "showlakes": true,
           "showland": true,
           "subunitcolor": "white"
          },
          "hoverlabel": {
           "align": "left"
          },
          "hovermode": "closest",
          "mapbox": {
           "style": "light"
          },
          "paper_bgcolor": "white",
          "plot_bgcolor": "#E5ECF6",
          "polar": {
           "angularaxis": {
            "gridcolor": "white",
            "linecolor": "white",
            "ticks": ""
           },
           "bgcolor": "#E5ECF6",
           "radialaxis": {
            "gridcolor": "white",
            "linecolor": "white",
            "ticks": ""
           }
          },
          "scene": {
           "xaxis": {
            "backgroundcolor": "#E5ECF6",
            "gridcolor": "white",
            "gridwidth": 2,
            "linecolor": "white",
            "showbackground": true,
            "ticks": "",
            "zerolinecolor": "white"
           },
           "yaxis": {
            "backgroundcolor": "#E5ECF6",
            "gridcolor": "white",
            "gridwidth": 2,
            "linecolor": "white",
            "showbackground": true,
            "ticks": "",
            "zerolinecolor": "white"
           },
           "zaxis": {
            "backgroundcolor": "#E5ECF6",
            "gridcolor": "white",
            "gridwidth": 2,
            "linecolor": "white",
            "showbackground": true,
            "ticks": "",
            "zerolinecolor": "white"
           }
          },
          "shapedefaults": {
           "line": {
            "color": "#2a3f5f"
           }
          },
          "ternary": {
           "aaxis": {
            "gridcolor": "white",
            "linecolor": "white",
            "ticks": ""
           },
           "baxis": {
            "gridcolor": "white",
            "linecolor": "white",
            "ticks": ""
           },
           "bgcolor": "#E5ECF6",
           "caxis": {
            "gridcolor": "white",
            "linecolor": "white",
            "ticks": ""
           }
          },
          "title": {
           "x": 0.05
          },
          "xaxis": {
           "automargin": true,
           "gridcolor": "white",
           "linecolor": "white",
           "ticks": "",
           "title": {
            "standoff": 15
           },
           "zerolinecolor": "white",
           "zerolinewidth": 2
          },
          "yaxis": {
           "automargin": true,
           "gridcolor": "white",
           "linecolor": "white",
           "ticks": "",
           "title": {
            "standoff": 15
           },
           "zerolinecolor": "white",
           "zerolinewidth": 2
          }
         }
        },
        "title": {
         "text": "Top 20 Countries with the Highest Average Energy Use Per Capita with Green Ranking <br><sup>Data Aggregated Over the Years 1971-2014 </sup>"
        },
        "xaxis": {
         "anchor": "y",
         "domain": [
          0,
          1
         ],
         "title": {
          "text": "Energy Use (kg of oil equivalent per capita)"
         }
        },
        "yaxis": {
         "anchor": "x",
         "domain": [
          0,
          1
         ],
         "title": {
          "text": "Country"
         }
        }
       }
      },
      "text/html": [
       "<div>                            <div id=\"03ac9ef8-75e7-41ae-8d47-12d0b69f852b\" class=\"plotly-graph-div\" style=\"height:525px; width:100%;\"></div>            <script type=\"text/javascript\">                require([\"plotly\"], function(Plotly) {                    window.PLOTLYENV=window.PLOTLYENV || {};                                    if (document.getElementById(\"03ac9ef8-75e7-41ae-8d47-12d0b69f852b\")) {                    Plotly.newPlot(                        \"03ac9ef8-75e7-41ae-8d47-12d0b69f852b\",                        [{\"alignmentgroup\":\"True\",\"hovertemplate\":\"Energy Source=FF_Prop<br>Energy Use (kg of oil equivalent per capita)=%{x}<br>Country=%{y}<extra></extra>\",\"legendgroup\":\"FF_Prop\",\"marker\":{\"color\":\"red\",\"pattern\":{\"shape\":\"\"}},\"name\":\"Fossil Fuels\",\"offsetgroup\":\"FF_Prop\",\"orientation\":\"h\",\"showlegend\":true,\"textposition\":\"auto\",\"type\":\"bar\",\"x\":[4037.1764024867907,4464.154309608493,4530.664498194749,4876.99428767663,4829.023618352133,4671.775451089145,2122.1403999249687,3254.85530917123,3947.4654420676497,6684.288952127461,6996.084159295569,7227.743117648865,6037.362572461247,8630.362742934627,8639.904195781584,8610.54775510124,3509.755738227961,10070.710597386458,15441.89293727674],\"xaxis\":\"x\",\"y\":[\"Czech Republic\",\"Netherlands\",\"Russian Federation\",\"Palau\",\"Belgium\",\"Australia\",\"Norway\",\"Sweden\",\"Finland\",\"Brunei Darussalam\",\"Trinidad and Tobago\",\"United States\",\"Canada\",\"United Arab Emirates\",\"Kuwait\",\"Luxembourg\",\"Iceland\",\"Bahrain\",\"Qatar\"],\"yaxis\":\"y\"},{\"alignmentgroup\":\"True\",\"hovertemplate\":\"Energy Source=RENEW_Prop<br>Energy Use (kg of oil equivalent per capita)=%{x}<br>Country=%{y}<extra></extra>\",\"legendgroup\":\"RENEW_Prop\",\"marker\":{\"color\":\"green\",\"pattern\":{\"shape\":\"\"}},\"name\":\"Renewables\",\"offsetgroup\":\"RENEW_Prop\",\"orientation\":\"h\",\"showlegend\":true,\"textposition\":\"auto\",\"type\":\"bar\",\"x\":[341.32205023433744,118.53245900789857,169.03502157596492,0.03392715441027787,149.88569242644718,408.55405835605836,3001.9781658481925,2081.28402108505,1749.6226636743156,3.659080799160779,53.47986410536724,452.82315359039967,1689.5354329993518,8.159884924518947,3.3797589956109393,313.78155087562124,6066.917772653196,0.0,0.0],\"xaxis\":\"x\",\"y\":[\"Czech Republic\",\"Netherlands\",\"Russian Federation\",\"Palau\",\"Belgium\",\"Australia\",\"Norway\",\"Sweden\",\"Finland\",\"Brunei Darussalam\",\"Trinidad and Tobago\",\"United States\",\"Canada\",\"United Arab Emirates\",\"Kuwait\",\"Luxembourg\",\"Iceland\",\"Bahrain\",\"Qatar\"],\"yaxis\":\"y\"}],                        {\"annotations\":[{\"showarrow\":false,\"text\":\"137\",\"x\":4597.423375357184,\"y\":\"Czech Republic\"},{\"showarrow\":false,\"text\":\"159\",\"x\":4811.8211070472125,\"y\":\"Netherlands\"},{\"showarrow\":false,\"text\":\"154\",\"x\":4934.684495759249,\"y\":\"Russian Federation\"},{\"showarrow\":false,\"text\":\"188\",\"x\":5120.879625572592,\"y\":\"Palau\"},{\"showarrow\":false,\"text\":\"157\",\"x\":5227.854776317509,\"y\":\"Belgium\"},{\"showarrow\":false,\"text\":\"135\",\"x\":5334.345984917463,\"y\":\"Australia\"},{\"showarrow\":false,\"text\":\"47\",\"x\":5380.32449406182,\"y\":\"Norway\"},{\"showarrow\":false,\"text\":\"70\",\"x\":5602.946296769094,\"y\":\"Sweden\"},{\"showarrow\":false,\"text\":\"88\",\"x\":5981.942511029064,\"y\":\"Finland\"},{\"showarrow\":false,\"text\":\"183\",\"x\":7022.345434572953,\"y\":\"Brunei Darussalam\"},{\"showarrow\":false,\"text\":\"176\",\"x\":7402.042224570984,\"y\":\"Trinidad and Tobago\"},{\"showarrow\":false,\"text\":\"148\",\"x\":8064.594584801229,\"y\":\"United States\"},{\"showarrow\":false,\"text\":\"102\",\"x\":8113.2429057336285,\"y\":\"Canada\"},{\"showarrow\":false,\"text\":\"180\",\"x\":9070.448759252104,\"y\":\"United Arab Emirates\"},{\"showarrow\":false,\"text\":\"184\",\"x\":9075.448152516055,\"y\":\"Kuwait\"},{\"showarrow\":false,\"text\":\"155\",\"x\":9370.545771275705,\"y\":\"Luxembourg\"},{\"showarrow\":false,\"text\":\"44\",\"x\":10055.507186425215,\"y\":\"Iceland\"},{\"showarrow\":false,\"text\":\"190\",\"x\":10574.246127255781,\"y\":\"Bahrain\"},{\"showarrow\":false,\"text\":\"191\",\"x\":16213.987584140577,\"y\":\"Qatar\"}],\"barmode\":\"relative\",\"legend\":{\"title\":{\"text\":\"Energy Source\"},\"tracegroupgap\":0},\"template\":{\"data\":{\"bar\":[{\"error_x\":{\"color\":\"#2a3f5f\"},\"error_y\":{\"color\":\"#2a3f5f\"},\"marker\":{\"line\":{\"color\":\"#E5ECF6\",\"width\":0.5},\"pattern\":{\"fillmode\":\"overlay\",\"size\":10,\"solidity\":0.2}},\"type\":\"bar\"}],\"barpolar\":[{\"marker\":{\"line\":{\"color\":\"#E5ECF6\",\"width\":0.5},\"pattern\":{\"fillmode\":\"overlay\",\"size\":10,\"solidity\":0.2}},\"type\":\"barpolar\"}],\"carpet\":[{\"aaxis\":{\"endlinecolor\":\"#2a3f5f\",\"gridcolor\":\"white\",\"linecolor\":\"white\",\"minorgridcolor\":\"white\",\"startlinecolor\":\"#2a3f5f\"},\"baxis\":{\"endlinecolor\":\"#2a3f5f\",\"gridcolor\":\"white\",\"linecolor\":\"white\",\"minorgridcolor\":\"white\",\"startlinecolor\":\"#2a3f5f\"},\"type\":\"carpet\"}],\"choropleth\":[{\"colorbar\":{\"outlinewidth\":0,\"ticks\":\"\"},\"type\":\"choropleth\"}],\"contour\":[{\"colorbar\":{\"outlinewidth\":0,\"ticks\":\"\"},\"colorscale\":[[0.0,\"#0d0887\"],[0.1111111111111111,\"#46039f\"],[0.2222222222222222,\"#7201a8\"],[0.3333333333333333,\"#9c179e\"],[0.4444444444444444,\"#bd3786\"],[0.5555555555555556,\"#d8576b\"],[0.6666666666666666,\"#ed7953\"],[0.7777777777777778,\"#fb9f3a\"],[0.8888888888888888,\"#fdca26\"],[1.0,\"#f0f921\"]],\"type\":\"contour\"}],\"contourcarpet\":[{\"colorbar\":{\"outlinewidth\":0,\"ticks\":\"\"},\"type\":\"contourcarpet\"}],\"heatmap\":[{\"colorbar\":{\"outlinewidth\":0,\"ticks\":\"\"},\"colorscale\":[[0.0,\"#0d0887\"],[0.1111111111111111,\"#46039f\"],[0.2222222222222222,\"#7201a8\"],[0.3333333333333333,\"#9c179e\"],[0.4444444444444444,\"#bd3786\"],[0.5555555555555556,\"#d8576b\"],[0.6666666666666666,\"#ed7953\"],[0.7777777777777778,\"#fb9f3a\"],[0.8888888888888888,\"#fdca26\"],[1.0,\"#f0f921\"]],\"type\":\"heatmap\"}],\"heatmapgl\":[{\"colorbar\":{\"outlinewidth\":0,\"ticks\":\"\"},\"colorscale\":[[0.0,\"#0d0887\"],[0.1111111111111111,\"#46039f\"],[0.2222222222222222,\"#7201a8\"],[0.3333333333333333,\"#9c179e\"],[0.4444444444444444,\"#bd3786\"],[0.5555555555555556,\"#d8576b\"],[0.6666666666666666,\"#ed7953\"],[0.7777777777777778,\"#fb9f3a\"],[0.8888888888888888,\"#fdca26\"],[1.0,\"#f0f921\"]],\"type\":\"heatmapgl\"}],\"histogram\":[{\"marker\":{\"pattern\":{\"fillmode\":\"overlay\",\"size\":10,\"solidity\":0.2}},\"type\":\"histogram\"}],\"histogram2d\":[{\"colorbar\":{\"outlinewidth\":0,\"ticks\":\"\"},\"colorscale\":[[0.0,\"#0d0887\"],[0.1111111111111111,\"#46039f\"],[0.2222222222222222,\"#7201a8\"],[0.3333333333333333,\"#9c179e\"],[0.4444444444444444,\"#bd3786\"],[0.5555555555555556,\"#d8576b\"],[0.6666666666666666,\"#ed7953\"],[0.7777777777777778,\"#fb9f3a\"],[0.8888888888888888,\"#fdca26\"],[1.0,\"#f0f921\"]],\"type\":\"histogram2d\"}],\"histogram2dcontour\":[{\"colorbar\":{\"outlinewidth\":0,\"ticks\":\"\"},\"colorscale\":[[0.0,\"#0d0887\"],[0.1111111111111111,\"#46039f\"],[0.2222222222222222,\"#7201a8\"],[0.3333333333333333,\"#9c179e\"],[0.4444444444444444,\"#bd3786\"],[0.5555555555555556,\"#d8576b\"],[0.6666666666666666,\"#ed7953\"],[0.7777777777777778,\"#fb9f3a\"],[0.8888888888888888,\"#fdca26\"],[1.0,\"#f0f921\"]],\"type\":\"histogram2dcontour\"}],\"mesh3d\":[{\"colorbar\":{\"outlinewidth\":0,\"ticks\":\"\"},\"type\":\"mesh3d\"}],\"parcoords\":[{\"line\":{\"colorbar\":{\"outlinewidth\":0,\"ticks\":\"\"}},\"type\":\"parcoords\"}],\"pie\":[{\"automargin\":true,\"type\":\"pie\"}],\"scatter\":[{\"marker\":{\"colorbar\":{\"outlinewidth\":0,\"ticks\":\"\"}},\"type\":\"scatter\"}],\"scatter3d\":[{\"line\":{\"colorbar\":{\"outlinewidth\":0,\"ticks\":\"\"}},\"marker\":{\"colorbar\":{\"outlinewidth\":0,\"ticks\":\"\"}},\"type\":\"scatter3d\"}],\"scattercarpet\":[{\"marker\":{\"colorbar\":{\"outlinewidth\":0,\"ticks\":\"\"}},\"type\":\"scattercarpet\"}],\"scattergeo\":[{\"marker\":{\"colorbar\":{\"outlinewidth\":0,\"ticks\":\"\"}},\"type\":\"scattergeo\"}],\"scattergl\":[{\"marker\":{\"colorbar\":{\"outlinewidth\":0,\"ticks\":\"\"}},\"type\":\"scattergl\"}],\"scattermapbox\":[{\"marker\":{\"colorbar\":{\"outlinewidth\":0,\"ticks\":\"\"}},\"type\":\"scattermapbox\"}],\"scatterpolar\":[{\"marker\":{\"colorbar\":{\"outlinewidth\":0,\"ticks\":\"\"}},\"type\":\"scatterpolar\"}],\"scatterpolargl\":[{\"marker\":{\"colorbar\":{\"outlinewidth\":0,\"ticks\":\"\"}},\"type\":\"scatterpolargl\"}],\"scatterternary\":[{\"marker\":{\"colorbar\":{\"outlinewidth\":0,\"ticks\":\"\"}},\"type\":\"scatterternary\"}],\"surface\":[{\"colorbar\":{\"outlinewidth\":0,\"ticks\":\"\"},\"colorscale\":[[0.0,\"#0d0887\"],[0.1111111111111111,\"#46039f\"],[0.2222222222222222,\"#7201a8\"],[0.3333333333333333,\"#9c179e\"],[0.4444444444444444,\"#bd3786\"],[0.5555555555555556,\"#d8576b\"],[0.6666666666666666,\"#ed7953\"],[0.7777777777777778,\"#fb9f3a\"],[0.8888888888888888,\"#fdca26\"],[1.0,\"#f0f921\"]],\"type\":\"surface\"}],\"table\":[{\"cells\":{\"fill\":{\"color\":\"#EBF0F8\"},\"line\":{\"color\":\"white\"}},\"header\":{\"fill\":{\"color\":\"#C8D4E3\"},\"line\":{\"color\":\"white\"}},\"type\":\"table\"}]},\"layout\":{\"annotationdefaults\":{\"arrowcolor\":\"#2a3f5f\",\"arrowhead\":0,\"arrowwidth\":1},\"autotypenumbers\":\"strict\",\"coloraxis\":{\"colorbar\":{\"outlinewidth\":0,\"ticks\":\"\"}},\"colorscale\":{\"diverging\":[[0,\"#8e0152\"],[0.1,\"#c51b7d\"],[0.2,\"#de77ae\"],[0.3,\"#f1b6da\"],[0.4,\"#fde0ef\"],[0.5,\"#f7f7f7\"],[0.6,\"#e6f5d0\"],[0.7,\"#b8e186\"],[0.8,\"#7fbc41\"],[0.9,\"#4d9221\"],[1,\"#276419\"]],\"sequential\":[[0.0,\"#0d0887\"],[0.1111111111111111,\"#46039f\"],[0.2222222222222222,\"#7201a8\"],[0.3333333333333333,\"#9c179e\"],[0.4444444444444444,\"#bd3786\"],[0.5555555555555556,\"#d8576b\"],[0.6666666666666666,\"#ed7953\"],[0.7777777777777778,\"#fb9f3a\"],[0.8888888888888888,\"#fdca26\"],[1.0,\"#f0f921\"]],\"sequentialminus\":[[0.0,\"#0d0887\"],[0.1111111111111111,\"#46039f\"],[0.2222222222222222,\"#7201a8\"],[0.3333333333333333,\"#9c179e\"],[0.4444444444444444,\"#bd3786\"],[0.5555555555555556,\"#d8576b\"],[0.6666666666666666,\"#ed7953\"],[0.7777777777777778,\"#fb9f3a\"],[0.8888888888888888,\"#fdca26\"],[1.0,\"#f0f921\"]]},\"colorway\":[\"#636efa\",\"#EF553B\",\"#00cc96\",\"#ab63fa\",\"#FFA15A\",\"#19d3f3\",\"#FF6692\",\"#B6E880\",\"#FF97FF\",\"#FECB52\"],\"font\":{\"color\":\"#2a3f5f\"},\"geo\":{\"bgcolor\":\"white\",\"lakecolor\":\"white\",\"landcolor\":\"#E5ECF6\",\"showlakes\":true,\"showland\":true,\"subunitcolor\":\"white\"},\"hoverlabel\":{\"align\":\"left\"},\"hovermode\":\"closest\",\"mapbox\":{\"style\":\"light\"},\"paper_bgcolor\":\"white\",\"plot_bgcolor\":\"#E5ECF6\",\"polar\":{\"angularaxis\":{\"gridcolor\":\"white\",\"linecolor\":\"white\",\"ticks\":\"\"},\"bgcolor\":\"#E5ECF6\",\"radialaxis\":{\"gridcolor\":\"white\",\"linecolor\":\"white\",\"ticks\":\"\"}},\"scene\":{\"xaxis\":{\"backgroundcolor\":\"#E5ECF6\",\"gridcolor\":\"white\",\"gridwidth\":2,\"linecolor\":\"white\",\"showbackground\":true,\"ticks\":\"\",\"zerolinecolor\":\"white\"},\"yaxis\":{\"backgroundcolor\":\"#E5ECF6\",\"gridcolor\":\"white\",\"gridwidth\":2,\"linecolor\":\"white\",\"showbackground\":true,\"ticks\":\"\",\"zerolinecolor\":\"white\"},\"zaxis\":{\"backgroundcolor\":\"#E5ECF6\",\"gridcolor\":\"white\",\"gridwidth\":2,\"linecolor\":\"white\",\"showbackground\":true,\"ticks\":\"\",\"zerolinecolor\":\"white\"}},\"shapedefaults\":{\"line\":{\"color\":\"#2a3f5f\"}},\"ternary\":{\"aaxis\":{\"gridcolor\":\"white\",\"linecolor\":\"white\",\"ticks\":\"\"},\"baxis\":{\"gridcolor\":\"white\",\"linecolor\":\"white\",\"ticks\":\"\"},\"bgcolor\":\"#E5ECF6\",\"caxis\":{\"gridcolor\":\"white\",\"linecolor\":\"white\",\"ticks\":\"\"}},\"title\":{\"x\":0.05},\"xaxis\":{\"automargin\":true,\"gridcolor\":\"white\",\"linecolor\":\"white\",\"ticks\":\"\",\"title\":{\"standoff\":15},\"zerolinecolor\":\"white\",\"zerolinewidth\":2},\"yaxis\":{\"automargin\":true,\"gridcolor\":\"white\",\"linecolor\":\"white\",\"ticks\":\"\",\"title\":{\"standoff\":15},\"zerolinecolor\":\"white\",\"zerolinewidth\":2}}},\"title\":{\"text\":\"Top 20 Countries with the Highest Average Energy Use Per Capita with Green Ranking <br><sup>Data Aggregated Over the Years 1971-2014 </sup>\"},\"xaxis\":{\"anchor\":\"y\",\"domain\":[0.0,1.0],\"title\":{\"text\":\"Energy Use (kg of oil equivalent per capita)\"}},\"yaxis\":{\"anchor\":\"x\",\"domain\":[0.0,1.0],\"title\":{\"text\":\"Country\"}}},                        {\"responsive\": true}                    ).then(function(){\n",
       "                            \n",
       "var gd = document.getElementById('03ac9ef8-75e7-41ae-8d47-12d0b69f852b');\n",
       "var x = new MutationObserver(function (mutations, observer) {{\n",
       "        var display = window.getComputedStyle(gd).display;\n",
       "        if (!display || display === 'none') {{\n",
       "            console.log([gd, 'removed!']);\n",
       "            Plotly.purge(gd);\n",
       "            observer.disconnect();\n",
       "        }}\n",
       "}});\n",
       "\n",
       "// Listen for the removal of the full notebook cells\n",
       "var notebookContainer = gd.closest('#notebook-container');\n",
       "if (notebookContainer) {{\n",
       "    x.observe(notebookContainer, {childList: true});\n",
       "}}\n",
       "\n",
       "// Listen for the clearing of the current output cell\n",
       "var outputEl = gd.closest('.output');\n",
       "if (outputEl) {{\n",
       "    x.observe(outputEl, {childList: true});\n",
       "}}\n",
       "\n",
       "                        })                };                });            </script>        </div>"
      ]
     },
     "metadata": {},
     "output_type": "display_data"
    }
   ],
   "source": [
    "df = energyUse_Top20\n",
    "df['RENEW_Prop'] = df['Energy_Use'] * (df['Energy_Use_RNEW']/100)\n",
    "df['FF_Prop'] = df['Energy_Use'] - df['RENEW_Prop']\n",
    "df = df.sort_values(by='Energy_Use')\n",
    "display(df)\n",
    "fig = px.bar(df, x=['FF_Prop', 'RENEW_Prop'], y='Country_Name', orientation='h',\n",
    "            title=\"Top 20 Countries with the Highest Average Energy Use Per Capita with Green Ranking <br><sup>Data Aggregated Over the Years 1971-2014 </sup>\",\n",
    "            color_discrete_sequence=['red', 'green'],\n",
    "             \n",
    "            labels={'Country_Name': 'Country',\n",
    "                    'value': 'Energy Use (kg of oil equivalent per capita)',\n",
    "                   'variable': 'Energy Source'}\n",
    "            )\n",
    "newnames = {'FF_Prop': 'Fossil Fuels', 'RENEW_Prop': 'Renewables'}\n",
    "fig.for_each_trace(lambda t: t.update(name = newnames[t.name]))\n",
    "total_labels = [{\"y\": y, \"x\": total*1.05, \"text\": str(rank), \"showarrow\": False} for y, total, rank in zip(df['Country_Name'], df['Energy_Use'], df['Green_Rank'])]\n",
    "fig = fig.update_layout(annotations=total_labels)\n",
    "fig.show()\n",
    "\n",
    "# Save image\n",
    "fig.write_image(\"energyUsePerCapita_Top20_EnergyShareBreakdown_WithGreenRank.png\", engine='kaleido', scale=1, width=800, height=600) "
   ]
  }
 ],
 "metadata": {
  "kernelspec": {
   "display_name": "Python 3 (ipykernel)",
   "language": "python",
   "name": "python3"
  },
  "language_info": {
   "codemirror_mode": {
    "name": "ipython",
    "version": 3
   },
   "file_extension": ".py",
   "mimetype": "text/x-python",
   "name": "python",
   "nbconvert_exporter": "python",
   "pygments_lexer": "ipython3",
   "version": "3.8.11"
  }
 },
 "nbformat": 4,
 "nbformat_minor": 5
}
